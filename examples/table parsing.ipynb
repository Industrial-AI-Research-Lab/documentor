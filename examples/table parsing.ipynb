{
 "cells": [
  {
   "cell_type": "code",
   "execution_count": 7,
   "id": "initial_id",
   "metadata": {
    "collapsed": true,
    "ExecuteTime": {
     "end_time": "2024-02-13T15:02:59.075496100Z",
     "start_time": "2024-02-13T15:02:59.061495600Z"
    }
   },
   "outputs": [],
   "source": [
    "from documentor.types.excel.parser import SheetParser"
   ]
  },
  {
   "cell_type": "code",
   "execution_count": 8,
   "outputs": [
    {
     "data": {
      "text/plain": "                 Content       Start_content  Relative_Id      Type  Row  \\\n0                   None                None            1  NoneType    5   \n1                   None                None            2  NoneType    5   \n2     First Quarter 2001  First Quarter 2001            3       str    5   \n3                   None                None            4  NoneType    5   \n4                   None                None            5  NoneType    5   \n...                  ...                 ...          ...       ...  ...   \n1486               74000               74000         1364       int   75   \n1487                   4                   4         1365       int   75   \n1488              TOTALS              TOTALS         1366       str   75   \n1489              288340              288340         1367       int   75   \n1490                  55                  55         1368       int   75   \n\n      Column  Length  Vertically_merged  Horizontally_merged  Font_selection  \\\n0          1       0              False                False           False   \n1          2       0              False                False           False   \n2          3      18              False                False            True   \n3          4       0              False                False            True   \n4          5       0              False                False            True   \n...      ...     ...                ...                  ...             ...   \n1486      17       5              False                False            True   \n1487      18       1              False                False            True   \n1488      19       6              False                False            True   \n1489      20       6              False                False            True   \n1490      21       2              False                False            True   \n\n      Top_border  Bottom_border  Left_border  Right_border       Color  \\\n0          False          False        False         False  [00000000]   \n1          False          False        False         False  [00000000]   \n2           True           True         True         False  [00000000]   \n3           True           True        False         False  [00000000]   \n4           True           True        False         False  [00000000]   \n...          ...            ...          ...           ...         ...   \n1486        True           True        False         False        [22]   \n1487        True           True        False          True        [22]   \n1488        True           True         True         False        [22]   \n1489        True           True        False         False        [22]   \n1490        True           True        False          True        [22]   \n\n      Font_color  Is_Formula  \n0              0       False  \n1              0       False  \n2             21       False  \n3             21       False  \n4             21       False  \n...          ...         ...  \n1486          21        True  \n1487          21        True  \n1488          21       False  \n1489          21        True  \n1490          21        True  \n\n[1491 rows x 17 columns]",
      "text/html": "<div>\n<style scoped>\n    .dataframe tbody tr th:only-of-type {\n        vertical-align: middle;\n    }\n\n    .dataframe tbody tr th {\n        vertical-align: top;\n    }\n\n    .dataframe thead th {\n        text-align: right;\n    }\n</style>\n<table border=\"1\" class=\"dataframe\">\n  <thead>\n    <tr style=\"text-align: right;\">\n      <th></th>\n      <th>Content</th>\n      <th>Start_content</th>\n      <th>Relative_Id</th>\n      <th>Type</th>\n      <th>Row</th>\n      <th>Column</th>\n      <th>Length</th>\n      <th>Vertically_merged</th>\n      <th>Horizontally_merged</th>\n      <th>Font_selection</th>\n      <th>Top_border</th>\n      <th>Bottom_border</th>\n      <th>Left_border</th>\n      <th>Right_border</th>\n      <th>Color</th>\n      <th>Font_color</th>\n      <th>Is_Formula</th>\n    </tr>\n  </thead>\n  <tbody>\n    <tr>\n      <th>0</th>\n      <td>None</td>\n      <td>None</td>\n      <td>1</td>\n      <td>NoneType</td>\n      <td>5</td>\n      <td>1</td>\n      <td>0</td>\n      <td>False</td>\n      <td>False</td>\n      <td>False</td>\n      <td>False</td>\n      <td>False</td>\n      <td>False</td>\n      <td>False</td>\n      <td>[00000000]</td>\n      <td>0</td>\n      <td>False</td>\n    </tr>\n    <tr>\n      <th>1</th>\n      <td>None</td>\n      <td>None</td>\n      <td>2</td>\n      <td>NoneType</td>\n      <td>5</td>\n      <td>2</td>\n      <td>0</td>\n      <td>False</td>\n      <td>False</td>\n      <td>False</td>\n      <td>False</td>\n      <td>False</td>\n      <td>False</td>\n      <td>False</td>\n      <td>[00000000]</td>\n      <td>0</td>\n      <td>False</td>\n    </tr>\n    <tr>\n      <th>2</th>\n      <td>First Quarter 2001</td>\n      <td>First Quarter 2001</td>\n      <td>3</td>\n      <td>str</td>\n      <td>5</td>\n      <td>3</td>\n      <td>18</td>\n      <td>False</td>\n      <td>False</td>\n      <td>True</td>\n      <td>True</td>\n      <td>True</td>\n      <td>True</td>\n      <td>False</td>\n      <td>[00000000]</td>\n      <td>21</td>\n      <td>False</td>\n    </tr>\n    <tr>\n      <th>3</th>\n      <td>None</td>\n      <td>None</td>\n      <td>4</td>\n      <td>NoneType</td>\n      <td>5</td>\n      <td>4</td>\n      <td>0</td>\n      <td>False</td>\n      <td>False</td>\n      <td>True</td>\n      <td>True</td>\n      <td>True</td>\n      <td>False</td>\n      <td>False</td>\n      <td>[00000000]</td>\n      <td>21</td>\n      <td>False</td>\n    </tr>\n    <tr>\n      <th>4</th>\n      <td>None</td>\n      <td>None</td>\n      <td>5</td>\n      <td>NoneType</td>\n      <td>5</td>\n      <td>5</td>\n      <td>0</td>\n      <td>False</td>\n      <td>False</td>\n      <td>True</td>\n      <td>True</td>\n      <td>True</td>\n      <td>False</td>\n      <td>False</td>\n      <td>[00000000]</td>\n      <td>21</td>\n      <td>False</td>\n    </tr>\n    <tr>\n      <th>...</th>\n      <td>...</td>\n      <td>...</td>\n      <td>...</td>\n      <td>...</td>\n      <td>...</td>\n      <td>...</td>\n      <td>...</td>\n      <td>...</td>\n      <td>...</td>\n      <td>...</td>\n      <td>...</td>\n      <td>...</td>\n      <td>...</td>\n      <td>...</td>\n      <td>...</td>\n      <td>...</td>\n      <td>...</td>\n    </tr>\n    <tr>\n      <th>1486</th>\n      <td>74000</td>\n      <td>74000</td>\n      <td>1364</td>\n      <td>int</td>\n      <td>75</td>\n      <td>17</td>\n      <td>5</td>\n      <td>False</td>\n      <td>False</td>\n      <td>True</td>\n      <td>True</td>\n      <td>True</td>\n      <td>False</td>\n      <td>False</td>\n      <td>[22]</td>\n      <td>21</td>\n      <td>True</td>\n    </tr>\n    <tr>\n      <th>1487</th>\n      <td>4</td>\n      <td>4</td>\n      <td>1365</td>\n      <td>int</td>\n      <td>75</td>\n      <td>18</td>\n      <td>1</td>\n      <td>False</td>\n      <td>False</td>\n      <td>True</td>\n      <td>True</td>\n      <td>True</td>\n      <td>False</td>\n      <td>True</td>\n      <td>[22]</td>\n      <td>21</td>\n      <td>True</td>\n    </tr>\n    <tr>\n      <th>1488</th>\n      <td>TOTALS</td>\n      <td>TOTALS</td>\n      <td>1366</td>\n      <td>str</td>\n      <td>75</td>\n      <td>19</td>\n      <td>6</td>\n      <td>False</td>\n      <td>False</td>\n      <td>True</td>\n      <td>True</td>\n      <td>True</td>\n      <td>True</td>\n      <td>False</td>\n      <td>[22]</td>\n      <td>21</td>\n      <td>False</td>\n    </tr>\n    <tr>\n      <th>1489</th>\n      <td>288340</td>\n      <td>288340</td>\n      <td>1367</td>\n      <td>int</td>\n      <td>75</td>\n      <td>20</td>\n      <td>6</td>\n      <td>False</td>\n      <td>False</td>\n      <td>True</td>\n      <td>True</td>\n      <td>True</td>\n      <td>False</td>\n      <td>False</td>\n      <td>[22]</td>\n      <td>21</td>\n      <td>True</td>\n    </tr>\n    <tr>\n      <th>1490</th>\n      <td>55</td>\n      <td>55</td>\n      <td>1368</td>\n      <td>int</td>\n      <td>75</td>\n      <td>21</td>\n      <td>2</td>\n      <td>False</td>\n      <td>False</td>\n      <td>True</td>\n      <td>True</td>\n      <td>True</td>\n      <td>False</td>\n      <td>True</td>\n      <td>[22]</td>\n      <td>21</td>\n      <td>True</td>\n    </tr>\n  </tbody>\n</table>\n<p>1491 rows × 17 columns</p>\n</div>"
     },
     "execution_count": 8,
     "metadata": {},
     "output_type": "execute_result"
    }
   ],
   "source": [
    "parser = SheetParser()\n",
    "doc = parser.from_file(path='data/start_tables/Global Hot List.xlsx', sheet_name='Hotlist - Identified ', first_cell='A5', last_cell='U75')\n",
    "doc.to_df()"
   ],
   "metadata": {
    "collapsed": false,
    "ExecuteTime": {
     "end_time": "2024-02-13T15:03:02.471106Z",
     "start_time": "2024-02-13T15:02:59.076494300Z"
    }
   },
   "id": "3c7ac07460df2f6c"
  },
  {
   "cell_type": "code",
   "execution_count": 9,
   "outputs": [],
   "source": [
    "parser.to_csv(doc, 'data/processed_tables/Global Hot List.csv', sep=\",\")"
   ],
   "metadata": {
    "collapsed": false,
    "ExecuteTime": {
     "end_time": "2024-02-13T15:03:02.507111700Z",
     "start_time": "2024-02-13T15:03:02.468106200Z"
    }
   },
   "id": "9dd6e12485ec3630"
  }
 ],
 "metadata": {
  "kernelspec": {
   "display_name": "Python 3",
   "language": "python",
   "name": "python3"
  },
  "language_info": {
   "codemirror_mode": {
    "name": "ipython",
    "version": 2
   },
   "file_extension": ".py",
   "mimetype": "text/x-python",
   "name": "python",
   "nbconvert_exporter": "python",
   "pygments_lexer": "ipython2",
   "version": "2.7.6"
  }
 },
 "nbformat": 4,
 "nbformat_minor": 5
}
