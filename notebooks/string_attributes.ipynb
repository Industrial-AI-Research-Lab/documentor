{
 "cells": [
  {
   "cell_type": "code",
   "execution_count": 1,
   "outputs": [],
   "source": [
    "import numpy as np\n",
    "import pandas as pd\n",
    "from datetime import datetime, time"
   ],
   "metadata": {
    "collapsed": false,
    "ExecuteTime": {
     "end_time": "2024-02-05T08:10:27.281630700Z",
     "start_time": "2024-02-05T08:10:26.868935500Z"
    }
   },
   "id": "802d7125cd27eef0"
  },
  {
   "cell_type": "code",
   "execution_count": 2,
   "outputs": [
    {
     "data": {
      "text/plain": "      Relative_Id  Row  Column  Length  Vertically_merged  \\\n0               1    1       1       7               True   \n1               1    1       2       4               True   \n2               1    1       3       4               True   \n3               1    1       4       4               True   \n4               1    1       5       0               True   \n...           ...  ...     ...     ...                ...   \n6071         5578   62      94       2              False   \n6072         5579   62      95       2              False   \n6073         5580   62      96       2              False   \n6074         5581   62      97       2              False   \n6075         5582   62      98       2              False   \n\n      Horizontally_merged  Font_selection Font_color  Top_border  \\\n0                    True           False          8           1   \n1                    True           False          1           1   \n2                    True           False          1           1   \n3                    True           False          1           1   \n4                   False           False          8           1   \n...                   ...             ...        ...         ...   \n6071                False            True         10           1   \n6072                False            True         10           1   \n6073                False            True         10           1   \n6074                False            True         10           1   \n6075                False            True         10           1   \n\n      Bottom_border  Left_border  Right_border     Color  Is_Formula  Content  \\\n0                 1            1             1        31           0  Ресурсы   \n1                 0            0             0  00000000           0  Ресурсы   \n2                 0            0             0  00000000           0  Ресурсы   \n3                 0            0             1  00000000           0  Ресурсы   \n4                 1            1             1        31           0      NaN   \n...             ...          ...           ...       ...         ...      ...   \n6071              1            1             1  00000000           0       15   \n6072              1            1             1  00000000           0       15   \n6073              1            1             1  00000000           0       15   \n6074              1            1             1  00000000           0       15   \n6075              1            1             1  00000000           0       15   \n\n     Start_content      Type  cluster_name  \n0          Ресурсы       str        header  \n1              NaN  NoneType  normal_empty  \n2              NaN  NoneType  normal_empty  \n3              NaN  NoneType  normal_empty  \n4              NaN  NoneType  normal_empty  \n...            ...       ...           ...  \n6071            15       int           NaN  \n6072            15       int           NaN  \n6073            15       int           NaN  \n6074            15       int           NaN  \n6075            15       int           NaN  \n\n[6076 rows x 18 columns]",
      "text/html": "<div>\n<style scoped>\n    .dataframe tbody tr th:only-of-type {\n        vertical-align: middle;\n    }\n\n    .dataframe tbody tr th {\n        vertical-align: top;\n    }\n\n    .dataframe thead th {\n        text-align: right;\n    }\n</style>\n<table border=\"1\" class=\"dataframe\">\n  <thead>\n    <tr style=\"text-align: right;\">\n      <th></th>\n      <th>Relative_Id</th>\n      <th>Row</th>\n      <th>Column</th>\n      <th>Length</th>\n      <th>Vertically_merged</th>\n      <th>Horizontally_merged</th>\n      <th>Font_selection</th>\n      <th>Font_color</th>\n      <th>Top_border</th>\n      <th>Bottom_border</th>\n      <th>Left_border</th>\n      <th>Right_border</th>\n      <th>Color</th>\n      <th>Is_Formula</th>\n      <th>Content</th>\n      <th>Start_content</th>\n      <th>Type</th>\n      <th>cluster_name</th>\n    </tr>\n  </thead>\n  <tbody>\n    <tr>\n      <th>0</th>\n      <td>1</td>\n      <td>1</td>\n      <td>1</td>\n      <td>7</td>\n      <td>True</td>\n      <td>True</td>\n      <td>False</td>\n      <td>8</td>\n      <td>1</td>\n      <td>1</td>\n      <td>1</td>\n      <td>1</td>\n      <td>31</td>\n      <td>0</td>\n      <td>Ресурсы</td>\n      <td>Ресурсы</td>\n      <td>str</td>\n      <td>header</td>\n    </tr>\n    <tr>\n      <th>1</th>\n      <td>1</td>\n      <td>1</td>\n      <td>2</td>\n      <td>4</td>\n      <td>True</td>\n      <td>True</td>\n      <td>False</td>\n      <td>1</td>\n      <td>1</td>\n      <td>0</td>\n      <td>0</td>\n      <td>0</td>\n      <td>00000000</td>\n      <td>0</td>\n      <td>Ресурсы</td>\n      <td>NaN</td>\n      <td>NoneType</td>\n      <td>normal_empty</td>\n    </tr>\n    <tr>\n      <th>2</th>\n      <td>1</td>\n      <td>1</td>\n      <td>3</td>\n      <td>4</td>\n      <td>True</td>\n      <td>True</td>\n      <td>False</td>\n      <td>1</td>\n      <td>1</td>\n      <td>0</td>\n      <td>0</td>\n      <td>0</td>\n      <td>00000000</td>\n      <td>0</td>\n      <td>Ресурсы</td>\n      <td>NaN</td>\n      <td>NoneType</td>\n      <td>normal_empty</td>\n    </tr>\n    <tr>\n      <th>3</th>\n      <td>1</td>\n      <td>1</td>\n      <td>4</td>\n      <td>4</td>\n      <td>True</td>\n      <td>True</td>\n      <td>False</td>\n      <td>1</td>\n      <td>1</td>\n      <td>0</td>\n      <td>0</td>\n      <td>1</td>\n      <td>00000000</td>\n      <td>0</td>\n      <td>Ресурсы</td>\n      <td>NaN</td>\n      <td>NoneType</td>\n      <td>normal_empty</td>\n    </tr>\n    <tr>\n      <th>4</th>\n      <td>1</td>\n      <td>1</td>\n      <td>5</td>\n      <td>0</td>\n      <td>True</td>\n      <td>False</td>\n      <td>False</td>\n      <td>8</td>\n      <td>1</td>\n      <td>1</td>\n      <td>1</td>\n      <td>1</td>\n      <td>31</td>\n      <td>0</td>\n      <td>NaN</td>\n      <td>NaN</td>\n      <td>NoneType</td>\n      <td>normal_empty</td>\n    </tr>\n    <tr>\n      <th>...</th>\n      <td>...</td>\n      <td>...</td>\n      <td>...</td>\n      <td>...</td>\n      <td>...</td>\n      <td>...</td>\n      <td>...</td>\n      <td>...</td>\n      <td>...</td>\n      <td>...</td>\n      <td>...</td>\n      <td>...</td>\n      <td>...</td>\n      <td>...</td>\n      <td>...</td>\n      <td>...</td>\n      <td>...</td>\n      <td>...</td>\n    </tr>\n    <tr>\n      <th>6071</th>\n      <td>5578</td>\n      <td>62</td>\n      <td>94</td>\n      <td>2</td>\n      <td>False</td>\n      <td>False</td>\n      <td>True</td>\n      <td>10</td>\n      <td>1</td>\n      <td>1</td>\n      <td>1</td>\n      <td>1</td>\n      <td>00000000</td>\n      <td>0</td>\n      <td>15</td>\n      <td>15</td>\n      <td>int</td>\n      <td>NaN</td>\n    </tr>\n    <tr>\n      <th>6072</th>\n      <td>5579</td>\n      <td>62</td>\n      <td>95</td>\n      <td>2</td>\n      <td>False</td>\n      <td>False</td>\n      <td>True</td>\n      <td>10</td>\n      <td>1</td>\n      <td>1</td>\n      <td>1</td>\n      <td>1</td>\n      <td>00000000</td>\n      <td>0</td>\n      <td>15</td>\n      <td>15</td>\n      <td>int</td>\n      <td>NaN</td>\n    </tr>\n    <tr>\n      <th>6073</th>\n      <td>5580</td>\n      <td>62</td>\n      <td>96</td>\n      <td>2</td>\n      <td>False</td>\n      <td>False</td>\n      <td>True</td>\n      <td>10</td>\n      <td>1</td>\n      <td>1</td>\n      <td>1</td>\n      <td>1</td>\n      <td>00000000</td>\n      <td>0</td>\n      <td>15</td>\n      <td>15</td>\n      <td>int</td>\n      <td>NaN</td>\n    </tr>\n    <tr>\n      <th>6074</th>\n      <td>5581</td>\n      <td>62</td>\n      <td>97</td>\n      <td>2</td>\n      <td>False</td>\n      <td>False</td>\n      <td>True</td>\n      <td>10</td>\n      <td>1</td>\n      <td>1</td>\n      <td>1</td>\n      <td>1</td>\n      <td>00000000</td>\n      <td>0</td>\n      <td>15</td>\n      <td>15</td>\n      <td>int</td>\n      <td>NaN</td>\n    </tr>\n    <tr>\n      <th>6075</th>\n      <td>5582</td>\n      <td>62</td>\n      <td>98</td>\n      <td>2</td>\n      <td>False</td>\n      <td>False</td>\n      <td>True</td>\n      <td>10</td>\n      <td>1</td>\n      <td>1</td>\n      <td>1</td>\n      <td>1</td>\n      <td>00000000</td>\n      <td>0</td>\n      <td>15</td>\n      <td>15</td>\n      <td>int</td>\n      <td>NaN</td>\n    </tr>\n  </tbody>\n</table>\n<p>6076 rows × 18 columns</p>\n</div>"
     },
     "execution_count": 2,
     "metadata": {},
     "output_type": "execute_result"
    }
   ],
   "source": [
    "new_df = pd.read_excel('processed_tables/new_resources.xlsx', sheet_name='Sheet1', index_col='Unnamed: 0')\n",
    "new_df"
   ],
   "metadata": {
    "collapsed": false,
    "ExecuteTime": {
     "end_time": "2024-02-05T08:10:28.387866300Z",
     "start_time": "2024-02-05T08:10:27.281630700Z"
    }
   },
   "id": "6bbcfa822b06ebfd"
  },
  {
   "cell_type": "code",
   "execution_count": 3,
   "outputs": [],
   "source": [
    "ndf = pd.DataFrame()\n",
    "ndf['Row'] = new_df['Row']\n",
    "ndf['Column'] = new_df['Column']\n",
    "ndf['Color'] = new_df['Color']\n",
    "ndf['Vertically_merged'] = new_df['Vertically_merged']\n",
    "ndf['Horizontally_merged'] = new_df['Horizontally_merged']\n",
    "ndf['Font_selection'] = new_df['Font_selection']\n",
    "ndf['Is_Formula'] = new_df['Is_Formula']\n",
    "ndf['Type'] = new_df['Type']\n",
    "ndf['Font_color'] = new_df['Font_color']"
   ],
   "metadata": {
    "collapsed": false,
    "ExecuteTime": {
     "end_time": "2024-02-05T08:10:28.410072800Z",
     "start_time": "2024-02-05T08:10:28.387866300Z"
    }
   },
   "id": "96ab0167d26f1019"
  },
  {
   "cell_type": "code",
   "execution_count": 4,
   "outputs": [],
   "source": [
    "r = ndf['Row'].iloc[0]\n",
    "c = ndf['Column'].iloc[0]\n",
    "ndf['Row'] -= r\n",
    "ndf['Column'] -= c"
   ],
   "metadata": {
    "collapsed": false,
    "ExecuteTime": {
     "end_time": "2024-02-05T08:10:28.482661800Z",
     "start_time": "2024-02-05T08:10:28.410072800Z"
    }
   },
   "id": "be634bffea39e020"
  },
  {
   "cell_type": "code",
   "execution_count": 5,
   "outputs": [
    {
     "data": {
      "text/plain": "      Row  Column  Color  Vertically_merged  Horizontally_merged  \\\n0       0       0      0               True                 True   \n1       0       1      1               True                 True   \n2       0       2      1               True                 True   \n3       0       3      1               True                 True   \n4       0       4      0               True                False   \n...   ...     ...    ...                ...                  ...   \n6071   61      93      1              False                False   \n6072   61      94      1              False                False   \n6073   61      95      1              False                False   \n6074   61      96      1              False                False   \n6075   61      97      1              False                False   \n\n      Font_selection  Is_Formula  Type  Font_color  \n0              False           0     0           0  \n1              False           0     1           1  \n2              False           0     1           1  \n3              False           0     1           1  \n4              False           0     1           0  \n...              ...         ...   ...         ...  \n6071            True           0     3           3  \n6072            True           0     3           3  \n6073            True           0     3           3  \n6074            True           0     3           3  \n6075            True           0     3           3  \n\n[6076 rows x 9 columns]",
      "text/html": "<div>\n<style scoped>\n    .dataframe tbody tr th:only-of-type {\n        vertical-align: middle;\n    }\n\n    .dataframe tbody tr th {\n        vertical-align: top;\n    }\n\n    .dataframe thead th {\n        text-align: right;\n    }\n</style>\n<table border=\"1\" class=\"dataframe\">\n  <thead>\n    <tr style=\"text-align: right;\">\n      <th></th>\n      <th>Row</th>\n      <th>Column</th>\n      <th>Color</th>\n      <th>Vertically_merged</th>\n      <th>Horizontally_merged</th>\n      <th>Font_selection</th>\n      <th>Is_Formula</th>\n      <th>Type</th>\n      <th>Font_color</th>\n    </tr>\n  </thead>\n  <tbody>\n    <tr>\n      <th>0</th>\n      <td>0</td>\n      <td>0</td>\n      <td>0</td>\n      <td>True</td>\n      <td>True</td>\n      <td>False</td>\n      <td>0</td>\n      <td>0</td>\n      <td>0</td>\n    </tr>\n    <tr>\n      <th>1</th>\n      <td>0</td>\n      <td>1</td>\n      <td>1</td>\n      <td>True</td>\n      <td>True</td>\n      <td>False</td>\n      <td>0</td>\n      <td>1</td>\n      <td>1</td>\n    </tr>\n    <tr>\n      <th>2</th>\n      <td>0</td>\n      <td>2</td>\n      <td>1</td>\n      <td>True</td>\n      <td>True</td>\n      <td>False</td>\n      <td>0</td>\n      <td>1</td>\n      <td>1</td>\n    </tr>\n    <tr>\n      <th>3</th>\n      <td>0</td>\n      <td>3</td>\n      <td>1</td>\n      <td>True</td>\n      <td>True</td>\n      <td>False</td>\n      <td>0</td>\n      <td>1</td>\n      <td>1</td>\n    </tr>\n    <tr>\n      <th>4</th>\n      <td>0</td>\n      <td>4</td>\n      <td>0</td>\n      <td>True</td>\n      <td>False</td>\n      <td>False</td>\n      <td>0</td>\n      <td>1</td>\n      <td>0</td>\n    </tr>\n    <tr>\n      <th>...</th>\n      <td>...</td>\n      <td>...</td>\n      <td>...</td>\n      <td>...</td>\n      <td>...</td>\n      <td>...</td>\n      <td>...</td>\n      <td>...</td>\n      <td>...</td>\n    </tr>\n    <tr>\n      <th>6071</th>\n      <td>61</td>\n      <td>93</td>\n      <td>1</td>\n      <td>False</td>\n      <td>False</td>\n      <td>True</td>\n      <td>0</td>\n      <td>3</td>\n      <td>3</td>\n    </tr>\n    <tr>\n      <th>6072</th>\n      <td>61</td>\n      <td>94</td>\n      <td>1</td>\n      <td>False</td>\n      <td>False</td>\n      <td>True</td>\n      <td>0</td>\n      <td>3</td>\n      <td>3</td>\n    </tr>\n    <tr>\n      <th>6073</th>\n      <td>61</td>\n      <td>95</td>\n      <td>1</td>\n      <td>False</td>\n      <td>False</td>\n      <td>True</td>\n      <td>0</td>\n      <td>3</td>\n      <td>3</td>\n    </tr>\n    <tr>\n      <th>6074</th>\n      <td>61</td>\n      <td>96</td>\n      <td>1</td>\n      <td>False</td>\n      <td>False</td>\n      <td>True</td>\n      <td>0</td>\n      <td>3</td>\n      <td>3</td>\n    </tr>\n    <tr>\n      <th>6075</th>\n      <td>61</td>\n      <td>97</td>\n      <td>1</td>\n      <td>False</td>\n      <td>False</td>\n      <td>True</td>\n      <td>0</td>\n      <td>3</td>\n      <td>3</td>\n    </tr>\n  </tbody>\n</table>\n<p>6076 rows × 9 columns</p>\n</div>"
     },
     "execution_count": 5,
     "metadata": {},
     "output_type": "execute_result"
    }
   ],
   "source": [
    "ndf[\"Color\"] = pd.factorize(ndf[\"Color\"])[0]\n",
    "ndf[\"Type\"] = pd.factorize(ndf[\"Type\"])[0]\n",
    "ndf[\"Font_color\"] = pd.factorize(ndf[\"Font_color\"])[0]\n",
    "ndf.reset_index(drop= True , inplace= True )\n",
    "# cont = []\n",
    "# for i in ndf['Start_content']:\n",
    "#     a = type(i)\n",
    "#     if isinstance(i, str) or isinstance(i, datetime) or isinstance(i, time):\n",
    "#         cont.append(hash(i))\n",
    "#     else:\n",
    "#         cont.append(i)\n",
    "# ndf['Start_content'] = cont\n",
    "ndf"
   ],
   "metadata": {
    "collapsed": false,
    "ExecuteTime": {
     "end_time": "2024-02-05T08:10:28.510293200Z",
     "start_time": "2024-02-05T08:10:28.426923300Z"
    }
   },
   "id": "94cde93da44c479e"
  },
  {
   "cell_type": "code",
   "execution_count": 6,
   "outputs": [],
   "source": [
    "arr = np.empty((ndf.tail(1)['Row'].iloc[0]+1, ndf.tail(1)['Column'].iloc[0]+1), dtype=\"object\")"
   ],
   "metadata": {
    "collapsed": false,
    "ExecuteTime": {
     "end_time": "2024-02-05T08:10:28.510293200Z",
     "start_time": "2024-02-05T08:10:28.451438200Z"
    }
   },
   "id": "c87d1f309113d6e4"
  },
  {
   "cell_type": "code",
   "execution_count": 7,
   "outputs": [],
   "source": [
    "for i, row in ndf.iterrows():\n",
    "    arr[row['Row'], row['Column']] = row.values.tolist()"
   ],
   "metadata": {
    "collapsed": false,
    "ExecuteTime": {
     "end_time": "2024-02-05T08:10:28.764281400Z",
     "start_time": "2024-02-05T08:10:28.467038500Z"
    }
   },
   "id": "7e7c8d530f0a44ce"
  },
  {
   "cell_type": "code",
   "execution_count": 8,
   "outputs": [],
   "source": [
    "mass = []\n",
    "for i in range(len(arr)):\n",
    "    a = []\n",
    "    for j in range(len(arr[i])):\n",
    "        a.extend(arr[i][j])\n",
    "    mass.append(a)"
   ],
   "metadata": {
    "collapsed": false,
    "ExecuteTime": {
     "end_time": "2024-02-05T08:10:28.795870100Z",
     "start_time": "2024-02-05T08:10:28.765999Z"
    }
   },
   "id": "5cbc8fbe365ac422"
  },
  {
   "cell_type": "code",
   "execution_count": 9,
   "outputs": [],
   "source": [
    "df = pd.DataFrame(data=mass)\n",
    "df = df.fillna(0)"
   ],
   "metadata": {
    "collapsed": false,
    "ExecuteTime": {
     "end_time": "2024-02-05T08:10:28.826815600Z",
     "start_time": "2024-02-05T08:10:28.785977900Z"
    }
   },
   "id": "ecd1bd370e05cb1c"
  },
  {
   "cell_type": "code",
   "execution_count": 10,
   "outputs": [
    {
     "data": {
      "text/plain": "    0    1    2      3     4      5    6    7    8    9    ...  872  873  874  \\\n0     0    0    0   True  True  False    0    0    0    0  ...    1    0   97   \n1     1    0    1   True  True  False    0    1    1    1  ...    2    1   97   \n2     2    0    0  False  True  False    0    0    0    2  ...    1    2   97   \n3     3    0    1   True  True  False    0    0    0    3  ...    0    3   97   \n4     4    0    1   True  True  False    0    1    1    4  ...    4    4   97   \n..  ...  ...  ...    ...   ...    ...  ...  ...  ...  ...  ...  ...  ...  ...   \n57   57    0    1   True  True  False    0    1    1   57  ...    4   57   97   \n58   58    0    1   True  True  False    0    0    2   58  ...    0   58   97   \n59   59    0    1   True  True  False    0    1    1   59  ...    4   59   97   \n60   60    0    1   True  True   True    0    0    0   60  ...    0   60   97   \n61   61    0    1   True  True  False    0    1    1   61  ...    3   61   97   \n\n    875    876    877    878  879  880  881  \n0     1  False   True  False    0    1    1  \n1     1  False  False  False    0    2    2  \n2     1  False   True  False    0    1    1  \n3     1  False  False  False    0    3    0  \n4     1  False  False  False    0    3    4  \n..  ...    ...    ...    ...  ...  ...  ...  \n57    1  False  False  False    0    3    4  \n58    1  False  False  False    0    3    0  \n59    1  False  False  False    0    3    4  \n60    1  False  False   True    0    3    0  \n61    1  False  False   True    0    3    3  \n\n[62 rows x 882 columns]",
      "text/html": "<div>\n<style scoped>\n    .dataframe tbody tr th:only-of-type {\n        vertical-align: middle;\n    }\n\n    .dataframe tbody tr th {\n        vertical-align: top;\n    }\n\n    .dataframe thead th {\n        text-align: right;\n    }\n</style>\n<table border=\"1\" class=\"dataframe\">\n  <thead>\n    <tr style=\"text-align: right;\">\n      <th></th>\n      <th>0</th>\n      <th>1</th>\n      <th>2</th>\n      <th>3</th>\n      <th>4</th>\n      <th>5</th>\n      <th>6</th>\n      <th>7</th>\n      <th>8</th>\n      <th>9</th>\n      <th>...</th>\n      <th>872</th>\n      <th>873</th>\n      <th>874</th>\n      <th>875</th>\n      <th>876</th>\n      <th>877</th>\n      <th>878</th>\n      <th>879</th>\n      <th>880</th>\n      <th>881</th>\n    </tr>\n  </thead>\n  <tbody>\n    <tr>\n      <th>0</th>\n      <td>0</td>\n      <td>0</td>\n      <td>0</td>\n      <td>True</td>\n      <td>True</td>\n      <td>False</td>\n      <td>0</td>\n      <td>0</td>\n      <td>0</td>\n      <td>0</td>\n      <td>...</td>\n      <td>1</td>\n      <td>0</td>\n      <td>97</td>\n      <td>1</td>\n      <td>False</td>\n      <td>True</td>\n      <td>False</td>\n      <td>0</td>\n      <td>1</td>\n      <td>1</td>\n    </tr>\n    <tr>\n      <th>1</th>\n      <td>1</td>\n      <td>0</td>\n      <td>1</td>\n      <td>True</td>\n      <td>True</td>\n      <td>False</td>\n      <td>0</td>\n      <td>1</td>\n      <td>1</td>\n      <td>1</td>\n      <td>...</td>\n      <td>2</td>\n      <td>1</td>\n      <td>97</td>\n      <td>1</td>\n      <td>False</td>\n      <td>False</td>\n      <td>False</td>\n      <td>0</td>\n      <td>2</td>\n      <td>2</td>\n    </tr>\n    <tr>\n      <th>2</th>\n      <td>2</td>\n      <td>0</td>\n      <td>0</td>\n      <td>False</td>\n      <td>True</td>\n      <td>False</td>\n      <td>0</td>\n      <td>0</td>\n      <td>0</td>\n      <td>2</td>\n      <td>...</td>\n      <td>1</td>\n      <td>2</td>\n      <td>97</td>\n      <td>1</td>\n      <td>False</td>\n      <td>True</td>\n      <td>False</td>\n      <td>0</td>\n      <td>1</td>\n      <td>1</td>\n    </tr>\n    <tr>\n      <th>3</th>\n      <td>3</td>\n      <td>0</td>\n      <td>1</td>\n      <td>True</td>\n      <td>True</td>\n      <td>False</td>\n      <td>0</td>\n      <td>0</td>\n      <td>0</td>\n      <td>3</td>\n      <td>...</td>\n      <td>0</td>\n      <td>3</td>\n      <td>97</td>\n      <td>1</td>\n      <td>False</td>\n      <td>False</td>\n      <td>False</td>\n      <td>0</td>\n      <td>3</td>\n      <td>0</td>\n    </tr>\n    <tr>\n      <th>4</th>\n      <td>4</td>\n      <td>0</td>\n      <td>1</td>\n      <td>True</td>\n      <td>True</td>\n      <td>False</td>\n      <td>0</td>\n      <td>1</td>\n      <td>1</td>\n      <td>4</td>\n      <td>...</td>\n      <td>4</td>\n      <td>4</td>\n      <td>97</td>\n      <td>1</td>\n      <td>False</td>\n      <td>False</td>\n      <td>False</td>\n      <td>0</td>\n      <td>3</td>\n      <td>4</td>\n    </tr>\n    <tr>\n      <th>...</th>\n      <td>...</td>\n      <td>...</td>\n      <td>...</td>\n      <td>...</td>\n      <td>...</td>\n      <td>...</td>\n      <td>...</td>\n      <td>...</td>\n      <td>...</td>\n      <td>...</td>\n      <td>...</td>\n      <td>...</td>\n      <td>...</td>\n      <td>...</td>\n      <td>...</td>\n      <td>...</td>\n      <td>...</td>\n      <td>...</td>\n      <td>...</td>\n      <td>...</td>\n      <td>...</td>\n    </tr>\n    <tr>\n      <th>57</th>\n      <td>57</td>\n      <td>0</td>\n      <td>1</td>\n      <td>True</td>\n      <td>True</td>\n      <td>False</td>\n      <td>0</td>\n      <td>1</td>\n      <td>1</td>\n      <td>57</td>\n      <td>...</td>\n      <td>4</td>\n      <td>57</td>\n      <td>97</td>\n      <td>1</td>\n      <td>False</td>\n      <td>False</td>\n      <td>False</td>\n      <td>0</td>\n      <td>3</td>\n      <td>4</td>\n    </tr>\n    <tr>\n      <th>58</th>\n      <td>58</td>\n      <td>0</td>\n      <td>1</td>\n      <td>True</td>\n      <td>True</td>\n      <td>False</td>\n      <td>0</td>\n      <td>0</td>\n      <td>2</td>\n      <td>58</td>\n      <td>...</td>\n      <td>0</td>\n      <td>58</td>\n      <td>97</td>\n      <td>1</td>\n      <td>False</td>\n      <td>False</td>\n      <td>False</td>\n      <td>0</td>\n      <td>3</td>\n      <td>0</td>\n    </tr>\n    <tr>\n      <th>59</th>\n      <td>59</td>\n      <td>0</td>\n      <td>1</td>\n      <td>True</td>\n      <td>True</td>\n      <td>False</td>\n      <td>0</td>\n      <td>1</td>\n      <td>1</td>\n      <td>59</td>\n      <td>...</td>\n      <td>4</td>\n      <td>59</td>\n      <td>97</td>\n      <td>1</td>\n      <td>False</td>\n      <td>False</td>\n      <td>False</td>\n      <td>0</td>\n      <td>3</td>\n      <td>4</td>\n    </tr>\n    <tr>\n      <th>60</th>\n      <td>60</td>\n      <td>0</td>\n      <td>1</td>\n      <td>True</td>\n      <td>True</td>\n      <td>True</td>\n      <td>0</td>\n      <td>0</td>\n      <td>0</td>\n      <td>60</td>\n      <td>...</td>\n      <td>0</td>\n      <td>60</td>\n      <td>97</td>\n      <td>1</td>\n      <td>False</td>\n      <td>False</td>\n      <td>True</td>\n      <td>0</td>\n      <td>3</td>\n      <td>0</td>\n    </tr>\n    <tr>\n      <th>61</th>\n      <td>61</td>\n      <td>0</td>\n      <td>1</td>\n      <td>True</td>\n      <td>True</td>\n      <td>False</td>\n      <td>0</td>\n      <td>1</td>\n      <td>1</td>\n      <td>61</td>\n      <td>...</td>\n      <td>3</td>\n      <td>61</td>\n      <td>97</td>\n      <td>1</td>\n      <td>False</td>\n      <td>False</td>\n      <td>True</td>\n      <td>0</td>\n      <td>3</td>\n      <td>3</td>\n    </tr>\n  </tbody>\n</table>\n<p>62 rows × 882 columns</p>\n</div>"
     },
     "execution_count": 10,
     "metadata": {},
     "output_type": "execute_result"
    }
   ],
   "source": [
    "df"
   ],
   "metadata": {
    "collapsed": false,
    "ExecuteTime": {
     "end_time": "2024-02-05T08:10:28.873591900Z",
     "start_time": "2024-02-05T08:10:28.826815600Z"
    }
   },
   "id": "4c8d0d98269595e7"
  },
  {
   "cell_type": "code",
   "execution_count": 11,
   "outputs": [],
   "source": [
    "from sklearn.cluster import AgglomerativeClustering, DBSCAN, OPTICS, KMeans, SpectralClustering"
   ],
   "metadata": {
    "collapsed": false,
    "ExecuteTime": {
     "end_time": "2024-02-05T08:10:29.929070Z",
     "start_time": "2024-02-05T08:10:28.858064600Z"
    }
   },
   "id": "fb2f654a8326ac9f"
  },
  {
   "cell_type": "code",
   "execution_count": 12,
   "outputs": [
    {
     "name": "stderr",
     "output_type": "stream",
     "text": [
      "C:\\Users\\user\\AppData\\Local\\Temp\\ipykernel_13572\\319556459.py:3: SettingWithCopyWarning: \n",
      "A value is trying to be set on a copy of a slice from a DataFrame.\n",
      "Try using .loc[row_indexer,col_indexer] = value instead\n",
      "\n",
      "See the caveats in the documentation: https://pandas.pydata.org/pandas-docs/stable/user_guide/indexing.html#returning-a-view-versus-a-copy\n",
      "  df['labels'] = dbs.labels_\n"
     ]
    },
    {
     "data": {
      "text/plain": "     0  1  2      3     4      5  6  7  8   9  ...  873  874  875    876  \\\n3    3  0  1   True  True  False  0  0  0   3  ...    3   97    1  False   \n4    4  0  1   True  True  False  0  1  1   4  ...    4   97    1  False   \n5    5  0  1   True  True  False  0  0  0   5  ...    5   97    3  False   \n6    6  0  1   True  True  False  0  1  1   6  ...    6   97    3  False   \n7    7  0  1   True  True  False  0  0  0   7  ...    7   97    3  False   \n8    8  0  1   True  True  False  0  1  1   8  ...    8   97    3  False   \n9    9  0  1   True  True  False  0  0  0   9  ...    9   97    3  False   \n10  10  0  1   True  True  False  0  1  1  10  ...   10   97    3  False   \n11  11  0  1   True  True  False  0  0  0  11  ...   11   97    3  False   \n12  12  0  1   True  True  False  0  1  1  12  ...   12   97    3  False   \n13  13  0  1   True  True  False  0  0  0  13  ...   13   97    3  False   \n14  14  0  1   True  True  False  0  1  1  14  ...   14   97    3  False   \n15  15  0  1   True  True  False  0  0  0  15  ...   15   97    3  False   \n16  16  0  1   True  True  False  0  1  1  16  ...   16   97    3  False   \n17  17  0  1   True  True  False  0  0  0  17  ...   17   97    3  False   \n18  18  0  1   True  True  False  0  1  1  18  ...   18   97    3  False   \n19  19  0  1   True  True  False  0  0  0  19  ...   19   97    3  False   \n20  20  0  1   True  True  False  0  1  1  20  ...   20   97    3  False   \n21  21  0  1   True  True  False  0  0  0  21  ...   21   97    3  False   \n22  22  0  1   True  True  False  0  1  1  22  ...   22   97    3  False   \n23  23  0  1   True  True  False  0  0  0  23  ...   23   97    3  False   \n24  24  0  1   True  True  False  0  1  1  24  ...   24   97    3  False   \n25  25  0  1   True  True  False  0  0  0  25  ...   25   97    3  False   \n26  26  0  1   True  True  False  0  1  1  26  ...   26   97    3  False   \n27  27  0  1   True  True  False  0  0  0  27  ...   27   97    3  False   \n28  28  0  1   True  True  False  0  1  1  28  ...   28   97    3  False   \n29  29  0  1   True  True  False  0  0  0  29  ...   29   97    3  False   \n30  30  0  1   True  True  False  0  1  1  30  ...   30   97    3  False   \n31  31  0  1   True  True  False  0  0  0  31  ...   31   97    3  False   \n32  32  0  1   True  True  False  0  1  1  32  ...   32   97    3  False   \n33  33  0  1   True  True  False  0  0  0  33  ...   33   97    3  False   \n34  34  0  1   True  True  False  0  1  1  34  ...   34   97    3  False   \n35  35  0  1   True  True  False  0  0  0  35  ...   35   97    3  False   \n36  36  0  1   True  True  False  0  1  1  36  ...   36   97    4  False   \n37  37  0  1   True  True   True  0  0  0  37  ...   37   97    1  False   \n38  38  0  1   True  True  False  0  1  1  38  ...   38   97    1  False   \n39  39  0  0  False  True  False  0  0  0  39  ...   39   97    1  False   \n40  40  0  1   True  True  False  0  0  2  40  ...   40   97    1  False   \n41  41  0  1   True  True  False  0  1  1  41  ...   41   97    1  False   \n42  42  0  1   True  True  False  0  0  2  42  ...   42   97    1  False   \n43  43  0  1   True  True  False  0  1  1  43  ...   43   97    1  False   \n44  44  0  1   True  True  False  0  0  2  44  ...   44   97    1  False   \n45  45  0  1   True  True  False  0  1  1  45  ...   45   97    1  False   \n46  46  0  1   True  True  False  0  0  2  46  ...   46   97    1  False   \n47  47  0  1   True  True  False  0  1  1  47  ...   47   97    1  False   \n48  48  0  1   True  True  False  0  0  2  48  ...   48   97    1  False   \n49  49  0  1   True  True  False  0  1  1  49  ...   49   97    1  False   \n50  50  0  1   True  True  False  0  0  2  50  ...   50   97    1  False   \n51  51  0  1   True  True  False  0  1  1  51  ...   51   97    1  False   \n52  52  0  3   True  True  False  0  0  2  52  ...   52   97    1  False   \n53  53  0  1   True  True  False  0  1  1  53  ...   53   97    1  False   \n54  54  0  1   True  True  False  0  0  2  54  ...   54   97    1  False   \n55  55  0  1   True  True  False  0  1  1  55  ...   55   97    1  False   \n56  56  0  1   True  True  False  0  0  2  56  ...   56   97    1  False   \n57  57  0  1   True  True  False  0  1  1  57  ...   57   97    1  False   \n58  58  0  1   True  True  False  0  0  2  58  ...   58   97    1  False   \n59  59  0  1   True  True  False  0  1  1  59  ...   59   97    1  False   \n60  60  0  1   True  True   True  0  0  0  60  ...   60   97    1  False   \n61  61  0  1   True  True  False  0  1  1  61  ...   61   97    1  False   \n\n      877    878  879  880  881  labels  \n3   False  False    0    3    0      -1  \n4   False  False    0    3    4      -1  \n5   False  False    0    3    0      -1  \n6   False  False    0    3    4      -1  \n7   False  False    0    3    0      -1  \n8   False  False    0    3    4      -1  \n9   False  False    0    3    0      -1  \n10  False  False    0    3    4      -1  \n11  False  False    0    3    0      -1  \n12  False  False    0    3    4      -1  \n13  False  False    0    3    0      -1  \n14  False  False    0    3    4      -1  \n15  False  False    0    3    0      -1  \n16  False  False    0    3    4      -1  \n17  False  False    0    3    0      -1  \n18  False  False    0    3    4      -1  \n19  False  False    0    3    0      -1  \n20  False  False    0    3    4      -1  \n21  False  False    0    3    0      -1  \n22  False  False    0    3    4      -1  \n23  False  False    0    3    0      -1  \n24  False  False    0    3    4      -1  \n25  False  False    0    3    0      -1  \n26  False  False    0    3    4      -1  \n27  False  False    0    3    0      -1  \n28  False  False    0    3    4      -1  \n29  False  False    0    3    0      -1  \n30  False  False    0    3    4      -1  \n31  False  False    0    3    2      -1  \n32  False  False    0    3    4      -1  \n33  False  False    0    3    2      -1  \n34  False  False    0    3    3      -1  \n35  False  False    0    3    2      -1  \n36  False  False    0    3    2      -1  \n37  False   True    0    3    0      -1  \n38  False   True    0    3    3      -1  \n39   True  False    0    1    1      -1  \n40  False  False    0    3    0      -1  \n41  False  False    0    3    4      -1  \n42  False  False    0    3    0      -1  \n43  False  False    0    3    4      -1  \n44  False  False    0    3    0      -1  \n45  False  False    0    3    4      -1  \n46  False  False    0    3    0      -1  \n47  False  False    0    3    4      -1  \n48  False  False    0    3    0      -1  \n49  False  False    0    3    4      -1  \n50  False  False    0    3    0      -1  \n51  False  False    0    3    4      -1  \n52  False  False    0    3    0      -1  \n53  False  False    0    3    4      -1  \n54  False  False    0    3    0      -1  \n55  False  False    0    3    4      -1  \n56  False  False    0    3    0      -1  \n57  False  False    0    3    4      -1  \n58  False  False    0    3    0      -1  \n59  False  False    0    3    4      -1  \n60  False   True    0    3    0      -1  \n61  False   True    0    3    3      -1  \n\n[59 rows x 883 columns]",
      "text/html": "<div>\n<style scoped>\n    .dataframe tbody tr th:only-of-type {\n        vertical-align: middle;\n    }\n\n    .dataframe tbody tr th {\n        vertical-align: top;\n    }\n\n    .dataframe thead th {\n        text-align: right;\n    }\n</style>\n<table border=\"1\" class=\"dataframe\">\n  <thead>\n    <tr style=\"text-align: right;\">\n      <th></th>\n      <th>0</th>\n      <th>1</th>\n      <th>2</th>\n      <th>3</th>\n      <th>4</th>\n      <th>5</th>\n      <th>6</th>\n      <th>7</th>\n      <th>8</th>\n      <th>9</th>\n      <th>...</th>\n      <th>873</th>\n      <th>874</th>\n      <th>875</th>\n      <th>876</th>\n      <th>877</th>\n      <th>878</th>\n      <th>879</th>\n      <th>880</th>\n      <th>881</th>\n      <th>labels</th>\n    </tr>\n  </thead>\n  <tbody>\n    <tr>\n      <th>3</th>\n      <td>3</td>\n      <td>0</td>\n      <td>1</td>\n      <td>True</td>\n      <td>True</td>\n      <td>False</td>\n      <td>0</td>\n      <td>0</td>\n      <td>0</td>\n      <td>3</td>\n      <td>...</td>\n      <td>3</td>\n      <td>97</td>\n      <td>1</td>\n      <td>False</td>\n      <td>False</td>\n      <td>False</td>\n      <td>0</td>\n      <td>3</td>\n      <td>0</td>\n      <td>-1</td>\n    </tr>\n    <tr>\n      <th>4</th>\n      <td>4</td>\n      <td>0</td>\n      <td>1</td>\n      <td>True</td>\n      <td>True</td>\n      <td>False</td>\n      <td>0</td>\n      <td>1</td>\n      <td>1</td>\n      <td>4</td>\n      <td>...</td>\n      <td>4</td>\n      <td>97</td>\n      <td>1</td>\n      <td>False</td>\n      <td>False</td>\n      <td>False</td>\n      <td>0</td>\n      <td>3</td>\n      <td>4</td>\n      <td>-1</td>\n    </tr>\n    <tr>\n      <th>5</th>\n      <td>5</td>\n      <td>0</td>\n      <td>1</td>\n      <td>True</td>\n      <td>True</td>\n      <td>False</td>\n      <td>0</td>\n      <td>0</td>\n      <td>0</td>\n      <td>5</td>\n      <td>...</td>\n      <td>5</td>\n      <td>97</td>\n      <td>3</td>\n      <td>False</td>\n      <td>False</td>\n      <td>False</td>\n      <td>0</td>\n      <td>3</td>\n      <td>0</td>\n      <td>-1</td>\n    </tr>\n    <tr>\n      <th>6</th>\n      <td>6</td>\n      <td>0</td>\n      <td>1</td>\n      <td>True</td>\n      <td>True</td>\n      <td>False</td>\n      <td>0</td>\n      <td>1</td>\n      <td>1</td>\n      <td>6</td>\n      <td>...</td>\n      <td>6</td>\n      <td>97</td>\n      <td>3</td>\n      <td>False</td>\n      <td>False</td>\n      <td>False</td>\n      <td>0</td>\n      <td>3</td>\n      <td>4</td>\n      <td>-1</td>\n    </tr>\n    <tr>\n      <th>7</th>\n      <td>7</td>\n      <td>0</td>\n      <td>1</td>\n      <td>True</td>\n      <td>True</td>\n      <td>False</td>\n      <td>0</td>\n      <td>0</td>\n      <td>0</td>\n      <td>7</td>\n      <td>...</td>\n      <td>7</td>\n      <td>97</td>\n      <td>3</td>\n      <td>False</td>\n      <td>False</td>\n      <td>False</td>\n      <td>0</td>\n      <td>3</td>\n      <td>0</td>\n      <td>-1</td>\n    </tr>\n    <tr>\n      <th>8</th>\n      <td>8</td>\n      <td>0</td>\n      <td>1</td>\n      <td>True</td>\n      <td>True</td>\n      <td>False</td>\n      <td>0</td>\n      <td>1</td>\n      <td>1</td>\n      <td>8</td>\n      <td>...</td>\n      <td>8</td>\n      <td>97</td>\n      <td>3</td>\n      <td>False</td>\n      <td>False</td>\n      <td>False</td>\n      <td>0</td>\n      <td>3</td>\n      <td>4</td>\n      <td>-1</td>\n    </tr>\n    <tr>\n      <th>9</th>\n      <td>9</td>\n      <td>0</td>\n      <td>1</td>\n      <td>True</td>\n      <td>True</td>\n      <td>False</td>\n      <td>0</td>\n      <td>0</td>\n      <td>0</td>\n      <td>9</td>\n      <td>...</td>\n      <td>9</td>\n      <td>97</td>\n      <td>3</td>\n      <td>False</td>\n      <td>False</td>\n      <td>False</td>\n      <td>0</td>\n      <td>3</td>\n      <td>0</td>\n      <td>-1</td>\n    </tr>\n    <tr>\n      <th>10</th>\n      <td>10</td>\n      <td>0</td>\n      <td>1</td>\n      <td>True</td>\n      <td>True</td>\n      <td>False</td>\n      <td>0</td>\n      <td>1</td>\n      <td>1</td>\n      <td>10</td>\n      <td>...</td>\n      <td>10</td>\n      <td>97</td>\n      <td>3</td>\n      <td>False</td>\n      <td>False</td>\n      <td>False</td>\n      <td>0</td>\n      <td>3</td>\n      <td>4</td>\n      <td>-1</td>\n    </tr>\n    <tr>\n      <th>11</th>\n      <td>11</td>\n      <td>0</td>\n      <td>1</td>\n      <td>True</td>\n      <td>True</td>\n      <td>False</td>\n      <td>0</td>\n      <td>0</td>\n      <td>0</td>\n      <td>11</td>\n      <td>...</td>\n      <td>11</td>\n      <td>97</td>\n      <td>3</td>\n      <td>False</td>\n      <td>False</td>\n      <td>False</td>\n      <td>0</td>\n      <td>3</td>\n      <td>0</td>\n      <td>-1</td>\n    </tr>\n    <tr>\n      <th>12</th>\n      <td>12</td>\n      <td>0</td>\n      <td>1</td>\n      <td>True</td>\n      <td>True</td>\n      <td>False</td>\n      <td>0</td>\n      <td>1</td>\n      <td>1</td>\n      <td>12</td>\n      <td>...</td>\n      <td>12</td>\n      <td>97</td>\n      <td>3</td>\n      <td>False</td>\n      <td>False</td>\n      <td>False</td>\n      <td>0</td>\n      <td>3</td>\n      <td>4</td>\n      <td>-1</td>\n    </tr>\n    <tr>\n      <th>13</th>\n      <td>13</td>\n      <td>0</td>\n      <td>1</td>\n      <td>True</td>\n      <td>True</td>\n      <td>False</td>\n      <td>0</td>\n      <td>0</td>\n      <td>0</td>\n      <td>13</td>\n      <td>...</td>\n      <td>13</td>\n      <td>97</td>\n      <td>3</td>\n      <td>False</td>\n      <td>False</td>\n      <td>False</td>\n      <td>0</td>\n      <td>3</td>\n      <td>0</td>\n      <td>-1</td>\n    </tr>\n    <tr>\n      <th>14</th>\n      <td>14</td>\n      <td>0</td>\n      <td>1</td>\n      <td>True</td>\n      <td>True</td>\n      <td>False</td>\n      <td>0</td>\n      <td>1</td>\n      <td>1</td>\n      <td>14</td>\n      <td>...</td>\n      <td>14</td>\n      <td>97</td>\n      <td>3</td>\n      <td>False</td>\n      <td>False</td>\n      <td>False</td>\n      <td>0</td>\n      <td>3</td>\n      <td>4</td>\n      <td>-1</td>\n    </tr>\n    <tr>\n      <th>15</th>\n      <td>15</td>\n      <td>0</td>\n      <td>1</td>\n      <td>True</td>\n      <td>True</td>\n      <td>False</td>\n      <td>0</td>\n      <td>0</td>\n      <td>0</td>\n      <td>15</td>\n      <td>...</td>\n      <td>15</td>\n      <td>97</td>\n      <td>3</td>\n      <td>False</td>\n      <td>False</td>\n      <td>False</td>\n      <td>0</td>\n      <td>3</td>\n      <td>0</td>\n      <td>-1</td>\n    </tr>\n    <tr>\n      <th>16</th>\n      <td>16</td>\n      <td>0</td>\n      <td>1</td>\n      <td>True</td>\n      <td>True</td>\n      <td>False</td>\n      <td>0</td>\n      <td>1</td>\n      <td>1</td>\n      <td>16</td>\n      <td>...</td>\n      <td>16</td>\n      <td>97</td>\n      <td>3</td>\n      <td>False</td>\n      <td>False</td>\n      <td>False</td>\n      <td>0</td>\n      <td>3</td>\n      <td>4</td>\n      <td>-1</td>\n    </tr>\n    <tr>\n      <th>17</th>\n      <td>17</td>\n      <td>0</td>\n      <td>1</td>\n      <td>True</td>\n      <td>True</td>\n      <td>False</td>\n      <td>0</td>\n      <td>0</td>\n      <td>0</td>\n      <td>17</td>\n      <td>...</td>\n      <td>17</td>\n      <td>97</td>\n      <td>3</td>\n      <td>False</td>\n      <td>False</td>\n      <td>False</td>\n      <td>0</td>\n      <td>3</td>\n      <td>0</td>\n      <td>-1</td>\n    </tr>\n    <tr>\n      <th>18</th>\n      <td>18</td>\n      <td>0</td>\n      <td>1</td>\n      <td>True</td>\n      <td>True</td>\n      <td>False</td>\n      <td>0</td>\n      <td>1</td>\n      <td>1</td>\n      <td>18</td>\n      <td>...</td>\n      <td>18</td>\n      <td>97</td>\n      <td>3</td>\n      <td>False</td>\n      <td>False</td>\n      <td>False</td>\n      <td>0</td>\n      <td>3</td>\n      <td>4</td>\n      <td>-1</td>\n    </tr>\n    <tr>\n      <th>19</th>\n      <td>19</td>\n      <td>0</td>\n      <td>1</td>\n      <td>True</td>\n      <td>True</td>\n      <td>False</td>\n      <td>0</td>\n      <td>0</td>\n      <td>0</td>\n      <td>19</td>\n      <td>...</td>\n      <td>19</td>\n      <td>97</td>\n      <td>3</td>\n      <td>False</td>\n      <td>False</td>\n      <td>False</td>\n      <td>0</td>\n      <td>3</td>\n      <td>0</td>\n      <td>-1</td>\n    </tr>\n    <tr>\n      <th>20</th>\n      <td>20</td>\n      <td>0</td>\n      <td>1</td>\n      <td>True</td>\n      <td>True</td>\n      <td>False</td>\n      <td>0</td>\n      <td>1</td>\n      <td>1</td>\n      <td>20</td>\n      <td>...</td>\n      <td>20</td>\n      <td>97</td>\n      <td>3</td>\n      <td>False</td>\n      <td>False</td>\n      <td>False</td>\n      <td>0</td>\n      <td>3</td>\n      <td>4</td>\n      <td>-1</td>\n    </tr>\n    <tr>\n      <th>21</th>\n      <td>21</td>\n      <td>0</td>\n      <td>1</td>\n      <td>True</td>\n      <td>True</td>\n      <td>False</td>\n      <td>0</td>\n      <td>0</td>\n      <td>0</td>\n      <td>21</td>\n      <td>...</td>\n      <td>21</td>\n      <td>97</td>\n      <td>3</td>\n      <td>False</td>\n      <td>False</td>\n      <td>False</td>\n      <td>0</td>\n      <td>3</td>\n      <td>0</td>\n      <td>-1</td>\n    </tr>\n    <tr>\n      <th>22</th>\n      <td>22</td>\n      <td>0</td>\n      <td>1</td>\n      <td>True</td>\n      <td>True</td>\n      <td>False</td>\n      <td>0</td>\n      <td>1</td>\n      <td>1</td>\n      <td>22</td>\n      <td>...</td>\n      <td>22</td>\n      <td>97</td>\n      <td>3</td>\n      <td>False</td>\n      <td>False</td>\n      <td>False</td>\n      <td>0</td>\n      <td>3</td>\n      <td>4</td>\n      <td>-1</td>\n    </tr>\n    <tr>\n      <th>23</th>\n      <td>23</td>\n      <td>0</td>\n      <td>1</td>\n      <td>True</td>\n      <td>True</td>\n      <td>False</td>\n      <td>0</td>\n      <td>0</td>\n      <td>0</td>\n      <td>23</td>\n      <td>...</td>\n      <td>23</td>\n      <td>97</td>\n      <td>3</td>\n      <td>False</td>\n      <td>False</td>\n      <td>False</td>\n      <td>0</td>\n      <td>3</td>\n      <td>0</td>\n      <td>-1</td>\n    </tr>\n    <tr>\n      <th>24</th>\n      <td>24</td>\n      <td>0</td>\n      <td>1</td>\n      <td>True</td>\n      <td>True</td>\n      <td>False</td>\n      <td>0</td>\n      <td>1</td>\n      <td>1</td>\n      <td>24</td>\n      <td>...</td>\n      <td>24</td>\n      <td>97</td>\n      <td>3</td>\n      <td>False</td>\n      <td>False</td>\n      <td>False</td>\n      <td>0</td>\n      <td>3</td>\n      <td>4</td>\n      <td>-1</td>\n    </tr>\n    <tr>\n      <th>25</th>\n      <td>25</td>\n      <td>0</td>\n      <td>1</td>\n      <td>True</td>\n      <td>True</td>\n      <td>False</td>\n      <td>0</td>\n      <td>0</td>\n      <td>0</td>\n      <td>25</td>\n      <td>...</td>\n      <td>25</td>\n      <td>97</td>\n      <td>3</td>\n      <td>False</td>\n      <td>False</td>\n      <td>False</td>\n      <td>0</td>\n      <td>3</td>\n      <td>0</td>\n      <td>-1</td>\n    </tr>\n    <tr>\n      <th>26</th>\n      <td>26</td>\n      <td>0</td>\n      <td>1</td>\n      <td>True</td>\n      <td>True</td>\n      <td>False</td>\n      <td>0</td>\n      <td>1</td>\n      <td>1</td>\n      <td>26</td>\n      <td>...</td>\n      <td>26</td>\n      <td>97</td>\n      <td>3</td>\n      <td>False</td>\n      <td>False</td>\n      <td>False</td>\n      <td>0</td>\n      <td>3</td>\n      <td>4</td>\n      <td>-1</td>\n    </tr>\n    <tr>\n      <th>27</th>\n      <td>27</td>\n      <td>0</td>\n      <td>1</td>\n      <td>True</td>\n      <td>True</td>\n      <td>False</td>\n      <td>0</td>\n      <td>0</td>\n      <td>0</td>\n      <td>27</td>\n      <td>...</td>\n      <td>27</td>\n      <td>97</td>\n      <td>3</td>\n      <td>False</td>\n      <td>False</td>\n      <td>False</td>\n      <td>0</td>\n      <td>3</td>\n      <td>0</td>\n      <td>-1</td>\n    </tr>\n    <tr>\n      <th>28</th>\n      <td>28</td>\n      <td>0</td>\n      <td>1</td>\n      <td>True</td>\n      <td>True</td>\n      <td>False</td>\n      <td>0</td>\n      <td>1</td>\n      <td>1</td>\n      <td>28</td>\n      <td>...</td>\n      <td>28</td>\n      <td>97</td>\n      <td>3</td>\n      <td>False</td>\n      <td>False</td>\n      <td>False</td>\n      <td>0</td>\n      <td>3</td>\n      <td>4</td>\n      <td>-1</td>\n    </tr>\n    <tr>\n      <th>29</th>\n      <td>29</td>\n      <td>0</td>\n      <td>1</td>\n      <td>True</td>\n      <td>True</td>\n      <td>False</td>\n      <td>0</td>\n      <td>0</td>\n      <td>0</td>\n      <td>29</td>\n      <td>...</td>\n      <td>29</td>\n      <td>97</td>\n      <td>3</td>\n      <td>False</td>\n      <td>False</td>\n      <td>False</td>\n      <td>0</td>\n      <td>3</td>\n      <td>0</td>\n      <td>-1</td>\n    </tr>\n    <tr>\n      <th>30</th>\n      <td>30</td>\n      <td>0</td>\n      <td>1</td>\n      <td>True</td>\n      <td>True</td>\n      <td>False</td>\n      <td>0</td>\n      <td>1</td>\n      <td>1</td>\n      <td>30</td>\n      <td>...</td>\n      <td>30</td>\n      <td>97</td>\n      <td>3</td>\n      <td>False</td>\n      <td>False</td>\n      <td>False</td>\n      <td>0</td>\n      <td>3</td>\n      <td>4</td>\n      <td>-1</td>\n    </tr>\n    <tr>\n      <th>31</th>\n      <td>31</td>\n      <td>0</td>\n      <td>1</td>\n      <td>True</td>\n      <td>True</td>\n      <td>False</td>\n      <td>0</td>\n      <td>0</td>\n      <td>0</td>\n      <td>31</td>\n      <td>...</td>\n      <td>31</td>\n      <td>97</td>\n      <td>3</td>\n      <td>False</td>\n      <td>False</td>\n      <td>False</td>\n      <td>0</td>\n      <td>3</td>\n      <td>2</td>\n      <td>-1</td>\n    </tr>\n    <tr>\n      <th>32</th>\n      <td>32</td>\n      <td>0</td>\n      <td>1</td>\n      <td>True</td>\n      <td>True</td>\n      <td>False</td>\n      <td>0</td>\n      <td>1</td>\n      <td>1</td>\n      <td>32</td>\n      <td>...</td>\n      <td>32</td>\n      <td>97</td>\n      <td>3</td>\n      <td>False</td>\n      <td>False</td>\n      <td>False</td>\n      <td>0</td>\n      <td>3</td>\n      <td>4</td>\n      <td>-1</td>\n    </tr>\n    <tr>\n      <th>33</th>\n      <td>33</td>\n      <td>0</td>\n      <td>1</td>\n      <td>True</td>\n      <td>True</td>\n      <td>False</td>\n      <td>0</td>\n      <td>0</td>\n      <td>0</td>\n      <td>33</td>\n      <td>...</td>\n      <td>33</td>\n      <td>97</td>\n      <td>3</td>\n      <td>False</td>\n      <td>False</td>\n      <td>False</td>\n      <td>0</td>\n      <td>3</td>\n      <td>2</td>\n      <td>-1</td>\n    </tr>\n    <tr>\n      <th>34</th>\n      <td>34</td>\n      <td>0</td>\n      <td>1</td>\n      <td>True</td>\n      <td>True</td>\n      <td>False</td>\n      <td>0</td>\n      <td>1</td>\n      <td>1</td>\n      <td>34</td>\n      <td>...</td>\n      <td>34</td>\n      <td>97</td>\n      <td>3</td>\n      <td>False</td>\n      <td>False</td>\n      <td>False</td>\n      <td>0</td>\n      <td>3</td>\n      <td>3</td>\n      <td>-1</td>\n    </tr>\n    <tr>\n      <th>35</th>\n      <td>35</td>\n      <td>0</td>\n      <td>1</td>\n      <td>True</td>\n      <td>True</td>\n      <td>False</td>\n      <td>0</td>\n      <td>0</td>\n      <td>0</td>\n      <td>35</td>\n      <td>...</td>\n      <td>35</td>\n      <td>97</td>\n      <td>3</td>\n      <td>False</td>\n      <td>False</td>\n      <td>False</td>\n      <td>0</td>\n      <td>3</td>\n      <td>2</td>\n      <td>-1</td>\n    </tr>\n    <tr>\n      <th>36</th>\n      <td>36</td>\n      <td>0</td>\n      <td>1</td>\n      <td>True</td>\n      <td>True</td>\n      <td>False</td>\n      <td>0</td>\n      <td>1</td>\n      <td>1</td>\n      <td>36</td>\n      <td>...</td>\n      <td>36</td>\n      <td>97</td>\n      <td>4</td>\n      <td>False</td>\n      <td>False</td>\n      <td>False</td>\n      <td>0</td>\n      <td>3</td>\n      <td>2</td>\n      <td>-1</td>\n    </tr>\n    <tr>\n      <th>37</th>\n      <td>37</td>\n      <td>0</td>\n      <td>1</td>\n      <td>True</td>\n      <td>True</td>\n      <td>True</td>\n      <td>0</td>\n      <td>0</td>\n      <td>0</td>\n      <td>37</td>\n      <td>...</td>\n      <td>37</td>\n      <td>97</td>\n      <td>1</td>\n      <td>False</td>\n      <td>False</td>\n      <td>True</td>\n      <td>0</td>\n      <td>3</td>\n      <td>0</td>\n      <td>-1</td>\n    </tr>\n    <tr>\n      <th>38</th>\n      <td>38</td>\n      <td>0</td>\n      <td>1</td>\n      <td>True</td>\n      <td>True</td>\n      <td>False</td>\n      <td>0</td>\n      <td>1</td>\n      <td>1</td>\n      <td>38</td>\n      <td>...</td>\n      <td>38</td>\n      <td>97</td>\n      <td>1</td>\n      <td>False</td>\n      <td>False</td>\n      <td>True</td>\n      <td>0</td>\n      <td>3</td>\n      <td>3</td>\n      <td>-1</td>\n    </tr>\n    <tr>\n      <th>39</th>\n      <td>39</td>\n      <td>0</td>\n      <td>0</td>\n      <td>False</td>\n      <td>True</td>\n      <td>False</td>\n      <td>0</td>\n      <td>0</td>\n      <td>0</td>\n      <td>39</td>\n      <td>...</td>\n      <td>39</td>\n      <td>97</td>\n      <td>1</td>\n      <td>False</td>\n      <td>True</td>\n      <td>False</td>\n      <td>0</td>\n      <td>1</td>\n      <td>1</td>\n      <td>-1</td>\n    </tr>\n    <tr>\n      <th>40</th>\n      <td>40</td>\n      <td>0</td>\n      <td>1</td>\n      <td>True</td>\n      <td>True</td>\n      <td>False</td>\n      <td>0</td>\n      <td>0</td>\n      <td>2</td>\n      <td>40</td>\n      <td>...</td>\n      <td>40</td>\n      <td>97</td>\n      <td>1</td>\n      <td>False</td>\n      <td>False</td>\n      <td>False</td>\n      <td>0</td>\n      <td>3</td>\n      <td>0</td>\n      <td>-1</td>\n    </tr>\n    <tr>\n      <th>41</th>\n      <td>41</td>\n      <td>0</td>\n      <td>1</td>\n      <td>True</td>\n      <td>True</td>\n      <td>False</td>\n      <td>0</td>\n      <td>1</td>\n      <td>1</td>\n      <td>41</td>\n      <td>...</td>\n      <td>41</td>\n      <td>97</td>\n      <td>1</td>\n      <td>False</td>\n      <td>False</td>\n      <td>False</td>\n      <td>0</td>\n      <td>3</td>\n      <td>4</td>\n      <td>-1</td>\n    </tr>\n    <tr>\n      <th>42</th>\n      <td>42</td>\n      <td>0</td>\n      <td>1</td>\n      <td>True</td>\n      <td>True</td>\n      <td>False</td>\n      <td>0</td>\n      <td>0</td>\n      <td>2</td>\n      <td>42</td>\n      <td>...</td>\n      <td>42</td>\n      <td>97</td>\n      <td>1</td>\n      <td>False</td>\n      <td>False</td>\n      <td>False</td>\n      <td>0</td>\n      <td>3</td>\n      <td>0</td>\n      <td>-1</td>\n    </tr>\n    <tr>\n      <th>43</th>\n      <td>43</td>\n      <td>0</td>\n      <td>1</td>\n      <td>True</td>\n      <td>True</td>\n      <td>False</td>\n      <td>0</td>\n      <td>1</td>\n      <td>1</td>\n      <td>43</td>\n      <td>...</td>\n      <td>43</td>\n      <td>97</td>\n      <td>1</td>\n      <td>False</td>\n      <td>False</td>\n      <td>False</td>\n      <td>0</td>\n      <td>3</td>\n      <td>4</td>\n      <td>-1</td>\n    </tr>\n    <tr>\n      <th>44</th>\n      <td>44</td>\n      <td>0</td>\n      <td>1</td>\n      <td>True</td>\n      <td>True</td>\n      <td>False</td>\n      <td>0</td>\n      <td>0</td>\n      <td>2</td>\n      <td>44</td>\n      <td>...</td>\n      <td>44</td>\n      <td>97</td>\n      <td>1</td>\n      <td>False</td>\n      <td>False</td>\n      <td>False</td>\n      <td>0</td>\n      <td>3</td>\n      <td>0</td>\n      <td>-1</td>\n    </tr>\n    <tr>\n      <th>45</th>\n      <td>45</td>\n      <td>0</td>\n      <td>1</td>\n      <td>True</td>\n      <td>True</td>\n      <td>False</td>\n      <td>0</td>\n      <td>1</td>\n      <td>1</td>\n      <td>45</td>\n      <td>...</td>\n      <td>45</td>\n      <td>97</td>\n      <td>1</td>\n      <td>False</td>\n      <td>False</td>\n      <td>False</td>\n      <td>0</td>\n      <td>3</td>\n      <td>4</td>\n      <td>-1</td>\n    </tr>\n    <tr>\n      <th>46</th>\n      <td>46</td>\n      <td>0</td>\n      <td>1</td>\n      <td>True</td>\n      <td>True</td>\n      <td>False</td>\n      <td>0</td>\n      <td>0</td>\n      <td>2</td>\n      <td>46</td>\n      <td>...</td>\n      <td>46</td>\n      <td>97</td>\n      <td>1</td>\n      <td>False</td>\n      <td>False</td>\n      <td>False</td>\n      <td>0</td>\n      <td>3</td>\n      <td>0</td>\n      <td>-1</td>\n    </tr>\n    <tr>\n      <th>47</th>\n      <td>47</td>\n      <td>0</td>\n      <td>1</td>\n      <td>True</td>\n      <td>True</td>\n      <td>False</td>\n      <td>0</td>\n      <td>1</td>\n      <td>1</td>\n      <td>47</td>\n      <td>...</td>\n      <td>47</td>\n      <td>97</td>\n      <td>1</td>\n      <td>False</td>\n      <td>False</td>\n      <td>False</td>\n      <td>0</td>\n      <td>3</td>\n      <td>4</td>\n      <td>-1</td>\n    </tr>\n    <tr>\n      <th>48</th>\n      <td>48</td>\n      <td>0</td>\n      <td>1</td>\n      <td>True</td>\n      <td>True</td>\n      <td>False</td>\n      <td>0</td>\n      <td>0</td>\n      <td>2</td>\n      <td>48</td>\n      <td>...</td>\n      <td>48</td>\n      <td>97</td>\n      <td>1</td>\n      <td>False</td>\n      <td>False</td>\n      <td>False</td>\n      <td>0</td>\n      <td>3</td>\n      <td>0</td>\n      <td>-1</td>\n    </tr>\n    <tr>\n      <th>49</th>\n      <td>49</td>\n      <td>0</td>\n      <td>1</td>\n      <td>True</td>\n      <td>True</td>\n      <td>False</td>\n      <td>0</td>\n      <td>1</td>\n      <td>1</td>\n      <td>49</td>\n      <td>...</td>\n      <td>49</td>\n      <td>97</td>\n      <td>1</td>\n      <td>False</td>\n      <td>False</td>\n      <td>False</td>\n      <td>0</td>\n      <td>3</td>\n      <td>4</td>\n      <td>-1</td>\n    </tr>\n    <tr>\n      <th>50</th>\n      <td>50</td>\n      <td>0</td>\n      <td>1</td>\n      <td>True</td>\n      <td>True</td>\n      <td>False</td>\n      <td>0</td>\n      <td>0</td>\n      <td>2</td>\n      <td>50</td>\n      <td>...</td>\n      <td>50</td>\n      <td>97</td>\n      <td>1</td>\n      <td>False</td>\n      <td>False</td>\n      <td>False</td>\n      <td>0</td>\n      <td>3</td>\n      <td>0</td>\n      <td>-1</td>\n    </tr>\n    <tr>\n      <th>51</th>\n      <td>51</td>\n      <td>0</td>\n      <td>1</td>\n      <td>True</td>\n      <td>True</td>\n      <td>False</td>\n      <td>0</td>\n      <td>1</td>\n      <td>1</td>\n      <td>51</td>\n      <td>...</td>\n      <td>51</td>\n      <td>97</td>\n      <td>1</td>\n      <td>False</td>\n      <td>False</td>\n      <td>False</td>\n      <td>0</td>\n      <td>3</td>\n      <td>4</td>\n      <td>-1</td>\n    </tr>\n    <tr>\n      <th>52</th>\n      <td>52</td>\n      <td>0</td>\n      <td>3</td>\n      <td>True</td>\n      <td>True</td>\n      <td>False</td>\n      <td>0</td>\n      <td>0</td>\n      <td>2</td>\n      <td>52</td>\n      <td>...</td>\n      <td>52</td>\n      <td>97</td>\n      <td>1</td>\n      <td>False</td>\n      <td>False</td>\n      <td>False</td>\n      <td>0</td>\n      <td>3</td>\n      <td>0</td>\n      <td>-1</td>\n    </tr>\n    <tr>\n      <th>53</th>\n      <td>53</td>\n      <td>0</td>\n      <td>1</td>\n      <td>True</td>\n      <td>True</td>\n      <td>False</td>\n      <td>0</td>\n      <td>1</td>\n      <td>1</td>\n      <td>53</td>\n      <td>...</td>\n      <td>53</td>\n      <td>97</td>\n      <td>1</td>\n      <td>False</td>\n      <td>False</td>\n      <td>False</td>\n      <td>0</td>\n      <td>3</td>\n      <td>4</td>\n      <td>-1</td>\n    </tr>\n    <tr>\n      <th>54</th>\n      <td>54</td>\n      <td>0</td>\n      <td>1</td>\n      <td>True</td>\n      <td>True</td>\n      <td>False</td>\n      <td>0</td>\n      <td>0</td>\n      <td>2</td>\n      <td>54</td>\n      <td>...</td>\n      <td>54</td>\n      <td>97</td>\n      <td>1</td>\n      <td>False</td>\n      <td>False</td>\n      <td>False</td>\n      <td>0</td>\n      <td>3</td>\n      <td>0</td>\n      <td>-1</td>\n    </tr>\n    <tr>\n      <th>55</th>\n      <td>55</td>\n      <td>0</td>\n      <td>1</td>\n      <td>True</td>\n      <td>True</td>\n      <td>False</td>\n      <td>0</td>\n      <td>1</td>\n      <td>1</td>\n      <td>55</td>\n      <td>...</td>\n      <td>55</td>\n      <td>97</td>\n      <td>1</td>\n      <td>False</td>\n      <td>False</td>\n      <td>False</td>\n      <td>0</td>\n      <td>3</td>\n      <td>4</td>\n      <td>-1</td>\n    </tr>\n    <tr>\n      <th>56</th>\n      <td>56</td>\n      <td>0</td>\n      <td>1</td>\n      <td>True</td>\n      <td>True</td>\n      <td>False</td>\n      <td>0</td>\n      <td>0</td>\n      <td>2</td>\n      <td>56</td>\n      <td>...</td>\n      <td>56</td>\n      <td>97</td>\n      <td>1</td>\n      <td>False</td>\n      <td>False</td>\n      <td>False</td>\n      <td>0</td>\n      <td>3</td>\n      <td>0</td>\n      <td>-1</td>\n    </tr>\n    <tr>\n      <th>57</th>\n      <td>57</td>\n      <td>0</td>\n      <td>1</td>\n      <td>True</td>\n      <td>True</td>\n      <td>False</td>\n      <td>0</td>\n      <td>1</td>\n      <td>1</td>\n      <td>57</td>\n      <td>...</td>\n      <td>57</td>\n      <td>97</td>\n      <td>1</td>\n      <td>False</td>\n      <td>False</td>\n      <td>False</td>\n      <td>0</td>\n      <td>3</td>\n      <td>4</td>\n      <td>-1</td>\n    </tr>\n    <tr>\n      <th>58</th>\n      <td>58</td>\n      <td>0</td>\n      <td>1</td>\n      <td>True</td>\n      <td>True</td>\n      <td>False</td>\n      <td>0</td>\n      <td>0</td>\n      <td>2</td>\n      <td>58</td>\n      <td>...</td>\n      <td>58</td>\n      <td>97</td>\n      <td>1</td>\n      <td>False</td>\n      <td>False</td>\n      <td>False</td>\n      <td>0</td>\n      <td>3</td>\n      <td>0</td>\n      <td>-1</td>\n    </tr>\n    <tr>\n      <th>59</th>\n      <td>59</td>\n      <td>0</td>\n      <td>1</td>\n      <td>True</td>\n      <td>True</td>\n      <td>False</td>\n      <td>0</td>\n      <td>1</td>\n      <td>1</td>\n      <td>59</td>\n      <td>...</td>\n      <td>59</td>\n      <td>97</td>\n      <td>1</td>\n      <td>False</td>\n      <td>False</td>\n      <td>False</td>\n      <td>0</td>\n      <td>3</td>\n      <td>4</td>\n      <td>-1</td>\n    </tr>\n    <tr>\n      <th>60</th>\n      <td>60</td>\n      <td>0</td>\n      <td>1</td>\n      <td>True</td>\n      <td>True</td>\n      <td>True</td>\n      <td>0</td>\n      <td>0</td>\n      <td>0</td>\n      <td>60</td>\n      <td>...</td>\n      <td>60</td>\n      <td>97</td>\n      <td>1</td>\n      <td>False</td>\n      <td>False</td>\n      <td>True</td>\n      <td>0</td>\n      <td>3</td>\n      <td>0</td>\n      <td>-1</td>\n    </tr>\n    <tr>\n      <th>61</th>\n      <td>61</td>\n      <td>0</td>\n      <td>1</td>\n      <td>True</td>\n      <td>True</td>\n      <td>False</td>\n      <td>0</td>\n      <td>1</td>\n      <td>1</td>\n      <td>61</td>\n      <td>...</td>\n      <td>61</td>\n      <td>97</td>\n      <td>1</td>\n      <td>False</td>\n      <td>False</td>\n      <td>True</td>\n      <td>0</td>\n      <td>3</td>\n      <td>3</td>\n      <td>-1</td>\n    </tr>\n  </tbody>\n</table>\n<p>59 rows × 883 columns</p>\n</div>"
     },
     "execution_count": 12,
     "metadata": {},
     "output_type": "execute_result"
    }
   ],
   "source": [
    "df = df[df[0] > 2]\n",
    "dbs = DBSCAN().fit(df)\n",
    "df['labels'] = dbs.labels_\n",
    "first_part_list = df['labels']\n",
    "df"
   ],
   "metadata": {
    "collapsed": false,
    "ExecuteTime": {
     "end_time": "2024-02-05T08:10:29.975879500Z",
     "start_time": "2024-02-05T08:10:29.929070Z"
    }
   },
   "id": "7d95073f5bf73b6"
  },
  {
   "cell_type": "code",
   "execution_count": 13,
   "outputs": [
    {
     "name": "stderr",
     "output_type": "stream",
     "text": [
      "C:\\Users\\user\\AppData\\Local\\Programs\\Python\\Python310\\lib\\site-packages\\sklearn\\cluster\\_kmeans.py:1416: FutureWarning: The default value of `n_init` will change from 10 to 'auto' in 1.4. Set the value of `n_init` explicitly to suppress the warning\n",
      "  super()._check_params_vs_input(X, default_n_init=10)\n",
      "C:\\Users\\user\\AppData\\Local\\Temp\\ipykernel_13572\\2874269267.py:15: SettingWithCopyWarning: \n",
      "A value is trying to be set on a copy of a slice from a DataFrame.\n",
      "Try using .loc[row_indexer,col_indexer] = value instead\n",
      "\n",
      "See the caveats in the documentation: https://pandas.pydata.org/pandas-docs/stable/user_guide/indexing.html#returning-a-view-versus-a-copy\n",
      "  df1_['labels'] = ald.labels_\n",
      "C:\\Users\\user\\AppData\\Local\\Temp\\ipykernel_13572\\2874269267.py:16: SettingWithCopyWarning: \n",
      "A value is trying to be set on a copy of a slice from a DataFrame.\n",
      "Try using .loc[row_indexer,col_indexer] = value instead\n",
      "\n",
      "See the caveats in the documentation: https://pandas.pydata.org/pandas-docs/stable/user_guide/indexing.html#returning-a-view-versus-a-copy\n",
      "  df1_['labels'] = df1_['labels'].apply(lambda x: x + 1)\n"
     ]
    },
    {
     "data": {
      "text/plain": "    2      3     4      5  6  7  8  11     12    13  ...  871  872  875  \\\n3   1   True  True  False  0  0  0   1   True  True  ...    3    0    1   \n4   1   True  True  False  0  1  1   1   True  True  ...    3    4    1   \n5   1   True  True  False  0  0  0   1   True  True  ...    3    0    3   \n6   1   True  True  False  0  1  1   1   True  True  ...    3    4    3   \n7   1   True  True  False  0  0  0   1   True  True  ...    3    0    3   \n8   1   True  True  False  0  1  1   1   True  True  ...    3    4    3   \n9   1   True  True  False  0  0  0   1   True  True  ...    3    0    3   \n10  1   True  True  False  0  1  1   1   True  True  ...    3    4    3   \n11  1   True  True  False  0  0  0   1   True  True  ...    3    0    3   \n12  1   True  True  False  0  1  1   1   True  True  ...    3    4    3   \n13  1   True  True  False  0  0  0   1   True  True  ...    3    0    3   \n14  1   True  True  False  0  1  1   1   True  True  ...    3    4    3   \n15  1   True  True  False  0  0  0   1   True  True  ...    3    0    3   \n16  1   True  True  False  0  1  1   1   True  True  ...    3    4    3   \n17  1   True  True  False  0  0  0   1   True  True  ...    3    0    3   \n18  1   True  True  False  0  1  1   1   True  True  ...    3    4    3   \n19  1   True  True  False  0  0  0   1   True  True  ...    3    0    3   \n20  1   True  True  False  0  1  1   1   True  True  ...    3    4    3   \n21  1   True  True  False  0  0  0   1   True  True  ...    3    0    3   \n22  1   True  True  False  0  1  1   1   True  True  ...    3    4    3   \n23  1   True  True  False  0  0  0   1   True  True  ...    3    0    3   \n24  1   True  True  False  0  1  1   1   True  True  ...    3    4    3   \n25  1   True  True  False  0  0  0   1   True  True  ...    3    0    3   \n26  1   True  True  False  0  1  1   1   True  True  ...    3    4    3   \n27  1   True  True  False  0  0  0   1   True  True  ...    3    0    3   \n28  1   True  True  False  0  1  1   1   True  True  ...    3    4    3   \n29  1   True  True  False  0  0  0   1   True  True  ...    3    0    3   \n30  1   True  True  False  0  1  1   1   True  True  ...    3    4    3   \n31  1   True  True  False  0  0  0   1   True  True  ...    3    2    3   \n32  1   True  True  False  0  1  1   1   True  True  ...    3    4    3   \n33  1   True  True  False  0  0  0   1   True  True  ...    3    2    3   \n34  1   True  True  False  0  1  1   1   True  True  ...    3    3    3   \n35  1   True  True  False  0  0  0   1   True  True  ...    3    2    3   \n36  1   True  True  False  0  1  1   1   True  True  ...    3    2    4   \n37  1   True  True   True  0  0  0   1   True  True  ...    3    0    1   \n38  1   True  True  False  0  1  1   1   True  True  ...    3    3    1   \n39  0  False  True  False  0  0  0   1  False  True  ...    1    1    1   \n40  1   True  True  False  0  0  2   1   True  True  ...    3    0    1   \n41  1   True  True  False  0  1  1   1   True  True  ...    3    4    1   \n42  1   True  True  False  0  0  2   1   True  True  ...    3    0    1   \n43  1   True  True  False  0  1  1   1   True  True  ...    3    4    1   \n44  1   True  True  False  0  0  2   1   True  True  ...    3    0    1   \n45  1   True  True  False  0  1  1   1   True  True  ...    3    4    1   \n46  1   True  True  False  0  0  2   1   True  True  ...    3    0    1   \n47  1   True  True  False  0  1  1   1   True  True  ...    3    4    1   \n48  1   True  True  False  0  0  2   1   True  True  ...    3    0    1   \n49  1   True  True  False  0  1  1   1   True  True  ...    3    4    1   \n50  1   True  True  False  0  0  2   1   True  True  ...    3    0    1   \n51  1   True  True  False  0  1  1   1   True  True  ...    3    4    1   \n52  3   True  True  False  0  0  2   1   True  True  ...    3    0    1   \n53  1   True  True  False  0  1  1   1   True  True  ...    3    4    1   \n54  1   True  True  False  0  0  2   1   True  True  ...    3    0    1   \n55  1   True  True  False  0  1  1   1   True  True  ...    3    4    1   \n56  1   True  True  False  0  0  2   1   True  True  ...    3    0    1   \n57  1   True  True  False  0  1  1   1   True  True  ...    3    4    1   \n58  1   True  True  False  0  0  2   1   True  True  ...    3    0    1   \n59  1   True  True  False  0  1  1   1   True  True  ...    3    4    1   \n60  1   True  True   True  0  0  0   1   True  True  ...    3    0    1   \n61  1   True  True  False  0  1  1   1   True  True  ...    3    3    1   \n\n      876    877    878  879  880  881  labels  \n3   False  False  False    0    3    0       2  \n4   False  False  False    0    3    4       1  \n5   False  False  False    0    3    0       2  \n6   False  False  False    0    3    4       1  \n7   False  False  False    0    3    0       2  \n8   False  False  False    0    3    4       1  \n9   False  False  False    0    3    0       2  \n10  False  False  False    0    3    4       1  \n11  False  False  False    0    3    0       2  \n12  False  False  False    0    3    4       1  \n13  False  False  False    0    3    0       2  \n14  False  False  False    0    3    4       1  \n15  False  False  False    0    3    0       2  \n16  False  False  False    0    3    4       1  \n17  False  False  False    0    3    0       2  \n18  False  False  False    0    3    4       1  \n19  False  False  False    0    3    0       2  \n20  False  False  False    0    3    4       1  \n21  False  False  False    0    3    0       2  \n22  False  False  False    0    3    4       1  \n23  False  False  False    0    3    0       2  \n24  False  False  False    0    3    4       1  \n25  False  False  False    0    3    0       2  \n26  False  False  False    0    3    4       1  \n27  False  False  False    0    3    0       2  \n28  False  False  False    0    3    4       1  \n29  False  False  False    0    3    0       2  \n30  False  False  False    0    3    4       1  \n31  False  False  False    0    3    2       2  \n32  False  False  False    0    3    4       1  \n33  False  False  False    0    3    2       2  \n34  False  False  False    0    3    3       1  \n35  False  False  False    0    3    2       2  \n36  False  False  False    0    3    2       2  \n37  False  False   True    0    3    0       2  \n38  False  False   True    0    3    3       1  \n39  False   True  False    0    1    1       2  \n40  False  False  False    0    3    0       2  \n41  False  False  False    0    3    4       1  \n42  False  False  False    0    3    0       2  \n43  False  False  False    0    3    4       1  \n44  False  False  False    0    3    0       2  \n45  False  False  False    0    3    4       1  \n46  False  False  False    0    3    0       2  \n47  False  False  False    0    3    4       1  \n48  False  False  False    0    3    0       2  \n49  False  False  False    0    3    4       1  \n50  False  False  False    0    3    0       2  \n51  False  False  False    0    3    4       1  \n52  False  False  False    0    3    0       2  \n53  False  False  False    0    3    4       1  \n54  False  False  False    0    3    0       2  \n55  False  False  False    0    3    4       1  \n56  False  False  False    0    3    0       2  \n57  False  False  False    0    3    4       1  \n58  False  False  False    0    3    0       2  \n59  False  False  False    0    3    4       1  \n60  False  False   True    0    3    0       2  \n61  False  False   True    0    3    3       1  \n\n[59 rows x 687 columns]",
      "text/html": "<div>\n<style scoped>\n    .dataframe tbody tr th:only-of-type {\n        vertical-align: middle;\n    }\n\n    .dataframe tbody tr th {\n        vertical-align: top;\n    }\n\n    .dataframe thead th {\n        text-align: right;\n    }\n</style>\n<table border=\"1\" class=\"dataframe\">\n  <thead>\n    <tr style=\"text-align: right;\">\n      <th></th>\n      <th>2</th>\n      <th>3</th>\n      <th>4</th>\n      <th>5</th>\n      <th>6</th>\n      <th>7</th>\n      <th>8</th>\n      <th>11</th>\n      <th>12</th>\n      <th>13</th>\n      <th>...</th>\n      <th>871</th>\n      <th>872</th>\n      <th>875</th>\n      <th>876</th>\n      <th>877</th>\n      <th>878</th>\n      <th>879</th>\n      <th>880</th>\n      <th>881</th>\n      <th>labels</th>\n    </tr>\n  </thead>\n  <tbody>\n    <tr>\n      <th>3</th>\n      <td>1</td>\n      <td>True</td>\n      <td>True</td>\n      <td>False</td>\n      <td>0</td>\n      <td>0</td>\n      <td>0</td>\n      <td>1</td>\n      <td>True</td>\n      <td>True</td>\n      <td>...</td>\n      <td>3</td>\n      <td>0</td>\n      <td>1</td>\n      <td>False</td>\n      <td>False</td>\n      <td>False</td>\n      <td>0</td>\n      <td>3</td>\n      <td>0</td>\n      <td>2</td>\n    </tr>\n    <tr>\n      <th>4</th>\n      <td>1</td>\n      <td>True</td>\n      <td>True</td>\n      <td>False</td>\n      <td>0</td>\n      <td>1</td>\n      <td>1</td>\n      <td>1</td>\n      <td>True</td>\n      <td>True</td>\n      <td>...</td>\n      <td>3</td>\n      <td>4</td>\n      <td>1</td>\n      <td>False</td>\n      <td>False</td>\n      <td>False</td>\n      <td>0</td>\n      <td>3</td>\n      <td>4</td>\n      <td>1</td>\n    </tr>\n    <tr>\n      <th>5</th>\n      <td>1</td>\n      <td>True</td>\n      <td>True</td>\n      <td>False</td>\n      <td>0</td>\n      <td>0</td>\n      <td>0</td>\n      <td>1</td>\n      <td>True</td>\n      <td>True</td>\n      <td>...</td>\n      <td>3</td>\n      <td>0</td>\n      <td>3</td>\n      <td>False</td>\n      <td>False</td>\n      <td>False</td>\n      <td>0</td>\n      <td>3</td>\n      <td>0</td>\n      <td>2</td>\n    </tr>\n    <tr>\n      <th>6</th>\n      <td>1</td>\n      <td>True</td>\n      <td>True</td>\n      <td>False</td>\n      <td>0</td>\n      <td>1</td>\n      <td>1</td>\n      <td>1</td>\n      <td>True</td>\n      <td>True</td>\n      <td>...</td>\n      <td>3</td>\n      <td>4</td>\n      <td>3</td>\n      <td>False</td>\n      <td>False</td>\n      <td>False</td>\n      <td>0</td>\n      <td>3</td>\n      <td>4</td>\n      <td>1</td>\n    </tr>\n    <tr>\n      <th>7</th>\n      <td>1</td>\n      <td>True</td>\n      <td>True</td>\n      <td>False</td>\n      <td>0</td>\n      <td>0</td>\n      <td>0</td>\n      <td>1</td>\n      <td>True</td>\n      <td>True</td>\n      <td>...</td>\n      <td>3</td>\n      <td>0</td>\n      <td>3</td>\n      <td>False</td>\n      <td>False</td>\n      <td>False</td>\n      <td>0</td>\n      <td>3</td>\n      <td>0</td>\n      <td>2</td>\n    </tr>\n    <tr>\n      <th>8</th>\n      <td>1</td>\n      <td>True</td>\n      <td>True</td>\n      <td>False</td>\n      <td>0</td>\n      <td>1</td>\n      <td>1</td>\n      <td>1</td>\n      <td>True</td>\n      <td>True</td>\n      <td>...</td>\n      <td>3</td>\n      <td>4</td>\n      <td>3</td>\n      <td>False</td>\n      <td>False</td>\n      <td>False</td>\n      <td>0</td>\n      <td>3</td>\n      <td>4</td>\n      <td>1</td>\n    </tr>\n    <tr>\n      <th>9</th>\n      <td>1</td>\n      <td>True</td>\n      <td>True</td>\n      <td>False</td>\n      <td>0</td>\n      <td>0</td>\n      <td>0</td>\n      <td>1</td>\n      <td>True</td>\n      <td>True</td>\n      <td>...</td>\n      <td>3</td>\n      <td>0</td>\n      <td>3</td>\n      <td>False</td>\n      <td>False</td>\n      <td>False</td>\n      <td>0</td>\n      <td>3</td>\n      <td>0</td>\n      <td>2</td>\n    </tr>\n    <tr>\n      <th>10</th>\n      <td>1</td>\n      <td>True</td>\n      <td>True</td>\n      <td>False</td>\n      <td>0</td>\n      <td>1</td>\n      <td>1</td>\n      <td>1</td>\n      <td>True</td>\n      <td>True</td>\n      <td>...</td>\n      <td>3</td>\n      <td>4</td>\n      <td>3</td>\n      <td>False</td>\n      <td>False</td>\n      <td>False</td>\n      <td>0</td>\n      <td>3</td>\n      <td>4</td>\n      <td>1</td>\n    </tr>\n    <tr>\n      <th>11</th>\n      <td>1</td>\n      <td>True</td>\n      <td>True</td>\n      <td>False</td>\n      <td>0</td>\n      <td>0</td>\n      <td>0</td>\n      <td>1</td>\n      <td>True</td>\n      <td>True</td>\n      <td>...</td>\n      <td>3</td>\n      <td>0</td>\n      <td>3</td>\n      <td>False</td>\n      <td>False</td>\n      <td>False</td>\n      <td>0</td>\n      <td>3</td>\n      <td>0</td>\n      <td>2</td>\n    </tr>\n    <tr>\n      <th>12</th>\n      <td>1</td>\n      <td>True</td>\n      <td>True</td>\n      <td>False</td>\n      <td>0</td>\n      <td>1</td>\n      <td>1</td>\n      <td>1</td>\n      <td>True</td>\n      <td>True</td>\n      <td>...</td>\n      <td>3</td>\n      <td>4</td>\n      <td>3</td>\n      <td>False</td>\n      <td>False</td>\n      <td>False</td>\n      <td>0</td>\n      <td>3</td>\n      <td>4</td>\n      <td>1</td>\n    </tr>\n    <tr>\n      <th>13</th>\n      <td>1</td>\n      <td>True</td>\n      <td>True</td>\n      <td>False</td>\n      <td>0</td>\n      <td>0</td>\n      <td>0</td>\n      <td>1</td>\n      <td>True</td>\n      <td>True</td>\n      <td>...</td>\n      <td>3</td>\n      <td>0</td>\n      <td>3</td>\n      <td>False</td>\n      <td>False</td>\n      <td>False</td>\n      <td>0</td>\n      <td>3</td>\n      <td>0</td>\n      <td>2</td>\n    </tr>\n    <tr>\n      <th>14</th>\n      <td>1</td>\n      <td>True</td>\n      <td>True</td>\n      <td>False</td>\n      <td>0</td>\n      <td>1</td>\n      <td>1</td>\n      <td>1</td>\n      <td>True</td>\n      <td>True</td>\n      <td>...</td>\n      <td>3</td>\n      <td>4</td>\n      <td>3</td>\n      <td>False</td>\n      <td>False</td>\n      <td>False</td>\n      <td>0</td>\n      <td>3</td>\n      <td>4</td>\n      <td>1</td>\n    </tr>\n    <tr>\n      <th>15</th>\n      <td>1</td>\n      <td>True</td>\n      <td>True</td>\n      <td>False</td>\n      <td>0</td>\n      <td>0</td>\n      <td>0</td>\n      <td>1</td>\n      <td>True</td>\n      <td>True</td>\n      <td>...</td>\n      <td>3</td>\n      <td>0</td>\n      <td>3</td>\n      <td>False</td>\n      <td>False</td>\n      <td>False</td>\n      <td>0</td>\n      <td>3</td>\n      <td>0</td>\n      <td>2</td>\n    </tr>\n    <tr>\n      <th>16</th>\n      <td>1</td>\n      <td>True</td>\n      <td>True</td>\n      <td>False</td>\n      <td>0</td>\n      <td>1</td>\n      <td>1</td>\n      <td>1</td>\n      <td>True</td>\n      <td>True</td>\n      <td>...</td>\n      <td>3</td>\n      <td>4</td>\n      <td>3</td>\n      <td>False</td>\n      <td>False</td>\n      <td>False</td>\n      <td>0</td>\n      <td>3</td>\n      <td>4</td>\n      <td>1</td>\n    </tr>\n    <tr>\n      <th>17</th>\n      <td>1</td>\n      <td>True</td>\n      <td>True</td>\n      <td>False</td>\n      <td>0</td>\n      <td>0</td>\n      <td>0</td>\n      <td>1</td>\n      <td>True</td>\n      <td>True</td>\n      <td>...</td>\n      <td>3</td>\n      <td>0</td>\n      <td>3</td>\n      <td>False</td>\n      <td>False</td>\n      <td>False</td>\n      <td>0</td>\n      <td>3</td>\n      <td>0</td>\n      <td>2</td>\n    </tr>\n    <tr>\n      <th>18</th>\n      <td>1</td>\n      <td>True</td>\n      <td>True</td>\n      <td>False</td>\n      <td>0</td>\n      <td>1</td>\n      <td>1</td>\n      <td>1</td>\n      <td>True</td>\n      <td>True</td>\n      <td>...</td>\n      <td>3</td>\n      <td>4</td>\n      <td>3</td>\n      <td>False</td>\n      <td>False</td>\n      <td>False</td>\n      <td>0</td>\n      <td>3</td>\n      <td>4</td>\n      <td>1</td>\n    </tr>\n    <tr>\n      <th>19</th>\n      <td>1</td>\n      <td>True</td>\n      <td>True</td>\n      <td>False</td>\n      <td>0</td>\n      <td>0</td>\n      <td>0</td>\n      <td>1</td>\n      <td>True</td>\n      <td>True</td>\n      <td>...</td>\n      <td>3</td>\n      <td>0</td>\n      <td>3</td>\n      <td>False</td>\n      <td>False</td>\n      <td>False</td>\n      <td>0</td>\n      <td>3</td>\n      <td>0</td>\n      <td>2</td>\n    </tr>\n    <tr>\n      <th>20</th>\n      <td>1</td>\n      <td>True</td>\n      <td>True</td>\n      <td>False</td>\n      <td>0</td>\n      <td>1</td>\n      <td>1</td>\n      <td>1</td>\n      <td>True</td>\n      <td>True</td>\n      <td>...</td>\n      <td>3</td>\n      <td>4</td>\n      <td>3</td>\n      <td>False</td>\n      <td>False</td>\n      <td>False</td>\n      <td>0</td>\n      <td>3</td>\n      <td>4</td>\n      <td>1</td>\n    </tr>\n    <tr>\n      <th>21</th>\n      <td>1</td>\n      <td>True</td>\n      <td>True</td>\n      <td>False</td>\n      <td>0</td>\n      <td>0</td>\n      <td>0</td>\n      <td>1</td>\n      <td>True</td>\n      <td>True</td>\n      <td>...</td>\n      <td>3</td>\n      <td>0</td>\n      <td>3</td>\n      <td>False</td>\n      <td>False</td>\n      <td>False</td>\n      <td>0</td>\n      <td>3</td>\n      <td>0</td>\n      <td>2</td>\n    </tr>\n    <tr>\n      <th>22</th>\n      <td>1</td>\n      <td>True</td>\n      <td>True</td>\n      <td>False</td>\n      <td>0</td>\n      <td>1</td>\n      <td>1</td>\n      <td>1</td>\n      <td>True</td>\n      <td>True</td>\n      <td>...</td>\n      <td>3</td>\n      <td>4</td>\n      <td>3</td>\n      <td>False</td>\n      <td>False</td>\n      <td>False</td>\n      <td>0</td>\n      <td>3</td>\n      <td>4</td>\n      <td>1</td>\n    </tr>\n    <tr>\n      <th>23</th>\n      <td>1</td>\n      <td>True</td>\n      <td>True</td>\n      <td>False</td>\n      <td>0</td>\n      <td>0</td>\n      <td>0</td>\n      <td>1</td>\n      <td>True</td>\n      <td>True</td>\n      <td>...</td>\n      <td>3</td>\n      <td>0</td>\n      <td>3</td>\n      <td>False</td>\n      <td>False</td>\n      <td>False</td>\n      <td>0</td>\n      <td>3</td>\n      <td>0</td>\n      <td>2</td>\n    </tr>\n    <tr>\n      <th>24</th>\n      <td>1</td>\n      <td>True</td>\n      <td>True</td>\n      <td>False</td>\n      <td>0</td>\n      <td>1</td>\n      <td>1</td>\n      <td>1</td>\n      <td>True</td>\n      <td>True</td>\n      <td>...</td>\n      <td>3</td>\n      <td>4</td>\n      <td>3</td>\n      <td>False</td>\n      <td>False</td>\n      <td>False</td>\n      <td>0</td>\n      <td>3</td>\n      <td>4</td>\n      <td>1</td>\n    </tr>\n    <tr>\n      <th>25</th>\n      <td>1</td>\n      <td>True</td>\n      <td>True</td>\n      <td>False</td>\n      <td>0</td>\n      <td>0</td>\n      <td>0</td>\n      <td>1</td>\n      <td>True</td>\n      <td>True</td>\n      <td>...</td>\n      <td>3</td>\n      <td>0</td>\n      <td>3</td>\n      <td>False</td>\n      <td>False</td>\n      <td>False</td>\n      <td>0</td>\n      <td>3</td>\n      <td>0</td>\n      <td>2</td>\n    </tr>\n    <tr>\n      <th>26</th>\n      <td>1</td>\n      <td>True</td>\n      <td>True</td>\n      <td>False</td>\n      <td>0</td>\n      <td>1</td>\n      <td>1</td>\n      <td>1</td>\n      <td>True</td>\n      <td>True</td>\n      <td>...</td>\n      <td>3</td>\n      <td>4</td>\n      <td>3</td>\n      <td>False</td>\n      <td>False</td>\n      <td>False</td>\n      <td>0</td>\n      <td>3</td>\n      <td>4</td>\n      <td>1</td>\n    </tr>\n    <tr>\n      <th>27</th>\n      <td>1</td>\n      <td>True</td>\n      <td>True</td>\n      <td>False</td>\n      <td>0</td>\n      <td>0</td>\n      <td>0</td>\n      <td>1</td>\n      <td>True</td>\n      <td>True</td>\n      <td>...</td>\n      <td>3</td>\n      <td>0</td>\n      <td>3</td>\n      <td>False</td>\n      <td>False</td>\n      <td>False</td>\n      <td>0</td>\n      <td>3</td>\n      <td>0</td>\n      <td>2</td>\n    </tr>\n    <tr>\n      <th>28</th>\n      <td>1</td>\n      <td>True</td>\n      <td>True</td>\n      <td>False</td>\n      <td>0</td>\n      <td>1</td>\n      <td>1</td>\n      <td>1</td>\n      <td>True</td>\n      <td>True</td>\n      <td>...</td>\n      <td>3</td>\n      <td>4</td>\n      <td>3</td>\n      <td>False</td>\n      <td>False</td>\n      <td>False</td>\n      <td>0</td>\n      <td>3</td>\n      <td>4</td>\n      <td>1</td>\n    </tr>\n    <tr>\n      <th>29</th>\n      <td>1</td>\n      <td>True</td>\n      <td>True</td>\n      <td>False</td>\n      <td>0</td>\n      <td>0</td>\n      <td>0</td>\n      <td>1</td>\n      <td>True</td>\n      <td>True</td>\n      <td>...</td>\n      <td>3</td>\n      <td>0</td>\n      <td>3</td>\n      <td>False</td>\n      <td>False</td>\n      <td>False</td>\n      <td>0</td>\n      <td>3</td>\n      <td>0</td>\n      <td>2</td>\n    </tr>\n    <tr>\n      <th>30</th>\n      <td>1</td>\n      <td>True</td>\n      <td>True</td>\n      <td>False</td>\n      <td>0</td>\n      <td>1</td>\n      <td>1</td>\n      <td>1</td>\n      <td>True</td>\n      <td>True</td>\n      <td>...</td>\n      <td>3</td>\n      <td>4</td>\n      <td>3</td>\n      <td>False</td>\n      <td>False</td>\n      <td>False</td>\n      <td>0</td>\n      <td>3</td>\n      <td>4</td>\n      <td>1</td>\n    </tr>\n    <tr>\n      <th>31</th>\n      <td>1</td>\n      <td>True</td>\n      <td>True</td>\n      <td>False</td>\n      <td>0</td>\n      <td>0</td>\n      <td>0</td>\n      <td>1</td>\n      <td>True</td>\n      <td>True</td>\n      <td>...</td>\n      <td>3</td>\n      <td>2</td>\n      <td>3</td>\n      <td>False</td>\n      <td>False</td>\n      <td>False</td>\n      <td>0</td>\n      <td>3</td>\n      <td>2</td>\n      <td>2</td>\n    </tr>\n    <tr>\n      <th>32</th>\n      <td>1</td>\n      <td>True</td>\n      <td>True</td>\n      <td>False</td>\n      <td>0</td>\n      <td>1</td>\n      <td>1</td>\n      <td>1</td>\n      <td>True</td>\n      <td>True</td>\n      <td>...</td>\n      <td>3</td>\n      <td>4</td>\n      <td>3</td>\n      <td>False</td>\n      <td>False</td>\n      <td>False</td>\n      <td>0</td>\n      <td>3</td>\n      <td>4</td>\n      <td>1</td>\n    </tr>\n    <tr>\n      <th>33</th>\n      <td>1</td>\n      <td>True</td>\n      <td>True</td>\n      <td>False</td>\n      <td>0</td>\n      <td>0</td>\n      <td>0</td>\n      <td>1</td>\n      <td>True</td>\n      <td>True</td>\n      <td>...</td>\n      <td>3</td>\n      <td>2</td>\n      <td>3</td>\n      <td>False</td>\n      <td>False</td>\n      <td>False</td>\n      <td>0</td>\n      <td>3</td>\n      <td>2</td>\n      <td>2</td>\n    </tr>\n    <tr>\n      <th>34</th>\n      <td>1</td>\n      <td>True</td>\n      <td>True</td>\n      <td>False</td>\n      <td>0</td>\n      <td>1</td>\n      <td>1</td>\n      <td>1</td>\n      <td>True</td>\n      <td>True</td>\n      <td>...</td>\n      <td>3</td>\n      <td>3</td>\n      <td>3</td>\n      <td>False</td>\n      <td>False</td>\n      <td>False</td>\n      <td>0</td>\n      <td>3</td>\n      <td>3</td>\n      <td>1</td>\n    </tr>\n    <tr>\n      <th>35</th>\n      <td>1</td>\n      <td>True</td>\n      <td>True</td>\n      <td>False</td>\n      <td>0</td>\n      <td>0</td>\n      <td>0</td>\n      <td>1</td>\n      <td>True</td>\n      <td>True</td>\n      <td>...</td>\n      <td>3</td>\n      <td>2</td>\n      <td>3</td>\n      <td>False</td>\n      <td>False</td>\n      <td>False</td>\n      <td>0</td>\n      <td>3</td>\n      <td>2</td>\n      <td>2</td>\n    </tr>\n    <tr>\n      <th>36</th>\n      <td>1</td>\n      <td>True</td>\n      <td>True</td>\n      <td>False</td>\n      <td>0</td>\n      <td>1</td>\n      <td>1</td>\n      <td>1</td>\n      <td>True</td>\n      <td>True</td>\n      <td>...</td>\n      <td>3</td>\n      <td>2</td>\n      <td>4</td>\n      <td>False</td>\n      <td>False</td>\n      <td>False</td>\n      <td>0</td>\n      <td>3</td>\n      <td>2</td>\n      <td>2</td>\n    </tr>\n    <tr>\n      <th>37</th>\n      <td>1</td>\n      <td>True</td>\n      <td>True</td>\n      <td>True</td>\n      <td>0</td>\n      <td>0</td>\n      <td>0</td>\n      <td>1</td>\n      <td>True</td>\n      <td>True</td>\n      <td>...</td>\n      <td>3</td>\n      <td>0</td>\n      <td>1</td>\n      <td>False</td>\n      <td>False</td>\n      <td>True</td>\n      <td>0</td>\n      <td>3</td>\n      <td>0</td>\n      <td>2</td>\n    </tr>\n    <tr>\n      <th>38</th>\n      <td>1</td>\n      <td>True</td>\n      <td>True</td>\n      <td>False</td>\n      <td>0</td>\n      <td>1</td>\n      <td>1</td>\n      <td>1</td>\n      <td>True</td>\n      <td>True</td>\n      <td>...</td>\n      <td>3</td>\n      <td>3</td>\n      <td>1</td>\n      <td>False</td>\n      <td>False</td>\n      <td>True</td>\n      <td>0</td>\n      <td>3</td>\n      <td>3</td>\n      <td>1</td>\n    </tr>\n    <tr>\n      <th>39</th>\n      <td>0</td>\n      <td>False</td>\n      <td>True</td>\n      <td>False</td>\n      <td>0</td>\n      <td>0</td>\n      <td>0</td>\n      <td>1</td>\n      <td>False</td>\n      <td>True</td>\n      <td>...</td>\n      <td>1</td>\n      <td>1</td>\n      <td>1</td>\n      <td>False</td>\n      <td>True</td>\n      <td>False</td>\n      <td>0</td>\n      <td>1</td>\n      <td>1</td>\n      <td>2</td>\n    </tr>\n    <tr>\n      <th>40</th>\n      <td>1</td>\n      <td>True</td>\n      <td>True</td>\n      <td>False</td>\n      <td>0</td>\n      <td>0</td>\n      <td>2</td>\n      <td>1</td>\n      <td>True</td>\n      <td>True</td>\n      <td>...</td>\n      <td>3</td>\n      <td>0</td>\n      <td>1</td>\n      <td>False</td>\n      <td>False</td>\n      <td>False</td>\n      <td>0</td>\n      <td>3</td>\n      <td>0</td>\n      <td>2</td>\n    </tr>\n    <tr>\n      <th>41</th>\n      <td>1</td>\n      <td>True</td>\n      <td>True</td>\n      <td>False</td>\n      <td>0</td>\n      <td>1</td>\n      <td>1</td>\n      <td>1</td>\n      <td>True</td>\n      <td>True</td>\n      <td>...</td>\n      <td>3</td>\n      <td>4</td>\n      <td>1</td>\n      <td>False</td>\n      <td>False</td>\n      <td>False</td>\n      <td>0</td>\n      <td>3</td>\n      <td>4</td>\n      <td>1</td>\n    </tr>\n    <tr>\n      <th>42</th>\n      <td>1</td>\n      <td>True</td>\n      <td>True</td>\n      <td>False</td>\n      <td>0</td>\n      <td>0</td>\n      <td>2</td>\n      <td>1</td>\n      <td>True</td>\n      <td>True</td>\n      <td>...</td>\n      <td>3</td>\n      <td>0</td>\n      <td>1</td>\n      <td>False</td>\n      <td>False</td>\n      <td>False</td>\n      <td>0</td>\n      <td>3</td>\n      <td>0</td>\n      <td>2</td>\n    </tr>\n    <tr>\n      <th>43</th>\n      <td>1</td>\n      <td>True</td>\n      <td>True</td>\n      <td>False</td>\n      <td>0</td>\n      <td>1</td>\n      <td>1</td>\n      <td>1</td>\n      <td>True</td>\n      <td>True</td>\n      <td>...</td>\n      <td>3</td>\n      <td>4</td>\n      <td>1</td>\n      <td>False</td>\n      <td>False</td>\n      <td>False</td>\n      <td>0</td>\n      <td>3</td>\n      <td>4</td>\n      <td>1</td>\n    </tr>\n    <tr>\n      <th>44</th>\n      <td>1</td>\n      <td>True</td>\n      <td>True</td>\n      <td>False</td>\n      <td>0</td>\n      <td>0</td>\n      <td>2</td>\n      <td>1</td>\n      <td>True</td>\n      <td>True</td>\n      <td>...</td>\n      <td>3</td>\n      <td>0</td>\n      <td>1</td>\n      <td>False</td>\n      <td>False</td>\n      <td>False</td>\n      <td>0</td>\n      <td>3</td>\n      <td>0</td>\n      <td>2</td>\n    </tr>\n    <tr>\n      <th>45</th>\n      <td>1</td>\n      <td>True</td>\n      <td>True</td>\n      <td>False</td>\n      <td>0</td>\n      <td>1</td>\n      <td>1</td>\n      <td>1</td>\n      <td>True</td>\n      <td>True</td>\n      <td>...</td>\n      <td>3</td>\n      <td>4</td>\n      <td>1</td>\n      <td>False</td>\n      <td>False</td>\n      <td>False</td>\n      <td>0</td>\n      <td>3</td>\n      <td>4</td>\n      <td>1</td>\n    </tr>\n    <tr>\n      <th>46</th>\n      <td>1</td>\n      <td>True</td>\n      <td>True</td>\n      <td>False</td>\n      <td>0</td>\n      <td>0</td>\n      <td>2</td>\n      <td>1</td>\n      <td>True</td>\n      <td>True</td>\n      <td>...</td>\n      <td>3</td>\n      <td>0</td>\n      <td>1</td>\n      <td>False</td>\n      <td>False</td>\n      <td>False</td>\n      <td>0</td>\n      <td>3</td>\n      <td>0</td>\n      <td>2</td>\n    </tr>\n    <tr>\n      <th>47</th>\n      <td>1</td>\n      <td>True</td>\n      <td>True</td>\n      <td>False</td>\n      <td>0</td>\n      <td>1</td>\n      <td>1</td>\n      <td>1</td>\n      <td>True</td>\n      <td>True</td>\n      <td>...</td>\n      <td>3</td>\n      <td>4</td>\n      <td>1</td>\n      <td>False</td>\n      <td>False</td>\n      <td>False</td>\n      <td>0</td>\n      <td>3</td>\n      <td>4</td>\n      <td>1</td>\n    </tr>\n    <tr>\n      <th>48</th>\n      <td>1</td>\n      <td>True</td>\n      <td>True</td>\n      <td>False</td>\n      <td>0</td>\n      <td>0</td>\n      <td>2</td>\n      <td>1</td>\n      <td>True</td>\n      <td>True</td>\n      <td>...</td>\n      <td>3</td>\n      <td>0</td>\n      <td>1</td>\n      <td>False</td>\n      <td>False</td>\n      <td>False</td>\n      <td>0</td>\n      <td>3</td>\n      <td>0</td>\n      <td>2</td>\n    </tr>\n    <tr>\n      <th>49</th>\n      <td>1</td>\n      <td>True</td>\n      <td>True</td>\n      <td>False</td>\n      <td>0</td>\n      <td>1</td>\n      <td>1</td>\n      <td>1</td>\n      <td>True</td>\n      <td>True</td>\n      <td>...</td>\n      <td>3</td>\n      <td>4</td>\n      <td>1</td>\n      <td>False</td>\n      <td>False</td>\n      <td>False</td>\n      <td>0</td>\n      <td>3</td>\n      <td>4</td>\n      <td>1</td>\n    </tr>\n    <tr>\n      <th>50</th>\n      <td>1</td>\n      <td>True</td>\n      <td>True</td>\n      <td>False</td>\n      <td>0</td>\n      <td>0</td>\n      <td>2</td>\n      <td>1</td>\n      <td>True</td>\n      <td>True</td>\n      <td>...</td>\n      <td>3</td>\n      <td>0</td>\n      <td>1</td>\n      <td>False</td>\n      <td>False</td>\n      <td>False</td>\n      <td>0</td>\n      <td>3</td>\n      <td>0</td>\n      <td>2</td>\n    </tr>\n    <tr>\n      <th>51</th>\n      <td>1</td>\n      <td>True</td>\n      <td>True</td>\n      <td>False</td>\n      <td>0</td>\n      <td>1</td>\n      <td>1</td>\n      <td>1</td>\n      <td>True</td>\n      <td>True</td>\n      <td>...</td>\n      <td>3</td>\n      <td>4</td>\n      <td>1</td>\n      <td>False</td>\n      <td>False</td>\n      <td>False</td>\n      <td>0</td>\n      <td>3</td>\n      <td>4</td>\n      <td>1</td>\n    </tr>\n    <tr>\n      <th>52</th>\n      <td>3</td>\n      <td>True</td>\n      <td>True</td>\n      <td>False</td>\n      <td>0</td>\n      <td>0</td>\n      <td>2</td>\n      <td>1</td>\n      <td>True</td>\n      <td>True</td>\n      <td>...</td>\n      <td>3</td>\n      <td>0</td>\n      <td>1</td>\n      <td>False</td>\n      <td>False</td>\n      <td>False</td>\n      <td>0</td>\n      <td>3</td>\n      <td>0</td>\n      <td>2</td>\n    </tr>\n    <tr>\n      <th>53</th>\n      <td>1</td>\n      <td>True</td>\n      <td>True</td>\n      <td>False</td>\n      <td>0</td>\n      <td>1</td>\n      <td>1</td>\n      <td>1</td>\n      <td>True</td>\n      <td>True</td>\n      <td>...</td>\n      <td>3</td>\n      <td>4</td>\n      <td>1</td>\n      <td>False</td>\n      <td>False</td>\n      <td>False</td>\n      <td>0</td>\n      <td>3</td>\n      <td>4</td>\n      <td>1</td>\n    </tr>\n    <tr>\n      <th>54</th>\n      <td>1</td>\n      <td>True</td>\n      <td>True</td>\n      <td>False</td>\n      <td>0</td>\n      <td>0</td>\n      <td>2</td>\n      <td>1</td>\n      <td>True</td>\n      <td>True</td>\n      <td>...</td>\n      <td>3</td>\n      <td>0</td>\n      <td>1</td>\n      <td>False</td>\n      <td>False</td>\n      <td>False</td>\n      <td>0</td>\n      <td>3</td>\n      <td>0</td>\n      <td>2</td>\n    </tr>\n    <tr>\n      <th>55</th>\n      <td>1</td>\n      <td>True</td>\n      <td>True</td>\n      <td>False</td>\n      <td>0</td>\n      <td>1</td>\n      <td>1</td>\n      <td>1</td>\n      <td>True</td>\n      <td>True</td>\n      <td>...</td>\n      <td>3</td>\n      <td>4</td>\n      <td>1</td>\n      <td>False</td>\n      <td>False</td>\n      <td>False</td>\n      <td>0</td>\n      <td>3</td>\n      <td>4</td>\n      <td>1</td>\n    </tr>\n    <tr>\n      <th>56</th>\n      <td>1</td>\n      <td>True</td>\n      <td>True</td>\n      <td>False</td>\n      <td>0</td>\n      <td>0</td>\n      <td>2</td>\n      <td>1</td>\n      <td>True</td>\n      <td>True</td>\n      <td>...</td>\n      <td>3</td>\n      <td>0</td>\n      <td>1</td>\n      <td>False</td>\n      <td>False</td>\n      <td>False</td>\n      <td>0</td>\n      <td>3</td>\n      <td>0</td>\n      <td>2</td>\n    </tr>\n    <tr>\n      <th>57</th>\n      <td>1</td>\n      <td>True</td>\n      <td>True</td>\n      <td>False</td>\n      <td>0</td>\n      <td>1</td>\n      <td>1</td>\n      <td>1</td>\n      <td>True</td>\n      <td>True</td>\n      <td>...</td>\n      <td>3</td>\n      <td>4</td>\n      <td>1</td>\n      <td>False</td>\n      <td>False</td>\n      <td>False</td>\n      <td>0</td>\n      <td>3</td>\n      <td>4</td>\n      <td>1</td>\n    </tr>\n    <tr>\n      <th>58</th>\n      <td>1</td>\n      <td>True</td>\n      <td>True</td>\n      <td>False</td>\n      <td>0</td>\n      <td>0</td>\n      <td>2</td>\n      <td>1</td>\n      <td>True</td>\n      <td>True</td>\n      <td>...</td>\n      <td>3</td>\n      <td>0</td>\n      <td>1</td>\n      <td>False</td>\n      <td>False</td>\n      <td>False</td>\n      <td>0</td>\n      <td>3</td>\n      <td>0</td>\n      <td>2</td>\n    </tr>\n    <tr>\n      <th>59</th>\n      <td>1</td>\n      <td>True</td>\n      <td>True</td>\n      <td>False</td>\n      <td>0</td>\n      <td>1</td>\n      <td>1</td>\n      <td>1</td>\n      <td>True</td>\n      <td>True</td>\n      <td>...</td>\n      <td>3</td>\n      <td>4</td>\n      <td>1</td>\n      <td>False</td>\n      <td>False</td>\n      <td>False</td>\n      <td>0</td>\n      <td>3</td>\n      <td>4</td>\n      <td>1</td>\n    </tr>\n    <tr>\n      <th>60</th>\n      <td>1</td>\n      <td>True</td>\n      <td>True</td>\n      <td>True</td>\n      <td>0</td>\n      <td>0</td>\n      <td>0</td>\n      <td>1</td>\n      <td>True</td>\n      <td>True</td>\n      <td>...</td>\n      <td>3</td>\n      <td>0</td>\n      <td>1</td>\n      <td>False</td>\n      <td>False</td>\n      <td>True</td>\n      <td>0</td>\n      <td>3</td>\n      <td>0</td>\n      <td>2</td>\n    </tr>\n    <tr>\n      <th>61</th>\n      <td>1</td>\n      <td>True</td>\n      <td>True</td>\n      <td>False</td>\n      <td>0</td>\n      <td>1</td>\n      <td>1</td>\n      <td>1</td>\n      <td>True</td>\n      <td>True</td>\n      <td>...</td>\n      <td>3</td>\n      <td>3</td>\n      <td>1</td>\n      <td>False</td>\n      <td>False</td>\n      <td>True</td>\n      <td>0</td>\n      <td>3</td>\n      <td>3</td>\n      <td>1</td>\n    </tr>\n  </tbody>\n</table>\n<p>59 rows × 687 columns</p>\n</div>"
     },
     "execution_count": 13,
     "metadata": {},
     "output_type": "execute_result"
    }
   ],
   "source": [
    "df1 = df[df.labels == -1]\n",
    "df1 = df1.drop(columns=['labels'])\n",
    "\n",
    "in_cols = []\n",
    "for i in df1.columns:\n",
    "    if int(i)%9 in [2, 3, 4, 5, 6, 7, 8]:\n",
    "        in_cols.append(True)\n",
    "    else:\n",
    "        in_cols.append(False)\n",
    "\n",
    "df1_ = df1.iloc[:, in_cols]\n",
    "# df1_ = df1\n",
    "\n",
    "ald = KMeans(n_clusters=2).fit(df1_)\n",
    "df1_['labels'] = ald.labels_\n",
    "df1_['labels'] = df1_['labels'].apply(lambda x: x + 1)\n",
    "second_part_list = df1_['labels']\n",
    "df1_"
   ],
   "metadata": {
    "collapsed": false,
    "ExecuteTime": {
     "end_time": "2024-02-05T08:10:30.145160100Z",
     "start_time": "2024-02-05T08:10:29.975879500Z"
    }
   },
   "id": "de23470369127794"
  },
  {
   "cell_type": "code",
   "execution_count": 14,
   "outputs": [
    {
     "name": "stderr",
     "output_type": "stream",
     "text": [
      "C:\\Users\\user\\AppData\\Local\\Temp\\ipykernel_13572\\1175081514.py:2: SettingWithCopyWarning: \n",
      "A value is trying to be set on a copy of a slice from a DataFrame\n",
      "\n",
      "See the caveats in the documentation: https://pandas.pydata.org/pandas-docs/stable/user_guide/indexing.html#returning-a-view-versus-a-copy\n",
      "  first_part_list[i] = second_part_list[i]\n",
      "C:\\Users\\user\\AppData\\Local\\Temp\\ipykernel_13572\\1175081514.py:2: SettingWithCopyWarning: \n",
      "A value is trying to be set on a copy of a slice from a DataFrame\n",
      "\n",
      "See the caveats in the documentation: https://pandas.pydata.org/pandas-docs/stable/user_guide/indexing.html#returning-a-view-versus-a-copy\n",
      "  first_part_list[i] = second_part_list[i]\n",
      "C:\\Users\\user\\AppData\\Local\\Temp\\ipykernel_13572\\1175081514.py:2: SettingWithCopyWarning: \n",
      "A value is trying to be set on a copy of a slice from a DataFrame\n",
      "\n",
      "See the caveats in the documentation: https://pandas.pydata.org/pandas-docs/stable/user_guide/indexing.html#returning-a-view-versus-a-copy\n",
      "  first_part_list[i] = second_part_list[i]\n",
      "C:\\Users\\user\\AppData\\Local\\Temp\\ipykernel_13572\\1175081514.py:2: SettingWithCopyWarning: \n",
      "A value is trying to be set on a copy of a slice from a DataFrame\n",
      "\n",
      "See the caveats in the documentation: https://pandas.pydata.org/pandas-docs/stable/user_guide/indexing.html#returning-a-view-versus-a-copy\n",
      "  first_part_list[i] = second_part_list[i]\n",
      "C:\\Users\\user\\AppData\\Local\\Temp\\ipykernel_13572\\1175081514.py:2: SettingWithCopyWarning: \n",
      "A value is trying to be set on a copy of a slice from a DataFrame\n",
      "\n",
      "See the caveats in the documentation: https://pandas.pydata.org/pandas-docs/stable/user_guide/indexing.html#returning-a-view-versus-a-copy\n",
      "  first_part_list[i] = second_part_list[i]\n",
      "C:\\Users\\user\\AppData\\Local\\Temp\\ipykernel_13572\\1175081514.py:2: SettingWithCopyWarning: \n",
      "A value is trying to be set on a copy of a slice from a DataFrame\n",
      "\n",
      "See the caveats in the documentation: https://pandas.pydata.org/pandas-docs/stable/user_guide/indexing.html#returning-a-view-versus-a-copy\n",
      "  first_part_list[i] = second_part_list[i]\n",
      "C:\\Users\\user\\AppData\\Local\\Temp\\ipykernel_13572\\1175081514.py:2: SettingWithCopyWarning: \n",
      "A value is trying to be set on a copy of a slice from a DataFrame\n",
      "\n",
      "See the caveats in the documentation: https://pandas.pydata.org/pandas-docs/stable/user_guide/indexing.html#returning-a-view-versus-a-copy\n",
      "  first_part_list[i] = second_part_list[i]\n",
      "C:\\Users\\user\\AppData\\Local\\Temp\\ipykernel_13572\\1175081514.py:2: SettingWithCopyWarning: \n",
      "A value is trying to be set on a copy of a slice from a DataFrame\n",
      "\n",
      "See the caveats in the documentation: https://pandas.pydata.org/pandas-docs/stable/user_guide/indexing.html#returning-a-view-versus-a-copy\n",
      "  first_part_list[i] = second_part_list[i]\n",
      "C:\\Users\\user\\AppData\\Local\\Temp\\ipykernel_13572\\1175081514.py:2: SettingWithCopyWarning: \n",
      "A value is trying to be set on a copy of a slice from a DataFrame\n",
      "\n",
      "See the caveats in the documentation: https://pandas.pydata.org/pandas-docs/stable/user_guide/indexing.html#returning-a-view-versus-a-copy\n",
      "  first_part_list[i] = second_part_list[i]\n",
      "C:\\Users\\user\\AppData\\Local\\Temp\\ipykernel_13572\\1175081514.py:2: SettingWithCopyWarning: \n",
      "A value is trying to be set on a copy of a slice from a DataFrame\n",
      "\n",
      "See the caveats in the documentation: https://pandas.pydata.org/pandas-docs/stable/user_guide/indexing.html#returning-a-view-versus-a-copy\n",
      "  first_part_list[i] = second_part_list[i]\n",
      "C:\\Users\\user\\AppData\\Local\\Temp\\ipykernel_13572\\1175081514.py:2: SettingWithCopyWarning: \n",
      "A value is trying to be set on a copy of a slice from a DataFrame\n",
      "\n",
      "See the caveats in the documentation: https://pandas.pydata.org/pandas-docs/stable/user_guide/indexing.html#returning-a-view-versus-a-copy\n",
      "  first_part_list[i] = second_part_list[i]\n",
      "C:\\Users\\user\\AppData\\Local\\Temp\\ipykernel_13572\\1175081514.py:2: SettingWithCopyWarning: \n",
      "A value is trying to be set on a copy of a slice from a DataFrame\n",
      "\n",
      "See the caveats in the documentation: https://pandas.pydata.org/pandas-docs/stable/user_guide/indexing.html#returning-a-view-versus-a-copy\n",
      "  first_part_list[i] = second_part_list[i]\n",
      "C:\\Users\\user\\AppData\\Local\\Temp\\ipykernel_13572\\1175081514.py:2: SettingWithCopyWarning: \n",
      "A value is trying to be set on a copy of a slice from a DataFrame\n",
      "\n",
      "See the caveats in the documentation: https://pandas.pydata.org/pandas-docs/stable/user_guide/indexing.html#returning-a-view-versus-a-copy\n",
      "  first_part_list[i] = second_part_list[i]\n",
      "C:\\Users\\user\\AppData\\Local\\Temp\\ipykernel_13572\\1175081514.py:2: SettingWithCopyWarning: \n",
      "A value is trying to be set on a copy of a slice from a DataFrame\n",
      "\n",
      "See the caveats in the documentation: https://pandas.pydata.org/pandas-docs/stable/user_guide/indexing.html#returning-a-view-versus-a-copy\n",
      "  first_part_list[i] = second_part_list[i]\n",
      "C:\\Users\\user\\AppData\\Local\\Temp\\ipykernel_13572\\1175081514.py:2: SettingWithCopyWarning: \n",
      "A value is trying to be set on a copy of a slice from a DataFrame\n",
      "\n",
      "See the caveats in the documentation: https://pandas.pydata.org/pandas-docs/stable/user_guide/indexing.html#returning-a-view-versus-a-copy\n",
      "  first_part_list[i] = second_part_list[i]\n",
      "C:\\Users\\user\\AppData\\Local\\Temp\\ipykernel_13572\\1175081514.py:2: SettingWithCopyWarning: \n",
      "A value is trying to be set on a copy of a slice from a DataFrame\n",
      "\n",
      "See the caveats in the documentation: https://pandas.pydata.org/pandas-docs/stable/user_guide/indexing.html#returning-a-view-versus-a-copy\n",
      "  first_part_list[i] = second_part_list[i]\n",
      "C:\\Users\\user\\AppData\\Local\\Temp\\ipykernel_13572\\1175081514.py:2: SettingWithCopyWarning: \n",
      "A value is trying to be set on a copy of a slice from a DataFrame\n",
      "\n",
      "See the caveats in the documentation: https://pandas.pydata.org/pandas-docs/stable/user_guide/indexing.html#returning-a-view-versus-a-copy\n",
      "  first_part_list[i] = second_part_list[i]\n",
      "C:\\Users\\user\\AppData\\Local\\Temp\\ipykernel_13572\\1175081514.py:2: SettingWithCopyWarning: \n",
      "A value is trying to be set on a copy of a slice from a DataFrame\n",
      "\n",
      "See the caveats in the documentation: https://pandas.pydata.org/pandas-docs/stable/user_guide/indexing.html#returning-a-view-versus-a-copy\n",
      "  first_part_list[i] = second_part_list[i]\n",
      "C:\\Users\\user\\AppData\\Local\\Temp\\ipykernel_13572\\1175081514.py:2: SettingWithCopyWarning: \n",
      "A value is trying to be set on a copy of a slice from a DataFrame\n",
      "\n",
      "See the caveats in the documentation: https://pandas.pydata.org/pandas-docs/stable/user_guide/indexing.html#returning-a-view-versus-a-copy\n",
      "  first_part_list[i] = second_part_list[i]\n",
      "C:\\Users\\user\\AppData\\Local\\Temp\\ipykernel_13572\\1175081514.py:2: SettingWithCopyWarning: \n",
      "A value is trying to be set on a copy of a slice from a DataFrame\n",
      "\n",
      "See the caveats in the documentation: https://pandas.pydata.org/pandas-docs/stable/user_guide/indexing.html#returning-a-view-versus-a-copy\n",
      "  first_part_list[i] = second_part_list[i]\n",
      "C:\\Users\\user\\AppData\\Local\\Temp\\ipykernel_13572\\1175081514.py:2: SettingWithCopyWarning: \n",
      "A value is trying to be set on a copy of a slice from a DataFrame\n",
      "\n",
      "See the caveats in the documentation: https://pandas.pydata.org/pandas-docs/stable/user_guide/indexing.html#returning-a-view-versus-a-copy\n",
      "  first_part_list[i] = second_part_list[i]\n",
      "C:\\Users\\user\\AppData\\Local\\Temp\\ipykernel_13572\\1175081514.py:2: SettingWithCopyWarning: \n",
      "A value is trying to be set on a copy of a slice from a DataFrame\n",
      "\n",
      "See the caveats in the documentation: https://pandas.pydata.org/pandas-docs/stable/user_guide/indexing.html#returning-a-view-versus-a-copy\n",
      "  first_part_list[i] = second_part_list[i]\n",
      "C:\\Users\\user\\AppData\\Local\\Temp\\ipykernel_13572\\1175081514.py:2: SettingWithCopyWarning: \n",
      "A value is trying to be set on a copy of a slice from a DataFrame\n",
      "\n",
      "See the caveats in the documentation: https://pandas.pydata.org/pandas-docs/stable/user_guide/indexing.html#returning-a-view-versus-a-copy\n",
      "  first_part_list[i] = second_part_list[i]\n",
      "C:\\Users\\user\\AppData\\Local\\Temp\\ipykernel_13572\\1175081514.py:2: SettingWithCopyWarning: \n",
      "A value is trying to be set on a copy of a slice from a DataFrame\n",
      "\n",
      "See the caveats in the documentation: https://pandas.pydata.org/pandas-docs/stable/user_guide/indexing.html#returning-a-view-versus-a-copy\n",
      "  first_part_list[i] = second_part_list[i]\n",
      "C:\\Users\\user\\AppData\\Local\\Temp\\ipykernel_13572\\1175081514.py:2: SettingWithCopyWarning: \n",
      "A value is trying to be set on a copy of a slice from a DataFrame\n",
      "\n",
      "See the caveats in the documentation: https://pandas.pydata.org/pandas-docs/stable/user_guide/indexing.html#returning-a-view-versus-a-copy\n",
      "  first_part_list[i] = second_part_list[i]\n",
      "C:\\Users\\user\\AppData\\Local\\Temp\\ipykernel_13572\\1175081514.py:2: SettingWithCopyWarning: \n",
      "A value is trying to be set on a copy of a slice from a DataFrame\n",
      "\n",
      "See the caveats in the documentation: https://pandas.pydata.org/pandas-docs/stable/user_guide/indexing.html#returning-a-view-versus-a-copy\n",
      "  first_part_list[i] = second_part_list[i]\n",
      "C:\\Users\\user\\AppData\\Local\\Temp\\ipykernel_13572\\1175081514.py:2: SettingWithCopyWarning: \n",
      "A value is trying to be set on a copy of a slice from a DataFrame\n",
      "\n",
      "See the caveats in the documentation: https://pandas.pydata.org/pandas-docs/stable/user_guide/indexing.html#returning-a-view-versus-a-copy\n",
      "  first_part_list[i] = second_part_list[i]\n",
      "C:\\Users\\user\\AppData\\Local\\Temp\\ipykernel_13572\\1175081514.py:2: SettingWithCopyWarning: \n",
      "A value is trying to be set on a copy of a slice from a DataFrame\n",
      "\n",
      "See the caveats in the documentation: https://pandas.pydata.org/pandas-docs/stable/user_guide/indexing.html#returning-a-view-versus-a-copy\n",
      "  first_part_list[i] = second_part_list[i]\n",
      "C:\\Users\\user\\AppData\\Local\\Temp\\ipykernel_13572\\1175081514.py:2: SettingWithCopyWarning: \n",
      "A value is trying to be set on a copy of a slice from a DataFrame\n",
      "\n",
      "See the caveats in the documentation: https://pandas.pydata.org/pandas-docs/stable/user_guide/indexing.html#returning-a-view-versus-a-copy\n",
      "  first_part_list[i] = second_part_list[i]\n",
      "C:\\Users\\user\\AppData\\Local\\Temp\\ipykernel_13572\\1175081514.py:2: SettingWithCopyWarning: \n",
      "A value is trying to be set on a copy of a slice from a DataFrame\n",
      "\n",
      "See the caveats in the documentation: https://pandas.pydata.org/pandas-docs/stable/user_guide/indexing.html#returning-a-view-versus-a-copy\n",
      "  first_part_list[i] = second_part_list[i]\n",
      "C:\\Users\\user\\AppData\\Local\\Temp\\ipykernel_13572\\1175081514.py:2: SettingWithCopyWarning: \n",
      "A value is trying to be set on a copy of a slice from a DataFrame\n",
      "\n",
      "See the caveats in the documentation: https://pandas.pydata.org/pandas-docs/stable/user_guide/indexing.html#returning-a-view-versus-a-copy\n",
      "  first_part_list[i] = second_part_list[i]\n",
      "C:\\Users\\user\\AppData\\Local\\Temp\\ipykernel_13572\\1175081514.py:2: SettingWithCopyWarning: \n",
      "A value is trying to be set on a copy of a slice from a DataFrame\n",
      "\n",
      "See the caveats in the documentation: https://pandas.pydata.org/pandas-docs/stable/user_guide/indexing.html#returning-a-view-versus-a-copy\n",
      "  first_part_list[i] = second_part_list[i]\n",
      "C:\\Users\\user\\AppData\\Local\\Temp\\ipykernel_13572\\1175081514.py:2: SettingWithCopyWarning: \n",
      "A value is trying to be set on a copy of a slice from a DataFrame\n",
      "\n",
      "See the caveats in the documentation: https://pandas.pydata.org/pandas-docs/stable/user_guide/indexing.html#returning-a-view-versus-a-copy\n",
      "  first_part_list[i] = second_part_list[i]\n",
      "C:\\Users\\user\\AppData\\Local\\Temp\\ipykernel_13572\\1175081514.py:2: SettingWithCopyWarning: \n",
      "A value is trying to be set on a copy of a slice from a DataFrame\n",
      "\n",
      "See the caveats in the documentation: https://pandas.pydata.org/pandas-docs/stable/user_guide/indexing.html#returning-a-view-versus-a-copy\n",
      "  first_part_list[i] = second_part_list[i]\n",
      "C:\\Users\\user\\AppData\\Local\\Temp\\ipykernel_13572\\1175081514.py:2: SettingWithCopyWarning: \n",
      "A value is trying to be set on a copy of a slice from a DataFrame\n",
      "\n",
      "See the caveats in the documentation: https://pandas.pydata.org/pandas-docs/stable/user_guide/indexing.html#returning-a-view-versus-a-copy\n",
      "  first_part_list[i] = second_part_list[i]\n",
      "C:\\Users\\user\\AppData\\Local\\Temp\\ipykernel_13572\\1175081514.py:2: SettingWithCopyWarning: \n",
      "A value is trying to be set on a copy of a slice from a DataFrame\n",
      "\n",
      "See the caveats in the documentation: https://pandas.pydata.org/pandas-docs/stable/user_guide/indexing.html#returning-a-view-versus-a-copy\n",
      "  first_part_list[i] = second_part_list[i]\n",
      "C:\\Users\\user\\AppData\\Local\\Temp\\ipykernel_13572\\1175081514.py:2: SettingWithCopyWarning: \n",
      "A value is trying to be set on a copy of a slice from a DataFrame\n",
      "\n",
      "See the caveats in the documentation: https://pandas.pydata.org/pandas-docs/stable/user_guide/indexing.html#returning-a-view-versus-a-copy\n",
      "  first_part_list[i] = second_part_list[i]\n",
      "C:\\Users\\user\\AppData\\Local\\Temp\\ipykernel_13572\\1175081514.py:2: SettingWithCopyWarning: \n",
      "A value is trying to be set on a copy of a slice from a DataFrame\n",
      "\n",
      "See the caveats in the documentation: https://pandas.pydata.org/pandas-docs/stable/user_guide/indexing.html#returning-a-view-versus-a-copy\n",
      "  first_part_list[i] = second_part_list[i]\n",
      "C:\\Users\\user\\AppData\\Local\\Temp\\ipykernel_13572\\1175081514.py:2: SettingWithCopyWarning: \n",
      "A value is trying to be set on a copy of a slice from a DataFrame\n",
      "\n",
      "See the caveats in the documentation: https://pandas.pydata.org/pandas-docs/stable/user_guide/indexing.html#returning-a-view-versus-a-copy\n",
      "  first_part_list[i] = second_part_list[i]\n",
      "C:\\Users\\user\\AppData\\Local\\Temp\\ipykernel_13572\\1175081514.py:2: SettingWithCopyWarning: \n",
      "A value is trying to be set on a copy of a slice from a DataFrame\n",
      "\n",
      "See the caveats in the documentation: https://pandas.pydata.org/pandas-docs/stable/user_guide/indexing.html#returning-a-view-versus-a-copy\n",
      "  first_part_list[i] = second_part_list[i]\n",
      "C:\\Users\\user\\AppData\\Local\\Temp\\ipykernel_13572\\1175081514.py:2: SettingWithCopyWarning: \n",
      "A value is trying to be set on a copy of a slice from a DataFrame\n",
      "\n",
      "See the caveats in the documentation: https://pandas.pydata.org/pandas-docs/stable/user_guide/indexing.html#returning-a-view-versus-a-copy\n",
      "  first_part_list[i] = second_part_list[i]\n",
      "C:\\Users\\user\\AppData\\Local\\Temp\\ipykernel_13572\\1175081514.py:2: SettingWithCopyWarning: \n",
      "A value is trying to be set on a copy of a slice from a DataFrame\n",
      "\n",
      "See the caveats in the documentation: https://pandas.pydata.org/pandas-docs/stable/user_guide/indexing.html#returning-a-view-versus-a-copy\n",
      "  first_part_list[i] = second_part_list[i]\n",
      "C:\\Users\\user\\AppData\\Local\\Temp\\ipykernel_13572\\1175081514.py:2: SettingWithCopyWarning: \n",
      "A value is trying to be set on a copy of a slice from a DataFrame\n",
      "\n",
      "See the caveats in the documentation: https://pandas.pydata.org/pandas-docs/stable/user_guide/indexing.html#returning-a-view-versus-a-copy\n",
      "  first_part_list[i] = second_part_list[i]\n",
      "C:\\Users\\user\\AppData\\Local\\Temp\\ipykernel_13572\\1175081514.py:2: SettingWithCopyWarning: \n",
      "A value is trying to be set on a copy of a slice from a DataFrame\n",
      "\n",
      "See the caveats in the documentation: https://pandas.pydata.org/pandas-docs/stable/user_guide/indexing.html#returning-a-view-versus-a-copy\n",
      "  first_part_list[i] = second_part_list[i]\n",
      "C:\\Users\\user\\AppData\\Local\\Temp\\ipykernel_13572\\1175081514.py:2: SettingWithCopyWarning: \n",
      "A value is trying to be set on a copy of a slice from a DataFrame\n",
      "\n",
      "See the caveats in the documentation: https://pandas.pydata.org/pandas-docs/stable/user_guide/indexing.html#returning-a-view-versus-a-copy\n",
      "  first_part_list[i] = second_part_list[i]\n",
      "C:\\Users\\user\\AppData\\Local\\Temp\\ipykernel_13572\\1175081514.py:2: SettingWithCopyWarning: \n",
      "A value is trying to be set on a copy of a slice from a DataFrame\n",
      "\n",
      "See the caveats in the documentation: https://pandas.pydata.org/pandas-docs/stable/user_guide/indexing.html#returning-a-view-versus-a-copy\n",
      "  first_part_list[i] = second_part_list[i]\n",
      "C:\\Users\\user\\AppData\\Local\\Temp\\ipykernel_13572\\1175081514.py:2: SettingWithCopyWarning: \n",
      "A value is trying to be set on a copy of a slice from a DataFrame\n",
      "\n",
      "See the caveats in the documentation: https://pandas.pydata.org/pandas-docs/stable/user_guide/indexing.html#returning-a-view-versus-a-copy\n",
      "  first_part_list[i] = second_part_list[i]\n",
      "C:\\Users\\user\\AppData\\Local\\Temp\\ipykernel_13572\\1175081514.py:2: SettingWithCopyWarning: \n",
      "A value is trying to be set on a copy of a slice from a DataFrame\n",
      "\n",
      "See the caveats in the documentation: https://pandas.pydata.org/pandas-docs/stable/user_guide/indexing.html#returning-a-view-versus-a-copy\n",
      "  first_part_list[i] = second_part_list[i]\n",
      "C:\\Users\\user\\AppData\\Local\\Temp\\ipykernel_13572\\1175081514.py:2: SettingWithCopyWarning: \n",
      "A value is trying to be set on a copy of a slice from a DataFrame\n",
      "\n",
      "See the caveats in the documentation: https://pandas.pydata.org/pandas-docs/stable/user_guide/indexing.html#returning-a-view-versus-a-copy\n",
      "  first_part_list[i] = second_part_list[i]\n",
      "C:\\Users\\user\\AppData\\Local\\Temp\\ipykernel_13572\\1175081514.py:2: SettingWithCopyWarning: \n",
      "A value is trying to be set on a copy of a slice from a DataFrame\n",
      "\n",
      "See the caveats in the documentation: https://pandas.pydata.org/pandas-docs/stable/user_guide/indexing.html#returning-a-view-versus-a-copy\n",
      "  first_part_list[i] = second_part_list[i]\n",
      "C:\\Users\\user\\AppData\\Local\\Temp\\ipykernel_13572\\1175081514.py:2: SettingWithCopyWarning: \n",
      "A value is trying to be set on a copy of a slice from a DataFrame\n",
      "\n",
      "See the caveats in the documentation: https://pandas.pydata.org/pandas-docs/stable/user_guide/indexing.html#returning-a-view-versus-a-copy\n",
      "  first_part_list[i] = second_part_list[i]\n",
      "C:\\Users\\user\\AppData\\Local\\Temp\\ipykernel_13572\\1175081514.py:2: SettingWithCopyWarning: \n",
      "A value is trying to be set on a copy of a slice from a DataFrame\n",
      "\n",
      "See the caveats in the documentation: https://pandas.pydata.org/pandas-docs/stable/user_guide/indexing.html#returning-a-view-versus-a-copy\n",
      "  first_part_list[i] = second_part_list[i]\n",
      "C:\\Users\\user\\AppData\\Local\\Temp\\ipykernel_13572\\1175081514.py:2: SettingWithCopyWarning: \n",
      "A value is trying to be set on a copy of a slice from a DataFrame\n",
      "\n",
      "See the caveats in the documentation: https://pandas.pydata.org/pandas-docs/stable/user_guide/indexing.html#returning-a-view-versus-a-copy\n",
      "  first_part_list[i] = second_part_list[i]\n",
      "C:\\Users\\user\\AppData\\Local\\Temp\\ipykernel_13572\\1175081514.py:2: SettingWithCopyWarning: \n",
      "A value is trying to be set on a copy of a slice from a DataFrame\n",
      "\n",
      "See the caveats in the documentation: https://pandas.pydata.org/pandas-docs/stable/user_guide/indexing.html#returning-a-view-versus-a-copy\n",
      "  first_part_list[i] = second_part_list[i]\n",
      "C:\\Users\\user\\AppData\\Local\\Temp\\ipykernel_13572\\1175081514.py:2: SettingWithCopyWarning: \n",
      "A value is trying to be set on a copy of a slice from a DataFrame\n",
      "\n",
      "See the caveats in the documentation: https://pandas.pydata.org/pandas-docs/stable/user_guide/indexing.html#returning-a-view-versus-a-copy\n",
      "  first_part_list[i] = second_part_list[i]\n",
      "C:\\Users\\user\\AppData\\Local\\Temp\\ipykernel_13572\\1175081514.py:2: SettingWithCopyWarning: \n",
      "A value is trying to be set on a copy of a slice from a DataFrame\n",
      "\n",
      "See the caveats in the documentation: https://pandas.pydata.org/pandas-docs/stable/user_guide/indexing.html#returning-a-view-versus-a-copy\n",
      "  first_part_list[i] = second_part_list[i]\n",
      "C:\\Users\\user\\AppData\\Local\\Temp\\ipykernel_13572\\1175081514.py:2: SettingWithCopyWarning: \n",
      "A value is trying to be set on a copy of a slice from a DataFrame\n",
      "\n",
      "See the caveats in the documentation: https://pandas.pydata.org/pandas-docs/stable/user_guide/indexing.html#returning-a-view-versus-a-copy\n",
      "  first_part_list[i] = second_part_list[i]\n",
      "C:\\Users\\user\\AppData\\Local\\Temp\\ipykernel_13572\\1175081514.py:2: SettingWithCopyWarning: \n",
      "A value is trying to be set on a copy of a slice from a DataFrame\n",
      "\n",
      "See the caveats in the documentation: https://pandas.pydata.org/pandas-docs/stable/user_guide/indexing.html#returning-a-view-versus-a-copy\n",
      "  first_part_list[i] = second_part_list[i]\n",
      "C:\\Users\\user\\AppData\\Local\\Temp\\ipykernel_13572\\1175081514.py:2: SettingWithCopyWarning: \n",
      "A value is trying to be set on a copy of a slice from a DataFrame\n",
      "\n",
      "See the caveats in the documentation: https://pandas.pydata.org/pandas-docs/stable/user_guide/indexing.html#returning-a-view-versus-a-copy\n",
      "  first_part_list[i] = second_part_list[i]\n"
     ]
    }
   ],
   "source": [
    "for i in second_part_list.index:\n",
    "    first_part_list[i] = second_part_list[i]\n",
    "    \n",
    "to_merge_df = pd.DataFrame()\n",
    "to_merge_df['Row'] = df[0] + r\n",
    "to_merge_df['labels'] = first_part_list"
   ],
   "metadata": {
    "collapsed": false,
    "ExecuteTime": {
     "end_time": "2024-02-05T08:10:30.207660800Z",
     "start_time": "2024-02-05T08:10:30.145160100Z"
    }
   },
   "id": "3819d6d39bd3f8b7"
  },
  {
   "cell_type": "code",
   "execution_count": 15,
   "outputs": [
    {
     "data": {
      "text/plain": "     labels\nRow        \n4         2\n5         1\n6         2\n7         1\n8         2\n9         1\n10        2\n11        1\n12        2\n13        1\n14        2\n15        1\n16        2\n17        1\n18        2\n19        1\n20        2\n21        1\n22        2\n23        1\n24        2\n25        1\n26        2\n27        1\n28        2\n29        1\n30        2\n31        1\n32        2\n33        1\n34        2\n35        1\n36        2\n37        2\n38        2\n39        1\n40        2\n41        2\n42        1\n43        2\n44        1\n45        2\n46        1\n47        2\n48        1\n49        2\n50        1\n51        2\n52        1\n53        2\n54        1\n55        2\n56        1\n57        2\n58        1\n59        2\n60        1\n61        2\n62        1",
      "text/html": "<div>\n<style scoped>\n    .dataframe tbody tr th:only-of-type {\n        vertical-align: middle;\n    }\n\n    .dataframe tbody tr th {\n        vertical-align: top;\n    }\n\n    .dataframe thead th {\n        text-align: right;\n    }\n</style>\n<table border=\"1\" class=\"dataframe\">\n  <thead>\n    <tr style=\"text-align: right;\">\n      <th></th>\n      <th>labels</th>\n    </tr>\n    <tr>\n      <th>Row</th>\n      <th></th>\n    </tr>\n  </thead>\n  <tbody>\n    <tr>\n      <th>4</th>\n      <td>2</td>\n    </tr>\n    <tr>\n      <th>5</th>\n      <td>1</td>\n    </tr>\n    <tr>\n      <th>6</th>\n      <td>2</td>\n    </tr>\n    <tr>\n      <th>7</th>\n      <td>1</td>\n    </tr>\n    <tr>\n      <th>8</th>\n      <td>2</td>\n    </tr>\n    <tr>\n      <th>9</th>\n      <td>1</td>\n    </tr>\n    <tr>\n      <th>10</th>\n      <td>2</td>\n    </tr>\n    <tr>\n      <th>11</th>\n      <td>1</td>\n    </tr>\n    <tr>\n      <th>12</th>\n      <td>2</td>\n    </tr>\n    <tr>\n      <th>13</th>\n      <td>1</td>\n    </tr>\n    <tr>\n      <th>14</th>\n      <td>2</td>\n    </tr>\n    <tr>\n      <th>15</th>\n      <td>1</td>\n    </tr>\n    <tr>\n      <th>16</th>\n      <td>2</td>\n    </tr>\n    <tr>\n      <th>17</th>\n      <td>1</td>\n    </tr>\n    <tr>\n      <th>18</th>\n      <td>2</td>\n    </tr>\n    <tr>\n      <th>19</th>\n      <td>1</td>\n    </tr>\n    <tr>\n      <th>20</th>\n      <td>2</td>\n    </tr>\n    <tr>\n      <th>21</th>\n      <td>1</td>\n    </tr>\n    <tr>\n      <th>22</th>\n      <td>2</td>\n    </tr>\n    <tr>\n      <th>23</th>\n      <td>1</td>\n    </tr>\n    <tr>\n      <th>24</th>\n      <td>2</td>\n    </tr>\n    <tr>\n      <th>25</th>\n      <td>1</td>\n    </tr>\n    <tr>\n      <th>26</th>\n      <td>2</td>\n    </tr>\n    <tr>\n      <th>27</th>\n      <td>1</td>\n    </tr>\n    <tr>\n      <th>28</th>\n      <td>2</td>\n    </tr>\n    <tr>\n      <th>29</th>\n      <td>1</td>\n    </tr>\n    <tr>\n      <th>30</th>\n      <td>2</td>\n    </tr>\n    <tr>\n      <th>31</th>\n      <td>1</td>\n    </tr>\n    <tr>\n      <th>32</th>\n      <td>2</td>\n    </tr>\n    <tr>\n      <th>33</th>\n      <td>1</td>\n    </tr>\n    <tr>\n      <th>34</th>\n      <td>2</td>\n    </tr>\n    <tr>\n      <th>35</th>\n      <td>1</td>\n    </tr>\n    <tr>\n      <th>36</th>\n      <td>2</td>\n    </tr>\n    <tr>\n      <th>37</th>\n      <td>2</td>\n    </tr>\n    <tr>\n      <th>38</th>\n      <td>2</td>\n    </tr>\n    <tr>\n      <th>39</th>\n      <td>1</td>\n    </tr>\n    <tr>\n      <th>40</th>\n      <td>2</td>\n    </tr>\n    <tr>\n      <th>41</th>\n      <td>2</td>\n    </tr>\n    <tr>\n      <th>42</th>\n      <td>1</td>\n    </tr>\n    <tr>\n      <th>43</th>\n      <td>2</td>\n    </tr>\n    <tr>\n      <th>44</th>\n      <td>1</td>\n    </tr>\n    <tr>\n      <th>45</th>\n      <td>2</td>\n    </tr>\n    <tr>\n      <th>46</th>\n      <td>1</td>\n    </tr>\n    <tr>\n      <th>47</th>\n      <td>2</td>\n    </tr>\n    <tr>\n      <th>48</th>\n      <td>1</td>\n    </tr>\n    <tr>\n      <th>49</th>\n      <td>2</td>\n    </tr>\n    <tr>\n      <th>50</th>\n      <td>1</td>\n    </tr>\n    <tr>\n      <th>51</th>\n      <td>2</td>\n    </tr>\n    <tr>\n      <th>52</th>\n      <td>1</td>\n    </tr>\n    <tr>\n      <th>53</th>\n      <td>2</td>\n    </tr>\n    <tr>\n      <th>54</th>\n      <td>1</td>\n    </tr>\n    <tr>\n      <th>55</th>\n      <td>2</td>\n    </tr>\n    <tr>\n      <th>56</th>\n      <td>1</td>\n    </tr>\n    <tr>\n      <th>57</th>\n      <td>2</td>\n    </tr>\n    <tr>\n      <th>58</th>\n      <td>1</td>\n    </tr>\n    <tr>\n      <th>59</th>\n      <td>2</td>\n    </tr>\n    <tr>\n      <th>60</th>\n      <td>1</td>\n    </tr>\n    <tr>\n      <th>61</th>\n      <td>2</td>\n    </tr>\n    <tr>\n      <th>62</th>\n      <td>1</td>\n    </tr>\n  </tbody>\n</table>\n</div>"
     },
     "execution_count": 15,
     "metadata": {},
     "output_type": "execute_result"
    }
   ],
   "source": [
    "to_merge_df = to_merge_df.set_index('Row')\n",
    "to_merge_df"
   ],
   "metadata": {
    "collapsed": false,
    "ExecuteTime": {
     "end_time": "2024-02-05T08:10:30.245427500Z",
     "start_time": "2024-02-05T08:10:30.176410Z"
    }
   },
   "id": "d3e6803a98fd13a6"
  },
  {
   "cell_type": "code",
   "execution_count": 16,
   "outputs": [
    {
     "data": {
      "text/plain": "[None,\n None,\n None,\n None,\n None,\n None,\n None,\n None,\n None,\n None,\n None,\n None,\n None,\n None,\n None,\n None,\n None,\n None,\n None,\n None,\n None,\n None,\n None,\n None,\n None,\n None,\n None,\n None,\n None,\n None,\n None,\n None,\n None,\n None,\n None,\n None,\n None,\n None,\n None,\n None,\n None,\n None,\n None,\n None,\n None,\n None,\n None,\n None,\n None,\n None,\n None,\n None,\n None,\n None,\n None,\n None,\n None,\n None,\n None,\n None,\n None,\n None,\n None,\n None,\n None,\n None,\n None,\n None,\n None,\n None,\n None,\n None,\n None,\n None,\n None,\n None,\n None,\n None,\n None,\n None,\n None,\n None,\n None,\n None,\n None,\n None,\n None,\n None,\n None,\n None,\n None,\n None,\n None,\n None,\n None,\n None,\n None,\n None,\n None,\n None,\n None,\n None,\n None,\n None,\n None,\n None,\n None,\n None,\n None,\n None,\n None,\n None,\n None,\n None,\n None,\n None,\n None,\n None,\n None,\n None,\n None,\n None,\n None,\n None,\n None,\n None,\n None,\n None,\n None,\n None,\n None,\n None,\n None,\n None,\n None,\n None,\n None,\n None,\n None,\n None,\n None,\n None,\n None,\n None,\n None,\n None,\n None,\n None,\n None,\n None,\n None,\n None,\n None,\n None,\n None,\n None,\n None,\n None,\n None,\n None,\n None,\n None,\n None,\n None,\n None,\n None,\n None,\n None,\n None,\n None,\n None,\n None,\n None,\n None,\n None,\n None,\n None,\n None,\n None,\n None,\n None,\n None,\n None,\n None,\n None,\n None,\n None,\n None,\n None,\n None,\n None,\n None,\n None,\n None,\n None,\n None,\n None,\n None,\n None,\n None,\n None,\n None,\n None,\n None,\n None,\n None,\n None,\n None,\n None,\n None,\n None,\n None,\n None,\n None,\n None,\n None,\n None,\n None,\n None,\n None,\n None,\n None,\n None,\n None,\n None,\n None,\n None,\n None,\n None,\n None,\n None,\n None,\n None,\n None,\n None,\n None,\n None,\n None,\n None,\n None,\n None,\n None,\n None,\n None,\n None,\n None,\n None,\n None,\n None,\n None,\n None,\n None,\n None,\n None,\n None,\n None,\n None,\n None,\n None,\n None,\n None,\n None,\n None,\n None,\n None,\n None,\n None,\n None,\n None,\n None,\n None,\n None,\n None,\n None,\n None,\n None,\n None,\n None,\n None,\n None,\n None,\n None,\n None,\n None,\n None,\n None,\n None,\n None,\n None,\n None,\n None,\n None,\n None,\n None,\n 2,\n 2,\n 2,\n 2,\n 2,\n 2,\n 2,\n 2,\n 2,\n 2,\n 2,\n 2,\n 2,\n 2,\n 2,\n 2,\n 2,\n 2,\n 2,\n 2,\n 2,\n 2,\n 2,\n 2,\n 2,\n 2,\n 2,\n 2,\n 2,\n 2,\n 2,\n 2,\n 2,\n 2,\n 2,\n 2,\n 2,\n 2,\n 2,\n 2,\n 2,\n 2,\n 2,\n 2,\n 2,\n 2,\n 2,\n 2,\n 2,\n 2,\n 2,\n 2,\n 2,\n 2,\n 2,\n 2,\n 2,\n 2,\n 2,\n 2,\n 2,\n 2,\n 2,\n 2,\n 2,\n 2,\n 2,\n 2,\n 2,\n 2,\n 2,\n 2,\n 2,\n 2,\n 2,\n 2,\n 2,\n 2,\n 2,\n 2,\n 2,\n 2,\n 2,\n 2,\n 2,\n 2,\n 2,\n 2,\n 2,\n 2,\n 2,\n 2,\n 2,\n 2,\n 2,\n 2,\n 2,\n 2,\n 1,\n 1,\n 1,\n 1,\n 1,\n 1,\n 1,\n 1,\n 1,\n 1,\n 1,\n 1,\n 1,\n 1,\n 1,\n 1,\n 1,\n 1,\n 1,\n 1,\n 1,\n 1,\n 1,\n 1,\n 1,\n 1,\n 1,\n 1,\n 1,\n 1,\n 1,\n 1,\n 1,\n 1,\n 1,\n 1,\n 1,\n 1,\n 1,\n 1,\n 1,\n 1,\n 1,\n 1,\n 1,\n 1,\n 1,\n 1,\n 1,\n 1,\n 1,\n 1,\n 1,\n 1,\n 1,\n 1,\n 1,\n 1,\n 1,\n 1,\n 1,\n 1,\n 1,\n 1,\n 1,\n 1,\n 1,\n 1,\n 1,\n 1,\n 1,\n 1,\n 1,\n 1,\n 1,\n 1,\n 1,\n 1,\n 1,\n 1,\n 1,\n 1,\n 1,\n 1,\n 1,\n 1,\n 1,\n 1,\n 1,\n 1,\n 1,\n 1,\n 1,\n 1,\n 1,\n 1,\n 1,\n 1,\n 2,\n 2,\n 2,\n 2,\n 2,\n 2,\n 2,\n 2,\n 2,\n 2,\n 2,\n 2,\n 2,\n 2,\n 2,\n 2,\n 2,\n 2,\n 2,\n 2,\n 2,\n 2,\n 2,\n 2,\n 2,\n 2,\n 2,\n 2,\n 2,\n 2,\n 2,\n 2,\n 2,\n 2,\n 2,\n 2,\n 2,\n 2,\n 2,\n 2,\n 2,\n 2,\n 2,\n 2,\n 2,\n 2,\n 2,\n 2,\n 2,\n 2,\n 2,\n 2,\n 2,\n 2,\n 2,\n 2,\n 2,\n 2,\n 2,\n 2,\n 2,\n 2,\n 2,\n 2,\n 2,\n 2,\n 2,\n 2,\n 2,\n 2,\n 2,\n 2,\n 2,\n 2,\n 2,\n 2,\n 2,\n 2,\n 2,\n 2,\n 2,\n 2,\n 2,\n 2,\n 2,\n 2,\n 2,\n 2,\n 2,\n 2,\n 2,\n 2,\n 2,\n 2,\n 2,\n 2,\n 2,\n 2,\n 1,\n 1,\n 1,\n 1,\n 1,\n 1,\n 1,\n 1,\n 1,\n 1,\n 1,\n 1,\n 1,\n 1,\n 1,\n 1,\n 1,\n 1,\n 1,\n 1,\n 1,\n 1,\n 1,\n 1,\n 1,\n 1,\n 1,\n 1,\n 1,\n 1,\n 1,\n 1,\n 1,\n 1,\n 1,\n 1,\n 1,\n 1,\n 1,\n 1,\n 1,\n 1,\n 1,\n 1,\n 1,\n 1,\n 1,\n 1,\n 1,\n 1,\n 1,\n 1,\n 1,\n 1,\n 1,\n 1,\n 1,\n 1,\n 1,\n 1,\n 1,\n 1,\n 1,\n 1,\n 1,\n 1,\n 1,\n 1,\n 1,\n 1,\n 1,\n 1,\n 1,\n 1,\n 1,\n 1,\n 1,\n 1,\n 1,\n 1,\n 1,\n 1,\n 1,\n 1,\n 1,\n 1,\n 1,\n 1,\n 1,\n 1,\n 1,\n 1,\n 1,\n 1,\n 1,\n 1,\n 1,\n 1,\n 2,\n 2,\n 2,\n 2,\n 2,\n 2,\n 2,\n 2,\n 2,\n 2,\n 2,\n 2,\n 2,\n 2,\n 2,\n 2,\n 2,\n 2,\n 2,\n 2,\n 2,\n 2,\n 2,\n 2,\n 2,\n 2,\n 2,\n 2,\n 2,\n 2,\n 2,\n 2,\n 2,\n 2,\n 2,\n 2,\n 2,\n 2,\n 2,\n 2,\n 2,\n 2,\n 2,\n 2,\n 2,\n 2,\n 2,\n 2,\n 2,\n 2,\n 2,\n 2,\n 2,\n 2,\n 2,\n 2,\n 2,\n 2,\n 2,\n 2,\n 2,\n 2,\n 2,\n 2,\n 2,\n 2,\n 2,\n 2,\n 2,\n 2,\n 2,\n 2,\n 2,\n 2,\n 2,\n 2,\n 2,\n 2,\n 2,\n 2,\n 2,\n 2,\n 2,\n 2,\n 2,\n 2,\n 2,\n 2,\n 2,\n 2,\n 2,\n 2,\n 2,\n 2,\n 2,\n 2,\n 2,\n 2,\n 1,\n 1,\n 1,\n 1,\n 1,\n 1,\n 1,\n 1,\n 1,\n 1,\n 1,\n 1,\n 1,\n 1,\n 1,\n 1,\n 1,\n 1,\n 1,\n 1,\n 1,\n 1,\n 1,\n 1,\n 1,\n 1,\n 1,\n 1,\n 1,\n 1,\n 1,\n 1,\n 1,\n 1,\n 1,\n 1,\n 1,\n 1,\n 1,\n 1,\n 1,\n 1,\n 1,\n 1,\n 1,\n 1,\n 1,\n 1,\n 1,\n 1,\n 1,\n 1,\n 1,\n 1,\n 1,\n 1,\n 1,\n 1,\n 1,\n 1,\n 1,\n 1,\n 1,\n 1,\n 1,\n 1,\n 1,\n 1,\n 1,\n 1,\n 1,\n 1,\n 1,\n 1,\n 1,\n 1,\n 1,\n 1,\n 1,\n 1,\n 1,\n 1,\n 1,\n 1,\n 1,\n 1,\n 1,\n 1,\n 1,\n 1,\n 1,\n 1,\n 1,\n 1,\n 1,\n 1,\n 1,\n 1,\n 2,\n 2,\n 2,\n 2,\n 2,\n 2,\n 2,\n 2,\n 2,\n 2,\n 2,\n 2,\n 2,\n 2,\n 2,\n 2,\n 2,\n 2,\n 2,\n 2,\n 2,\n 2,\n 2,\n 2,\n 2,\n 2,\n 2,\n 2,\n 2,\n 2,\n 2,\n 2,\n 2,\n 2,\n 2,\n 2,\n 2,\n 2,\n 2,\n 2,\n 2,\n 2,\n 2,\n 2,\n 2,\n 2,\n 2,\n 2,\n 2,\n 2,\n 2,\n 2,\n 2,\n 2,\n 2,\n 2,\n 2,\n 2,\n 2,\n 2,\n 2,\n 2,\n 2,\n 2,\n 2,\n 2,\n 2,\n 2,\n 2,\n 2,\n 2,\n 2,\n 2,\n 2,\n 2,\n 2,\n 2,\n 2,\n 2,\n 2,\n 2,\n 2,\n 2,\n 2,\n 2,\n 2,\n 2,\n 2,\n 2,\n 2,\n 2,\n 2,\n 2,\n 2,\n 2,\n 2,\n 2,\n 2,\n 1,\n 1,\n 1,\n 1,\n 1,\n 1,\n 1,\n 1,\n 1,\n 1,\n 1,\n 1,\n 1,\n 1,\n 1,\n 1,\n 1,\n 1,\n 1,\n 1,\n ...]"
     },
     "execution_count": 16,
     "metadata": {},
     "output_type": "execute_result"
    }
   ],
   "source": [
    "str_type_list = []\n",
    "names = list(new_df.columns)\n",
    "r_i = names.index('Row') + 1\n",
    "for row in new_df.itertuples():\n",
    "    \n",
    "    a = to_merge_df['labels'][row[r_i]] if row[r_i] in list(to_merge_df.index) else None\n",
    "    str_type_list.append(a)\n",
    "str_type_list"
   ],
   "metadata": {
    "collapsed": false,
    "ExecuteTime": {
     "end_time": "2024-02-05T08:10:30.372130600Z",
     "start_time": "2024-02-05T08:10:30.192037300Z"
    }
   },
   "id": "643fe184aae6e370"
  },
  {
   "cell_type": "code",
   "execution_count": 19,
   "outputs": [
    {
     "data": {
      "text/plain": "      Relative_Id  Row  Column  Length  Vertically_merged  \\\n0               1    1       1       7               True   \n1               1    1       2       4               True   \n2               1    1       3       4               True   \n3               1    1       4       4               True   \n4               1    1       5       0               True   \n...           ...  ...     ...     ...                ...   \n6071         5578   62      94       2              False   \n6072         5579   62      95       2              False   \n6073         5580   62      96       2              False   \n6074         5581   62      97       2              False   \n6075         5582   62      98       2              False   \n\n      Horizontally_merged  Font_selection Font_color  Top_border  \\\n0                    True           False          8           1   \n1                    True           False          1           1   \n2                    True           False          1           1   \n3                    True           False          1           1   \n4                   False           False          8           1   \n...                   ...             ...        ...         ...   \n6071                False            True         10           1   \n6072                False            True         10           1   \n6073                False            True         10           1   \n6074                False            True         10           1   \n6075                False            True         10           1   \n\n      Bottom_border  Left_border  Right_border     Color  Is_Formula  Content  \\\n0                 1            1             1        31           0  Ресурсы   \n1                 0            0             0  00000000           0  Ресурсы   \n2                 0            0             0  00000000           0  Ресурсы   \n3                 0            0             1  00000000           0  Ресурсы   \n4                 1            1             1        31           0      NaN   \n...             ...          ...           ...       ...         ...      ...   \n6071              1            1             1  00000000           0       15   \n6072              1            1             1  00000000           0       15   \n6073              1            1             1  00000000           0       15   \n6074              1            1             1  00000000           0       15   \n6075              1            1             1  00000000           0       15   \n\n     Start_content      Type  cluster_name  row_type  \n0          Ресурсы       str        header      -1.0  \n1              NaN  NoneType  normal_empty      -1.0  \n2              NaN  NoneType  normal_empty      -1.0  \n3              NaN  NoneType  normal_empty      -1.0  \n4              NaN  NoneType  normal_empty      -1.0  \n...            ...       ...           ...       ...  \n6071            15       int           NaN       1.0  \n6072            15       int           NaN       1.0  \n6073            15       int           NaN       1.0  \n6074            15       int           NaN       1.0  \n6075            15       int           NaN       1.0  \n\n[6076 rows x 19 columns]",
      "text/html": "<div>\n<style scoped>\n    .dataframe tbody tr th:only-of-type {\n        vertical-align: middle;\n    }\n\n    .dataframe tbody tr th {\n        vertical-align: top;\n    }\n\n    .dataframe thead th {\n        text-align: right;\n    }\n</style>\n<table border=\"1\" class=\"dataframe\">\n  <thead>\n    <tr style=\"text-align: right;\">\n      <th></th>\n      <th>Relative_Id</th>\n      <th>Row</th>\n      <th>Column</th>\n      <th>Length</th>\n      <th>Vertically_merged</th>\n      <th>Horizontally_merged</th>\n      <th>Font_selection</th>\n      <th>Font_color</th>\n      <th>Top_border</th>\n      <th>Bottom_border</th>\n      <th>Left_border</th>\n      <th>Right_border</th>\n      <th>Color</th>\n      <th>Is_Formula</th>\n      <th>Content</th>\n      <th>Start_content</th>\n      <th>Type</th>\n      <th>cluster_name</th>\n      <th>row_type</th>\n    </tr>\n  </thead>\n  <tbody>\n    <tr>\n      <th>0</th>\n      <td>1</td>\n      <td>1</td>\n      <td>1</td>\n      <td>7</td>\n      <td>True</td>\n      <td>True</td>\n      <td>False</td>\n      <td>8</td>\n      <td>1</td>\n      <td>1</td>\n      <td>1</td>\n      <td>1</td>\n      <td>31</td>\n      <td>0</td>\n      <td>Ресурсы</td>\n      <td>Ресурсы</td>\n      <td>str</td>\n      <td>header</td>\n      <td>-1.0</td>\n    </tr>\n    <tr>\n      <th>1</th>\n      <td>1</td>\n      <td>1</td>\n      <td>2</td>\n      <td>4</td>\n      <td>True</td>\n      <td>True</td>\n      <td>False</td>\n      <td>1</td>\n      <td>1</td>\n      <td>0</td>\n      <td>0</td>\n      <td>0</td>\n      <td>00000000</td>\n      <td>0</td>\n      <td>Ресурсы</td>\n      <td>NaN</td>\n      <td>NoneType</td>\n      <td>normal_empty</td>\n      <td>-1.0</td>\n    </tr>\n    <tr>\n      <th>2</th>\n      <td>1</td>\n      <td>1</td>\n      <td>3</td>\n      <td>4</td>\n      <td>True</td>\n      <td>True</td>\n      <td>False</td>\n      <td>1</td>\n      <td>1</td>\n      <td>0</td>\n      <td>0</td>\n      <td>0</td>\n      <td>00000000</td>\n      <td>0</td>\n      <td>Ресурсы</td>\n      <td>NaN</td>\n      <td>NoneType</td>\n      <td>normal_empty</td>\n      <td>-1.0</td>\n    </tr>\n    <tr>\n      <th>3</th>\n      <td>1</td>\n      <td>1</td>\n      <td>4</td>\n      <td>4</td>\n      <td>True</td>\n      <td>True</td>\n      <td>False</td>\n      <td>1</td>\n      <td>1</td>\n      <td>0</td>\n      <td>0</td>\n      <td>1</td>\n      <td>00000000</td>\n      <td>0</td>\n      <td>Ресурсы</td>\n      <td>NaN</td>\n      <td>NoneType</td>\n      <td>normal_empty</td>\n      <td>-1.0</td>\n    </tr>\n    <tr>\n      <th>4</th>\n      <td>1</td>\n      <td>1</td>\n      <td>5</td>\n      <td>0</td>\n      <td>True</td>\n      <td>False</td>\n      <td>False</td>\n      <td>8</td>\n      <td>1</td>\n      <td>1</td>\n      <td>1</td>\n      <td>1</td>\n      <td>31</td>\n      <td>0</td>\n      <td>NaN</td>\n      <td>NaN</td>\n      <td>NoneType</td>\n      <td>normal_empty</td>\n      <td>-1.0</td>\n    </tr>\n    <tr>\n      <th>...</th>\n      <td>...</td>\n      <td>...</td>\n      <td>...</td>\n      <td>...</td>\n      <td>...</td>\n      <td>...</td>\n      <td>...</td>\n      <td>...</td>\n      <td>...</td>\n      <td>...</td>\n      <td>...</td>\n      <td>...</td>\n      <td>...</td>\n      <td>...</td>\n      <td>...</td>\n      <td>...</td>\n      <td>...</td>\n      <td>...</td>\n      <td>...</td>\n    </tr>\n    <tr>\n      <th>6071</th>\n      <td>5578</td>\n      <td>62</td>\n      <td>94</td>\n      <td>2</td>\n      <td>False</td>\n      <td>False</td>\n      <td>True</td>\n      <td>10</td>\n      <td>1</td>\n      <td>1</td>\n      <td>1</td>\n      <td>1</td>\n      <td>00000000</td>\n      <td>0</td>\n      <td>15</td>\n      <td>15</td>\n      <td>int</td>\n      <td>NaN</td>\n      <td>1.0</td>\n    </tr>\n    <tr>\n      <th>6072</th>\n      <td>5579</td>\n      <td>62</td>\n      <td>95</td>\n      <td>2</td>\n      <td>False</td>\n      <td>False</td>\n      <td>True</td>\n      <td>10</td>\n      <td>1</td>\n      <td>1</td>\n      <td>1</td>\n      <td>1</td>\n      <td>00000000</td>\n      <td>0</td>\n      <td>15</td>\n      <td>15</td>\n      <td>int</td>\n      <td>NaN</td>\n      <td>1.0</td>\n    </tr>\n    <tr>\n      <th>6073</th>\n      <td>5580</td>\n      <td>62</td>\n      <td>96</td>\n      <td>2</td>\n      <td>False</td>\n      <td>False</td>\n      <td>True</td>\n      <td>10</td>\n      <td>1</td>\n      <td>1</td>\n      <td>1</td>\n      <td>1</td>\n      <td>00000000</td>\n      <td>0</td>\n      <td>15</td>\n      <td>15</td>\n      <td>int</td>\n      <td>NaN</td>\n      <td>1.0</td>\n    </tr>\n    <tr>\n      <th>6074</th>\n      <td>5581</td>\n      <td>62</td>\n      <td>97</td>\n      <td>2</td>\n      <td>False</td>\n      <td>False</td>\n      <td>True</td>\n      <td>10</td>\n      <td>1</td>\n      <td>1</td>\n      <td>1</td>\n      <td>1</td>\n      <td>00000000</td>\n      <td>0</td>\n      <td>15</td>\n      <td>15</td>\n      <td>int</td>\n      <td>NaN</td>\n      <td>1.0</td>\n    </tr>\n    <tr>\n      <th>6075</th>\n      <td>5582</td>\n      <td>62</td>\n      <td>98</td>\n      <td>2</td>\n      <td>False</td>\n      <td>False</td>\n      <td>True</td>\n      <td>10</td>\n      <td>1</td>\n      <td>1</td>\n      <td>1</td>\n      <td>1</td>\n      <td>00000000</td>\n      <td>0</td>\n      <td>15</td>\n      <td>15</td>\n      <td>int</td>\n      <td>NaN</td>\n      <td>1.0</td>\n    </tr>\n  </tbody>\n</table>\n<p>6076 rows × 19 columns</p>\n</div>"
     },
     "execution_count": 19,
     "metadata": {},
     "output_type": "execute_result"
    }
   ],
   "source": [
    "new_df['row_type'] = str_type_list\n",
    "new_df['row_type'] = new_df['row_type'].fillna(-1)\n",
    "new_df"
   ],
   "metadata": {
    "collapsed": false,
    "ExecuteTime": {
     "end_time": "2024-02-05T08:11:26.496723500Z",
     "start_time": "2024-02-05T08:11:26.481096800Z"
    }
   },
   "id": "135fa384a6b68819"
  },
  {
   "cell_type": "code",
   "execution_count": 20,
   "outputs": [],
   "source": [
    "new_df.to_excel('processed_tables/new_resources.xlsx')"
   ],
   "metadata": {
    "collapsed": false,
    "ExecuteTime": {
     "end_time": "2024-02-05T08:12:22.844422Z",
     "start_time": "2024-02-05T08:12:21.383915900Z"
    }
   },
   "id": "d0fd3ae40f925362"
  },
  {
   "cell_type": "code",
   "execution_count": 18,
   "outputs": [],
   "source": [],
   "metadata": {
    "collapsed": false,
    "ExecuteTime": {
     "end_time": "2024-02-05T08:10:30.413491500Z",
     "start_time": "2024-02-05T08:10:30.321313500Z"
    }
   },
   "id": "3e8f4c8f7dfdc31e"
  }
 ],
 "metadata": {
  "kernelspec": {
   "display_name": "Python 3",
   "language": "python",
   "name": "python3"
  },
  "language_info": {
   "codemirror_mode": {
    "name": "ipython",
    "version": 2
   },
   "file_extension": ".py",
   "mimetype": "text/x-python",
   "name": "python",
   "nbconvert_exporter": "python",
   "pygments_lexer": "ipython2",
   "version": "2.7.6"
  }
 },
 "nbformat": 4,
 "nbformat_minor": 5
}
