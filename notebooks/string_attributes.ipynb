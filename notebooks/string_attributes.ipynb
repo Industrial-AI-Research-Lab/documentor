{
 "cells": [
  {
   "cell_type": "code",
   "execution_count": 23,
   "outputs": [],
   "source": [
    "import numpy as np\n",
    "import pandas as pd\n",
    "from datetime import datetime, time"
   ],
   "metadata": {
    "collapsed": false,
    "ExecuteTime": {
     "end_time": "2024-02-13T09:32:53.791871200Z",
     "start_time": "2024-02-13T09:32:53.647387800Z"
    }
   },
   "id": "802d7125cd27eef0"
  },
  {
   "cell_type": "code",
   "execution_count": 24,
   "outputs": [
    {
     "data": {
      "text/plain": "            Unnamed: 0.1            Content      Start_content  Relative_Id  \\\nUnnamed: 0                                                                    \n0                      0                NaN                NaN            1   \n1                      1                NaN                NaN            2   \n2                      2  План на сл. месяц  План на сл. месяц            3   \n3                      3          Вид работ          Вид работ            4   \n4                      4           Ед. изм.           Ед. изм.            5   \n...                  ...                ...                ...          ...   \n5533                5533                  0                  0         4849   \n5534                5534                  0                  0         4850   \n5535                5535                  0                  0         4851   \n5536                5536                  0                  0         4852   \n5537                5537                  0                  0         4853   \n\n                Type  Row  Column  Length  Vertically_merged  \\\nUnnamed: 0                                                     \n0           NoneType   14       2       0              False   \n1           NoneType   14       3       0              False   \n2                str   14       4      17               True   \n3                str   14       5       9               True   \n4                str   14       6       8               True   \n...              ...  ...     ...     ...                ...   \n5533             int   84      75       0              False   \n5534             int   84      76       0              False   \n5535             int   84      77       0              False   \n5536             int   84      78       0              False   \n5537             int   84      79       0              False   \n\n            Horizontally_merged  Font_selection  Top_border  Bottom_border  \\\nUnnamed: 0                                                                   \n0                         False           False       False          False   \n1                         False           False       False          False   \n2                         False            True        True          False   \n3                         False            True        True           True   \n4                         False            True        True           True   \n...                         ...             ...         ...            ...   \n5533                      False           False        True          False   \n5534                      False           False        True          False   \n5535                      False           False        True          False   \n5536                      False           False        True          False   \n5537                      False           False        True          False   \n\n            Left_border  Right_border         Color Font_color  Is_Formula  \\\nUnnamed: 0                                                                   \n0                 False         False  ['00000000']          1       False   \n1                 False         False  ['00000000']          1       False   \n2                  True         False           [8]          0       False   \n3                  True          True           [8]          0       False   \n4                  True          True           [8]          0       False   \n...                 ...           ...           ...        ...         ...   \n5533               True          True  ['FFFFFFFF']          0       False   \n5534               True          True  ['FFFFFFFF']          0       False   \n5535               True          True  ['FFFFFFFF']          0       False   \n5536               True          True  ['FFFFFFFF']          0       False   \n5537               True          True  ['FFFFFFFF']          0       False   \n\n             cluster_name  \nUnnamed: 0                 \n0           normal_empty   \n1           normal_empty   \n2                 header   \n3                 header   \n4                 header   \n...                   ...  \n5533                  NaN  \n5534                  NaN  \n5535                  NaN  \n5536                  NaN  \n5537                  NaN  \n\n[5538 rows x 19 columns]",
      "text/html": "<div>\n<style scoped>\n    .dataframe tbody tr th:only-of-type {\n        vertical-align: middle;\n    }\n\n    .dataframe tbody tr th {\n        vertical-align: top;\n    }\n\n    .dataframe thead th {\n        text-align: right;\n    }\n</style>\n<table border=\"1\" class=\"dataframe\">\n  <thead>\n    <tr style=\"text-align: right;\">\n      <th></th>\n      <th>Unnamed: 0.1</th>\n      <th>Content</th>\n      <th>Start_content</th>\n      <th>Relative_Id</th>\n      <th>Type</th>\n      <th>Row</th>\n      <th>Column</th>\n      <th>Length</th>\n      <th>Vertically_merged</th>\n      <th>Horizontally_merged</th>\n      <th>Font_selection</th>\n      <th>Top_border</th>\n      <th>Bottom_border</th>\n      <th>Left_border</th>\n      <th>Right_border</th>\n      <th>Color</th>\n      <th>Font_color</th>\n      <th>Is_Formula</th>\n      <th>cluster_name</th>\n    </tr>\n    <tr>\n      <th>Unnamed: 0</th>\n      <th></th>\n      <th></th>\n      <th></th>\n      <th></th>\n      <th></th>\n      <th></th>\n      <th></th>\n      <th></th>\n      <th></th>\n      <th></th>\n      <th></th>\n      <th></th>\n      <th></th>\n      <th></th>\n      <th></th>\n      <th></th>\n      <th></th>\n      <th></th>\n      <th></th>\n    </tr>\n  </thead>\n  <tbody>\n    <tr>\n      <th>0</th>\n      <td>0</td>\n      <td>NaN</td>\n      <td>NaN</td>\n      <td>1</td>\n      <td>NoneType</td>\n      <td>14</td>\n      <td>2</td>\n      <td>0</td>\n      <td>False</td>\n      <td>False</td>\n      <td>False</td>\n      <td>False</td>\n      <td>False</td>\n      <td>False</td>\n      <td>False</td>\n      <td>['00000000']</td>\n      <td>1</td>\n      <td>False</td>\n      <td>normal_empty</td>\n    </tr>\n    <tr>\n      <th>1</th>\n      <td>1</td>\n      <td>NaN</td>\n      <td>NaN</td>\n      <td>2</td>\n      <td>NoneType</td>\n      <td>14</td>\n      <td>3</td>\n      <td>0</td>\n      <td>False</td>\n      <td>False</td>\n      <td>False</td>\n      <td>False</td>\n      <td>False</td>\n      <td>False</td>\n      <td>False</td>\n      <td>['00000000']</td>\n      <td>1</td>\n      <td>False</td>\n      <td>normal_empty</td>\n    </tr>\n    <tr>\n      <th>2</th>\n      <td>2</td>\n      <td>План на сл. месяц</td>\n      <td>План на сл. месяц</td>\n      <td>3</td>\n      <td>str</td>\n      <td>14</td>\n      <td>4</td>\n      <td>17</td>\n      <td>True</td>\n      <td>False</td>\n      <td>True</td>\n      <td>True</td>\n      <td>False</td>\n      <td>True</td>\n      <td>False</td>\n      <td>[8]</td>\n      <td>0</td>\n      <td>False</td>\n      <td>header</td>\n    </tr>\n    <tr>\n      <th>3</th>\n      <td>3</td>\n      <td>Вид работ</td>\n      <td>Вид работ</td>\n      <td>4</td>\n      <td>str</td>\n      <td>14</td>\n      <td>5</td>\n      <td>9</td>\n      <td>True</td>\n      <td>False</td>\n      <td>True</td>\n      <td>True</td>\n      <td>True</td>\n      <td>True</td>\n      <td>True</td>\n      <td>[8]</td>\n      <td>0</td>\n      <td>False</td>\n      <td>header</td>\n    </tr>\n    <tr>\n      <th>4</th>\n      <td>4</td>\n      <td>Ед. изм.</td>\n      <td>Ед. изм.</td>\n      <td>5</td>\n      <td>str</td>\n      <td>14</td>\n      <td>6</td>\n      <td>8</td>\n      <td>True</td>\n      <td>False</td>\n      <td>True</td>\n      <td>True</td>\n      <td>True</td>\n      <td>True</td>\n      <td>True</td>\n      <td>[8]</td>\n      <td>0</td>\n      <td>False</td>\n      <td>header</td>\n    </tr>\n    <tr>\n      <th>...</th>\n      <td>...</td>\n      <td>...</td>\n      <td>...</td>\n      <td>...</td>\n      <td>...</td>\n      <td>...</td>\n      <td>...</td>\n      <td>...</td>\n      <td>...</td>\n      <td>...</td>\n      <td>...</td>\n      <td>...</td>\n      <td>...</td>\n      <td>...</td>\n      <td>...</td>\n      <td>...</td>\n      <td>...</td>\n      <td>...</td>\n      <td>...</td>\n    </tr>\n    <tr>\n      <th>5533</th>\n      <td>5533</td>\n      <td>0</td>\n      <td>0</td>\n      <td>4849</td>\n      <td>int</td>\n      <td>84</td>\n      <td>75</td>\n      <td>0</td>\n      <td>False</td>\n      <td>False</td>\n      <td>False</td>\n      <td>True</td>\n      <td>False</td>\n      <td>True</td>\n      <td>True</td>\n      <td>['FFFFFFFF']</td>\n      <td>0</td>\n      <td>False</td>\n      <td>NaN</td>\n    </tr>\n    <tr>\n      <th>5534</th>\n      <td>5534</td>\n      <td>0</td>\n      <td>0</td>\n      <td>4850</td>\n      <td>int</td>\n      <td>84</td>\n      <td>76</td>\n      <td>0</td>\n      <td>False</td>\n      <td>False</td>\n      <td>False</td>\n      <td>True</td>\n      <td>False</td>\n      <td>True</td>\n      <td>True</td>\n      <td>['FFFFFFFF']</td>\n      <td>0</td>\n      <td>False</td>\n      <td>NaN</td>\n    </tr>\n    <tr>\n      <th>5535</th>\n      <td>5535</td>\n      <td>0</td>\n      <td>0</td>\n      <td>4851</td>\n      <td>int</td>\n      <td>84</td>\n      <td>77</td>\n      <td>0</td>\n      <td>False</td>\n      <td>False</td>\n      <td>False</td>\n      <td>True</td>\n      <td>False</td>\n      <td>True</td>\n      <td>True</td>\n      <td>['FFFFFFFF']</td>\n      <td>0</td>\n      <td>False</td>\n      <td>NaN</td>\n    </tr>\n    <tr>\n      <th>5536</th>\n      <td>5536</td>\n      <td>0</td>\n      <td>0</td>\n      <td>4852</td>\n      <td>int</td>\n      <td>84</td>\n      <td>78</td>\n      <td>0</td>\n      <td>False</td>\n      <td>False</td>\n      <td>False</td>\n      <td>True</td>\n      <td>False</td>\n      <td>True</td>\n      <td>True</td>\n      <td>['FFFFFFFF']</td>\n      <td>0</td>\n      <td>False</td>\n      <td>NaN</td>\n    </tr>\n    <tr>\n      <th>5537</th>\n      <td>5537</td>\n      <td>0</td>\n      <td>0</td>\n      <td>4853</td>\n      <td>int</td>\n      <td>84</td>\n      <td>79</td>\n      <td>0</td>\n      <td>False</td>\n      <td>False</td>\n      <td>False</td>\n      <td>True</td>\n      <td>False</td>\n      <td>True</td>\n      <td>True</td>\n      <td>['FFFFFFFF']</td>\n      <td>0</td>\n      <td>False</td>\n      <td>NaN</td>\n    </tr>\n  </tbody>\n</table>\n<p>5538 rows × 19 columns</p>\n</div>"
     },
     "execution_count": 24,
     "metadata": {},
     "output_type": "execute_result"
    }
   ],
   "source": [
    "new_df = pd.read_csv('processed_tables/2_parsed.csv', index_col='Unnamed: 0')\n",
    "new_df"
   ],
   "metadata": {
    "collapsed": false,
    "ExecuteTime": {
     "end_time": "2024-02-13T09:32:53.839298600Z",
     "start_time": "2024-02-13T09:32:53.656357900Z"
    }
   },
   "id": "6bbcfa822b06ebfd"
  },
  {
   "cell_type": "code",
   "execution_count": 25,
   "outputs": [],
   "source": [
    "ndf = pd.DataFrame()\n",
    "ndf['Row'] = new_df['Row']\n",
    "ndf['Column'] = new_df['Column']\n",
    "ndf['Color'] = new_df['Color']\n",
    "ndf['Vertically_merged'] = new_df['Vertically_merged']\n",
    "ndf['Horizontally_merged'] = new_df['Horizontally_merged']\n",
    "ndf['Font_selection'] = new_df['Font_selection']\n",
    "ndf['Is_Formula'] = new_df['Is_Formula']\n",
    "ndf['Type'] = new_df['Type']\n",
    "ndf['Font_color'] = new_df['Font_color']"
   ],
   "metadata": {
    "collapsed": false,
    "ExecuteTime": {
     "end_time": "2024-02-13T09:32:53.839298600Z",
     "start_time": "2024-02-13T09:32:53.705384Z"
    }
   },
   "id": "96ab0167d26f1019"
  },
  {
   "cell_type": "code",
   "execution_count": 26,
   "outputs": [],
   "source": [
    "r = ndf['Row'].iloc[0]\n",
    "c = ndf['Column'].iloc[0]\n",
    "ndf['Row'] -= r\n",
    "ndf['Column'] -= c"
   ],
   "metadata": {
    "collapsed": false,
    "ExecuteTime": {
     "end_time": "2024-02-13T09:32:53.840295100Z",
     "start_time": "2024-02-13T09:32:53.719380Z"
    }
   },
   "id": "be634bffea39e020"
  },
  {
   "cell_type": "code",
   "execution_count": 27,
   "outputs": [
    {
     "data": {
      "text/plain": "      Row  Column  Color  Vertically_merged  Horizontally_merged  \\\n0       0       0      0              False                False   \n1       0       1      0              False                False   \n2       0       2      1               True                False   \n3       0       3      1               True                False   \n4       0       4      1               True                False   \n...   ...     ...    ...                ...                  ...   \n5533   70      73      7              False                False   \n5534   70      74      7              False                False   \n5535   70      75      7              False                False   \n5536   70      76      7              False                False   \n5537   70      77      7              False                False   \n\n      Font_selection  Is_Formula  Type  Font_color  \n0              False       False     0           0  \n1              False       False     0           0  \n2               True       False     1           1  \n3               True       False     1           1  \n4               True       False     1           1  \n...              ...         ...   ...         ...  \n5533           False       False     2           1  \n5534           False       False     2           1  \n5535           False       False     2           1  \n5536           False       False     2           1  \n5537           False       False     2           1  \n\n[5538 rows x 9 columns]",
      "text/html": "<div>\n<style scoped>\n    .dataframe tbody tr th:only-of-type {\n        vertical-align: middle;\n    }\n\n    .dataframe tbody tr th {\n        vertical-align: top;\n    }\n\n    .dataframe thead th {\n        text-align: right;\n    }\n</style>\n<table border=\"1\" class=\"dataframe\">\n  <thead>\n    <tr style=\"text-align: right;\">\n      <th></th>\n      <th>Row</th>\n      <th>Column</th>\n      <th>Color</th>\n      <th>Vertically_merged</th>\n      <th>Horizontally_merged</th>\n      <th>Font_selection</th>\n      <th>Is_Formula</th>\n      <th>Type</th>\n      <th>Font_color</th>\n    </tr>\n  </thead>\n  <tbody>\n    <tr>\n      <th>0</th>\n      <td>0</td>\n      <td>0</td>\n      <td>0</td>\n      <td>False</td>\n      <td>False</td>\n      <td>False</td>\n      <td>False</td>\n      <td>0</td>\n      <td>0</td>\n    </tr>\n    <tr>\n      <th>1</th>\n      <td>0</td>\n      <td>1</td>\n      <td>0</td>\n      <td>False</td>\n      <td>False</td>\n      <td>False</td>\n      <td>False</td>\n      <td>0</td>\n      <td>0</td>\n    </tr>\n    <tr>\n      <th>2</th>\n      <td>0</td>\n      <td>2</td>\n      <td>1</td>\n      <td>True</td>\n      <td>False</td>\n      <td>True</td>\n      <td>False</td>\n      <td>1</td>\n      <td>1</td>\n    </tr>\n    <tr>\n      <th>3</th>\n      <td>0</td>\n      <td>3</td>\n      <td>1</td>\n      <td>True</td>\n      <td>False</td>\n      <td>True</td>\n      <td>False</td>\n      <td>1</td>\n      <td>1</td>\n    </tr>\n    <tr>\n      <th>4</th>\n      <td>0</td>\n      <td>4</td>\n      <td>1</td>\n      <td>True</td>\n      <td>False</td>\n      <td>True</td>\n      <td>False</td>\n      <td>1</td>\n      <td>1</td>\n    </tr>\n    <tr>\n      <th>...</th>\n      <td>...</td>\n      <td>...</td>\n      <td>...</td>\n      <td>...</td>\n      <td>...</td>\n      <td>...</td>\n      <td>...</td>\n      <td>...</td>\n      <td>...</td>\n    </tr>\n    <tr>\n      <th>5533</th>\n      <td>70</td>\n      <td>73</td>\n      <td>7</td>\n      <td>False</td>\n      <td>False</td>\n      <td>False</td>\n      <td>False</td>\n      <td>2</td>\n      <td>1</td>\n    </tr>\n    <tr>\n      <th>5534</th>\n      <td>70</td>\n      <td>74</td>\n      <td>7</td>\n      <td>False</td>\n      <td>False</td>\n      <td>False</td>\n      <td>False</td>\n      <td>2</td>\n      <td>1</td>\n    </tr>\n    <tr>\n      <th>5535</th>\n      <td>70</td>\n      <td>75</td>\n      <td>7</td>\n      <td>False</td>\n      <td>False</td>\n      <td>False</td>\n      <td>False</td>\n      <td>2</td>\n      <td>1</td>\n    </tr>\n    <tr>\n      <th>5536</th>\n      <td>70</td>\n      <td>76</td>\n      <td>7</td>\n      <td>False</td>\n      <td>False</td>\n      <td>False</td>\n      <td>False</td>\n      <td>2</td>\n      <td>1</td>\n    </tr>\n    <tr>\n      <th>5537</th>\n      <td>70</td>\n      <td>77</td>\n      <td>7</td>\n      <td>False</td>\n      <td>False</td>\n      <td>False</td>\n      <td>False</td>\n      <td>2</td>\n      <td>1</td>\n    </tr>\n  </tbody>\n</table>\n<p>5538 rows × 9 columns</p>\n</div>"
     },
     "execution_count": 27,
     "metadata": {},
     "output_type": "execute_result"
    }
   ],
   "source": [
    "ndf[\"Color\"] = pd.factorize(ndf[\"Color\"])[0]\n",
    "ndf[\"Type\"] = pd.factorize(ndf[\"Type\"])[0]\n",
    "ndf[\"Font_color\"] = pd.factorize(ndf[\"Font_color\"])[0]\n",
    "ndf.reset_index(drop= True , inplace= True )\n",
    "# cont = []\n",
    "# for i in ndf['Start_content']:\n",
    "#     a = type(i)\n",
    "#     if isinstance(i, str) or isinstance(i, datetime) or isinstance(i, time):\n",
    "#         cont.append(hash(i))\n",
    "#     else:\n",
    "#         cont.append(i)\n",
    "# ndf['Start_content'] = cont\n",
    "ndf"
   ],
   "metadata": {
    "collapsed": false,
    "ExecuteTime": {
     "end_time": "2024-02-13T09:32:53.840295100Z",
     "start_time": "2024-02-13T09:32:53.736350Z"
    }
   },
   "id": "94cde93da44c479e"
  },
  {
   "cell_type": "code",
   "execution_count": 28,
   "outputs": [],
   "source": [
    "arr = np.empty((ndf.tail(1)['Row'].iloc[0]+1, ndf.tail(1)['Column'].iloc[0]+1), dtype=\"object\")"
   ],
   "metadata": {
    "collapsed": false,
    "ExecuteTime": {
     "end_time": "2024-02-13T09:32:53.840295100Z",
     "start_time": "2024-02-13T09:32:53.768388500Z"
    }
   },
   "id": "c87d1f309113d6e4"
  },
  {
   "cell_type": "code",
   "execution_count": 29,
   "outputs": [],
   "source": [
    "for i, row in ndf.iterrows():\n",
    "    arr[row['Row'], row['Column']] = row.values.tolist()"
   ],
   "metadata": {
    "collapsed": false,
    "ExecuteTime": {
     "end_time": "2024-02-13T09:32:54.147910200Z",
     "start_time": "2024-02-13T09:32:53.779395500Z"
    }
   },
   "id": "7e7c8d530f0a44ce"
  },
  {
   "cell_type": "code",
   "execution_count": 30,
   "outputs": [],
   "source": [
    "mass = []\n",
    "for i in range(len(arr)):\n",
    "    a = []\n",
    "    for j in range(len(arr[i])):\n",
    "        a.extend(arr[i][j])\n",
    "    mass.append(a)"
   ],
   "metadata": {
    "collapsed": false,
    "ExecuteTime": {
     "end_time": "2024-02-13T09:32:54.148881500Z",
     "start_time": "2024-02-13T09:32:54.084881Z"
    }
   },
   "id": "5cbc8fbe365ac422"
  },
  {
   "cell_type": "code",
   "execution_count": 31,
   "outputs": [],
   "source": [
    "df = pd.DataFrame(data=mass)\n",
    "df = df.fillna(0)"
   ],
   "metadata": {
    "collapsed": false,
    "ExecuteTime": {
     "end_time": "2024-02-13T09:32:54.148881500Z",
     "start_time": "2024-02-13T09:32:54.096880700Z"
    }
   },
   "id": "ecd1bd370e05cb1c"
  },
  {
   "cell_type": "code",
   "execution_count": 32,
   "outputs": [
    {
     "data": {
      "text/plain": "    0    1    2      3      4      5      6    7    8    9    ...  692  693  \\\n0     0    0    0  False  False  False  False    0    0    0  ...    0    0   \n1     1    0    0  False  False  False  False    0    0    1  ...    0    1   \n2     2    0    0  False  False  False  False    0    0    2  ...    0    2   \n3     3    0    0  False  False  False  False    0    0    3  ...    0    3   \n4     4    0    3  False  False  False  False    1    0    4  ...    0    4   \n..  ...  ...  ...    ...    ...    ...    ...  ...  ...  ...  ...  ...  ...   \n66   66    0    9  False  False   True  False    0    0   66  ...    2   66   \n67   67    0    3  False  False  False  False    0    0   67  ...    0   67   \n68   68    0    3  False  False  False  False    0    0   68  ...    1   68   \n69   69    0    3  False  False  False  False    0    0   69  ...    0   69   \n70   70    0    3  False  False  False  False    0    0   70  ...    1   70   \n\n    694  695    696    697    698    699  700  701  \n0    77    0   True   True  False  False    0    0  \n1    77    0   True   True  False  False    0    0  \n2    77    0   True   True  False  False    0    0  \n3    77    0  False  False  False  False    0    0  \n4    77    0  False  False  False  False    3    0  \n..  ...  ...    ...    ...    ...    ...  ...  ...  \n66   77    9  False  False  False  False    0    2  \n67   77    3  False  False  False  False    2    0  \n68   77    7  False  False  False  False    2    1  \n69   77    3  False  False  False  False    2    0  \n70   77    7  False  False  False  False    2    1  \n\n[71 rows x 702 columns]",
      "text/html": "<div>\n<style scoped>\n    .dataframe tbody tr th:only-of-type {\n        vertical-align: middle;\n    }\n\n    .dataframe tbody tr th {\n        vertical-align: top;\n    }\n\n    .dataframe thead th {\n        text-align: right;\n    }\n</style>\n<table border=\"1\" class=\"dataframe\">\n  <thead>\n    <tr style=\"text-align: right;\">\n      <th></th>\n      <th>0</th>\n      <th>1</th>\n      <th>2</th>\n      <th>3</th>\n      <th>4</th>\n      <th>5</th>\n      <th>6</th>\n      <th>7</th>\n      <th>8</th>\n      <th>9</th>\n      <th>...</th>\n      <th>692</th>\n      <th>693</th>\n      <th>694</th>\n      <th>695</th>\n      <th>696</th>\n      <th>697</th>\n      <th>698</th>\n      <th>699</th>\n      <th>700</th>\n      <th>701</th>\n    </tr>\n  </thead>\n  <tbody>\n    <tr>\n      <th>0</th>\n      <td>0</td>\n      <td>0</td>\n      <td>0</td>\n      <td>False</td>\n      <td>False</td>\n      <td>False</td>\n      <td>False</td>\n      <td>0</td>\n      <td>0</td>\n      <td>0</td>\n      <td>...</td>\n      <td>0</td>\n      <td>0</td>\n      <td>77</td>\n      <td>0</td>\n      <td>True</td>\n      <td>True</td>\n      <td>False</td>\n      <td>False</td>\n      <td>0</td>\n      <td>0</td>\n    </tr>\n    <tr>\n      <th>1</th>\n      <td>1</td>\n      <td>0</td>\n      <td>0</td>\n      <td>False</td>\n      <td>False</td>\n      <td>False</td>\n      <td>False</td>\n      <td>0</td>\n      <td>0</td>\n      <td>1</td>\n      <td>...</td>\n      <td>0</td>\n      <td>1</td>\n      <td>77</td>\n      <td>0</td>\n      <td>True</td>\n      <td>True</td>\n      <td>False</td>\n      <td>False</td>\n      <td>0</td>\n      <td>0</td>\n    </tr>\n    <tr>\n      <th>2</th>\n      <td>2</td>\n      <td>0</td>\n      <td>0</td>\n      <td>False</td>\n      <td>False</td>\n      <td>False</td>\n      <td>False</td>\n      <td>0</td>\n      <td>0</td>\n      <td>2</td>\n      <td>...</td>\n      <td>0</td>\n      <td>2</td>\n      <td>77</td>\n      <td>0</td>\n      <td>True</td>\n      <td>True</td>\n      <td>False</td>\n      <td>False</td>\n      <td>0</td>\n      <td>0</td>\n    </tr>\n    <tr>\n      <th>3</th>\n      <td>3</td>\n      <td>0</td>\n      <td>0</td>\n      <td>False</td>\n      <td>False</td>\n      <td>False</td>\n      <td>False</td>\n      <td>0</td>\n      <td>0</td>\n      <td>3</td>\n      <td>...</td>\n      <td>0</td>\n      <td>3</td>\n      <td>77</td>\n      <td>0</td>\n      <td>False</td>\n      <td>False</td>\n      <td>False</td>\n      <td>False</td>\n      <td>0</td>\n      <td>0</td>\n    </tr>\n    <tr>\n      <th>4</th>\n      <td>4</td>\n      <td>0</td>\n      <td>3</td>\n      <td>False</td>\n      <td>False</td>\n      <td>False</td>\n      <td>False</td>\n      <td>1</td>\n      <td>0</td>\n      <td>4</td>\n      <td>...</td>\n      <td>0</td>\n      <td>4</td>\n      <td>77</td>\n      <td>0</td>\n      <td>False</td>\n      <td>False</td>\n      <td>False</td>\n      <td>False</td>\n      <td>3</td>\n      <td>0</td>\n    </tr>\n    <tr>\n      <th>...</th>\n      <td>...</td>\n      <td>...</td>\n      <td>...</td>\n      <td>...</td>\n      <td>...</td>\n      <td>...</td>\n      <td>...</td>\n      <td>...</td>\n      <td>...</td>\n      <td>...</td>\n      <td>...</td>\n      <td>...</td>\n      <td>...</td>\n      <td>...</td>\n      <td>...</td>\n      <td>...</td>\n      <td>...</td>\n      <td>...</td>\n      <td>...</td>\n      <td>...</td>\n      <td>...</td>\n    </tr>\n    <tr>\n      <th>66</th>\n      <td>66</td>\n      <td>0</td>\n      <td>9</td>\n      <td>False</td>\n      <td>False</td>\n      <td>True</td>\n      <td>False</td>\n      <td>0</td>\n      <td>0</td>\n      <td>66</td>\n      <td>...</td>\n      <td>2</td>\n      <td>66</td>\n      <td>77</td>\n      <td>9</td>\n      <td>False</td>\n      <td>False</td>\n      <td>False</td>\n      <td>False</td>\n      <td>0</td>\n      <td>2</td>\n    </tr>\n    <tr>\n      <th>67</th>\n      <td>67</td>\n      <td>0</td>\n      <td>3</td>\n      <td>False</td>\n      <td>False</td>\n      <td>False</td>\n      <td>False</td>\n      <td>0</td>\n      <td>0</td>\n      <td>67</td>\n      <td>...</td>\n      <td>0</td>\n      <td>67</td>\n      <td>77</td>\n      <td>3</td>\n      <td>False</td>\n      <td>False</td>\n      <td>False</td>\n      <td>False</td>\n      <td>2</td>\n      <td>0</td>\n    </tr>\n    <tr>\n      <th>68</th>\n      <td>68</td>\n      <td>0</td>\n      <td>3</td>\n      <td>False</td>\n      <td>False</td>\n      <td>False</td>\n      <td>False</td>\n      <td>0</td>\n      <td>0</td>\n      <td>68</td>\n      <td>...</td>\n      <td>1</td>\n      <td>68</td>\n      <td>77</td>\n      <td>7</td>\n      <td>False</td>\n      <td>False</td>\n      <td>False</td>\n      <td>False</td>\n      <td>2</td>\n      <td>1</td>\n    </tr>\n    <tr>\n      <th>69</th>\n      <td>69</td>\n      <td>0</td>\n      <td>3</td>\n      <td>False</td>\n      <td>False</td>\n      <td>False</td>\n      <td>False</td>\n      <td>0</td>\n      <td>0</td>\n      <td>69</td>\n      <td>...</td>\n      <td>0</td>\n      <td>69</td>\n      <td>77</td>\n      <td>3</td>\n      <td>False</td>\n      <td>False</td>\n      <td>False</td>\n      <td>False</td>\n      <td>2</td>\n      <td>0</td>\n    </tr>\n    <tr>\n      <th>70</th>\n      <td>70</td>\n      <td>0</td>\n      <td>3</td>\n      <td>False</td>\n      <td>False</td>\n      <td>False</td>\n      <td>False</td>\n      <td>0</td>\n      <td>0</td>\n      <td>70</td>\n      <td>...</td>\n      <td>1</td>\n      <td>70</td>\n      <td>77</td>\n      <td>7</td>\n      <td>False</td>\n      <td>False</td>\n      <td>False</td>\n      <td>False</td>\n      <td>2</td>\n      <td>1</td>\n    </tr>\n  </tbody>\n</table>\n<p>71 rows × 702 columns</p>\n</div>"
     },
     "execution_count": 32,
     "metadata": {},
     "output_type": "execute_result"
    }
   ],
   "source": [
    "df"
   ],
   "metadata": {
    "collapsed": false,
    "ExecuteTime": {
     "end_time": "2024-02-13T09:32:54.221879200Z",
     "start_time": "2024-02-13T09:32:54.129912400Z"
    }
   },
   "id": "4c8d0d98269595e7"
  },
  {
   "cell_type": "code",
   "execution_count": 33,
   "outputs": [],
   "source": [
    "from sklearn.cluster import AgglomerativeClustering, DBSCAN, OPTICS, KMeans, SpectralClustering"
   ],
   "metadata": {
    "collapsed": false,
    "ExecuteTime": {
     "end_time": "2024-02-13T09:32:54.234879800Z",
     "start_time": "2024-02-13T09:32:54.162905800Z"
    }
   },
   "id": "fb2f654a8326ac9f"
  },
  {
   "cell_type": "code",
   "execution_count": 34,
   "outputs": [
    {
     "name": "stderr",
     "output_type": "stream",
     "text": [
      "C:\\Users\\user\\AppData\\Local\\Temp\\ipykernel_9612\\3866215178.py:3: SettingWithCopyWarning: \n",
      "A value is trying to be set on a copy of a slice from a DataFrame.\n",
      "Try using .loc[row_indexer,col_indexer] = value instead\n",
      "\n",
      "See the caveats in the documentation: https://pandas.pydata.org/pandas-docs/stable/user_guide/indexing.html#returning-a-view-versus-a-copy\n",
      "  df['labels'] = dbs.labels_\n"
     ]
    },
    {
     "data": {
      "text/plain": "     0  1  2      3      4      5      6  7  8   9  ...  693  694  695    696  \\\n6    6  0  4  False  False  False  False  0  0   6  ...    6   77    3  False   \n7    7  0  0  False  False  False  False  0  0   7  ...    7   77    7  False   \n8    8  0  4  False  False  False  False  0  0   8  ...    8   77    3  False   \n9    9  0  0  False  False  False  False  0  0   9  ...    9   77    7  False   \n10  10  0  4  False  False  False  False  0  0  10  ...   10   77    3  False   \n..  .. .. ..    ...    ...    ...    ... .. ..  ..  ...  ...  ...  ...    ...   \n66  66  0  9  False  False   True  False  0  0  66  ...   66   77    9  False   \n67  67  0  3  False  False  False  False  0  0  67  ...   67   77    3  False   \n68  68  0  3  False  False  False  False  0  0  68  ...   68   77    7  False   \n69  69  0  3  False  False  False  False  0  0  69  ...   69   77    3  False   \n70  70  0  3  False  False  False  False  0  0  70  ...   70   77    7  False   \n\n      697    698    699  700  701  labels  \n6   False  False  False    2    0      -1  \n7   False  False  False    0    1      -1  \n8   False  False  False    2    0      -1  \n9   False  False  False    0    1      -1  \n10  False  False  False    2    0      -1  \n..    ...    ...    ...  ...  ...     ...  \n66  False  False  False    0    2      -1  \n67  False  False  False    2    0      -1  \n68  False  False  False    2    1      -1  \n69  False  False  False    2    0      -1  \n70  False  False  False    2    1      -1  \n\n[65 rows x 703 columns]",
      "text/html": "<div>\n<style scoped>\n    .dataframe tbody tr th:only-of-type {\n        vertical-align: middle;\n    }\n\n    .dataframe tbody tr th {\n        vertical-align: top;\n    }\n\n    .dataframe thead th {\n        text-align: right;\n    }\n</style>\n<table border=\"1\" class=\"dataframe\">\n  <thead>\n    <tr style=\"text-align: right;\">\n      <th></th>\n      <th>0</th>\n      <th>1</th>\n      <th>2</th>\n      <th>3</th>\n      <th>4</th>\n      <th>5</th>\n      <th>6</th>\n      <th>7</th>\n      <th>8</th>\n      <th>9</th>\n      <th>...</th>\n      <th>693</th>\n      <th>694</th>\n      <th>695</th>\n      <th>696</th>\n      <th>697</th>\n      <th>698</th>\n      <th>699</th>\n      <th>700</th>\n      <th>701</th>\n      <th>labels</th>\n    </tr>\n  </thead>\n  <tbody>\n    <tr>\n      <th>6</th>\n      <td>6</td>\n      <td>0</td>\n      <td>4</td>\n      <td>False</td>\n      <td>False</td>\n      <td>False</td>\n      <td>False</td>\n      <td>0</td>\n      <td>0</td>\n      <td>6</td>\n      <td>...</td>\n      <td>6</td>\n      <td>77</td>\n      <td>3</td>\n      <td>False</td>\n      <td>False</td>\n      <td>False</td>\n      <td>False</td>\n      <td>2</td>\n      <td>0</td>\n      <td>-1</td>\n    </tr>\n    <tr>\n      <th>7</th>\n      <td>7</td>\n      <td>0</td>\n      <td>0</td>\n      <td>False</td>\n      <td>False</td>\n      <td>False</td>\n      <td>False</td>\n      <td>0</td>\n      <td>0</td>\n      <td>7</td>\n      <td>...</td>\n      <td>7</td>\n      <td>77</td>\n      <td>7</td>\n      <td>False</td>\n      <td>False</td>\n      <td>False</td>\n      <td>False</td>\n      <td>0</td>\n      <td>1</td>\n      <td>-1</td>\n    </tr>\n    <tr>\n      <th>8</th>\n      <td>8</td>\n      <td>0</td>\n      <td>4</td>\n      <td>False</td>\n      <td>False</td>\n      <td>False</td>\n      <td>False</td>\n      <td>0</td>\n      <td>0</td>\n      <td>8</td>\n      <td>...</td>\n      <td>8</td>\n      <td>77</td>\n      <td>3</td>\n      <td>False</td>\n      <td>False</td>\n      <td>False</td>\n      <td>False</td>\n      <td>2</td>\n      <td>0</td>\n      <td>-1</td>\n    </tr>\n    <tr>\n      <th>9</th>\n      <td>9</td>\n      <td>0</td>\n      <td>0</td>\n      <td>False</td>\n      <td>False</td>\n      <td>False</td>\n      <td>False</td>\n      <td>0</td>\n      <td>0</td>\n      <td>9</td>\n      <td>...</td>\n      <td>9</td>\n      <td>77</td>\n      <td>7</td>\n      <td>False</td>\n      <td>False</td>\n      <td>False</td>\n      <td>False</td>\n      <td>0</td>\n      <td>1</td>\n      <td>-1</td>\n    </tr>\n    <tr>\n      <th>10</th>\n      <td>10</td>\n      <td>0</td>\n      <td>4</td>\n      <td>False</td>\n      <td>False</td>\n      <td>False</td>\n      <td>False</td>\n      <td>0</td>\n      <td>0</td>\n      <td>10</td>\n      <td>...</td>\n      <td>10</td>\n      <td>77</td>\n      <td>3</td>\n      <td>False</td>\n      <td>False</td>\n      <td>False</td>\n      <td>False</td>\n      <td>2</td>\n      <td>0</td>\n      <td>-1</td>\n    </tr>\n    <tr>\n      <th>...</th>\n      <td>...</td>\n      <td>...</td>\n      <td>...</td>\n      <td>...</td>\n      <td>...</td>\n      <td>...</td>\n      <td>...</td>\n      <td>...</td>\n      <td>...</td>\n      <td>...</td>\n      <td>...</td>\n      <td>...</td>\n      <td>...</td>\n      <td>...</td>\n      <td>...</td>\n      <td>...</td>\n      <td>...</td>\n      <td>...</td>\n      <td>...</td>\n      <td>...</td>\n      <td>...</td>\n    </tr>\n    <tr>\n      <th>66</th>\n      <td>66</td>\n      <td>0</td>\n      <td>9</td>\n      <td>False</td>\n      <td>False</td>\n      <td>True</td>\n      <td>False</td>\n      <td>0</td>\n      <td>0</td>\n      <td>66</td>\n      <td>...</td>\n      <td>66</td>\n      <td>77</td>\n      <td>9</td>\n      <td>False</td>\n      <td>False</td>\n      <td>False</td>\n      <td>False</td>\n      <td>0</td>\n      <td>2</td>\n      <td>-1</td>\n    </tr>\n    <tr>\n      <th>67</th>\n      <td>67</td>\n      <td>0</td>\n      <td>3</td>\n      <td>False</td>\n      <td>False</td>\n      <td>False</td>\n      <td>False</td>\n      <td>0</td>\n      <td>0</td>\n      <td>67</td>\n      <td>...</td>\n      <td>67</td>\n      <td>77</td>\n      <td>3</td>\n      <td>False</td>\n      <td>False</td>\n      <td>False</td>\n      <td>False</td>\n      <td>2</td>\n      <td>0</td>\n      <td>-1</td>\n    </tr>\n    <tr>\n      <th>68</th>\n      <td>68</td>\n      <td>0</td>\n      <td>3</td>\n      <td>False</td>\n      <td>False</td>\n      <td>False</td>\n      <td>False</td>\n      <td>0</td>\n      <td>0</td>\n      <td>68</td>\n      <td>...</td>\n      <td>68</td>\n      <td>77</td>\n      <td>7</td>\n      <td>False</td>\n      <td>False</td>\n      <td>False</td>\n      <td>False</td>\n      <td>2</td>\n      <td>1</td>\n      <td>-1</td>\n    </tr>\n    <tr>\n      <th>69</th>\n      <td>69</td>\n      <td>0</td>\n      <td>3</td>\n      <td>False</td>\n      <td>False</td>\n      <td>False</td>\n      <td>False</td>\n      <td>0</td>\n      <td>0</td>\n      <td>69</td>\n      <td>...</td>\n      <td>69</td>\n      <td>77</td>\n      <td>3</td>\n      <td>False</td>\n      <td>False</td>\n      <td>False</td>\n      <td>False</td>\n      <td>2</td>\n      <td>0</td>\n      <td>-1</td>\n    </tr>\n    <tr>\n      <th>70</th>\n      <td>70</td>\n      <td>0</td>\n      <td>3</td>\n      <td>False</td>\n      <td>False</td>\n      <td>False</td>\n      <td>False</td>\n      <td>0</td>\n      <td>0</td>\n      <td>70</td>\n      <td>...</td>\n      <td>70</td>\n      <td>77</td>\n      <td>7</td>\n      <td>False</td>\n      <td>False</td>\n      <td>False</td>\n      <td>False</td>\n      <td>2</td>\n      <td>1</td>\n      <td>-1</td>\n    </tr>\n  </tbody>\n</table>\n<p>65 rows × 703 columns</p>\n</div>"
     },
     "execution_count": 34,
     "metadata": {},
     "output_type": "execute_result"
    }
   ],
   "source": [
    "df = df[df[0] > 5]\n",
    "dbs = DBSCAN().fit(df)\n",
    "df['labels'] = dbs.labels_\n",
    "first_part_list = df['labels']\n",
    "df"
   ],
   "metadata": {
    "collapsed": false,
    "ExecuteTime": {
     "end_time": "2024-02-13T09:32:54.234879800Z",
     "start_time": "2024-02-13T09:32:54.176911Z"
    }
   },
   "id": "7d95073f5bf73b6"
  },
  {
   "cell_type": "code",
   "execution_count": 35,
   "outputs": [
    {
     "name": "stderr",
     "output_type": "stream",
     "text": [
      "C:\\Users\\user\\AppData\\Local\\Programs\\Python\\Python310\\lib\\site-packages\\sklearn\\cluster\\_kmeans.py:1416: FutureWarning: The default value of `n_init` will change from 10 to 'auto' in 1.4. Set the value of `n_init` explicitly to suppress the warning\n",
      "  super()._check_params_vs_input(X, default_n_init=10)\n",
      "C:\\Users\\user\\AppData\\Local\\Temp\\ipykernel_9612\\2874269267.py:15: SettingWithCopyWarning: \n",
      "A value is trying to be set on a copy of a slice from a DataFrame.\n",
      "Try using .loc[row_indexer,col_indexer] = value instead\n",
      "\n",
      "See the caveats in the documentation: https://pandas.pydata.org/pandas-docs/stable/user_guide/indexing.html#returning-a-view-versus-a-copy\n",
      "  df1_['labels'] = ald.labels_\n",
      "C:\\Users\\user\\AppData\\Local\\Temp\\ipykernel_9612\\2874269267.py:16: SettingWithCopyWarning: \n",
      "A value is trying to be set on a copy of a slice from a DataFrame.\n",
      "Try using .loc[row_indexer,col_indexer] = value instead\n",
      "\n",
      "See the caveats in the documentation: https://pandas.pydata.org/pandas-docs/stable/user_guide/indexing.html#returning-a-view-versus-a-copy\n",
      "  df1_['labels'] = df1_['labels'].apply(lambda x: x + 1)\n"
     ]
    },
    {
     "data": {
      "text/plain": "    2      3      4      5      6  7  8  11     12     13  ...  691  692  695  \\\n6   4  False  False  False  False  0  0   4   True  False  ...    2    0    3   \n7   0  False  False  False  False  0  0   0   True  False  ...    0    1    7   \n8   4  False  False  False  False  0  0   4   True  False  ...    2    0    3   \n9   0  False  False  False  False  0  0   0   True  False  ...    0    1    7   \n10  4  False  False  False  False  0  0   4   True  False  ...    2    0    3   \n.. ..    ...    ...    ...    ... .. ..  ..    ...    ...  ...  ...  ...  ...   \n66  9  False  False   True  False  0  0   0  False  False  ...    0    2    9   \n67  3  False  False  False  False  0  0   4   True  False  ...    2    0    3   \n68  3  False  False  False  False  0  0   0   True  False  ...    2    1    7   \n69  3  False  False  False  False  0  0   4   True  False  ...    2    0    3   \n70  3  False  False  False  False  0  0   0   True  False  ...    2    1    7   \n\n      696    697    698    699  700  701  labels  \n6   False  False  False  False    2    0       2  \n7   False  False  False  False    0    1       1  \n8   False  False  False  False    2    0       2  \n9   False  False  False  False    0    1       1  \n10  False  False  False  False    2    0       2  \n..    ...    ...    ...    ...  ...  ...     ...  \n66  False  False  False  False    0    2       1  \n67  False  False  False  False    2    0       2  \n68  False  False  False  False    2    1       1  \n69  False  False  False  False    2    0       2  \n70  False  False  False  False    2    1       1  \n\n[65 rows x 547 columns]",
      "text/html": "<div>\n<style scoped>\n    .dataframe tbody tr th:only-of-type {\n        vertical-align: middle;\n    }\n\n    .dataframe tbody tr th {\n        vertical-align: top;\n    }\n\n    .dataframe thead th {\n        text-align: right;\n    }\n</style>\n<table border=\"1\" class=\"dataframe\">\n  <thead>\n    <tr style=\"text-align: right;\">\n      <th></th>\n      <th>2</th>\n      <th>3</th>\n      <th>4</th>\n      <th>5</th>\n      <th>6</th>\n      <th>7</th>\n      <th>8</th>\n      <th>11</th>\n      <th>12</th>\n      <th>13</th>\n      <th>...</th>\n      <th>691</th>\n      <th>692</th>\n      <th>695</th>\n      <th>696</th>\n      <th>697</th>\n      <th>698</th>\n      <th>699</th>\n      <th>700</th>\n      <th>701</th>\n      <th>labels</th>\n    </tr>\n  </thead>\n  <tbody>\n    <tr>\n      <th>6</th>\n      <td>4</td>\n      <td>False</td>\n      <td>False</td>\n      <td>False</td>\n      <td>False</td>\n      <td>0</td>\n      <td>0</td>\n      <td>4</td>\n      <td>True</td>\n      <td>False</td>\n      <td>...</td>\n      <td>2</td>\n      <td>0</td>\n      <td>3</td>\n      <td>False</td>\n      <td>False</td>\n      <td>False</td>\n      <td>False</td>\n      <td>2</td>\n      <td>0</td>\n      <td>2</td>\n    </tr>\n    <tr>\n      <th>7</th>\n      <td>0</td>\n      <td>False</td>\n      <td>False</td>\n      <td>False</td>\n      <td>False</td>\n      <td>0</td>\n      <td>0</td>\n      <td>0</td>\n      <td>True</td>\n      <td>False</td>\n      <td>...</td>\n      <td>0</td>\n      <td>1</td>\n      <td>7</td>\n      <td>False</td>\n      <td>False</td>\n      <td>False</td>\n      <td>False</td>\n      <td>0</td>\n      <td>1</td>\n      <td>1</td>\n    </tr>\n    <tr>\n      <th>8</th>\n      <td>4</td>\n      <td>False</td>\n      <td>False</td>\n      <td>False</td>\n      <td>False</td>\n      <td>0</td>\n      <td>0</td>\n      <td>4</td>\n      <td>True</td>\n      <td>False</td>\n      <td>...</td>\n      <td>2</td>\n      <td>0</td>\n      <td>3</td>\n      <td>False</td>\n      <td>False</td>\n      <td>False</td>\n      <td>False</td>\n      <td>2</td>\n      <td>0</td>\n      <td>2</td>\n    </tr>\n    <tr>\n      <th>9</th>\n      <td>0</td>\n      <td>False</td>\n      <td>False</td>\n      <td>False</td>\n      <td>False</td>\n      <td>0</td>\n      <td>0</td>\n      <td>0</td>\n      <td>True</td>\n      <td>False</td>\n      <td>...</td>\n      <td>0</td>\n      <td>1</td>\n      <td>7</td>\n      <td>False</td>\n      <td>False</td>\n      <td>False</td>\n      <td>False</td>\n      <td>0</td>\n      <td>1</td>\n      <td>1</td>\n    </tr>\n    <tr>\n      <th>10</th>\n      <td>4</td>\n      <td>False</td>\n      <td>False</td>\n      <td>False</td>\n      <td>False</td>\n      <td>0</td>\n      <td>0</td>\n      <td>4</td>\n      <td>True</td>\n      <td>False</td>\n      <td>...</td>\n      <td>2</td>\n      <td>0</td>\n      <td>3</td>\n      <td>False</td>\n      <td>False</td>\n      <td>False</td>\n      <td>False</td>\n      <td>2</td>\n      <td>0</td>\n      <td>2</td>\n    </tr>\n    <tr>\n      <th>...</th>\n      <td>...</td>\n      <td>...</td>\n      <td>...</td>\n      <td>...</td>\n      <td>...</td>\n      <td>...</td>\n      <td>...</td>\n      <td>...</td>\n      <td>...</td>\n      <td>...</td>\n      <td>...</td>\n      <td>...</td>\n      <td>...</td>\n      <td>...</td>\n      <td>...</td>\n      <td>...</td>\n      <td>...</td>\n      <td>...</td>\n      <td>...</td>\n      <td>...</td>\n      <td>...</td>\n    </tr>\n    <tr>\n      <th>66</th>\n      <td>9</td>\n      <td>False</td>\n      <td>False</td>\n      <td>True</td>\n      <td>False</td>\n      <td>0</td>\n      <td>0</td>\n      <td>0</td>\n      <td>False</td>\n      <td>False</td>\n      <td>...</td>\n      <td>0</td>\n      <td>2</td>\n      <td>9</td>\n      <td>False</td>\n      <td>False</td>\n      <td>False</td>\n      <td>False</td>\n      <td>0</td>\n      <td>2</td>\n      <td>1</td>\n    </tr>\n    <tr>\n      <th>67</th>\n      <td>3</td>\n      <td>False</td>\n      <td>False</td>\n      <td>False</td>\n      <td>False</td>\n      <td>0</td>\n      <td>0</td>\n      <td>4</td>\n      <td>True</td>\n      <td>False</td>\n      <td>...</td>\n      <td>2</td>\n      <td>0</td>\n      <td>3</td>\n      <td>False</td>\n      <td>False</td>\n      <td>False</td>\n      <td>False</td>\n      <td>2</td>\n      <td>0</td>\n      <td>2</td>\n    </tr>\n    <tr>\n      <th>68</th>\n      <td>3</td>\n      <td>False</td>\n      <td>False</td>\n      <td>False</td>\n      <td>False</td>\n      <td>0</td>\n      <td>0</td>\n      <td>0</td>\n      <td>True</td>\n      <td>False</td>\n      <td>...</td>\n      <td>2</td>\n      <td>1</td>\n      <td>7</td>\n      <td>False</td>\n      <td>False</td>\n      <td>False</td>\n      <td>False</td>\n      <td>2</td>\n      <td>1</td>\n      <td>1</td>\n    </tr>\n    <tr>\n      <th>69</th>\n      <td>3</td>\n      <td>False</td>\n      <td>False</td>\n      <td>False</td>\n      <td>False</td>\n      <td>0</td>\n      <td>0</td>\n      <td>4</td>\n      <td>True</td>\n      <td>False</td>\n      <td>...</td>\n      <td>2</td>\n      <td>0</td>\n      <td>3</td>\n      <td>False</td>\n      <td>False</td>\n      <td>False</td>\n      <td>False</td>\n      <td>2</td>\n      <td>0</td>\n      <td>2</td>\n    </tr>\n    <tr>\n      <th>70</th>\n      <td>3</td>\n      <td>False</td>\n      <td>False</td>\n      <td>False</td>\n      <td>False</td>\n      <td>0</td>\n      <td>0</td>\n      <td>0</td>\n      <td>True</td>\n      <td>False</td>\n      <td>...</td>\n      <td>2</td>\n      <td>1</td>\n      <td>7</td>\n      <td>False</td>\n      <td>False</td>\n      <td>False</td>\n      <td>False</td>\n      <td>2</td>\n      <td>1</td>\n      <td>1</td>\n    </tr>\n  </tbody>\n</table>\n<p>65 rows × 547 columns</p>\n</div>"
     },
     "execution_count": 35,
     "metadata": {},
     "output_type": "execute_result"
    }
   ],
   "source": [
    "df1 = df[df.labels == -1]\n",
    "df1 = df1.drop(columns=['labels'])\n",
    "\n",
    "in_cols = []\n",
    "for i in df1.columns:\n",
    "    if int(i)%9 in [2, 3, 4, 5, 6, 7, 8]:\n",
    "        in_cols.append(True)\n",
    "    else:\n",
    "        in_cols.append(False)\n",
    "\n",
    "df1_ = df1.iloc[:, in_cols]\n",
    "# df1_ = df1\n",
    "\n",
    "ald = KMeans(n_clusters=2).fit(df1_)\n",
    "df1_['labels'] = ald.labels_\n",
    "df1_['labels'] = df1_['labels'].apply(lambda x: x + 1)\n",
    "second_part_list = df1_['labels']\n",
    "df1_"
   ],
   "metadata": {
    "collapsed": false,
    "ExecuteTime": {
     "end_time": "2024-02-13T09:32:54.401480300Z",
     "start_time": "2024-02-13T09:32:54.211880500Z"
    }
   },
   "id": "de23470369127794"
  },
  {
   "cell_type": "code",
   "execution_count": 36,
   "outputs": [
    {
     "name": "stderr",
     "output_type": "stream",
     "text": [
      "C:\\Users\\user\\AppData\\Local\\Temp\\ipykernel_9612\\1175081514.py:2: SettingWithCopyWarning: \n",
      "A value is trying to be set on a copy of a slice from a DataFrame\n",
      "\n",
      "See the caveats in the documentation: https://pandas.pydata.org/pandas-docs/stable/user_guide/indexing.html#returning-a-view-versus-a-copy\n",
      "  first_part_list[i] = second_part_list[i]\n",
      "C:\\Users\\user\\AppData\\Local\\Temp\\ipykernel_9612\\1175081514.py:2: SettingWithCopyWarning: \n",
      "A value is trying to be set on a copy of a slice from a DataFrame\n",
      "\n",
      "See the caveats in the documentation: https://pandas.pydata.org/pandas-docs/stable/user_guide/indexing.html#returning-a-view-versus-a-copy\n",
      "  first_part_list[i] = second_part_list[i]\n",
      "C:\\Users\\user\\AppData\\Local\\Temp\\ipykernel_9612\\1175081514.py:2: SettingWithCopyWarning: \n",
      "A value is trying to be set on a copy of a slice from a DataFrame\n",
      "\n",
      "See the caveats in the documentation: https://pandas.pydata.org/pandas-docs/stable/user_guide/indexing.html#returning-a-view-versus-a-copy\n",
      "  first_part_list[i] = second_part_list[i]\n",
      "C:\\Users\\user\\AppData\\Local\\Temp\\ipykernel_9612\\1175081514.py:2: SettingWithCopyWarning: \n",
      "A value is trying to be set on a copy of a slice from a DataFrame\n",
      "\n",
      "See the caveats in the documentation: https://pandas.pydata.org/pandas-docs/stable/user_guide/indexing.html#returning-a-view-versus-a-copy\n",
      "  first_part_list[i] = second_part_list[i]\n",
      "C:\\Users\\user\\AppData\\Local\\Temp\\ipykernel_9612\\1175081514.py:2: SettingWithCopyWarning: \n",
      "A value is trying to be set on a copy of a slice from a DataFrame\n",
      "\n",
      "See the caveats in the documentation: https://pandas.pydata.org/pandas-docs/stable/user_guide/indexing.html#returning-a-view-versus-a-copy\n",
      "  first_part_list[i] = second_part_list[i]\n",
      "C:\\Users\\user\\AppData\\Local\\Temp\\ipykernel_9612\\1175081514.py:2: SettingWithCopyWarning: \n",
      "A value is trying to be set on a copy of a slice from a DataFrame\n",
      "\n",
      "See the caveats in the documentation: https://pandas.pydata.org/pandas-docs/stable/user_guide/indexing.html#returning-a-view-versus-a-copy\n",
      "  first_part_list[i] = second_part_list[i]\n",
      "C:\\Users\\user\\AppData\\Local\\Temp\\ipykernel_9612\\1175081514.py:2: SettingWithCopyWarning: \n",
      "A value is trying to be set on a copy of a slice from a DataFrame\n",
      "\n",
      "See the caveats in the documentation: https://pandas.pydata.org/pandas-docs/stable/user_guide/indexing.html#returning-a-view-versus-a-copy\n",
      "  first_part_list[i] = second_part_list[i]\n",
      "C:\\Users\\user\\AppData\\Local\\Temp\\ipykernel_9612\\1175081514.py:2: SettingWithCopyWarning: \n",
      "A value is trying to be set on a copy of a slice from a DataFrame\n",
      "\n",
      "See the caveats in the documentation: https://pandas.pydata.org/pandas-docs/stable/user_guide/indexing.html#returning-a-view-versus-a-copy\n",
      "  first_part_list[i] = second_part_list[i]\n",
      "C:\\Users\\user\\AppData\\Local\\Temp\\ipykernel_9612\\1175081514.py:2: SettingWithCopyWarning: \n",
      "A value is trying to be set on a copy of a slice from a DataFrame\n",
      "\n",
      "See the caveats in the documentation: https://pandas.pydata.org/pandas-docs/stable/user_guide/indexing.html#returning-a-view-versus-a-copy\n",
      "  first_part_list[i] = second_part_list[i]\n",
      "C:\\Users\\user\\AppData\\Local\\Temp\\ipykernel_9612\\1175081514.py:2: SettingWithCopyWarning: \n",
      "A value is trying to be set on a copy of a slice from a DataFrame\n",
      "\n",
      "See the caveats in the documentation: https://pandas.pydata.org/pandas-docs/stable/user_guide/indexing.html#returning-a-view-versus-a-copy\n",
      "  first_part_list[i] = second_part_list[i]\n",
      "C:\\Users\\user\\AppData\\Local\\Temp\\ipykernel_9612\\1175081514.py:2: SettingWithCopyWarning: \n",
      "A value is trying to be set on a copy of a slice from a DataFrame\n",
      "\n",
      "See the caveats in the documentation: https://pandas.pydata.org/pandas-docs/stable/user_guide/indexing.html#returning-a-view-versus-a-copy\n",
      "  first_part_list[i] = second_part_list[i]\n",
      "C:\\Users\\user\\AppData\\Local\\Temp\\ipykernel_9612\\1175081514.py:2: SettingWithCopyWarning: \n",
      "A value is trying to be set on a copy of a slice from a DataFrame\n",
      "\n",
      "See the caveats in the documentation: https://pandas.pydata.org/pandas-docs/stable/user_guide/indexing.html#returning-a-view-versus-a-copy\n",
      "  first_part_list[i] = second_part_list[i]\n",
      "C:\\Users\\user\\AppData\\Local\\Temp\\ipykernel_9612\\1175081514.py:2: SettingWithCopyWarning: \n",
      "A value is trying to be set on a copy of a slice from a DataFrame\n",
      "\n",
      "See the caveats in the documentation: https://pandas.pydata.org/pandas-docs/stable/user_guide/indexing.html#returning-a-view-versus-a-copy\n",
      "  first_part_list[i] = second_part_list[i]\n",
      "C:\\Users\\user\\AppData\\Local\\Temp\\ipykernel_9612\\1175081514.py:2: SettingWithCopyWarning: \n",
      "A value is trying to be set on a copy of a slice from a DataFrame\n",
      "\n",
      "See the caveats in the documentation: https://pandas.pydata.org/pandas-docs/stable/user_guide/indexing.html#returning-a-view-versus-a-copy\n",
      "  first_part_list[i] = second_part_list[i]\n",
      "C:\\Users\\user\\AppData\\Local\\Temp\\ipykernel_9612\\1175081514.py:2: SettingWithCopyWarning: \n",
      "A value is trying to be set on a copy of a slice from a DataFrame\n",
      "\n",
      "See the caveats in the documentation: https://pandas.pydata.org/pandas-docs/stable/user_guide/indexing.html#returning-a-view-versus-a-copy\n",
      "  first_part_list[i] = second_part_list[i]\n",
      "C:\\Users\\user\\AppData\\Local\\Temp\\ipykernel_9612\\1175081514.py:2: SettingWithCopyWarning: \n",
      "A value is trying to be set on a copy of a slice from a DataFrame\n",
      "\n",
      "See the caveats in the documentation: https://pandas.pydata.org/pandas-docs/stable/user_guide/indexing.html#returning-a-view-versus-a-copy\n",
      "  first_part_list[i] = second_part_list[i]\n",
      "C:\\Users\\user\\AppData\\Local\\Temp\\ipykernel_9612\\1175081514.py:2: SettingWithCopyWarning: \n",
      "A value is trying to be set on a copy of a slice from a DataFrame\n",
      "\n",
      "See the caveats in the documentation: https://pandas.pydata.org/pandas-docs/stable/user_guide/indexing.html#returning-a-view-versus-a-copy\n",
      "  first_part_list[i] = second_part_list[i]\n",
      "C:\\Users\\user\\AppData\\Local\\Temp\\ipykernel_9612\\1175081514.py:2: SettingWithCopyWarning: \n",
      "A value is trying to be set on a copy of a slice from a DataFrame\n",
      "\n",
      "See the caveats in the documentation: https://pandas.pydata.org/pandas-docs/stable/user_guide/indexing.html#returning-a-view-versus-a-copy\n",
      "  first_part_list[i] = second_part_list[i]\n",
      "C:\\Users\\user\\AppData\\Local\\Temp\\ipykernel_9612\\1175081514.py:2: SettingWithCopyWarning: \n",
      "A value is trying to be set on a copy of a slice from a DataFrame\n",
      "\n",
      "See the caveats in the documentation: https://pandas.pydata.org/pandas-docs/stable/user_guide/indexing.html#returning-a-view-versus-a-copy\n",
      "  first_part_list[i] = second_part_list[i]\n",
      "C:\\Users\\user\\AppData\\Local\\Temp\\ipykernel_9612\\1175081514.py:2: SettingWithCopyWarning: \n",
      "A value is trying to be set on a copy of a slice from a DataFrame\n",
      "\n",
      "See the caveats in the documentation: https://pandas.pydata.org/pandas-docs/stable/user_guide/indexing.html#returning-a-view-versus-a-copy\n",
      "  first_part_list[i] = second_part_list[i]\n",
      "C:\\Users\\user\\AppData\\Local\\Temp\\ipykernel_9612\\1175081514.py:2: SettingWithCopyWarning: \n",
      "A value is trying to be set on a copy of a slice from a DataFrame\n",
      "\n",
      "See the caveats in the documentation: https://pandas.pydata.org/pandas-docs/stable/user_guide/indexing.html#returning-a-view-versus-a-copy\n",
      "  first_part_list[i] = second_part_list[i]\n",
      "C:\\Users\\user\\AppData\\Local\\Temp\\ipykernel_9612\\1175081514.py:2: SettingWithCopyWarning: \n",
      "A value is trying to be set on a copy of a slice from a DataFrame\n",
      "\n",
      "See the caveats in the documentation: https://pandas.pydata.org/pandas-docs/stable/user_guide/indexing.html#returning-a-view-versus-a-copy\n",
      "  first_part_list[i] = second_part_list[i]\n",
      "C:\\Users\\user\\AppData\\Local\\Temp\\ipykernel_9612\\1175081514.py:2: SettingWithCopyWarning: \n",
      "A value is trying to be set on a copy of a slice from a DataFrame\n",
      "\n",
      "See the caveats in the documentation: https://pandas.pydata.org/pandas-docs/stable/user_guide/indexing.html#returning-a-view-versus-a-copy\n",
      "  first_part_list[i] = second_part_list[i]\n",
      "C:\\Users\\user\\AppData\\Local\\Temp\\ipykernel_9612\\1175081514.py:2: SettingWithCopyWarning: \n",
      "A value is trying to be set on a copy of a slice from a DataFrame\n",
      "\n",
      "See the caveats in the documentation: https://pandas.pydata.org/pandas-docs/stable/user_guide/indexing.html#returning-a-view-versus-a-copy\n",
      "  first_part_list[i] = second_part_list[i]\n",
      "C:\\Users\\user\\AppData\\Local\\Temp\\ipykernel_9612\\1175081514.py:2: SettingWithCopyWarning: \n",
      "A value is trying to be set on a copy of a slice from a DataFrame\n",
      "\n",
      "See the caveats in the documentation: https://pandas.pydata.org/pandas-docs/stable/user_guide/indexing.html#returning-a-view-versus-a-copy\n",
      "  first_part_list[i] = second_part_list[i]\n",
      "C:\\Users\\user\\AppData\\Local\\Temp\\ipykernel_9612\\1175081514.py:2: SettingWithCopyWarning: \n",
      "A value is trying to be set on a copy of a slice from a DataFrame\n",
      "\n",
      "See the caveats in the documentation: https://pandas.pydata.org/pandas-docs/stable/user_guide/indexing.html#returning-a-view-versus-a-copy\n",
      "  first_part_list[i] = second_part_list[i]\n",
      "C:\\Users\\user\\AppData\\Local\\Temp\\ipykernel_9612\\1175081514.py:2: SettingWithCopyWarning: \n",
      "A value is trying to be set on a copy of a slice from a DataFrame\n",
      "\n",
      "See the caveats in the documentation: https://pandas.pydata.org/pandas-docs/stable/user_guide/indexing.html#returning-a-view-versus-a-copy\n",
      "  first_part_list[i] = second_part_list[i]\n",
      "C:\\Users\\user\\AppData\\Local\\Temp\\ipykernel_9612\\1175081514.py:2: SettingWithCopyWarning: \n",
      "A value is trying to be set on a copy of a slice from a DataFrame\n",
      "\n",
      "See the caveats in the documentation: https://pandas.pydata.org/pandas-docs/stable/user_guide/indexing.html#returning-a-view-versus-a-copy\n",
      "  first_part_list[i] = second_part_list[i]\n",
      "C:\\Users\\user\\AppData\\Local\\Temp\\ipykernel_9612\\1175081514.py:2: SettingWithCopyWarning: \n",
      "A value is trying to be set on a copy of a slice from a DataFrame\n",
      "\n",
      "See the caveats in the documentation: https://pandas.pydata.org/pandas-docs/stable/user_guide/indexing.html#returning-a-view-versus-a-copy\n",
      "  first_part_list[i] = second_part_list[i]\n",
      "C:\\Users\\user\\AppData\\Local\\Temp\\ipykernel_9612\\1175081514.py:2: SettingWithCopyWarning: \n",
      "A value is trying to be set on a copy of a slice from a DataFrame\n",
      "\n",
      "See the caveats in the documentation: https://pandas.pydata.org/pandas-docs/stable/user_guide/indexing.html#returning-a-view-versus-a-copy\n",
      "  first_part_list[i] = second_part_list[i]\n",
      "C:\\Users\\user\\AppData\\Local\\Temp\\ipykernel_9612\\1175081514.py:2: SettingWithCopyWarning: \n",
      "A value is trying to be set on a copy of a slice from a DataFrame\n",
      "\n",
      "See the caveats in the documentation: https://pandas.pydata.org/pandas-docs/stable/user_guide/indexing.html#returning-a-view-versus-a-copy\n",
      "  first_part_list[i] = second_part_list[i]\n",
      "C:\\Users\\user\\AppData\\Local\\Temp\\ipykernel_9612\\1175081514.py:2: SettingWithCopyWarning: \n",
      "A value is trying to be set on a copy of a slice from a DataFrame\n",
      "\n",
      "See the caveats in the documentation: https://pandas.pydata.org/pandas-docs/stable/user_guide/indexing.html#returning-a-view-versus-a-copy\n",
      "  first_part_list[i] = second_part_list[i]\n",
      "C:\\Users\\user\\AppData\\Local\\Temp\\ipykernel_9612\\1175081514.py:2: SettingWithCopyWarning: \n",
      "A value is trying to be set on a copy of a slice from a DataFrame\n",
      "\n",
      "See the caveats in the documentation: https://pandas.pydata.org/pandas-docs/stable/user_guide/indexing.html#returning-a-view-versus-a-copy\n",
      "  first_part_list[i] = second_part_list[i]\n",
      "C:\\Users\\user\\AppData\\Local\\Temp\\ipykernel_9612\\1175081514.py:2: SettingWithCopyWarning: \n",
      "A value is trying to be set on a copy of a slice from a DataFrame\n",
      "\n",
      "See the caveats in the documentation: https://pandas.pydata.org/pandas-docs/stable/user_guide/indexing.html#returning-a-view-versus-a-copy\n",
      "  first_part_list[i] = second_part_list[i]\n",
      "C:\\Users\\user\\AppData\\Local\\Temp\\ipykernel_9612\\1175081514.py:2: SettingWithCopyWarning: \n",
      "A value is trying to be set on a copy of a slice from a DataFrame\n",
      "\n",
      "See the caveats in the documentation: https://pandas.pydata.org/pandas-docs/stable/user_guide/indexing.html#returning-a-view-versus-a-copy\n",
      "  first_part_list[i] = second_part_list[i]\n",
      "C:\\Users\\user\\AppData\\Local\\Temp\\ipykernel_9612\\1175081514.py:2: SettingWithCopyWarning: \n",
      "A value is trying to be set on a copy of a slice from a DataFrame\n",
      "\n",
      "See the caveats in the documentation: https://pandas.pydata.org/pandas-docs/stable/user_guide/indexing.html#returning-a-view-versus-a-copy\n",
      "  first_part_list[i] = second_part_list[i]\n",
      "C:\\Users\\user\\AppData\\Local\\Temp\\ipykernel_9612\\1175081514.py:2: SettingWithCopyWarning: \n",
      "A value is trying to be set on a copy of a slice from a DataFrame\n",
      "\n",
      "See the caveats in the documentation: https://pandas.pydata.org/pandas-docs/stable/user_guide/indexing.html#returning-a-view-versus-a-copy\n",
      "  first_part_list[i] = second_part_list[i]\n",
      "C:\\Users\\user\\AppData\\Local\\Temp\\ipykernel_9612\\1175081514.py:2: SettingWithCopyWarning: \n",
      "A value is trying to be set on a copy of a slice from a DataFrame\n",
      "\n",
      "See the caveats in the documentation: https://pandas.pydata.org/pandas-docs/stable/user_guide/indexing.html#returning-a-view-versus-a-copy\n",
      "  first_part_list[i] = second_part_list[i]\n",
      "C:\\Users\\user\\AppData\\Local\\Temp\\ipykernel_9612\\1175081514.py:2: SettingWithCopyWarning: \n",
      "A value is trying to be set on a copy of a slice from a DataFrame\n",
      "\n",
      "See the caveats in the documentation: https://pandas.pydata.org/pandas-docs/stable/user_guide/indexing.html#returning-a-view-versus-a-copy\n",
      "  first_part_list[i] = second_part_list[i]\n",
      "C:\\Users\\user\\AppData\\Local\\Temp\\ipykernel_9612\\1175081514.py:2: SettingWithCopyWarning: \n",
      "A value is trying to be set on a copy of a slice from a DataFrame\n",
      "\n",
      "See the caveats in the documentation: https://pandas.pydata.org/pandas-docs/stable/user_guide/indexing.html#returning-a-view-versus-a-copy\n",
      "  first_part_list[i] = second_part_list[i]\n",
      "C:\\Users\\user\\AppData\\Local\\Temp\\ipykernel_9612\\1175081514.py:2: SettingWithCopyWarning: \n",
      "A value is trying to be set on a copy of a slice from a DataFrame\n",
      "\n",
      "See the caveats in the documentation: https://pandas.pydata.org/pandas-docs/stable/user_guide/indexing.html#returning-a-view-versus-a-copy\n",
      "  first_part_list[i] = second_part_list[i]\n",
      "C:\\Users\\user\\AppData\\Local\\Temp\\ipykernel_9612\\1175081514.py:2: SettingWithCopyWarning: \n",
      "A value is trying to be set on a copy of a slice from a DataFrame\n",
      "\n",
      "See the caveats in the documentation: https://pandas.pydata.org/pandas-docs/stable/user_guide/indexing.html#returning-a-view-versus-a-copy\n",
      "  first_part_list[i] = second_part_list[i]\n",
      "C:\\Users\\user\\AppData\\Local\\Temp\\ipykernel_9612\\1175081514.py:2: SettingWithCopyWarning: \n",
      "A value is trying to be set on a copy of a slice from a DataFrame\n",
      "\n",
      "See the caveats in the documentation: https://pandas.pydata.org/pandas-docs/stable/user_guide/indexing.html#returning-a-view-versus-a-copy\n",
      "  first_part_list[i] = second_part_list[i]\n",
      "C:\\Users\\user\\AppData\\Local\\Temp\\ipykernel_9612\\1175081514.py:2: SettingWithCopyWarning: \n",
      "A value is trying to be set on a copy of a slice from a DataFrame\n",
      "\n",
      "See the caveats in the documentation: https://pandas.pydata.org/pandas-docs/stable/user_guide/indexing.html#returning-a-view-versus-a-copy\n",
      "  first_part_list[i] = second_part_list[i]\n",
      "C:\\Users\\user\\AppData\\Local\\Temp\\ipykernel_9612\\1175081514.py:2: SettingWithCopyWarning: \n",
      "A value is trying to be set on a copy of a slice from a DataFrame\n",
      "\n",
      "See the caveats in the documentation: https://pandas.pydata.org/pandas-docs/stable/user_guide/indexing.html#returning-a-view-versus-a-copy\n",
      "  first_part_list[i] = second_part_list[i]\n",
      "C:\\Users\\user\\AppData\\Local\\Temp\\ipykernel_9612\\1175081514.py:2: SettingWithCopyWarning: \n",
      "A value is trying to be set on a copy of a slice from a DataFrame\n",
      "\n",
      "See the caveats in the documentation: https://pandas.pydata.org/pandas-docs/stable/user_guide/indexing.html#returning-a-view-versus-a-copy\n",
      "  first_part_list[i] = second_part_list[i]\n",
      "C:\\Users\\user\\AppData\\Local\\Temp\\ipykernel_9612\\1175081514.py:2: SettingWithCopyWarning: \n",
      "A value is trying to be set on a copy of a slice from a DataFrame\n",
      "\n",
      "See the caveats in the documentation: https://pandas.pydata.org/pandas-docs/stable/user_guide/indexing.html#returning-a-view-versus-a-copy\n",
      "  first_part_list[i] = second_part_list[i]\n",
      "C:\\Users\\user\\AppData\\Local\\Temp\\ipykernel_9612\\1175081514.py:2: SettingWithCopyWarning: \n",
      "A value is trying to be set on a copy of a slice from a DataFrame\n",
      "\n",
      "See the caveats in the documentation: https://pandas.pydata.org/pandas-docs/stable/user_guide/indexing.html#returning-a-view-versus-a-copy\n",
      "  first_part_list[i] = second_part_list[i]\n",
      "C:\\Users\\user\\AppData\\Local\\Temp\\ipykernel_9612\\1175081514.py:2: SettingWithCopyWarning: \n",
      "A value is trying to be set on a copy of a slice from a DataFrame\n",
      "\n",
      "See the caveats in the documentation: https://pandas.pydata.org/pandas-docs/stable/user_guide/indexing.html#returning-a-view-versus-a-copy\n",
      "  first_part_list[i] = second_part_list[i]\n",
      "C:\\Users\\user\\AppData\\Local\\Temp\\ipykernel_9612\\1175081514.py:2: SettingWithCopyWarning: \n",
      "A value is trying to be set on a copy of a slice from a DataFrame\n",
      "\n",
      "See the caveats in the documentation: https://pandas.pydata.org/pandas-docs/stable/user_guide/indexing.html#returning-a-view-versus-a-copy\n",
      "  first_part_list[i] = second_part_list[i]\n",
      "C:\\Users\\user\\AppData\\Local\\Temp\\ipykernel_9612\\1175081514.py:2: SettingWithCopyWarning: \n",
      "A value is trying to be set on a copy of a slice from a DataFrame\n",
      "\n",
      "See the caveats in the documentation: https://pandas.pydata.org/pandas-docs/stable/user_guide/indexing.html#returning-a-view-versus-a-copy\n",
      "  first_part_list[i] = second_part_list[i]\n",
      "C:\\Users\\user\\AppData\\Local\\Temp\\ipykernel_9612\\1175081514.py:2: SettingWithCopyWarning: \n",
      "A value is trying to be set on a copy of a slice from a DataFrame\n",
      "\n",
      "See the caveats in the documentation: https://pandas.pydata.org/pandas-docs/stable/user_guide/indexing.html#returning-a-view-versus-a-copy\n",
      "  first_part_list[i] = second_part_list[i]\n",
      "C:\\Users\\user\\AppData\\Local\\Temp\\ipykernel_9612\\1175081514.py:2: SettingWithCopyWarning: \n",
      "A value is trying to be set on a copy of a slice from a DataFrame\n",
      "\n",
      "See the caveats in the documentation: https://pandas.pydata.org/pandas-docs/stable/user_guide/indexing.html#returning-a-view-versus-a-copy\n",
      "  first_part_list[i] = second_part_list[i]\n",
      "C:\\Users\\user\\AppData\\Local\\Temp\\ipykernel_9612\\1175081514.py:2: SettingWithCopyWarning: \n",
      "A value is trying to be set on a copy of a slice from a DataFrame\n",
      "\n",
      "See the caveats in the documentation: https://pandas.pydata.org/pandas-docs/stable/user_guide/indexing.html#returning-a-view-versus-a-copy\n",
      "  first_part_list[i] = second_part_list[i]\n",
      "C:\\Users\\user\\AppData\\Local\\Temp\\ipykernel_9612\\1175081514.py:2: SettingWithCopyWarning: \n",
      "A value is trying to be set on a copy of a slice from a DataFrame\n",
      "\n",
      "See the caveats in the documentation: https://pandas.pydata.org/pandas-docs/stable/user_guide/indexing.html#returning-a-view-versus-a-copy\n",
      "  first_part_list[i] = second_part_list[i]\n",
      "C:\\Users\\user\\AppData\\Local\\Temp\\ipykernel_9612\\1175081514.py:2: SettingWithCopyWarning: \n",
      "A value is trying to be set on a copy of a slice from a DataFrame\n",
      "\n",
      "See the caveats in the documentation: https://pandas.pydata.org/pandas-docs/stable/user_guide/indexing.html#returning-a-view-versus-a-copy\n",
      "  first_part_list[i] = second_part_list[i]\n",
      "C:\\Users\\user\\AppData\\Local\\Temp\\ipykernel_9612\\1175081514.py:2: SettingWithCopyWarning: \n",
      "A value is trying to be set on a copy of a slice from a DataFrame\n",
      "\n",
      "See the caveats in the documentation: https://pandas.pydata.org/pandas-docs/stable/user_guide/indexing.html#returning-a-view-versus-a-copy\n",
      "  first_part_list[i] = second_part_list[i]\n",
      "C:\\Users\\user\\AppData\\Local\\Temp\\ipykernel_9612\\1175081514.py:2: SettingWithCopyWarning: \n",
      "A value is trying to be set on a copy of a slice from a DataFrame\n",
      "\n",
      "See the caveats in the documentation: https://pandas.pydata.org/pandas-docs/stable/user_guide/indexing.html#returning-a-view-versus-a-copy\n",
      "  first_part_list[i] = second_part_list[i]\n",
      "C:\\Users\\user\\AppData\\Local\\Temp\\ipykernel_9612\\1175081514.py:2: SettingWithCopyWarning: \n",
      "A value is trying to be set on a copy of a slice from a DataFrame\n",
      "\n",
      "See the caveats in the documentation: https://pandas.pydata.org/pandas-docs/stable/user_guide/indexing.html#returning-a-view-versus-a-copy\n",
      "  first_part_list[i] = second_part_list[i]\n",
      "C:\\Users\\user\\AppData\\Local\\Temp\\ipykernel_9612\\1175081514.py:2: SettingWithCopyWarning: \n",
      "A value is trying to be set on a copy of a slice from a DataFrame\n",
      "\n",
      "See the caveats in the documentation: https://pandas.pydata.org/pandas-docs/stable/user_guide/indexing.html#returning-a-view-versus-a-copy\n",
      "  first_part_list[i] = second_part_list[i]\n",
      "C:\\Users\\user\\AppData\\Local\\Temp\\ipykernel_9612\\1175081514.py:2: SettingWithCopyWarning: \n",
      "A value is trying to be set on a copy of a slice from a DataFrame\n",
      "\n",
      "See the caveats in the documentation: https://pandas.pydata.org/pandas-docs/stable/user_guide/indexing.html#returning-a-view-versus-a-copy\n",
      "  first_part_list[i] = second_part_list[i]\n",
      "C:\\Users\\user\\AppData\\Local\\Temp\\ipykernel_9612\\1175081514.py:2: SettingWithCopyWarning: \n",
      "A value is trying to be set on a copy of a slice from a DataFrame\n",
      "\n",
      "See the caveats in the documentation: https://pandas.pydata.org/pandas-docs/stable/user_guide/indexing.html#returning-a-view-versus-a-copy\n",
      "  first_part_list[i] = second_part_list[i]\n",
      "C:\\Users\\user\\AppData\\Local\\Temp\\ipykernel_9612\\1175081514.py:2: SettingWithCopyWarning: \n",
      "A value is trying to be set on a copy of a slice from a DataFrame\n",
      "\n",
      "See the caveats in the documentation: https://pandas.pydata.org/pandas-docs/stable/user_guide/indexing.html#returning-a-view-versus-a-copy\n",
      "  first_part_list[i] = second_part_list[i]\n",
      "C:\\Users\\user\\AppData\\Local\\Temp\\ipykernel_9612\\1175081514.py:2: SettingWithCopyWarning: \n",
      "A value is trying to be set on a copy of a slice from a DataFrame\n",
      "\n",
      "See the caveats in the documentation: https://pandas.pydata.org/pandas-docs/stable/user_guide/indexing.html#returning-a-view-versus-a-copy\n",
      "  first_part_list[i] = second_part_list[i]\n",
      "C:\\Users\\user\\AppData\\Local\\Temp\\ipykernel_9612\\1175081514.py:2: SettingWithCopyWarning: \n",
      "A value is trying to be set on a copy of a slice from a DataFrame\n",
      "\n",
      "See the caveats in the documentation: https://pandas.pydata.org/pandas-docs/stable/user_guide/indexing.html#returning-a-view-versus-a-copy\n",
      "  first_part_list[i] = second_part_list[i]\n"
     ]
    }
   ],
   "source": [
    "for i in second_part_list.index:\n",
    "    first_part_list[i] = second_part_list[i]\n",
    "    \n",
    "to_merge_df = pd.DataFrame()\n",
    "to_merge_df['Row'] = df[0] + r\n",
    "to_merge_df['labels'] = first_part_list"
   ],
   "metadata": {
    "collapsed": false,
    "ExecuteTime": {
     "end_time": "2024-02-13T09:32:54.401480300Z",
     "start_time": "2024-02-13T09:32:54.273510700Z"
    }
   },
   "id": "3819d6d39bd3f8b7"
  },
  {
   "cell_type": "code",
   "execution_count": 37,
   "outputs": [
    {
     "data": {
      "text/plain": "     labels\nRow        \n20        2\n21        1\n22        2\n23        1\n24        2\n..      ...\n80        1\n81        2\n82        1\n83        2\n84        1\n\n[65 rows x 1 columns]",
      "text/html": "<div>\n<style scoped>\n    .dataframe tbody tr th:only-of-type {\n        vertical-align: middle;\n    }\n\n    .dataframe tbody tr th {\n        vertical-align: top;\n    }\n\n    .dataframe thead th {\n        text-align: right;\n    }\n</style>\n<table border=\"1\" class=\"dataframe\">\n  <thead>\n    <tr style=\"text-align: right;\">\n      <th></th>\n      <th>labels</th>\n    </tr>\n    <tr>\n      <th>Row</th>\n      <th></th>\n    </tr>\n  </thead>\n  <tbody>\n    <tr>\n      <th>20</th>\n      <td>2</td>\n    </tr>\n    <tr>\n      <th>21</th>\n      <td>1</td>\n    </tr>\n    <tr>\n      <th>22</th>\n      <td>2</td>\n    </tr>\n    <tr>\n      <th>23</th>\n      <td>1</td>\n    </tr>\n    <tr>\n      <th>24</th>\n      <td>2</td>\n    </tr>\n    <tr>\n      <th>...</th>\n      <td>...</td>\n    </tr>\n    <tr>\n      <th>80</th>\n      <td>1</td>\n    </tr>\n    <tr>\n      <th>81</th>\n      <td>2</td>\n    </tr>\n    <tr>\n      <th>82</th>\n      <td>1</td>\n    </tr>\n    <tr>\n      <th>83</th>\n      <td>2</td>\n    </tr>\n    <tr>\n      <th>84</th>\n      <td>1</td>\n    </tr>\n  </tbody>\n</table>\n<p>65 rows × 1 columns</p>\n</div>"
     },
     "execution_count": 37,
     "metadata": {},
     "output_type": "execute_result"
    }
   ],
   "source": [
    "to_merge_df = to_merge_df.set_index('Row')\n",
    "to_merge_df"
   ],
   "metadata": {
    "collapsed": false,
    "ExecuteTime": {
     "end_time": "2024-02-13T09:32:54.403508500Z",
     "start_time": "2024-02-13T09:32:54.304084500Z"
    }
   },
   "id": "d3e6803a98fd13a6"
  },
  {
   "cell_type": "code",
   "execution_count": 38,
   "outputs": [
    {
     "data": {
      "text/plain": "[None,\n None,\n None,\n None,\n None,\n None,\n None,\n None,\n None,\n None,\n None,\n None,\n None,\n None,\n None,\n None,\n None,\n None,\n None,\n None,\n None,\n None,\n None,\n None,\n None,\n None,\n None,\n None,\n None,\n None,\n None,\n None,\n None,\n None,\n None,\n None,\n None,\n None,\n None,\n None,\n None,\n None,\n None,\n None,\n None,\n None,\n None,\n None,\n None,\n None,\n None,\n None,\n None,\n None,\n None,\n None,\n None,\n None,\n None,\n None,\n None,\n None,\n None,\n None,\n None,\n None,\n None,\n None,\n None,\n None,\n None,\n None,\n None,\n None,\n None,\n None,\n None,\n None,\n None,\n None,\n None,\n None,\n None,\n None,\n None,\n None,\n None,\n None,\n None,\n None,\n None,\n None,\n None,\n None,\n None,\n None,\n None,\n None,\n None,\n None,\n None,\n None,\n None,\n None,\n None,\n None,\n None,\n None,\n None,\n None,\n None,\n None,\n None,\n None,\n None,\n None,\n None,\n None,\n None,\n None,\n None,\n None,\n None,\n None,\n None,\n None,\n None,\n None,\n None,\n None,\n None,\n None,\n None,\n None,\n None,\n None,\n None,\n None,\n None,\n None,\n None,\n None,\n None,\n None,\n None,\n None,\n None,\n None,\n None,\n None,\n None,\n None,\n None,\n None,\n None,\n None,\n None,\n None,\n None,\n None,\n None,\n None,\n None,\n None,\n None,\n None,\n None,\n None,\n None,\n None,\n None,\n None,\n None,\n None,\n None,\n None,\n None,\n None,\n None,\n None,\n None,\n None,\n None,\n None,\n None,\n None,\n None,\n None,\n None,\n None,\n None,\n None,\n None,\n None,\n None,\n None,\n None,\n None,\n None,\n None,\n None,\n None,\n None,\n None,\n None,\n None,\n None,\n None,\n None,\n None,\n None,\n None,\n None,\n None,\n None,\n None,\n None,\n None,\n None,\n None,\n None,\n None,\n None,\n None,\n None,\n None,\n None,\n None,\n None,\n None,\n None,\n None,\n None,\n None,\n None,\n None,\n None,\n None,\n None,\n None,\n None,\n None,\n None,\n None,\n None,\n None,\n None,\n None,\n None,\n None,\n None,\n None,\n None,\n None,\n None,\n None,\n None,\n None,\n None,\n None,\n None,\n None,\n None,\n None,\n None,\n None,\n None,\n None,\n None,\n None,\n None,\n None,\n None,\n None,\n None,\n None,\n None,\n None,\n None,\n None,\n None,\n None,\n None,\n None,\n None,\n None,\n None,\n None,\n None,\n None,\n None,\n None,\n None,\n None,\n None,\n None,\n None,\n None,\n None,\n None,\n None,\n None,\n None,\n None,\n None,\n None,\n None,\n None,\n None,\n None,\n None,\n None,\n None,\n None,\n None,\n None,\n None,\n None,\n None,\n None,\n None,\n None,\n None,\n None,\n None,\n None,\n None,\n None,\n None,\n None,\n None,\n None,\n None,\n None,\n None,\n None,\n None,\n None,\n None,\n None,\n None,\n None,\n None,\n None,\n None,\n None,\n None,\n None,\n None,\n None,\n None,\n None,\n None,\n None,\n None,\n None,\n None,\n None,\n None,\n None,\n None,\n None,\n None,\n None,\n None,\n None,\n None,\n None,\n None,\n None,\n None,\n None,\n None,\n None,\n None,\n None,\n None,\n None,\n None,\n None,\n None,\n None,\n None,\n None,\n None,\n None,\n None,\n None,\n None,\n None,\n None,\n None,\n None,\n None,\n None,\n None,\n None,\n None,\n None,\n None,\n None,\n None,\n None,\n None,\n None,\n None,\n None,\n None,\n None,\n None,\n None,\n None,\n None,\n None,\n None,\n None,\n None,\n None,\n None,\n None,\n None,\n None,\n None,\n None,\n None,\n None,\n None,\n None,\n None,\n None,\n None,\n None,\n None,\n None,\n None,\n None,\n None,\n None,\n None,\n None,\n None,\n None,\n None,\n None,\n None,\n None,\n None,\n None,\n None,\n None,\n None,\n None,\n None,\n None,\n None,\n None,\n None,\n None,\n None,\n None,\n None,\n None,\n None,\n None,\n None,\n None,\n None,\n None,\n 2,\n 2,\n 2,\n 2,\n 2,\n 2,\n 2,\n 2,\n 2,\n 2,\n 2,\n 2,\n 2,\n 2,\n 2,\n 2,\n 2,\n 2,\n 2,\n 2,\n 2,\n 2,\n 2,\n 2,\n 2,\n 2,\n 2,\n 2,\n 2,\n 2,\n 2,\n 2,\n 2,\n 2,\n 2,\n 2,\n 2,\n 2,\n 2,\n 2,\n 2,\n 2,\n 2,\n 2,\n 2,\n 2,\n 2,\n 2,\n 2,\n 2,\n 2,\n 2,\n 2,\n 2,\n 2,\n 2,\n 2,\n 2,\n 2,\n 2,\n 2,\n 2,\n 2,\n 2,\n 2,\n 2,\n 2,\n 2,\n 2,\n 2,\n 2,\n 2,\n 2,\n 2,\n 2,\n 2,\n 2,\n 2,\n 1,\n 1,\n 1,\n 1,\n 1,\n 1,\n 1,\n 1,\n 1,\n 1,\n 1,\n 1,\n 1,\n 1,\n 1,\n 1,\n 1,\n 1,\n 1,\n 1,\n 1,\n 1,\n 1,\n 1,\n 1,\n 1,\n 1,\n 1,\n 1,\n 1,\n 1,\n 1,\n 1,\n 1,\n 1,\n 1,\n 1,\n 1,\n 1,\n 1,\n 1,\n 1,\n 1,\n 1,\n 1,\n 1,\n 1,\n 1,\n 1,\n 1,\n 1,\n 1,\n 1,\n 1,\n 1,\n 1,\n 1,\n 1,\n 1,\n 1,\n 1,\n 1,\n 1,\n 1,\n 1,\n 1,\n 1,\n 1,\n 1,\n 1,\n 1,\n 1,\n 1,\n 1,\n 1,\n 1,\n 1,\n 1,\n 2,\n 2,\n 2,\n 2,\n 2,\n 2,\n 2,\n 2,\n 2,\n 2,\n 2,\n 2,\n 2,\n 2,\n 2,\n 2,\n 2,\n 2,\n 2,\n 2,\n 2,\n 2,\n 2,\n 2,\n 2,\n 2,\n 2,\n 2,\n 2,\n 2,\n 2,\n 2,\n 2,\n 2,\n 2,\n 2,\n 2,\n 2,\n 2,\n 2,\n 2,\n 2,\n 2,\n 2,\n 2,\n 2,\n 2,\n 2,\n 2,\n 2,\n 2,\n 2,\n 2,\n 2,\n 2,\n 2,\n 2,\n 2,\n 2,\n 2,\n 2,\n 2,\n 2,\n 2,\n 2,\n 2,\n 2,\n 2,\n 2,\n 2,\n 2,\n 2,\n 2,\n 2,\n 2,\n 2,\n 2,\n 2,\n 1,\n 1,\n 1,\n 1,\n 1,\n 1,\n 1,\n 1,\n 1,\n 1,\n 1,\n 1,\n 1,\n 1,\n 1,\n 1,\n 1,\n 1,\n 1,\n 1,\n 1,\n 1,\n 1,\n 1,\n 1,\n 1,\n 1,\n 1,\n 1,\n 1,\n 1,\n 1,\n 1,\n 1,\n 1,\n 1,\n 1,\n 1,\n 1,\n 1,\n 1,\n 1,\n 1,\n 1,\n 1,\n 1,\n 1,\n 1,\n 1,\n 1,\n 1,\n 1,\n 1,\n 1,\n 1,\n 1,\n 1,\n 1,\n 1,\n 1,\n 1,\n 1,\n 1,\n 1,\n 1,\n 1,\n 1,\n 1,\n 1,\n 1,\n 1,\n 1,\n 1,\n 1,\n 1,\n 1,\n 1,\n 1,\n 2,\n 2,\n 2,\n 2,\n 2,\n 2,\n 2,\n 2,\n 2,\n 2,\n 2,\n 2,\n 2,\n 2,\n 2,\n 2,\n 2,\n 2,\n 2,\n 2,\n 2,\n 2,\n 2,\n 2,\n 2,\n 2,\n 2,\n 2,\n 2,\n 2,\n 2,\n 2,\n 2,\n 2,\n 2,\n 2,\n 2,\n 2,\n 2,\n 2,\n 2,\n 2,\n 2,\n 2,\n 2,\n 2,\n 2,\n 2,\n 2,\n 2,\n 2,\n 2,\n 2,\n 2,\n 2,\n 2,\n 2,\n 2,\n 2,\n 2,\n 2,\n 2,\n 2,\n 2,\n 2,\n 2,\n 2,\n 2,\n 2,\n 2,\n 2,\n 2,\n 2,\n 2,\n 2,\n 2,\n 2,\n 2,\n 1,\n 1,\n 1,\n 1,\n 1,\n 1,\n 1,\n 1,\n 1,\n 1,\n 1,\n 1,\n 1,\n 1,\n 1,\n 1,\n 1,\n 1,\n 1,\n 1,\n 1,\n 1,\n 1,\n 1,\n 1,\n 1,\n 1,\n 1,\n 1,\n 1,\n 1,\n 1,\n 1,\n 1,\n 1,\n 1,\n 1,\n 1,\n 1,\n 1,\n 1,\n 1,\n 1,\n 1,\n 1,\n 1,\n 1,\n 1,\n 1,\n 1,\n 1,\n 1,\n 1,\n 1,\n 1,\n 1,\n 1,\n 1,\n 1,\n 1,\n 1,\n 1,\n 1,\n 1,\n 1,\n 1,\n 1,\n 1,\n 1,\n 1,\n 1,\n 1,\n 1,\n 1,\n 1,\n 1,\n 1,\n 1,\n 2,\n 2,\n 2,\n 2,\n 2,\n 2,\n 2,\n 2,\n 2,\n 2,\n 2,\n 2,\n 2,\n 2,\n 2,\n 2,\n 2,\n 2,\n 2,\n 2,\n 2,\n 2,\n 2,\n 2,\n 2,\n 2,\n 2,\n 2,\n 2,\n 2,\n 2,\n 2,\n 2,\n 2,\n 2,\n 2,\n 2,\n 2,\n 2,\n 2,\n 2,\n 2,\n 2,\n 2,\n 2,\n 2,\n 2,\n 2,\n 2,\n 2,\n 2,\n 2,\n 2,\n 2,\n 2,\n 2,\n 2,\n 2,\n 2,\n 2,\n 2,\n 2,\n 2,\n 2,\n ...]"
     },
     "execution_count": 38,
     "metadata": {},
     "output_type": "execute_result"
    }
   ],
   "source": [
    "str_type_list = []\n",
    "names = list(new_df.columns)\n",
    "r_i = names.index('Row') + 1\n",
    "for row in new_df.itertuples():\n",
    "    \n",
    "    a = to_merge_df['labels'][row[r_i]] if row[r_i] in list(to_merge_df.index) else None\n",
    "    str_type_list.append(a)\n",
    "str_type_list"
   ],
   "metadata": {
    "collapsed": false,
    "ExecuteTime": {
     "end_time": "2024-02-13T09:32:54.491046500Z",
     "start_time": "2024-02-13T09:32:54.320086400Z"
    }
   },
   "id": "643fe184aae6e370"
  },
  {
   "cell_type": "code",
   "execution_count": 39,
   "outputs": [
    {
     "data": {
      "text/plain": "            Unnamed: 0.1            Content      Start_content  Relative_Id  \\\nUnnamed: 0                                                                    \n0                      0                NaN                NaN            1   \n1                      1                NaN                NaN            2   \n2                      2  План на сл. месяц  План на сл. месяц            3   \n3                      3          Вид работ          Вид работ            4   \n4                      4           Ед. изм.           Ед. изм.            5   \n...                  ...                ...                ...          ...   \n5533                5533                  0                  0         4849   \n5534                5534                  0                  0         4850   \n5535                5535                  0                  0         4851   \n5536                5536                  0                  0         4852   \n5537                5537                  0                  0         4853   \n\n                Type  Row  Column  Length  Vertically_merged  \\\nUnnamed: 0                                                     \n0           NoneType   14       2       0              False   \n1           NoneType   14       3       0              False   \n2                str   14       4      17               True   \n3                str   14       5       9               True   \n4                str   14       6       8               True   \n...              ...  ...     ...     ...                ...   \n5533             int   84      75       0              False   \n5534             int   84      76       0              False   \n5535             int   84      77       0              False   \n5536             int   84      78       0              False   \n5537             int   84      79       0              False   \n\n            Horizontally_merged  Font_selection  Top_border  Bottom_border  \\\nUnnamed: 0                                                                   \n0                         False           False       False          False   \n1                         False           False       False          False   \n2                         False            True        True          False   \n3                         False            True        True           True   \n4                         False            True        True           True   \n...                         ...             ...         ...            ...   \n5533                      False           False        True          False   \n5534                      False           False        True          False   \n5535                      False           False        True          False   \n5536                      False           False        True          False   \n5537                      False           False        True          False   \n\n            Left_border  Right_border         Color Font_color  Is_Formula  \\\nUnnamed: 0                                                                   \n0                 False         False  ['00000000']          1       False   \n1                 False         False  ['00000000']          1       False   \n2                  True         False           [8]          0       False   \n3                  True          True           [8]          0       False   \n4                  True          True           [8]          0       False   \n...                 ...           ...           ...        ...         ...   \n5533               True          True  ['FFFFFFFF']          0       False   \n5534               True          True  ['FFFFFFFF']          0       False   \n5535               True          True  ['FFFFFFFF']          0       False   \n5536               True          True  ['FFFFFFFF']          0       False   \n5537               True          True  ['FFFFFFFF']          0       False   \n\n             cluster_name  row_type  \nUnnamed: 0                           \n0           normal_empty       -1.0  \n1           normal_empty       -1.0  \n2                 header       -1.0  \n3                 header       -1.0  \n4                 header       -1.0  \n...                   ...       ...  \n5533                  NaN       1.0  \n5534                  NaN       1.0  \n5535                  NaN       1.0  \n5536                  NaN       1.0  \n5537                  NaN       1.0  \n\n[5538 rows x 20 columns]",
      "text/html": "<div>\n<style scoped>\n    .dataframe tbody tr th:only-of-type {\n        vertical-align: middle;\n    }\n\n    .dataframe tbody tr th {\n        vertical-align: top;\n    }\n\n    .dataframe thead th {\n        text-align: right;\n    }\n</style>\n<table border=\"1\" class=\"dataframe\">\n  <thead>\n    <tr style=\"text-align: right;\">\n      <th></th>\n      <th>Unnamed: 0.1</th>\n      <th>Content</th>\n      <th>Start_content</th>\n      <th>Relative_Id</th>\n      <th>Type</th>\n      <th>Row</th>\n      <th>Column</th>\n      <th>Length</th>\n      <th>Vertically_merged</th>\n      <th>Horizontally_merged</th>\n      <th>Font_selection</th>\n      <th>Top_border</th>\n      <th>Bottom_border</th>\n      <th>Left_border</th>\n      <th>Right_border</th>\n      <th>Color</th>\n      <th>Font_color</th>\n      <th>Is_Formula</th>\n      <th>cluster_name</th>\n      <th>row_type</th>\n    </tr>\n    <tr>\n      <th>Unnamed: 0</th>\n      <th></th>\n      <th></th>\n      <th></th>\n      <th></th>\n      <th></th>\n      <th></th>\n      <th></th>\n      <th></th>\n      <th></th>\n      <th></th>\n      <th></th>\n      <th></th>\n      <th></th>\n      <th></th>\n      <th></th>\n      <th></th>\n      <th></th>\n      <th></th>\n      <th></th>\n      <th></th>\n    </tr>\n  </thead>\n  <tbody>\n    <tr>\n      <th>0</th>\n      <td>0</td>\n      <td>NaN</td>\n      <td>NaN</td>\n      <td>1</td>\n      <td>NoneType</td>\n      <td>14</td>\n      <td>2</td>\n      <td>0</td>\n      <td>False</td>\n      <td>False</td>\n      <td>False</td>\n      <td>False</td>\n      <td>False</td>\n      <td>False</td>\n      <td>False</td>\n      <td>['00000000']</td>\n      <td>1</td>\n      <td>False</td>\n      <td>normal_empty</td>\n      <td>-1.0</td>\n    </tr>\n    <tr>\n      <th>1</th>\n      <td>1</td>\n      <td>NaN</td>\n      <td>NaN</td>\n      <td>2</td>\n      <td>NoneType</td>\n      <td>14</td>\n      <td>3</td>\n      <td>0</td>\n      <td>False</td>\n      <td>False</td>\n      <td>False</td>\n      <td>False</td>\n      <td>False</td>\n      <td>False</td>\n      <td>False</td>\n      <td>['00000000']</td>\n      <td>1</td>\n      <td>False</td>\n      <td>normal_empty</td>\n      <td>-1.0</td>\n    </tr>\n    <tr>\n      <th>2</th>\n      <td>2</td>\n      <td>План на сл. месяц</td>\n      <td>План на сл. месяц</td>\n      <td>3</td>\n      <td>str</td>\n      <td>14</td>\n      <td>4</td>\n      <td>17</td>\n      <td>True</td>\n      <td>False</td>\n      <td>True</td>\n      <td>True</td>\n      <td>False</td>\n      <td>True</td>\n      <td>False</td>\n      <td>[8]</td>\n      <td>0</td>\n      <td>False</td>\n      <td>header</td>\n      <td>-1.0</td>\n    </tr>\n    <tr>\n      <th>3</th>\n      <td>3</td>\n      <td>Вид работ</td>\n      <td>Вид работ</td>\n      <td>4</td>\n      <td>str</td>\n      <td>14</td>\n      <td>5</td>\n      <td>9</td>\n      <td>True</td>\n      <td>False</td>\n      <td>True</td>\n      <td>True</td>\n      <td>True</td>\n      <td>True</td>\n      <td>True</td>\n      <td>[8]</td>\n      <td>0</td>\n      <td>False</td>\n      <td>header</td>\n      <td>-1.0</td>\n    </tr>\n    <tr>\n      <th>4</th>\n      <td>4</td>\n      <td>Ед. изм.</td>\n      <td>Ед. изм.</td>\n      <td>5</td>\n      <td>str</td>\n      <td>14</td>\n      <td>6</td>\n      <td>8</td>\n      <td>True</td>\n      <td>False</td>\n      <td>True</td>\n      <td>True</td>\n      <td>True</td>\n      <td>True</td>\n      <td>True</td>\n      <td>[8]</td>\n      <td>0</td>\n      <td>False</td>\n      <td>header</td>\n      <td>-1.0</td>\n    </tr>\n    <tr>\n      <th>...</th>\n      <td>...</td>\n      <td>...</td>\n      <td>...</td>\n      <td>...</td>\n      <td>...</td>\n      <td>...</td>\n      <td>...</td>\n      <td>...</td>\n      <td>...</td>\n      <td>...</td>\n      <td>...</td>\n      <td>...</td>\n      <td>...</td>\n      <td>...</td>\n      <td>...</td>\n      <td>...</td>\n      <td>...</td>\n      <td>...</td>\n      <td>...</td>\n      <td>...</td>\n    </tr>\n    <tr>\n      <th>5533</th>\n      <td>5533</td>\n      <td>0</td>\n      <td>0</td>\n      <td>4849</td>\n      <td>int</td>\n      <td>84</td>\n      <td>75</td>\n      <td>0</td>\n      <td>False</td>\n      <td>False</td>\n      <td>False</td>\n      <td>True</td>\n      <td>False</td>\n      <td>True</td>\n      <td>True</td>\n      <td>['FFFFFFFF']</td>\n      <td>0</td>\n      <td>False</td>\n      <td>NaN</td>\n      <td>1.0</td>\n    </tr>\n    <tr>\n      <th>5534</th>\n      <td>5534</td>\n      <td>0</td>\n      <td>0</td>\n      <td>4850</td>\n      <td>int</td>\n      <td>84</td>\n      <td>76</td>\n      <td>0</td>\n      <td>False</td>\n      <td>False</td>\n      <td>False</td>\n      <td>True</td>\n      <td>False</td>\n      <td>True</td>\n      <td>True</td>\n      <td>['FFFFFFFF']</td>\n      <td>0</td>\n      <td>False</td>\n      <td>NaN</td>\n      <td>1.0</td>\n    </tr>\n    <tr>\n      <th>5535</th>\n      <td>5535</td>\n      <td>0</td>\n      <td>0</td>\n      <td>4851</td>\n      <td>int</td>\n      <td>84</td>\n      <td>77</td>\n      <td>0</td>\n      <td>False</td>\n      <td>False</td>\n      <td>False</td>\n      <td>True</td>\n      <td>False</td>\n      <td>True</td>\n      <td>True</td>\n      <td>['FFFFFFFF']</td>\n      <td>0</td>\n      <td>False</td>\n      <td>NaN</td>\n      <td>1.0</td>\n    </tr>\n    <tr>\n      <th>5536</th>\n      <td>5536</td>\n      <td>0</td>\n      <td>0</td>\n      <td>4852</td>\n      <td>int</td>\n      <td>84</td>\n      <td>78</td>\n      <td>0</td>\n      <td>False</td>\n      <td>False</td>\n      <td>False</td>\n      <td>True</td>\n      <td>False</td>\n      <td>True</td>\n      <td>True</td>\n      <td>['FFFFFFFF']</td>\n      <td>0</td>\n      <td>False</td>\n      <td>NaN</td>\n      <td>1.0</td>\n    </tr>\n    <tr>\n      <th>5537</th>\n      <td>5537</td>\n      <td>0</td>\n      <td>0</td>\n      <td>4853</td>\n      <td>int</td>\n      <td>84</td>\n      <td>79</td>\n      <td>0</td>\n      <td>False</td>\n      <td>False</td>\n      <td>False</td>\n      <td>True</td>\n      <td>False</td>\n      <td>True</td>\n      <td>True</td>\n      <td>['FFFFFFFF']</td>\n      <td>0</td>\n      <td>False</td>\n      <td>NaN</td>\n      <td>1.0</td>\n    </tr>\n  </tbody>\n</table>\n<p>5538 rows × 20 columns</p>\n</div>"
     },
     "execution_count": 39,
     "metadata": {},
     "output_type": "execute_result"
    }
   ],
   "source": [
    "new_df['row_type'] = str_type_list\n",
    "new_df['row_type'] = new_df['row_type'].fillna(-1)\n",
    "new_df"
   ],
   "metadata": {
    "collapsed": false,
    "ExecuteTime": {
     "end_time": "2024-02-13T09:32:54.648646800Z",
     "start_time": "2024-02-13T09:32:54.428022200Z"
    }
   },
   "id": "135fa384a6b68819"
  },
  {
   "cell_type": "code",
   "execution_count": 40,
   "outputs": [],
   "source": [
    "new_df.to_csv('processed_tables/2_parsed.csv')"
   ],
   "metadata": {
    "collapsed": false,
    "ExecuteTime": {
     "end_time": "2024-02-13T09:32:54.651647600Z",
     "start_time": "2024-02-13T09:32:54.444982600Z"
    }
   },
   "id": "d0fd3ae40f925362"
  },
  {
   "cell_type": "code",
   "execution_count": 40,
   "outputs": [],
   "source": [],
   "metadata": {
    "collapsed": false,
    "ExecuteTime": {
     "end_time": "2024-02-13T09:32:54.652646800Z",
     "start_time": "2024-02-13T09:32:54.476015900Z"
    }
   },
   "id": "3e8f4c8f7dfdc31e"
  }
 ],
 "metadata": {
  "kernelspec": {
   "display_name": "Python 3",
   "language": "python",
   "name": "python3"
  },
  "language_info": {
   "codemirror_mode": {
    "name": "ipython",
    "version": 2
   },
   "file_extension": ".py",
   "mimetype": "text/x-python",
   "name": "python",
   "nbconvert_exporter": "python",
   "pygments_lexer": "ipython2",
   "version": "2.7.6"
  }
 },
 "nbformat": 4,
 "nbformat_minor": 5
}
