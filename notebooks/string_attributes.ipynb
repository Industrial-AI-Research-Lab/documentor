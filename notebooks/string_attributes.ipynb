{
 "cells": [
  {
   "cell_type": "code",
   "execution_count": 1,
   "outputs": [],
   "source": [
    "import numpy as np\n",
    "import pandas as pd\n",
    "from datetime import datetime, time"
   ],
   "metadata": {
    "collapsed": false,
    "ExecuteTime": {
     "end_time": "2024-01-12T08:10:50.559338500Z",
     "start_time": "2024-01-12T08:10:50.147206700Z"
    }
   },
   "id": "802d7125cd27eef0"
  },
  {
   "cell_type": "code",
   "execution_count": 2,
   "outputs": [
    {
     "data": {
      "text/plain": "              0         1         2         3         4         5         6  \\\n0      0.832025 -0.098219  0.557286 -0.131606 -0.023207 -0.015569 -0.068460   \n1      0.811220 -0.168374  0.320172 -0.030123 -0.074075 -0.063746  0.003830   \n2      0.900355 -0.189398  0.600026 -0.163138 -0.078280 -0.000961 -0.041943   \n3      0.830736 -0.173297  0.551576 -0.108380 -0.017773  0.041262 -0.131379   \n4      0.909085 -0.165126  0.572602 -0.111072 -0.090328  0.020519  0.025812   \n...         ...       ...       ...       ...       ...       ...       ...   \n14495 -0.169613  0.014374  0.008841 -0.003854 -0.002229 -0.001306 -0.000126   \n14496 -0.169613  0.014374  0.008841 -0.003854 -0.002229 -0.001306 -0.000126   \n14497 -0.169613  0.014374  0.008841 -0.003854 -0.002229 -0.001306 -0.000126   \n14498 -0.169613  0.014374  0.008841 -0.003854 -0.002229 -0.001306 -0.000126   \n14499 -0.169613  0.014374  0.008841 -0.003854 -0.002229 -0.001306 -0.000126   \n\n              7         8         9  ...  Left_border  Right_border     Color  \\\n0     -0.052060  0.086751  0.008642  ...            1             1  00000000   \n1      0.058204  0.117574  0.073119  ...            1             1  00000000   \n2     -0.152666 -0.046957 -0.008726  ...            1             1  00000000   \n3      0.042067  0.146008  0.070063  ...            1             1  00000000   \n4      0.022236  0.004735 -0.086854  ...            1             1  00000000   \n...         ...       ...       ...  ...          ...           ...       ...   \n14495  0.000239 -0.000311  0.000771  ...            0             0  00000000   \n14496  0.000239 -0.000311  0.000771  ...            0             0  00000000   \n14497  0.000239 -0.000311  0.000771  ...            0             0  00000000   \n14498  0.000239 -0.000311  0.000771  ...            0             0  00000000   \n14499  0.000239 -0.000311  0.000771  ...            0             0  00000000   \n\n       Is_Formula                   Content             Start_content  \\\n0               0       Идентификатор GUID        Идентификатор GUID    \n1               0                   № \\nп/п                   № \\nп/п   \n2               0        Наименование работ        Наименование работ   \n3               0     Подрядная организация     Подрядная организация   \n4               0  Начало работ по договору  Начало работ по договору   \n...           ...                       ...                       ...   \n14495           0                       NaN                       NaN   \n14496           0                       NaN                       NaN   \n14497           0                       NaN                       NaN   \n14498           0                       NaN                       NaN   \n14499           0                       NaN                       NaN   \n\n       row_context  col_context  env_context      Type  \n0         0.007593    -0.014346     0.059867       str  \n1         0.000695     0.064808    -0.054647       str  \n2         0.002845    -0.007190    -0.009373       str  \n3         0.070292    -0.213234     0.008260       str  \n4         0.061422    -0.152553    -0.019089       str  \n...            ...          ...          ...       ...  \n14495    -0.112327    -0.086781    -0.057361  NoneType  \n14496    -0.040166     0.072416     0.018926  NoneType  \n14497     0.136969     0.025745     0.036318  NoneType  \n14498     0.133211    -0.010999    -0.017997  NoneType  \n14499    -0.082871    -0.071062    -0.055520  NoneType  \n\n[14500 rows x 39 columns]",
      "text/html": "<div>\n<style scoped>\n    .dataframe tbody tr th:only-of-type {\n        vertical-align: middle;\n    }\n\n    .dataframe tbody tr th {\n        vertical-align: top;\n    }\n\n    .dataframe thead th {\n        text-align: right;\n    }\n</style>\n<table border=\"1\" class=\"dataframe\">\n  <thead>\n    <tr style=\"text-align: right;\">\n      <th></th>\n      <th>0</th>\n      <th>1</th>\n      <th>2</th>\n      <th>3</th>\n      <th>4</th>\n      <th>5</th>\n      <th>6</th>\n      <th>7</th>\n      <th>8</th>\n      <th>9</th>\n      <th>...</th>\n      <th>Left_border</th>\n      <th>Right_border</th>\n      <th>Color</th>\n      <th>Is_Formula</th>\n      <th>Content</th>\n      <th>Start_content</th>\n      <th>row_context</th>\n      <th>col_context</th>\n      <th>env_context</th>\n      <th>Type</th>\n    </tr>\n  </thead>\n  <tbody>\n    <tr>\n      <th>0</th>\n      <td>0.832025</td>\n      <td>-0.098219</td>\n      <td>0.557286</td>\n      <td>-0.131606</td>\n      <td>-0.023207</td>\n      <td>-0.015569</td>\n      <td>-0.068460</td>\n      <td>-0.052060</td>\n      <td>0.086751</td>\n      <td>0.008642</td>\n      <td>...</td>\n      <td>1</td>\n      <td>1</td>\n      <td>00000000</td>\n      <td>0</td>\n      <td>Идентификатор GUID</td>\n      <td>Идентификатор GUID</td>\n      <td>0.007593</td>\n      <td>-0.014346</td>\n      <td>0.059867</td>\n      <td>str</td>\n    </tr>\n    <tr>\n      <th>1</th>\n      <td>0.811220</td>\n      <td>-0.168374</td>\n      <td>0.320172</td>\n      <td>-0.030123</td>\n      <td>-0.074075</td>\n      <td>-0.063746</td>\n      <td>0.003830</td>\n      <td>0.058204</td>\n      <td>0.117574</td>\n      <td>0.073119</td>\n      <td>...</td>\n      <td>1</td>\n      <td>1</td>\n      <td>00000000</td>\n      <td>0</td>\n      <td>№ \\nп/п</td>\n      <td>№ \\nп/п</td>\n      <td>0.000695</td>\n      <td>0.064808</td>\n      <td>-0.054647</td>\n      <td>str</td>\n    </tr>\n    <tr>\n      <th>2</th>\n      <td>0.900355</td>\n      <td>-0.189398</td>\n      <td>0.600026</td>\n      <td>-0.163138</td>\n      <td>-0.078280</td>\n      <td>-0.000961</td>\n      <td>-0.041943</td>\n      <td>-0.152666</td>\n      <td>-0.046957</td>\n      <td>-0.008726</td>\n      <td>...</td>\n      <td>1</td>\n      <td>1</td>\n      <td>00000000</td>\n      <td>0</td>\n      <td>Наименование работ</td>\n      <td>Наименование работ</td>\n      <td>0.002845</td>\n      <td>-0.007190</td>\n      <td>-0.009373</td>\n      <td>str</td>\n    </tr>\n    <tr>\n      <th>3</th>\n      <td>0.830736</td>\n      <td>-0.173297</td>\n      <td>0.551576</td>\n      <td>-0.108380</td>\n      <td>-0.017773</td>\n      <td>0.041262</td>\n      <td>-0.131379</td>\n      <td>0.042067</td>\n      <td>0.146008</td>\n      <td>0.070063</td>\n      <td>...</td>\n      <td>1</td>\n      <td>1</td>\n      <td>00000000</td>\n      <td>0</td>\n      <td>Подрядная организация</td>\n      <td>Подрядная организация</td>\n      <td>0.070292</td>\n      <td>-0.213234</td>\n      <td>0.008260</td>\n      <td>str</td>\n    </tr>\n    <tr>\n      <th>4</th>\n      <td>0.909085</td>\n      <td>-0.165126</td>\n      <td>0.572602</td>\n      <td>-0.111072</td>\n      <td>-0.090328</td>\n      <td>0.020519</td>\n      <td>0.025812</td>\n      <td>0.022236</td>\n      <td>0.004735</td>\n      <td>-0.086854</td>\n      <td>...</td>\n      <td>1</td>\n      <td>1</td>\n      <td>00000000</td>\n      <td>0</td>\n      <td>Начало работ по договору</td>\n      <td>Начало работ по договору</td>\n      <td>0.061422</td>\n      <td>-0.152553</td>\n      <td>-0.019089</td>\n      <td>str</td>\n    </tr>\n    <tr>\n      <th>...</th>\n      <td>...</td>\n      <td>...</td>\n      <td>...</td>\n      <td>...</td>\n      <td>...</td>\n      <td>...</td>\n      <td>...</td>\n      <td>...</td>\n      <td>...</td>\n      <td>...</td>\n      <td>...</td>\n      <td>...</td>\n      <td>...</td>\n      <td>...</td>\n      <td>...</td>\n      <td>...</td>\n      <td>...</td>\n      <td>...</td>\n      <td>...</td>\n      <td>...</td>\n      <td>...</td>\n    </tr>\n    <tr>\n      <th>14495</th>\n      <td>-0.169613</td>\n      <td>0.014374</td>\n      <td>0.008841</td>\n      <td>-0.003854</td>\n      <td>-0.002229</td>\n      <td>-0.001306</td>\n      <td>-0.000126</td>\n      <td>0.000239</td>\n      <td>-0.000311</td>\n      <td>0.000771</td>\n      <td>...</td>\n      <td>0</td>\n      <td>0</td>\n      <td>00000000</td>\n      <td>0</td>\n      <td>NaN</td>\n      <td>NaN</td>\n      <td>-0.112327</td>\n      <td>-0.086781</td>\n      <td>-0.057361</td>\n      <td>NoneType</td>\n    </tr>\n    <tr>\n      <th>14496</th>\n      <td>-0.169613</td>\n      <td>0.014374</td>\n      <td>0.008841</td>\n      <td>-0.003854</td>\n      <td>-0.002229</td>\n      <td>-0.001306</td>\n      <td>-0.000126</td>\n      <td>0.000239</td>\n      <td>-0.000311</td>\n      <td>0.000771</td>\n      <td>...</td>\n      <td>0</td>\n      <td>0</td>\n      <td>00000000</td>\n      <td>0</td>\n      <td>NaN</td>\n      <td>NaN</td>\n      <td>-0.040166</td>\n      <td>0.072416</td>\n      <td>0.018926</td>\n      <td>NoneType</td>\n    </tr>\n    <tr>\n      <th>14497</th>\n      <td>-0.169613</td>\n      <td>0.014374</td>\n      <td>0.008841</td>\n      <td>-0.003854</td>\n      <td>-0.002229</td>\n      <td>-0.001306</td>\n      <td>-0.000126</td>\n      <td>0.000239</td>\n      <td>-0.000311</td>\n      <td>0.000771</td>\n      <td>...</td>\n      <td>0</td>\n      <td>0</td>\n      <td>00000000</td>\n      <td>0</td>\n      <td>NaN</td>\n      <td>NaN</td>\n      <td>0.136969</td>\n      <td>0.025745</td>\n      <td>0.036318</td>\n      <td>NoneType</td>\n    </tr>\n    <tr>\n      <th>14498</th>\n      <td>-0.169613</td>\n      <td>0.014374</td>\n      <td>0.008841</td>\n      <td>-0.003854</td>\n      <td>-0.002229</td>\n      <td>-0.001306</td>\n      <td>-0.000126</td>\n      <td>0.000239</td>\n      <td>-0.000311</td>\n      <td>0.000771</td>\n      <td>...</td>\n      <td>0</td>\n      <td>0</td>\n      <td>00000000</td>\n      <td>0</td>\n      <td>NaN</td>\n      <td>NaN</td>\n      <td>0.133211</td>\n      <td>-0.010999</td>\n      <td>-0.017997</td>\n      <td>NoneType</td>\n    </tr>\n    <tr>\n      <th>14499</th>\n      <td>-0.169613</td>\n      <td>0.014374</td>\n      <td>0.008841</td>\n      <td>-0.003854</td>\n      <td>-0.002229</td>\n      <td>-0.001306</td>\n      <td>-0.000126</td>\n      <td>0.000239</td>\n      <td>-0.000311</td>\n      <td>0.000771</td>\n      <td>...</td>\n      <td>0</td>\n      <td>0</td>\n      <td>00000000</td>\n      <td>0</td>\n      <td>NaN</td>\n      <td>NaN</td>\n      <td>-0.082871</td>\n      <td>-0.071062</td>\n      <td>-0.055520</td>\n      <td>NoneType</td>\n    </tr>\n  </tbody>\n</table>\n<p>14500 rows × 39 columns</p>\n</div>"
     },
     "execution_count": 2,
     "metadata": {},
     "output_type": "execute_result"
    }
   ],
   "source": [
    "new_df = pd.read_excel('processed_tables/new_5.xlsx', sheet_name='Sheet1', index_col='Unnamed: 0')\n",
    "new_df"
   ],
   "metadata": {
    "collapsed": false,
    "ExecuteTime": {
     "end_time": "2024-01-12T08:10:55.363651300Z",
     "start_time": "2024-01-12T08:10:50.561337400Z"
    }
   },
   "id": "6bbcfa822b06ebfd"
  },
  {
   "cell_type": "code",
   "execution_count": 3,
   "outputs": [],
   "source": [
    "ndf = pd.DataFrame()\n",
    "ndf['Row'] = new_df['Row']\n",
    "ndf['Column'] = new_df['Column']\n",
    "ndf['Color'] = new_df['Color']\n",
    "ndf['Vertically_merged'] = new_df['Vertically_merged']\n",
    "ndf['Horizontally_merged'] = new_df['Horizontally_merged']\n",
    "ndf['Font_selection'] = new_df['Font_selection']\n",
    "ndf['Is_Formula'] = new_df['Is_Formula']\n",
    "ndf['Start_content'] = new_df['Start_content']\n",
    "ndf['Type'] = new_df['Type']"
   ],
   "metadata": {
    "collapsed": false,
    "ExecuteTime": {
     "end_time": "2024-01-12T08:10:55.392478800Z",
     "start_time": "2024-01-12T08:10:55.367651100Z"
    }
   },
   "id": "96ab0167d26f1019"
  },
  {
   "cell_type": "code",
   "execution_count": 4,
   "outputs": [],
   "source": [
    "r = ndf['Row'].iloc[0]\n",
    "c = ndf['Column'].iloc[0]\n",
    "ndf['Row'] -= r\n",
    "ndf['Column'] -= c"
   ],
   "metadata": {
    "collapsed": false,
    "ExecuteTime": {
     "end_time": "2024-01-12T08:10:55.403478400Z",
     "start_time": "2024-01-12T08:10:55.382751700Z"
    }
   },
   "id": "be634bffea39e020"
  },
  {
   "cell_type": "code",
   "execution_count": 5,
   "outputs": [
    {
     "data": {
      "text/plain": "       Row  Column  Color  Vertically_merged  Horizontally_merged  \\\n0        0       0      0               True                False   \n1        0       1      0               True                False   \n2        0       2      0               True                False   \n3        0       3      0               True                False   \n4        0       4      0               True                False   \n...    ...     ...    ...                ...                  ...   \n14495  124     111      0              False                False   \n14496  124     112      0              False                False   \n14497  124     113      0              False                False   \n14498  124     114      0              False                False   \n14499  124     115      0              False                False   \n\n       Font_selection  Is_Formula  Start_content  Type  \n0                True           0  -4.964131e+18     0  \n1               False           0  -8.834934e+18     0  \n2               False           0   4.126565e+18     0  \n3               False           0   1.987079e+18     0  \n4               False           0  -1.949299e+18     0  \n...               ...         ...            ...   ...  \n14495           False           0            NaN     1  \n14496           False           0            NaN     1  \n14497           False           0            NaN     1  \n14498           False           0            NaN     1  \n14499           False           0            NaN     1  \n\n[14500 rows x 9 columns]",
      "text/html": "<div>\n<style scoped>\n    .dataframe tbody tr th:only-of-type {\n        vertical-align: middle;\n    }\n\n    .dataframe tbody tr th {\n        vertical-align: top;\n    }\n\n    .dataframe thead th {\n        text-align: right;\n    }\n</style>\n<table border=\"1\" class=\"dataframe\">\n  <thead>\n    <tr style=\"text-align: right;\">\n      <th></th>\n      <th>Row</th>\n      <th>Column</th>\n      <th>Color</th>\n      <th>Vertically_merged</th>\n      <th>Horizontally_merged</th>\n      <th>Font_selection</th>\n      <th>Is_Formula</th>\n      <th>Start_content</th>\n      <th>Type</th>\n    </tr>\n  </thead>\n  <tbody>\n    <tr>\n      <th>0</th>\n      <td>0</td>\n      <td>0</td>\n      <td>0</td>\n      <td>True</td>\n      <td>False</td>\n      <td>True</td>\n      <td>0</td>\n      <td>-4.964131e+18</td>\n      <td>0</td>\n    </tr>\n    <tr>\n      <th>1</th>\n      <td>0</td>\n      <td>1</td>\n      <td>0</td>\n      <td>True</td>\n      <td>False</td>\n      <td>False</td>\n      <td>0</td>\n      <td>-8.834934e+18</td>\n      <td>0</td>\n    </tr>\n    <tr>\n      <th>2</th>\n      <td>0</td>\n      <td>2</td>\n      <td>0</td>\n      <td>True</td>\n      <td>False</td>\n      <td>False</td>\n      <td>0</td>\n      <td>4.126565e+18</td>\n      <td>0</td>\n    </tr>\n    <tr>\n      <th>3</th>\n      <td>0</td>\n      <td>3</td>\n      <td>0</td>\n      <td>True</td>\n      <td>False</td>\n      <td>False</td>\n      <td>0</td>\n      <td>1.987079e+18</td>\n      <td>0</td>\n    </tr>\n    <tr>\n      <th>4</th>\n      <td>0</td>\n      <td>4</td>\n      <td>0</td>\n      <td>True</td>\n      <td>False</td>\n      <td>False</td>\n      <td>0</td>\n      <td>-1.949299e+18</td>\n      <td>0</td>\n    </tr>\n    <tr>\n      <th>...</th>\n      <td>...</td>\n      <td>...</td>\n      <td>...</td>\n      <td>...</td>\n      <td>...</td>\n      <td>...</td>\n      <td>...</td>\n      <td>...</td>\n      <td>...</td>\n    </tr>\n    <tr>\n      <th>14495</th>\n      <td>124</td>\n      <td>111</td>\n      <td>0</td>\n      <td>False</td>\n      <td>False</td>\n      <td>False</td>\n      <td>0</td>\n      <td>NaN</td>\n      <td>1</td>\n    </tr>\n    <tr>\n      <th>14496</th>\n      <td>124</td>\n      <td>112</td>\n      <td>0</td>\n      <td>False</td>\n      <td>False</td>\n      <td>False</td>\n      <td>0</td>\n      <td>NaN</td>\n      <td>1</td>\n    </tr>\n    <tr>\n      <th>14497</th>\n      <td>124</td>\n      <td>113</td>\n      <td>0</td>\n      <td>False</td>\n      <td>False</td>\n      <td>False</td>\n      <td>0</td>\n      <td>NaN</td>\n      <td>1</td>\n    </tr>\n    <tr>\n      <th>14498</th>\n      <td>124</td>\n      <td>114</td>\n      <td>0</td>\n      <td>False</td>\n      <td>False</td>\n      <td>False</td>\n      <td>0</td>\n      <td>NaN</td>\n      <td>1</td>\n    </tr>\n    <tr>\n      <th>14499</th>\n      <td>124</td>\n      <td>115</td>\n      <td>0</td>\n      <td>False</td>\n      <td>False</td>\n      <td>False</td>\n      <td>0</td>\n      <td>NaN</td>\n      <td>1</td>\n    </tr>\n  </tbody>\n</table>\n<p>14500 rows × 9 columns</p>\n</div>"
     },
     "execution_count": 5,
     "metadata": {},
     "output_type": "execute_result"
    }
   ],
   "source": [
    "ndf[\"Color\"] = pd.factorize(ndf[\"Color\"])[0]\n",
    "ndf[\"Type\"] = pd.factorize(ndf[\"Type\"])[0]\n",
    "cont = []\n",
    "for i in ndf['Start_content']:\n",
    "    a = type(i)\n",
    "    if isinstance(i, str) or isinstance(i, datetime) or isinstance(i, time):\n",
    "        cont.append(hash(i))\n",
    "    else:\n",
    "        cont.append(i)\n",
    "ndf['Start_content'] = cont\n",
    "ndf"
   ],
   "metadata": {
    "collapsed": false,
    "ExecuteTime": {
     "end_time": "2024-01-12T08:10:55.503884200Z",
     "start_time": "2024-01-12T08:10:55.398479700Z"
    }
   },
   "id": "94cde93da44c479e"
  },
  {
   "cell_type": "code",
   "execution_count": 6,
   "outputs": [],
   "source": [
    "arr = np.empty((ndf.tail(1)['Row'].iloc[0]+1, ndf.tail(1)['Column'].iloc[0]+1), dtype=\"object\")"
   ],
   "metadata": {
    "collapsed": false,
    "ExecuteTime": {
     "end_time": "2024-01-12T08:10:55.535884200Z",
     "start_time": "2024-01-12T08:10:55.430857100Z"
    }
   },
   "id": "c87d1f309113d6e4"
  },
  {
   "cell_type": "code",
   "execution_count": 7,
   "outputs": [],
   "source": [
    "for i, row in ndf.iterrows():\n",
    "    arr[row['Row'], row['Column']] = row.values.tolist()"
   ],
   "metadata": {
    "collapsed": false,
    "ExecuteTime": {
     "end_time": "2024-01-12T08:10:56.146692800Z",
     "start_time": "2024-01-12T08:10:55.444858100Z"
    }
   },
   "id": "7e7c8d530f0a44ce"
  },
  {
   "cell_type": "code",
   "execution_count": 8,
   "outputs": [],
   "source": [
    "mass = []\n",
    "for i in range(len(arr)):\n",
    "    a = []\n",
    "    for j in range(len(arr[i])):\n",
    "        a.extend(arr[i][j])\n",
    "    mass.append(a)"
   ],
   "metadata": {
    "collapsed": false,
    "ExecuteTime": {
     "end_time": "2024-01-12T08:10:56.190652700Z",
     "start_time": "2024-01-12T08:10:56.150652500Z"
    }
   },
   "id": "5cbc8fbe365ac422"
  },
  {
   "cell_type": "code",
   "execution_count": 9,
   "outputs": [],
   "source": [
    "df = pd.DataFrame(data=mass)\n",
    "df = df.fillna(0)"
   ],
   "metadata": {
    "collapsed": false,
    "ExecuteTime": {
     "end_time": "2024-01-12T08:10:56.231643700Z",
     "start_time": "2024-01-12T08:10:56.189652700Z"
    }
   },
   "id": "ecd1bd370e05cb1c"
  },
  {
   "cell_type": "code",
   "execution_count": 10,
   "outputs": [
    {
     "data": {
      "text/plain": "     0     1     2      3      4      5     6             7     8     9     \\\n0       0     0     0   True  False   True     0 -4.964131e+18     0     0   \n1       1     0     0   True  False  False     0  0.000000e+00     1     1   \n2       2     0     0   True  False  False     0  0.000000e+00     1     2   \n3       3     0     0  False  False  False     0  0.000000e+00     1     3   \n4       4     0     2  False  False  False     0  0.000000e+00     1     4   \n..    ...   ...   ...    ...    ...    ...   ...           ...   ...   ...   \n120   120     0     0   True  False  False     0  0.000000e+00     1   120   \n121   121     0     0   True  False  False     0  0.000000e+00     1   121   \n122   122     0     0   True  False  False     0  0.000000e+00     1   122   \n123   123     0     0   True  False  False     0  0.000000e+00     1   123   \n124   124     0     0  False  False  False     0  0.000000e+00     1   124   \n\n     ...  1034  1035  1036  1037   1038   1039   1040  1041          1042  \\\n0    ...     1     0   115     0  False   True  False     0  0.000000e+00   \n1    ...     1     1   115     0  False   True  False     0  0.000000e+00   \n2    ...     3     2   115     0  False  False  False     0  8.953794e+18   \n3    ...     1     3   115     1  False  False  False     0  0.000000e+00   \n4    ...     1     4   115     2  False  False  False     0  0.000000e+00   \n..   ...   ...   ...   ...   ...    ...    ...    ...   ...           ...   \n120  ...     1   120   115     4  False  False  False     0  0.000000e+00   \n121  ...     1   121   115     0  False  False  False     0  0.000000e+00   \n122  ...     1   122   115     4  False  False  False     0  0.000000e+00   \n123  ...     1   123   115     0  False  False  False     0  0.000000e+00   \n124  ...     1   124   115     0  False  False  False     0  0.000000e+00   \n\n     1043  \n0       1  \n1       1  \n2       3  \n3       1  \n4       1  \n..    ...  \n120     1  \n121     1  \n122     1  \n123     1  \n124     1  \n\n[125 rows x 1044 columns]",
      "text/html": "<div>\n<style scoped>\n    .dataframe tbody tr th:only-of-type {\n        vertical-align: middle;\n    }\n\n    .dataframe tbody tr th {\n        vertical-align: top;\n    }\n\n    .dataframe thead th {\n        text-align: right;\n    }\n</style>\n<table border=\"1\" class=\"dataframe\">\n  <thead>\n    <tr style=\"text-align: right;\">\n      <th></th>\n      <th>0</th>\n      <th>1</th>\n      <th>2</th>\n      <th>3</th>\n      <th>4</th>\n      <th>5</th>\n      <th>6</th>\n      <th>7</th>\n      <th>8</th>\n      <th>9</th>\n      <th>...</th>\n      <th>1034</th>\n      <th>1035</th>\n      <th>1036</th>\n      <th>1037</th>\n      <th>1038</th>\n      <th>1039</th>\n      <th>1040</th>\n      <th>1041</th>\n      <th>1042</th>\n      <th>1043</th>\n    </tr>\n  </thead>\n  <tbody>\n    <tr>\n      <th>0</th>\n      <td>0</td>\n      <td>0</td>\n      <td>0</td>\n      <td>True</td>\n      <td>False</td>\n      <td>True</td>\n      <td>0</td>\n      <td>-4.964131e+18</td>\n      <td>0</td>\n      <td>0</td>\n      <td>...</td>\n      <td>1</td>\n      <td>0</td>\n      <td>115</td>\n      <td>0</td>\n      <td>False</td>\n      <td>True</td>\n      <td>False</td>\n      <td>0</td>\n      <td>0.000000e+00</td>\n      <td>1</td>\n    </tr>\n    <tr>\n      <th>1</th>\n      <td>1</td>\n      <td>0</td>\n      <td>0</td>\n      <td>True</td>\n      <td>False</td>\n      <td>False</td>\n      <td>0</td>\n      <td>0.000000e+00</td>\n      <td>1</td>\n      <td>1</td>\n      <td>...</td>\n      <td>1</td>\n      <td>1</td>\n      <td>115</td>\n      <td>0</td>\n      <td>False</td>\n      <td>True</td>\n      <td>False</td>\n      <td>0</td>\n      <td>0.000000e+00</td>\n      <td>1</td>\n    </tr>\n    <tr>\n      <th>2</th>\n      <td>2</td>\n      <td>0</td>\n      <td>0</td>\n      <td>True</td>\n      <td>False</td>\n      <td>False</td>\n      <td>0</td>\n      <td>0.000000e+00</td>\n      <td>1</td>\n      <td>2</td>\n      <td>...</td>\n      <td>3</td>\n      <td>2</td>\n      <td>115</td>\n      <td>0</td>\n      <td>False</td>\n      <td>False</td>\n      <td>False</td>\n      <td>0</td>\n      <td>8.953794e+18</td>\n      <td>3</td>\n    </tr>\n    <tr>\n      <th>3</th>\n      <td>3</td>\n      <td>0</td>\n      <td>0</td>\n      <td>False</td>\n      <td>False</td>\n      <td>False</td>\n      <td>0</td>\n      <td>0.000000e+00</td>\n      <td>1</td>\n      <td>3</td>\n      <td>...</td>\n      <td>1</td>\n      <td>3</td>\n      <td>115</td>\n      <td>1</td>\n      <td>False</td>\n      <td>False</td>\n      <td>False</td>\n      <td>0</td>\n      <td>0.000000e+00</td>\n      <td>1</td>\n    </tr>\n    <tr>\n      <th>4</th>\n      <td>4</td>\n      <td>0</td>\n      <td>2</td>\n      <td>False</td>\n      <td>False</td>\n      <td>False</td>\n      <td>0</td>\n      <td>0.000000e+00</td>\n      <td>1</td>\n      <td>4</td>\n      <td>...</td>\n      <td>1</td>\n      <td>4</td>\n      <td>115</td>\n      <td>2</td>\n      <td>False</td>\n      <td>False</td>\n      <td>False</td>\n      <td>0</td>\n      <td>0.000000e+00</td>\n      <td>1</td>\n    </tr>\n    <tr>\n      <th>...</th>\n      <td>...</td>\n      <td>...</td>\n      <td>...</td>\n      <td>...</td>\n      <td>...</td>\n      <td>...</td>\n      <td>...</td>\n      <td>...</td>\n      <td>...</td>\n      <td>...</td>\n      <td>...</td>\n      <td>...</td>\n      <td>...</td>\n      <td>...</td>\n      <td>...</td>\n      <td>...</td>\n      <td>...</td>\n      <td>...</td>\n      <td>...</td>\n      <td>...</td>\n      <td>...</td>\n    </tr>\n    <tr>\n      <th>120</th>\n      <td>120</td>\n      <td>0</td>\n      <td>0</td>\n      <td>True</td>\n      <td>False</td>\n      <td>False</td>\n      <td>0</td>\n      <td>0.000000e+00</td>\n      <td>1</td>\n      <td>120</td>\n      <td>...</td>\n      <td>1</td>\n      <td>120</td>\n      <td>115</td>\n      <td>4</td>\n      <td>False</td>\n      <td>False</td>\n      <td>False</td>\n      <td>0</td>\n      <td>0.000000e+00</td>\n      <td>1</td>\n    </tr>\n    <tr>\n      <th>121</th>\n      <td>121</td>\n      <td>0</td>\n      <td>0</td>\n      <td>True</td>\n      <td>False</td>\n      <td>False</td>\n      <td>0</td>\n      <td>0.000000e+00</td>\n      <td>1</td>\n      <td>121</td>\n      <td>...</td>\n      <td>1</td>\n      <td>121</td>\n      <td>115</td>\n      <td>0</td>\n      <td>False</td>\n      <td>False</td>\n      <td>False</td>\n      <td>0</td>\n      <td>0.000000e+00</td>\n      <td>1</td>\n    </tr>\n    <tr>\n      <th>122</th>\n      <td>122</td>\n      <td>0</td>\n      <td>0</td>\n      <td>True</td>\n      <td>False</td>\n      <td>False</td>\n      <td>0</td>\n      <td>0.000000e+00</td>\n      <td>1</td>\n      <td>122</td>\n      <td>...</td>\n      <td>1</td>\n      <td>122</td>\n      <td>115</td>\n      <td>4</td>\n      <td>False</td>\n      <td>False</td>\n      <td>False</td>\n      <td>0</td>\n      <td>0.000000e+00</td>\n      <td>1</td>\n    </tr>\n    <tr>\n      <th>123</th>\n      <td>123</td>\n      <td>0</td>\n      <td>0</td>\n      <td>True</td>\n      <td>False</td>\n      <td>False</td>\n      <td>0</td>\n      <td>0.000000e+00</td>\n      <td>1</td>\n      <td>123</td>\n      <td>...</td>\n      <td>1</td>\n      <td>123</td>\n      <td>115</td>\n      <td>0</td>\n      <td>False</td>\n      <td>False</td>\n      <td>False</td>\n      <td>0</td>\n      <td>0.000000e+00</td>\n      <td>1</td>\n    </tr>\n    <tr>\n      <th>124</th>\n      <td>124</td>\n      <td>0</td>\n      <td>0</td>\n      <td>False</td>\n      <td>False</td>\n      <td>False</td>\n      <td>0</td>\n      <td>0.000000e+00</td>\n      <td>1</td>\n      <td>124</td>\n      <td>...</td>\n      <td>1</td>\n      <td>124</td>\n      <td>115</td>\n      <td>0</td>\n      <td>False</td>\n      <td>False</td>\n      <td>False</td>\n      <td>0</td>\n      <td>0.000000e+00</td>\n      <td>1</td>\n    </tr>\n  </tbody>\n</table>\n<p>125 rows × 1044 columns</p>\n</div>"
     },
     "execution_count": 10,
     "metadata": {},
     "output_type": "execute_result"
    }
   ],
   "source": [
    "df"
   ],
   "metadata": {
    "collapsed": false,
    "ExecuteTime": {
     "end_time": "2024-01-12T08:10:56.316059800Z",
     "start_time": "2024-01-12T08:10:56.223644800Z"
    }
   },
   "id": "4c8d0d98269595e7"
  },
  {
   "cell_type": "code",
   "execution_count": 11,
   "outputs": [],
   "source": [
    "from sklearn.cluster import AgglomerativeClustering, DBSCAN, OPTICS, KMeans, SpectralClustering"
   ],
   "metadata": {
    "collapsed": false,
    "ExecuteTime": {
     "end_time": "2024-01-12T08:10:57.306051100Z",
     "start_time": "2024-01-12T08:10:56.257645100Z"
    }
   },
   "id": "fb2f654a8326ac9f"
  },
  {
   "cell_type": "code",
   "execution_count": 12,
   "outputs": [
    {
     "name": "stderr",
     "output_type": "stream",
     "text": [
      "C:\\Users\\user\\AppData\\Local\\Temp\\ipykernel_15068\\319556459.py:3: SettingWithCopyWarning: \n",
      "A value is trying to be set on a copy of a slice from a DataFrame.\n",
      "Try using .loc[row_indexer,col_indexer] = value instead\n",
      "\n",
      "See the caveats in the documentation: https://pandas.pydata.org/pandas-docs/stable/user_guide/indexing.html#returning-a-view-versus-a-copy\n",
      "  df['labels'] = dbs.labels_\n"
     ]
    },
    {
     "data": {
      "text/plain": "       0  1  2      3      4      5  6    7  8    9  ...  1035  1036  1037  \\\n3      3  0  0  False  False  False  0  0.0  1    3  ...     3   115     1   \n4      4  0  2  False  False  False  0  0.0  1    4  ...     4   115     2   \n5      5  0  0   True  False  False  0  0.0  1    5  ...     5   115     4   \n6      6  0  0   True  False  False  0  0.0  1    6  ...     6   115     0   \n7      7  0  0   True  False  False  0  0.0  1    7  ...     7   115     4   \n..   ... .. ..    ...    ...    ... ..  ... ..  ...  ...   ...   ...   ...   \n120  120  0  0   True  False  False  0  0.0  1  120  ...   120   115     4   \n121  121  0  0   True  False  False  0  0.0  1  121  ...   121   115     0   \n122  122  0  0   True  False  False  0  0.0  1  122  ...   122   115     4   \n123  123  0  0   True  False  False  0  0.0  1  123  ...   123   115     0   \n124  124  0  0  False  False  False  0  0.0  1  124  ...   124   115     0   \n\n      1038   1039   1040  1041  1042  1043  labels  \n3    False  False  False     0   0.0     1      -1  \n4    False  False  False     0   0.0     1      -1  \n5    False  False  False     0   0.0     1      -1  \n6    False  False  False     0   0.0     1       0  \n7    False  False  False     0   0.0     1      -1  \n..     ...    ...    ...   ...   ...   ...     ...  \n120  False  False  False     0   0.0     1      -1  \n121  False  False  False     0   0.0     1       0  \n122  False  False  False     0   0.0     1      -1  \n123  False  False  False     0   0.0     1       0  \n124  False  False  False     0   0.0     1      -1  \n\n[122 rows x 1045 columns]",
      "text/html": "<div>\n<style scoped>\n    .dataframe tbody tr th:only-of-type {\n        vertical-align: middle;\n    }\n\n    .dataframe tbody tr th {\n        vertical-align: top;\n    }\n\n    .dataframe thead th {\n        text-align: right;\n    }\n</style>\n<table border=\"1\" class=\"dataframe\">\n  <thead>\n    <tr style=\"text-align: right;\">\n      <th></th>\n      <th>0</th>\n      <th>1</th>\n      <th>2</th>\n      <th>3</th>\n      <th>4</th>\n      <th>5</th>\n      <th>6</th>\n      <th>7</th>\n      <th>8</th>\n      <th>9</th>\n      <th>...</th>\n      <th>1035</th>\n      <th>1036</th>\n      <th>1037</th>\n      <th>1038</th>\n      <th>1039</th>\n      <th>1040</th>\n      <th>1041</th>\n      <th>1042</th>\n      <th>1043</th>\n      <th>labels</th>\n    </tr>\n  </thead>\n  <tbody>\n    <tr>\n      <th>3</th>\n      <td>3</td>\n      <td>0</td>\n      <td>0</td>\n      <td>False</td>\n      <td>False</td>\n      <td>False</td>\n      <td>0</td>\n      <td>0.0</td>\n      <td>1</td>\n      <td>3</td>\n      <td>...</td>\n      <td>3</td>\n      <td>115</td>\n      <td>1</td>\n      <td>False</td>\n      <td>False</td>\n      <td>False</td>\n      <td>0</td>\n      <td>0.0</td>\n      <td>1</td>\n      <td>-1</td>\n    </tr>\n    <tr>\n      <th>4</th>\n      <td>4</td>\n      <td>0</td>\n      <td>2</td>\n      <td>False</td>\n      <td>False</td>\n      <td>False</td>\n      <td>0</td>\n      <td>0.0</td>\n      <td>1</td>\n      <td>4</td>\n      <td>...</td>\n      <td>4</td>\n      <td>115</td>\n      <td>2</td>\n      <td>False</td>\n      <td>False</td>\n      <td>False</td>\n      <td>0</td>\n      <td>0.0</td>\n      <td>1</td>\n      <td>-1</td>\n    </tr>\n    <tr>\n      <th>5</th>\n      <td>5</td>\n      <td>0</td>\n      <td>0</td>\n      <td>True</td>\n      <td>False</td>\n      <td>False</td>\n      <td>0</td>\n      <td>0.0</td>\n      <td>1</td>\n      <td>5</td>\n      <td>...</td>\n      <td>5</td>\n      <td>115</td>\n      <td>4</td>\n      <td>False</td>\n      <td>False</td>\n      <td>False</td>\n      <td>0</td>\n      <td>0.0</td>\n      <td>1</td>\n      <td>-1</td>\n    </tr>\n    <tr>\n      <th>6</th>\n      <td>6</td>\n      <td>0</td>\n      <td>0</td>\n      <td>True</td>\n      <td>False</td>\n      <td>False</td>\n      <td>0</td>\n      <td>0.0</td>\n      <td>1</td>\n      <td>6</td>\n      <td>...</td>\n      <td>6</td>\n      <td>115</td>\n      <td>0</td>\n      <td>False</td>\n      <td>False</td>\n      <td>False</td>\n      <td>0</td>\n      <td>0.0</td>\n      <td>1</td>\n      <td>0</td>\n    </tr>\n    <tr>\n      <th>7</th>\n      <td>7</td>\n      <td>0</td>\n      <td>0</td>\n      <td>True</td>\n      <td>False</td>\n      <td>False</td>\n      <td>0</td>\n      <td>0.0</td>\n      <td>1</td>\n      <td>7</td>\n      <td>...</td>\n      <td>7</td>\n      <td>115</td>\n      <td>4</td>\n      <td>False</td>\n      <td>False</td>\n      <td>False</td>\n      <td>0</td>\n      <td>0.0</td>\n      <td>1</td>\n      <td>-1</td>\n    </tr>\n    <tr>\n      <th>...</th>\n      <td>...</td>\n      <td>...</td>\n      <td>...</td>\n      <td>...</td>\n      <td>...</td>\n      <td>...</td>\n      <td>...</td>\n      <td>...</td>\n      <td>...</td>\n      <td>...</td>\n      <td>...</td>\n      <td>...</td>\n      <td>...</td>\n      <td>...</td>\n      <td>...</td>\n      <td>...</td>\n      <td>...</td>\n      <td>...</td>\n      <td>...</td>\n      <td>...</td>\n      <td>...</td>\n    </tr>\n    <tr>\n      <th>120</th>\n      <td>120</td>\n      <td>0</td>\n      <td>0</td>\n      <td>True</td>\n      <td>False</td>\n      <td>False</td>\n      <td>0</td>\n      <td>0.0</td>\n      <td>1</td>\n      <td>120</td>\n      <td>...</td>\n      <td>120</td>\n      <td>115</td>\n      <td>4</td>\n      <td>False</td>\n      <td>False</td>\n      <td>False</td>\n      <td>0</td>\n      <td>0.0</td>\n      <td>1</td>\n      <td>-1</td>\n    </tr>\n    <tr>\n      <th>121</th>\n      <td>121</td>\n      <td>0</td>\n      <td>0</td>\n      <td>True</td>\n      <td>False</td>\n      <td>False</td>\n      <td>0</td>\n      <td>0.0</td>\n      <td>1</td>\n      <td>121</td>\n      <td>...</td>\n      <td>121</td>\n      <td>115</td>\n      <td>0</td>\n      <td>False</td>\n      <td>False</td>\n      <td>False</td>\n      <td>0</td>\n      <td>0.0</td>\n      <td>1</td>\n      <td>0</td>\n    </tr>\n    <tr>\n      <th>122</th>\n      <td>122</td>\n      <td>0</td>\n      <td>0</td>\n      <td>True</td>\n      <td>False</td>\n      <td>False</td>\n      <td>0</td>\n      <td>0.0</td>\n      <td>1</td>\n      <td>122</td>\n      <td>...</td>\n      <td>122</td>\n      <td>115</td>\n      <td>4</td>\n      <td>False</td>\n      <td>False</td>\n      <td>False</td>\n      <td>0</td>\n      <td>0.0</td>\n      <td>1</td>\n      <td>-1</td>\n    </tr>\n    <tr>\n      <th>123</th>\n      <td>123</td>\n      <td>0</td>\n      <td>0</td>\n      <td>True</td>\n      <td>False</td>\n      <td>False</td>\n      <td>0</td>\n      <td>0.0</td>\n      <td>1</td>\n      <td>123</td>\n      <td>...</td>\n      <td>123</td>\n      <td>115</td>\n      <td>0</td>\n      <td>False</td>\n      <td>False</td>\n      <td>False</td>\n      <td>0</td>\n      <td>0.0</td>\n      <td>1</td>\n      <td>0</td>\n    </tr>\n    <tr>\n      <th>124</th>\n      <td>124</td>\n      <td>0</td>\n      <td>0</td>\n      <td>False</td>\n      <td>False</td>\n      <td>False</td>\n      <td>0</td>\n      <td>0.0</td>\n      <td>1</td>\n      <td>124</td>\n      <td>...</td>\n      <td>124</td>\n      <td>115</td>\n      <td>0</td>\n      <td>False</td>\n      <td>False</td>\n      <td>False</td>\n      <td>0</td>\n      <td>0.0</td>\n      <td>1</td>\n      <td>-1</td>\n    </tr>\n  </tbody>\n</table>\n<p>122 rows × 1045 columns</p>\n</div>"
     },
     "execution_count": 12,
     "metadata": {},
     "output_type": "execute_result"
    }
   ],
   "source": [
    "df = df[df[0] > 2]\n",
    "dbs = DBSCAN().fit(df)\n",
    "df['labels'] = dbs.labels_\n",
    "first_part_list = df['labels']\n",
    "df"
   ],
   "metadata": {
    "collapsed": false,
    "ExecuteTime": {
     "end_time": "2024-01-12T08:10:57.478042900Z",
     "start_time": "2024-01-12T08:10:57.319046400Z"
    }
   },
   "id": "7d95073f5bf73b6"
  },
  {
   "cell_type": "code",
   "execution_count": 13,
   "outputs": [
    {
     "name": "stderr",
     "output_type": "stream",
     "text": [
      "C:\\Users\\user\\AppData\\Local\\Temp\\ipykernel_15068\\3083680678.py:14: SettingWithCopyWarning: \n",
      "A value is trying to be set on a copy of a slice from a DataFrame.\n",
      "Try using .loc[row_indexer,col_indexer] = value instead\n",
      "\n",
      "See the caveats in the documentation: https://pandas.pydata.org/pandas-docs/stable/user_guide/indexing.html#returning-a-view-versus-a-copy\n",
      "  df1_['labels'] = ald.labels_\n",
      "C:\\Users\\user\\AppData\\Local\\Temp\\ipykernel_15068\\3083680678.py:15: SettingWithCopyWarning: \n",
      "A value is trying to be set on a copy of a slice from a DataFrame.\n",
      "Try using .loc[row_indexer,col_indexer] = value instead\n",
      "\n",
      "See the caveats in the documentation: https://pandas.pydata.org/pandas-docs/stable/user_guide/indexing.html#returning-a-view-versus-a-copy\n",
      "  df1_['labels'] = df1_['labels'].apply(lambda x: x + 2)\n"
     ]
    },
    {
     "data": {
      "text/plain": "         3      4      5     12     13     14     21     22     23     30  \\\n3    False  False  False  False  False  False  False  False   True  False   \n4    False  False  False  False  False   True  False  False   True  False   \n5     True  False  False   True  False  False   True  False  False   True   \n7     True  False  False   True  False  False   True  False  False   True   \n9     True  False  False   True  False  False   True  False  False   True   \n..     ...    ...    ...    ...    ...    ...    ...    ...    ...    ...   \n117  False  False  False  False  False   True  False  False   True  False   \n118   True  False  False   True  False  False   True  False  False   True   \n120   True  False  False   True  False  False   True  False  False   True   \n122   True  False  False   True  False  False   True  False  False   True   \n124  False  False  False  False  False  False  False  False  False  False   \n\n     ...   1020   1021   1022   1029   1030   1031   1038   1039   1040  \\\n3    ...  False  False  False  False  False  False  False  False  False   \n4    ...  False  False  False  False  False  False  False  False  False   \n5    ...  False  False  False  False  False  False  False  False  False   \n7    ...  False  False  False  False  False  False  False  False  False   \n9    ...  False  False  False  False  False  False  False  False  False   \n..   ...    ...    ...    ...    ...    ...    ...    ...    ...    ...   \n117  ...  False  False  False  False  False  False  False  False  False   \n118  ...  False  False  False  False  False  False  False  False  False   \n120  ...  False  False  False  False  False  False  False  False  False   \n122  ...  False  False  False  False  False  False  False  False  False   \n124  ...  False  False  False  False  False  False  False  False  False   \n\n     labels  \n3         1  \n4         2  \n5         3  \n7         3  \n9         3  \n..      ...  \n117       2  \n118       3  \n120       3  \n122       3  \n124       1  \n\n[68 rows x 349 columns]",
      "text/html": "<div>\n<style scoped>\n    .dataframe tbody tr th:only-of-type {\n        vertical-align: middle;\n    }\n\n    .dataframe tbody tr th {\n        vertical-align: top;\n    }\n\n    .dataframe thead th {\n        text-align: right;\n    }\n</style>\n<table border=\"1\" class=\"dataframe\">\n  <thead>\n    <tr style=\"text-align: right;\">\n      <th></th>\n      <th>3</th>\n      <th>4</th>\n      <th>5</th>\n      <th>12</th>\n      <th>13</th>\n      <th>14</th>\n      <th>21</th>\n      <th>22</th>\n      <th>23</th>\n      <th>30</th>\n      <th>...</th>\n      <th>1020</th>\n      <th>1021</th>\n      <th>1022</th>\n      <th>1029</th>\n      <th>1030</th>\n      <th>1031</th>\n      <th>1038</th>\n      <th>1039</th>\n      <th>1040</th>\n      <th>labels</th>\n    </tr>\n  </thead>\n  <tbody>\n    <tr>\n      <th>3</th>\n      <td>False</td>\n      <td>False</td>\n      <td>False</td>\n      <td>False</td>\n      <td>False</td>\n      <td>False</td>\n      <td>False</td>\n      <td>False</td>\n      <td>True</td>\n      <td>False</td>\n      <td>...</td>\n      <td>False</td>\n      <td>False</td>\n      <td>False</td>\n      <td>False</td>\n      <td>False</td>\n      <td>False</td>\n      <td>False</td>\n      <td>False</td>\n      <td>False</td>\n      <td>1</td>\n    </tr>\n    <tr>\n      <th>4</th>\n      <td>False</td>\n      <td>False</td>\n      <td>False</td>\n      <td>False</td>\n      <td>False</td>\n      <td>True</td>\n      <td>False</td>\n      <td>False</td>\n      <td>True</td>\n      <td>False</td>\n      <td>...</td>\n      <td>False</td>\n      <td>False</td>\n      <td>False</td>\n      <td>False</td>\n      <td>False</td>\n      <td>False</td>\n      <td>False</td>\n      <td>False</td>\n      <td>False</td>\n      <td>2</td>\n    </tr>\n    <tr>\n      <th>5</th>\n      <td>True</td>\n      <td>False</td>\n      <td>False</td>\n      <td>True</td>\n      <td>False</td>\n      <td>False</td>\n      <td>True</td>\n      <td>False</td>\n      <td>False</td>\n      <td>True</td>\n      <td>...</td>\n      <td>False</td>\n      <td>False</td>\n      <td>False</td>\n      <td>False</td>\n      <td>False</td>\n      <td>False</td>\n      <td>False</td>\n      <td>False</td>\n      <td>False</td>\n      <td>3</td>\n    </tr>\n    <tr>\n      <th>7</th>\n      <td>True</td>\n      <td>False</td>\n      <td>False</td>\n      <td>True</td>\n      <td>False</td>\n      <td>False</td>\n      <td>True</td>\n      <td>False</td>\n      <td>False</td>\n      <td>True</td>\n      <td>...</td>\n      <td>False</td>\n      <td>False</td>\n      <td>False</td>\n      <td>False</td>\n      <td>False</td>\n      <td>False</td>\n      <td>False</td>\n      <td>False</td>\n      <td>False</td>\n      <td>3</td>\n    </tr>\n    <tr>\n      <th>9</th>\n      <td>True</td>\n      <td>False</td>\n      <td>False</td>\n      <td>True</td>\n      <td>False</td>\n      <td>False</td>\n      <td>True</td>\n      <td>False</td>\n      <td>False</td>\n      <td>True</td>\n      <td>...</td>\n      <td>False</td>\n      <td>False</td>\n      <td>False</td>\n      <td>False</td>\n      <td>False</td>\n      <td>False</td>\n      <td>False</td>\n      <td>False</td>\n      <td>False</td>\n      <td>3</td>\n    </tr>\n    <tr>\n      <th>...</th>\n      <td>...</td>\n      <td>...</td>\n      <td>...</td>\n      <td>...</td>\n      <td>...</td>\n      <td>...</td>\n      <td>...</td>\n      <td>...</td>\n      <td>...</td>\n      <td>...</td>\n      <td>...</td>\n      <td>...</td>\n      <td>...</td>\n      <td>...</td>\n      <td>...</td>\n      <td>...</td>\n      <td>...</td>\n      <td>...</td>\n      <td>...</td>\n      <td>...</td>\n      <td>...</td>\n    </tr>\n    <tr>\n      <th>117</th>\n      <td>False</td>\n      <td>False</td>\n      <td>False</td>\n      <td>False</td>\n      <td>False</td>\n      <td>True</td>\n      <td>False</td>\n      <td>False</td>\n      <td>True</td>\n      <td>False</td>\n      <td>...</td>\n      <td>False</td>\n      <td>False</td>\n      <td>False</td>\n      <td>False</td>\n      <td>False</td>\n      <td>False</td>\n      <td>False</td>\n      <td>False</td>\n      <td>False</td>\n      <td>2</td>\n    </tr>\n    <tr>\n      <th>118</th>\n      <td>True</td>\n      <td>False</td>\n      <td>False</td>\n      <td>True</td>\n      <td>False</td>\n      <td>False</td>\n      <td>True</td>\n      <td>False</td>\n      <td>False</td>\n      <td>True</td>\n      <td>...</td>\n      <td>False</td>\n      <td>False</td>\n      <td>False</td>\n      <td>False</td>\n      <td>False</td>\n      <td>False</td>\n      <td>False</td>\n      <td>False</td>\n      <td>False</td>\n      <td>3</td>\n    </tr>\n    <tr>\n      <th>120</th>\n      <td>True</td>\n      <td>False</td>\n      <td>False</td>\n      <td>True</td>\n      <td>False</td>\n      <td>False</td>\n      <td>True</td>\n      <td>False</td>\n      <td>False</td>\n      <td>True</td>\n      <td>...</td>\n      <td>False</td>\n      <td>False</td>\n      <td>False</td>\n      <td>False</td>\n      <td>False</td>\n      <td>False</td>\n      <td>False</td>\n      <td>False</td>\n      <td>False</td>\n      <td>3</td>\n    </tr>\n    <tr>\n      <th>122</th>\n      <td>True</td>\n      <td>False</td>\n      <td>False</td>\n      <td>True</td>\n      <td>False</td>\n      <td>False</td>\n      <td>True</td>\n      <td>False</td>\n      <td>False</td>\n      <td>True</td>\n      <td>...</td>\n      <td>False</td>\n      <td>False</td>\n      <td>False</td>\n      <td>False</td>\n      <td>False</td>\n      <td>False</td>\n      <td>False</td>\n      <td>False</td>\n      <td>False</td>\n      <td>3</td>\n    </tr>\n    <tr>\n      <th>124</th>\n      <td>False</td>\n      <td>False</td>\n      <td>False</td>\n      <td>False</td>\n      <td>False</td>\n      <td>False</td>\n      <td>False</td>\n      <td>False</td>\n      <td>False</td>\n      <td>False</td>\n      <td>...</td>\n      <td>False</td>\n      <td>False</td>\n      <td>False</td>\n      <td>False</td>\n      <td>False</td>\n      <td>False</td>\n      <td>False</td>\n      <td>False</td>\n      <td>False</td>\n      <td>1</td>\n    </tr>\n  </tbody>\n</table>\n<p>68 rows × 349 columns</p>\n</div>"
     },
     "execution_count": 13,
     "metadata": {},
     "output_type": "execute_result"
    }
   ],
   "source": [
    "df1 = df[df.labels == -1]\n",
    "df1 = df1.drop(columns=['labels'])\n",
    "\n",
    "in_cols = []\n",
    "for i in df1.iloc[[0]]:\n",
    "    if isinstance(df1.iloc[0, i], np.bool_):\n",
    "        in_cols.append(True)\n",
    "    else:\n",
    "        in_cols.append(False)\n",
    "        \n",
    "df1_ = df1.iloc[:, in_cols]\n",
    "\n",
    "ald = DBSCAN().fit(df1_)\n",
    "df1_['labels'] = ald.labels_\n",
    "df1_['labels'] = df1_['labels'].apply(lambda x: x + 2)\n",
    "second_part_list = df1_['labels']\n",
    "df1_"
   ],
   "metadata": {
    "collapsed": false,
    "ExecuteTime": {
     "end_time": "2024-01-12T08:10:57.585044200Z",
     "start_time": "2024-01-12T08:10:57.478042900Z"
    }
   },
   "id": "de23470369127794"
  },
  {
   "cell_type": "code",
   "execution_count": 14,
   "outputs": [
    {
     "name": "stderr",
     "output_type": "stream",
     "text": [
      "C:\\Users\\user\\AppData\\Local\\Temp\\ipykernel_15068\\1175081514.py:2: SettingWithCopyWarning: \n",
      "A value is trying to be set on a copy of a slice from a DataFrame\n",
      "\n",
      "See the caveats in the documentation: https://pandas.pydata.org/pandas-docs/stable/user_guide/indexing.html#returning-a-view-versus-a-copy\n",
      "  first_part_list[i] = second_part_list[i]\n",
      "C:\\Users\\user\\AppData\\Local\\Temp\\ipykernel_15068\\1175081514.py:2: SettingWithCopyWarning: \n",
      "A value is trying to be set on a copy of a slice from a DataFrame\n",
      "\n",
      "See the caveats in the documentation: https://pandas.pydata.org/pandas-docs/stable/user_guide/indexing.html#returning-a-view-versus-a-copy\n",
      "  first_part_list[i] = second_part_list[i]\n",
      "C:\\Users\\user\\AppData\\Local\\Temp\\ipykernel_15068\\1175081514.py:2: SettingWithCopyWarning: \n",
      "A value is trying to be set on a copy of a slice from a DataFrame\n",
      "\n",
      "See the caveats in the documentation: https://pandas.pydata.org/pandas-docs/stable/user_guide/indexing.html#returning-a-view-versus-a-copy\n",
      "  first_part_list[i] = second_part_list[i]\n",
      "C:\\Users\\user\\AppData\\Local\\Temp\\ipykernel_15068\\1175081514.py:2: SettingWithCopyWarning: \n",
      "A value is trying to be set on a copy of a slice from a DataFrame\n",
      "\n",
      "See the caveats in the documentation: https://pandas.pydata.org/pandas-docs/stable/user_guide/indexing.html#returning-a-view-versus-a-copy\n",
      "  first_part_list[i] = second_part_list[i]\n",
      "C:\\Users\\user\\AppData\\Local\\Temp\\ipykernel_15068\\1175081514.py:2: SettingWithCopyWarning: \n",
      "A value is trying to be set on a copy of a slice from a DataFrame\n",
      "\n",
      "See the caveats in the documentation: https://pandas.pydata.org/pandas-docs/stable/user_guide/indexing.html#returning-a-view-versus-a-copy\n",
      "  first_part_list[i] = second_part_list[i]\n",
      "C:\\Users\\user\\AppData\\Local\\Temp\\ipykernel_15068\\1175081514.py:2: SettingWithCopyWarning: \n",
      "A value is trying to be set on a copy of a slice from a DataFrame\n",
      "\n",
      "See the caveats in the documentation: https://pandas.pydata.org/pandas-docs/stable/user_guide/indexing.html#returning-a-view-versus-a-copy\n",
      "  first_part_list[i] = second_part_list[i]\n",
      "C:\\Users\\user\\AppData\\Local\\Temp\\ipykernel_15068\\1175081514.py:2: SettingWithCopyWarning: \n",
      "A value is trying to be set on a copy of a slice from a DataFrame\n",
      "\n",
      "See the caveats in the documentation: https://pandas.pydata.org/pandas-docs/stable/user_guide/indexing.html#returning-a-view-versus-a-copy\n",
      "  first_part_list[i] = second_part_list[i]\n",
      "C:\\Users\\user\\AppData\\Local\\Temp\\ipykernel_15068\\1175081514.py:2: SettingWithCopyWarning: \n",
      "A value is trying to be set on a copy of a slice from a DataFrame\n",
      "\n",
      "See the caveats in the documentation: https://pandas.pydata.org/pandas-docs/stable/user_guide/indexing.html#returning-a-view-versus-a-copy\n",
      "  first_part_list[i] = second_part_list[i]\n",
      "C:\\Users\\user\\AppData\\Local\\Temp\\ipykernel_15068\\1175081514.py:2: SettingWithCopyWarning: \n",
      "A value is trying to be set on a copy of a slice from a DataFrame\n",
      "\n",
      "See the caveats in the documentation: https://pandas.pydata.org/pandas-docs/stable/user_guide/indexing.html#returning-a-view-versus-a-copy\n",
      "  first_part_list[i] = second_part_list[i]\n",
      "C:\\Users\\user\\AppData\\Local\\Temp\\ipykernel_15068\\1175081514.py:2: SettingWithCopyWarning: \n",
      "A value is trying to be set on a copy of a slice from a DataFrame\n",
      "\n",
      "See the caveats in the documentation: https://pandas.pydata.org/pandas-docs/stable/user_guide/indexing.html#returning-a-view-versus-a-copy\n",
      "  first_part_list[i] = second_part_list[i]\n",
      "C:\\Users\\user\\AppData\\Local\\Temp\\ipykernel_15068\\1175081514.py:2: SettingWithCopyWarning: \n",
      "A value is trying to be set on a copy of a slice from a DataFrame\n",
      "\n",
      "See the caveats in the documentation: https://pandas.pydata.org/pandas-docs/stable/user_guide/indexing.html#returning-a-view-versus-a-copy\n",
      "  first_part_list[i] = second_part_list[i]\n",
      "C:\\Users\\user\\AppData\\Local\\Temp\\ipykernel_15068\\1175081514.py:2: SettingWithCopyWarning: \n",
      "A value is trying to be set on a copy of a slice from a DataFrame\n",
      "\n",
      "See the caveats in the documentation: https://pandas.pydata.org/pandas-docs/stable/user_guide/indexing.html#returning-a-view-versus-a-copy\n",
      "  first_part_list[i] = second_part_list[i]\n",
      "C:\\Users\\user\\AppData\\Local\\Temp\\ipykernel_15068\\1175081514.py:2: SettingWithCopyWarning: \n",
      "A value is trying to be set on a copy of a slice from a DataFrame\n",
      "\n",
      "See the caveats in the documentation: https://pandas.pydata.org/pandas-docs/stable/user_guide/indexing.html#returning-a-view-versus-a-copy\n",
      "  first_part_list[i] = second_part_list[i]\n",
      "C:\\Users\\user\\AppData\\Local\\Temp\\ipykernel_15068\\1175081514.py:2: SettingWithCopyWarning: \n",
      "A value is trying to be set on a copy of a slice from a DataFrame\n",
      "\n",
      "See the caveats in the documentation: https://pandas.pydata.org/pandas-docs/stable/user_guide/indexing.html#returning-a-view-versus-a-copy\n",
      "  first_part_list[i] = second_part_list[i]\n",
      "C:\\Users\\user\\AppData\\Local\\Temp\\ipykernel_15068\\1175081514.py:2: SettingWithCopyWarning: \n",
      "A value is trying to be set on a copy of a slice from a DataFrame\n",
      "\n",
      "See the caveats in the documentation: https://pandas.pydata.org/pandas-docs/stable/user_guide/indexing.html#returning-a-view-versus-a-copy\n",
      "  first_part_list[i] = second_part_list[i]\n",
      "C:\\Users\\user\\AppData\\Local\\Temp\\ipykernel_15068\\1175081514.py:2: SettingWithCopyWarning: \n",
      "A value is trying to be set on a copy of a slice from a DataFrame\n",
      "\n",
      "See the caveats in the documentation: https://pandas.pydata.org/pandas-docs/stable/user_guide/indexing.html#returning-a-view-versus-a-copy\n",
      "  first_part_list[i] = second_part_list[i]\n",
      "C:\\Users\\user\\AppData\\Local\\Temp\\ipykernel_15068\\1175081514.py:2: SettingWithCopyWarning: \n",
      "A value is trying to be set on a copy of a slice from a DataFrame\n",
      "\n",
      "See the caveats in the documentation: https://pandas.pydata.org/pandas-docs/stable/user_guide/indexing.html#returning-a-view-versus-a-copy\n",
      "  first_part_list[i] = second_part_list[i]\n",
      "C:\\Users\\user\\AppData\\Local\\Temp\\ipykernel_15068\\1175081514.py:2: SettingWithCopyWarning: \n",
      "A value is trying to be set on a copy of a slice from a DataFrame\n",
      "\n",
      "See the caveats in the documentation: https://pandas.pydata.org/pandas-docs/stable/user_guide/indexing.html#returning-a-view-versus-a-copy\n",
      "  first_part_list[i] = second_part_list[i]\n",
      "C:\\Users\\user\\AppData\\Local\\Temp\\ipykernel_15068\\1175081514.py:2: SettingWithCopyWarning: \n",
      "A value is trying to be set on a copy of a slice from a DataFrame\n",
      "\n",
      "See the caveats in the documentation: https://pandas.pydata.org/pandas-docs/stable/user_guide/indexing.html#returning-a-view-versus-a-copy\n",
      "  first_part_list[i] = second_part_list[i]\n",
      "C:\\Users\\user\\AppData\\Local\\Temp\\ipykernel_15068\\1175081514.py:2: SettingWithCopyWarning: \n",
      "A value is trying to be set on a copy of a slice from a DataFrame\n",
      "\n",
      "See the caveats in the documentation: https://pandas.pydata.org/pandas-docs/stable/user_guide/indexing.html#returning-a-view-versus-a-copy\n",
      "  first_part_list[i] = second_part_list[i]\n",
      "C:\\Users\\user\\AppData\\Local\\Temp\\ipykernel_15068\\1175081514.py:2: SettingWithCopyWarning: \n",
      "A value is trying to be set on a copy of a slice from a DataFrame\n",
      "\n",
      "See the caveats in the documentation: https://pandas.pydata.org/pandas-docs/stable/user_guide/indexing.html#returning-a-view-versus-a-copy\n",
      "  first_part_list[i] = second_part_list[i]\n",
      "C:\\Users\\user\\AppData\\Local\\Temp\\ipykernel_15068\\1175081514.py:2: SettingWithCopyWarning: \n",
      "A value is trying to be set on a copy of a slice from a DataFrame\n",
      "\n",
      "See the caveats in the documentation: https://pandas.pydata.org/pandas-docs/stable/user_guide/indexing.html#returning-a-view-versus-a-copy\n",
      "  first_part_list[i] = second_part_list[i]\n",
      "C:\\Users\\user\\AppData\\Local\\Temp\\ipykernel_15068\\1175081514.py:2: SettingWithCopyWarning: \n",
      "A value is trying to be set on a copy of a slice from a DataFrame\n",
      "\n",
      "See the caveats in the documentation: https://pandas.pydata.org/pandas-docs/stable/user_guide/indexing.html#returning-a-view-versus-a-copy\n",
      "  first_part_list[i] = second_part_list[i]\n",
      "C:\\Users\\user\\AppData\\Local\\Temp\\ipykernel_15068\\1175081514.py:2: SettingWithCopyWarning: \n",
      "A value is trying to be set on a copy of a slice from a DataFrame\n",
      "\n",
      "See the caveats in the documentation: https://pandas.pydata.org/pandas-docs/stable/user_guide/indexing.html#returning-a-view-versus-a-copy\n",
      "  first_part_list[i] = second_part_list[i]\n",
      "C:\\Users\\user\\AppData\\Local\\Temp\\ipykernel_15068\\1175081514.py:2: SettingWithCopyWarning: \n",
      "A value is trying to be set on a copy of a slice from a DataFrame\n",
      "\n",
      "See the caveats in the documentation: https://pandas.pydata.org/pandas-docs/stable/user_guide/indexing.html#returning-a-view-versus-a-copy\n",
      "  first_part_list[i] = second_part_list[i]\n",
      "C:\\Users\\user\\AppData\\Local\\Temp\\ipykernel_15068\\1175081514.py:2: SettingWithCopyWarning: \n",
      "A value is trying to be set on a copy of a slice from a DataFrame\n",
      "\n",
      "See the caveats in the documentation: https://pandas.pydata.org/pandas-docs/stable/user_guide/indexing.html#returning-a-view-versus-a-copy\n",
      "  first_part_list[i] = second_part_list[i]\n",
      "C:\\Users\\user\\AppData\\Local\\Temp\\ipykernel_15068\\1175081514.py:2: SettingWithCopyWarning: \n",
      "A value is trying to be set on a copy of a slice from a DataFrame\n",
      "\n",
      "See the caveats in the documentation: https://pandas.pydata.org/pandas-docs/stable/user_guide/indexing.html#returning-a-view-versus-a-copy\n",
      "  first_part_list[i] = second_part_list[i]\n",
      "C:\\Users\\user\\AppData\\Local\\Temp\\ipykernel_15068\\1175081514.py:2: SettingWithCopyWarning: \n",
      "A value is trying to be set on a copy of a slice from a DataFrame\n",
      "\n",
      "See the caveats in the documentation: https://pandas.pydata.org/pandas-docs/stable/user_guide/indexing.html#returning-a-view-versus-a-copy\n",
      "  first_part_list[i] = second_part_list[i]\n",
      "C:\\Users\\user\\AppData\\Local\\Temp\\ipykernel_15068\\1175081514.py:2: SettingWithCopyWarning: \n",
      "A value is trying to be set on a copy of a slice from a DataFrame\n",
      "\n",
      "See the caveats in the documentation: https://pandas.pydata.org/pandas-docs/stable/user_guide/indexing.html#returning-a-view-versus-a-copy\n",
      "  first_part_list[i] = second_part_list[i]\n",
      "C:\\Users\\user\\AppData\\Local\\Temp\\ipykernel_15068\\1175081514.py:2: SettingWithCopyWarning: \n",
      "A value is trying to be set on a copy of a slice from a DataFrame\n",
      "\n",
      "See the caveats in the documentation: https://pandas.pydata.org/pandas-docs/stable/user_guide/indexing.html#returning-a-view-versus-a-copy\n",
      "  first_part_list[i] = second_part_list[i]\n",
      "C:\\Users\\user\\AppData\\Local\\Temp\\ipykernel_15068\\1175081514.py:2: SettingWithCopyWarning: \n",
      "A value is trying to be set on a copy of a slice from a DataFrame\n",
      "\n",
      "See the caveats in the documentation: https://pandas.pydata.org/pandas-docs/stable/user_guide/indexing.html#returning-a-view-versus-a-copy\n",
      "  first_part_list[i] = second_part_list[i]\n",
      "C:\\Users\\user\\AppData\\Local\\Temp\\ipykernel_15068\\1175081514.py:2: SettingWithCopyWarning: \n",
      "A value is trying to be set on a copy of a slice from a DataFrame\n",
      "\n",
      "See the caveats in the documentation: https://pandas.pydata.org/pandas-docs/stable/user_guide/indexing.html#returning-a-view-versus-a-copy\n",
      "  first_part_list[i] = second_part_list[i]\n",
      "C:\\Users\\user\\AppData\\Local\\Temp\\ipykernel_15068\\1175081514.py:2: SettingWithCopyWarning: \n",
      "A value is trying to be set on a copy of a slice from a DataFrame\n",
      "\n",
      "See the caveats in the documentation: https://pandas.pydata.org/pandas-docs/stable/user_guide/indexing.html#returning-a-view-versus-a-copy\n",
      "  first_part_list[i] = second_part_list[i]\n",
      "C:\\Users\\user\\AppData\\Local\\Temp\\ipykernel_15068\\1175081514.py:2: SettingWithCopyWarning: \n",
      "A value is trying to be set on a copy of a slice from a DataFrame\n",
      "\n",
      "See the caveats in the documentation: https://pandas.pydata.org/pandas-docs/stable/user_guide/indexing.html#returning-a-view-versus-a-copy\n",
      "  first_part_list[i] = second_part_list[i]\n",
      "C:\\Users\\user\\AppData\\Local\\Temp\\ipykernel_15068\\1175081514.py:2: SettingWithCopyWarning: \n",
      "A value is trying to be set on a copy of a slice from a DataFrame\n",
      "\n",
      "See the caveats in the documentation: https://pandas.pydata.org/pandas-docs/stable/user_guide/indexing.html#returning-a-view-versus-a-copy\n",
      "  first_part_list[i] = second_part_list[i]\n",
      "C:\\Users\\user\\AppData\\Local\\Temp\\ipykernel_15068\\1175081514.py:2: SettingWithCopyWarning: \n",
      "A value is trying to be set on a copy of a slice from a DataFrame\n",
      "\n",
      "See the caveats in the documentation: https://pandas.pydata.org/pandas-docs/stable/user_guide/indexing.html#returning-a-view-versus-a-copy\n",
      "  first_part_list[i] = second_part_list[i]\n",
      "C:\\Users\\user\\AppData\\Local\\Temp\\ipykernel_15068\\1175081514.py:2: SettingWithCopyWarning: \n",
      "A value is trying to be set on a copy of a slice from a DataFrame\n",
      "\n",
      "See the caveats in the documentation: https://pandas.pydata.org/pandas-docs/stable/user_guide/indexing.html#returning-a-view-versus-a-copy\n",
      "  first_part_list[i] = second_part_list[i]\n",
      "C:\\Users\\user\\AppData\\Local\\Temp\\ipykernel_15068\\1175081514.py:2: SettingWithCopyWarning: \n",
      "A value is trying to be set on a copy of a slice from a DataFrame\n",
      "\n",
      "See the caveats in the documentation: https://pandas.pydata.org/pandas-docs/stable/user_guide/indexing.html#returning-a-view-versus-a-copy\n",
      "  first_part_list[i] = second_part_list[i]\n",
      "C:\\Users\\user\\AppData\\Local\\Temp\\ipykernel_15068\\1175081514.py:2: SettingWithCopyWarning: \n",
      "A value is trying to be set on a copy of a slice from a DataFrame\n",
      "\n",
      "See the caveats in the documentation: https://pandas.pydata.org/pandas-docs/stable/user_guide/indexing.html#returning-a-view-versus-a-copy\n",
      "  first_part_list[i] = second_part_list[i]\n",
      "C:\\Users\\user\\AppData\\Local\\Temp\\ipykernel_15068\\1175081514.py:2: SettingWithCopyWarning: \n",
      "A value is trying to be set on a copy of a slice from a DataFrame\n",
      "\n",
      "See the caveats in the documentation: https://pandas.pydata.org/pandas-docs/stable/user_guide/indexing.html#returning-a-view-versus-a-copy\n",
      "  first_part_list[i] = second_part_list[i]\n",
      "C:\\Users\\user\\AppData\\Local\\Temp\\ipykernel_15068\\1175081514.py:2: SettingWithCopyWarning: \n",
      "A value is trying to be set on a copy of a slice from a DataFrame\n",
      "\n",
      "See the caveats in the documentation: https://pandas.pydata.org/pandas-docs/stable/user_guide/indexing.html#returning-a-view-versus-a-copy\n",
      "  first_part_list[i] = second_part_list[i]\n",
      "C:\\Users\\user\\AppData\\Local\\Temp\\ipykernel_15068\\1175081514.py:2: SettingWithCopyWarning: \n",
      "A value is trying to be set on a copy of a slice from a DataFrame\n",
      "\n",
      "See the caveats in the documentation: https://pandas.pydata.org/pandas-docs/stable/user_guide/indexing.html#returning-a-view-versus-a-copy\n",
      "  first_part_list[i] = second_part_list[i]\n",
      "C:\\Users\\user\\AppData\\Local\\Temp\\ipykernel_15068\\1175081514.py:2: SettingWithCopyWarning: \n",
      "A value is trying to be set on a copy of a slice from a DataFrame\n",
      "\n",
      "See the caveats in the documentation: https://pandas.pydata.org/pandas-docs/stable/user_guide/indexing.html#returning-a-view-versus-a-copy\n",
      "  first_part_list[i] = second_part_list[i]\n",
      "C:\\Users\\user\\AppData\\Local\\Temp\\ipykernel_15068\\1175081514.py:2: SettingWithCopyWarning: \n",
      "A value is trying to be set on a copy of a slice from a DataFrame\n",
      "\n",
      "See the caveats in the documentation: https://pandas.pydata.org/pandas-docs/stable/user_guide/indexing.html#returning-a-view-versus-a-copy\n",
      "  first_part_list[i] = second_part_list[i]\n",
      "C:\\Users\\user\\AppData\\Local\\Temp\\ipykernel_15068\\1175081514.py:2: SettingWithCopyWarning: \n",
      "A value is trying to be set on a copy of a slice from a DataFrame\n",
      "\n",
      "See the caveats in the documentation: https://pandas.pydata.org/pandas-docs/stable/user_guide/indexing.html#returning-a-view-versus-a-copy\n",
      "  first_part_list[i] = second_part_list[i]\n",
      "C:\\Users\\user\\AppData\\Local\\Temp\\ipykernel_15068\\1175081514.py:2: SettingWithCopyWarning: \n",
      "A value is trying to be set on a copy of a slice from a DataFrame\n",
      "\n",
      "See the caveats in the documentation: https://pandas.pydata.org/pandas-docs/stable/user_guide/indexing.html#returning-a-view-versus-a-copy\n",
      "  first_part_list[i] = second_part_list[i]\n",
      "C:\\Users\\user\\AppData\\Local\\Temp\\ipykernel_15068\\1175081514.py:2: SettingWithCopyWarning: \n",
      "A value is trying to be set on a copy of a slice from a DataFrame\n",
      "\n",
      "See the caveats in the documentation: https://pandas.pydata.org/pandas-docs/stable/user_guide/indexing.html#returning-a-view-versus-a-copy\n",
      "  first_part_list[i] = second_part_list[i]\n",
      "C:\\Users\\user\\AppData\\Local\\Temp\\ipykernel_15068\\1175081514.py:2: SettingWithCopyWarning: \n",
      "A value is trying to be set on a copy of a slice from a DataFrame\n",
      "\n",
      "See the caveats in the documentation: https://pandas.pydata.org/pandas-docs/stable/user_guide/indexing.html#returning-a-view-versus-a-copy\n",
      "  first_part_list[i] = second_part_list[i]\n",
      "C:\\Users\\user\\AppData\\Local\\Temp\\ipykernel_15068\\1175081514.py:2: SettingWithCopyWarning: \n",
      "A value is trying to be set on a copy of a slice from a DataFrame\n",
      "\n",
      "See the caveats in the documentation: https://pandas.pydata.org/pandas-docs/stable/user_guide/indexing.html#returning-a-view-versus-a-copy\n",
      "  first_part_list[i] = second_part_list[i]\n",
      "C:\\Users\\user\\AppData\\Local\\Temp\\ipykernel_15068\\1175081514.py:2: SettingWithCopyWarning: \n",
      "A value is trying to be set on a copy of a slice from a DataFrame\n",
      "\n",
      "See the caveats in the documentation: https://pandas.pydata.org/pandas-docs/stable/user_guide/indexing.html#returning-a-view-versus-a-copy\n",
      "  first_part_list[i] = second_part_list[i]\n",
      "C:\\Users\\user\\AppData\\Local\\Temp\\ipykernel_15068\\1175081514.py:2: SettingWithCopyWarning: \n",
      "A value is trying to be set on a copy of a slice from a DataFrame\n",
      "\n",
      "See the caveats in the documentation: https://pandas.pydata.org/pandas-docs/stable/user_guide/indexing.html#returning-a-view-versus-a-copy\n",
      "  first_part_list[i] = second_part_list[i]\n",
      "C:\\Users\\user\\AppData\\Local\\Temp\\ipykernel_15068\\1175081514.py:2: SettingWithCopyWarning: \n",
      "A value is trying to be set on a copy of a slice from a DataFrame\n",
      "\n",
      "See the caveats in the documentation: https://pandas.pydata.org/pandas-docs/stable/user_guide/indexing.html#returning-a-view-versus-a-copy\n",
      "  first_part_list[i] = second_part_list[i]\n",
      "C:\\Users\\user\\AppData\\Local\\Temp\\ipykernel_15068\\1175081514.py:2: SettingWithCopyWarning: \n",
      "A value is trying to be set on a copy of a slice from a DataFrame\n",
      "\n",
      "See the caveats in the documentation: https://pandas.pydata.org/pandas-docs/stable/user_guide/indexing.html#returning-a-view-versus-a-copy\n",
      "  first_part_list[i] = second_part_list[i]\n",
      "C:\\Users\\user\\AppData\\Local\\Temp\\ipykernel_15068\\1175081514.py:2: SettingWithCopyWarning: \n",
      "A value is trying to be set on a copy of a slice from a DataFrame\n",
      "\n",
      "See the caveats in the documentation: https://pandas.pydata.org/pandas-docs/stable/user_guide/indexing.html#returning-a-view-versus-a-copy\n",
      "  first_part_list[i] = second_part_list[i]\n",
      "C:\\Users\\user\\AppData\\Local\\Temp\\ipykernel_15068\\1175081514.py:2: SettingWithCopyWarning: \n",
      "A value is trying to be set on a copy of a slice from a DataFrame\n",
      "\n",
      "See the caveats in the documentation: https://pandas.pydata.org/pandas-docs/stable/user_guide/indexing.html#returning-a-view-versus-a-copy\n",
      "  first_part_list[i] = second_part_list[i]\n",
      "C:\\Users\\user\\AppData\\Local\\Temp\\ipykernel_15068\\1175081514.py:2: SettingWithCopyWarning: \n",
      "A value is trying to be set on a copy of a slice from a DataFrame\n",
      "\n",
      "See the caveats in the documentation: https://pandas.pydata.org/pandas-docs/stable/user_guide/indexing.html#returning-a-view-versus-a-copy\n",
      "  first_part_list[i] = second_part_list[i]\n",
      "C:\\Users\\user\\AppData\\Local\\Temp\\ipykernel_15068\\1175081514.py:2: SettingWithCopyWarning: \n",
      "A value is trying to be set on a copy of a slice from a DataFrame\n",
      "\n",
      "See the caveats in the documentation: https://pandas.pydata.org/pandas-docs/stable/user_guide/indexing.html#returning-a-view-versus-a-copy\n",
      "  first_part_list[i] = second_part_list[i]\n",
      "C:\\Users\\user\\AppData\\Local\\Temp\\ipykernel_15068\\1175081514.py:2: SettingWithCopyWarning: \n",
      "A value is trying to be set on a copy of a slice from a DataFrame\n",
      "\n",
      "See the caveats in the documentation: https://pandas.pydata.org/pandas-docs/stable/user_guide/indexing.html#returning-a-view-versus-a-copy\n",
      "  first_part_list[i] = second_part_list[i]\n",
      "C:\\Users\\user\\AppData\\Local\\Temp\\ipykernel_15068\\1175081514.py:2: SettingWithCopyWarning: \n",
      "A value is trying to be set on a copy of a slice from a DataFrame\n",
      "\n",
      "See the caveats in the documentation: https://pandas.pydata.org/pandas-docs/stable/user_guide/indexing.html#returning-a-view-versus-a-copy\n",
      "  first_part_list[i] = second_part_list[i]\n",
      "C:\\Users\\user\\AppData\\Local\\Temp\\ipykernel_15068\\1175081514.py:2: SettingWithCopyWarning: \n",
      "A value is trying to be set on a copy of a slice from a DataFrame\n",
      "\n",
      "See the caveats in the documentation: https://pandas.pydata.org/pandas-docs/stable/user_guide/indexing.html#returning-a-view-versus-a-copy\n",
      "  first_part_list[i] = second_part_list[i]\n",
      "C:\\Users\\user\\AppData\\Local\\Temp\\ipykernel_15068\\1175081514.py:2: SettingWithCopyWarning: \n",
      "A value is trying to be set on a copy of a slice from a DataFrame\n",
      "\n",
      "See the caveats in the documentation: https://pandas.pydata.org/pandas-docs/stable/user_guide/indexing.html#returning-a-view-versus-a-copy\n",
      "  first_part_list[i] = second_part_list[i]\n",
      "C:\\Users\\user\\AppData\\Local\\Temp\\ipykernel_15068\\1175081514.py:2: SettingWithCopyWarning: \n",
      "A value is trying to be set on a copy of a slice from a DataFrame\n",
      "\n",
      "See the caveats in the documentation: https://pandas.pydata.org/pandas-docs/stable/user_guide/indexing.html#returning-a-view-versus-a-copy\n",
      "  first_part_list[i] = second_part_list[i]\n",
      "C:\\Users\\user\\AppData\\Local\\Temp\\ipykernel_15068\\1175081514.py:2: SettingWithCopyWarning: \n",
      "A value is trying to be set on a copy of a slice from a DataFrame\n",
      "\n",
      "See the caveats in the documentation: https://pandas.pydata.org/pandas-docs/stable/user_guide/indexing.html#returning-a-view-versus-a-copy\n",
      "  first_part_list[i] = second_part_list[i]\n",
      "C:\\Users\\user\\AppData\\Local\\Temp\\ipykernel_15068\\1175081514.py:2: SettingWithCopyWarning: \n",
      "A value is trying to be set on a copy of a slice from a DataFrame\n",
      "\n",
      "See the caveats in the documentation: https://pandas.pydata.org/pandas-docs/stable/user_guide/indexing.html#returning-a-view-versus-a-copy\n",
      "  first_part_list[i] = second_part_list[i]\n",
      "C:\\Users\\user\\AppData\\Local\\Temp\\ipykernel_15068\\1175081514.py:2: SettingWithCopyWarning: \n",
      "A value is trying to be set on a copy of a slice from a DataFrame\n",
      "\n",
      "See the caveats in the documentation: https://pandas.pydata.org/pandas-docs/stable/user_guide/indexing.html#returning-a-view-versus-a-copy\n",
      "  first_part_list[i] = second_part_list[i]\n",
      "C:\\Users\\user\\AppData\\Local\\Temp\\ipykernel_15068\\1175081514.py:2: SettingWithCopyWarning: \n",
      "A value is trying to be set on a copy of a slice from a DataFrame\n",
      "\n",
      "See the caveats in the documentation: https://pandas.pydata.org/pandas-docs/stable/user_guide/indexing.html#returning-a-view-versus-a-copy\n",
      "  first_part_list[i] = second_part_list[i]\n",
      "C:\\Users\\user\\AppData\\Local\\Temp\\ipykernel_15068\\1175081514.py:2: SettingWithCopyWarning: \n",
      "A value is trying to be set on a copy of a slice from a DataFrame\n",
      "\n",
      "See the caveats in the documentation: https://pandas.pydata.org/pandas-docs/stable/user_guide/indexing.html#returning-a-view-versus-a-copy\n",
      "  first_part_list[i] = second_part_list[i]\n",
      "C:\\Users\\user\\AppData\\Local\\Temp\\ipykernel_15068\\1175081514.py:2: SettingWithCopyWarning: \n",
      "A value is trying to be set on a copy of a slice from a DataFrame\n",
      "\n",
      "See the caveats in the documentation: https://pandas.pydata.org/pandas-docs/stable/user_guide/indexing.html#returning-a-view-versus-a-copy\n",
      "  first_part_list[i] = second_part_list[i]\n"
     ]
    }
   ],
   "source": [
    "for i in second_part_list.index:\n",
    "    first_part_list[i] = second_part_list[i]\n",
    "    \n",
    "to_merge_df = pd.DataFrame()\n",
    "to_merge_df['Row'] = df[0] + r\n",
    "to_merge_df['labels'] = first_part_list"
   ],
   "metadata": {
    "collapsed": false,
    "ExecuteTime": {
     "end_time": "2024-01-12T08:10:57.589042700Z",
     "start_time": "2024-01-12T08:10:57.524044500Z"
    }
   },
   "id": "3819d6d39bd3f8b7"
  },
  {
   "cell_type": "code",
   "execution_count": 15,
   "outputs": [],
   "source": [
    "to_merge_df = to_merge_df.set_index('Row')\n"
   ],
   "metadata": {
    "collapsed": false,
    "ExecuteTime": {
     "end_time": "2024-01-12T08:10:57.590042600Z",
     "start_time": "2024-01-12T08:10:57.566046600Z"
    }
   },
   "id": "d3e6803a98fd13a6"
  },
  {
   "cell_type": "code",
   "execution_count": 16,
   "outputs": [
    {
     "data": {
      "text/plain": "[None,\n None,\n None,\n None,\n None,\n None,\n None,\n None,\n None,\n None,\n None,\n None,\n None,\n None,\n None,\n None,\n None,\n None,\n None,\n None,\n None,\n None,\n None,\n None,\n None,\n None,\n None,\n None,\n None,\n None,\n None,\n None,\n None,\n None,\n None,\n None,\n None,\n None,\n None,\n None,\n None,\n None,\n None,\n None,\n None,\n None,\n None,\n None,\n None,\n None,\n None,\n None,\n None,\n None,\n None,\n None,\n None,\n None,\n None,\n None,\n None,\n None,\n None,\n None,\n None,\n None,\n None,\n None,\n None,\n None,\n None,\n None,\n None,\n None,\n None,\n None,\n None,\n None,\n None,\n None,\n None,\n None,\n None,\n None,\n None,\n None,\n None,\n None,\n None,\n None,\n None,\n None,\n None,\n None,\n None,\n None,\n None,\n None,\n None,\n None,\n None,\n None,\n None,\n None,\n None,\n None,\n None,\n None,\n None,\n None,\n None,\n None,\n None,\n None,\n None,\n None,\n None,\n None,\n None,\n None,\n None,\n None,\n None,\n None,\n None,\n None,\n None,\n None,\n None,\n None,\n None,\n None,\n None,\n None,\n None,\n None,\n None,\n None,\n None,\n None,\n None,\n None,\n None,\n None,\n None,\n None,\n None,\n None,\n None,\n None,\n None,\n None,\n None,\n None,\n None,\n None,\n None,\n None,\n None,\n None,\n None,\n None,\n None,\n None,\n None,\n None,\n None,\n None,\n None,\n None,\n None,\n None,\n None,\n None,\n None,\n None,\n None,\n None,\n None,\n None,\n None,\n None,\n None,\n None,\n None,\n None,\n None,\n None,\n None,\n None,\n None,\n None,\n None,\n None,\n None,\n None,\n None,\n None,\n None,\n None,\n None,\n None,\n None,\n None,\n None,\n None,\n None,\n None,\n None,\n None,\n None,\n None,\n None,\n None,\n None,\n None,\n None,\n None,\n None,\n None,\n None,\n None,\n None,\n None,\n None,\n None,\n None,\n None,\n None,\n None,\n None,\n None,\n None,\n None,\n None,\n None,\n None,\n None,\n None,\n None,\n None,\n None,\n None,\n None,\n None,\n None,\n None,\n None,\n None,\n None,\n None,\n None,\n None,\n None,\n None,\n None,\n None,\n None,\n None,\n None,\n None,\n None,\n None,\n None,\n None,\n None,\n None,\n None,\n None,\n None,\n None,\n None,\n None,\n None,\n None,\n None,\n None,\n None,\n None,\n None,\n None,\n None,\n None,\n None,\n None,\n None,\n None,\n None,\n None,\n None,\n None,\n None,\n None,\n None,\n None,\n None,\n None,\n None,\n None,\n None,\n None,\n None,\n None,\n None,\n None,\n None,\n None,\n None,\n None,\n None,\n None,\n None,\n None,\n None,\n None,\n None,\n None,\n None,\n None,\n None,\n None,\n None,\n None,\n None,\n None,\n None,\n None,\n None,\n None,\n None,\n None,\n None,\n None,\n None,\n None,\n None,\n None,\n None,\n None,\n None,\n None,\n None,\n None,\n None,\n None,\n None,\n None,\n None,\n 1,\n 1,\n 1,\n 1,\n 1,\n 1,\n 1,\n 1,\n 1,\n 1,\n 1,\n 1,\n 1,\n 1,\n 1,\n 1,\n 1,\n 1,\n 1,\n 1,\n 1,\n 1,\n 1,\n 1,\n 1,\n 1,\n 1,\n 1,\n 1,\n 1,\n 1,\n 1,\n 1,\n 1,\n 1,\n 1,\n 1,\n 1,\n 1,\n 1,\n 1,\n 1,\n 1,\n 1,\n 1,\n 1,\n 1,\n 1,\n 1,\n 1,\n 1,\n 1,\n 1,\n 1,\n 1,\n 1,\n 1,\n 1,\n 1,\n 1,\n 1,\n 1,\n 1,\n 1,\n 1,\n 1,\n 1,\n 1,\n 1,\n 1,\n 1,\n 1,\n 1,\n 1,\n 1,\n 1,\n 1,\n 1,\n 1,\n 1,\n 1,\n 1,\n 1,\n 1,\n 1,\n 1,\n 1,\n 1,\n 1,\n 1,\n 1,\n 1,\n 1,\n 1,\n 1,\n 1,\n 1,\n 1,\n 1,\n 1,\n 1,\n 1,\n 1,\n 1,\n 1,\n 1,\n 1,\n 1,\n 1,\n 1,\n 1,\n 1,\n 1,\n 1,\n 1,\n 1,\n 2,\n 2,\n 2,\n 2,\n 2,\n 2,\n 2,\n 2,\n 2,\n 2,\n 2,\n 2,\n 2,\n 2,\n 2,\n 2,\n 2,\n 2,\n 2,\n 2,\n 2,\n 2,\n 2,\n 2,\n 2,\n 2,\n 2,\n 2,\n 2,\n 2,\n 2,\n 2,\n 2,\n 2,\n 2,\n 2,\n 2,\n 2,\n 2,\n 2,\n 2,\n 2,\n 2,\n 2,\n 2,\n 2,\n 2,\n 2,\n 2,\n 2,\n 2,\n 2,\n 2,\n 2,\n 2,\n 2,\n 2,\n 2,\n 2,\n 2,\n 2,\n 2,\n 2,\n 2,\n 2,\n 2,\n 2,\n 2,\n 2,\n 2,\n 2,\n 2,\n 2,\n 2,\n 2,\n 2,\n 2,\n 2,\n 2,\n 2,\n 2,\n 2,\n 2,\n 2,\n 2,\n 2,\n 2,\n 2,\n 2,\n 2,\n 2,\n 2,\n 2,\n 2,\n 2,\n 2,\n 2,\n 2,\n 2,\n 2,\n 2,\n 2,\n 2,\n 2,\n 2,\n 2,\n 2,\n 2,\n 2,\n 2,\n 2,\n 2,\n 2,\n 2,\n 2,\n 2,\n 3,\n 3,\n 3,\n 3,\n 3,\n 3,\n 3,\n 3,\n 3,\n 3,\n 3,\n 3,\n 3,\n 3,\n 3,\n 3,\n 3,\n 3,\n 3,\n 3,\n 3,\n 3,\n 3,\n 3,\n 3,\n 3,\n 3,\n 3,\n 3,\n 3,\n 3,\n 3,\n 3,\n 3,\n 3,\n 3,\n 3,\n 3,\n 3,\n 3,\n 3,\n 3,\n 3,\n 3,\n 3,\n 3,\n 3,\n 3,\n 3,\n 3,\n 3,\n 3,\n 3,\n 3,\n 3,\n 3,\n 3,\n 3,\n 3,\n 3,\n 3,\n 3,\n 3,\n 3,\n 3,\n 3,\n 3,\n 3,\n 3,\n 3,\n 3,\n 3,\n 3,\n 3,\n 3,\n 3,\n 3,\n 3,\n 3,\n 3,\n 3,\n 3,\n 3,\n 3,\n 3,\n 3,\n 3,\n 3,\n 3,\n 3,\n 3,\n 3,\n 3,\n 3,\n 3,\n 3,\n 3,\n 3,\n 3,\n 3,\n 3,\n 3,\n 3,\n 3,\n 3,\n 3,\n 3,\n 3,\n 3,\n 3,\n 3,\n 3,\n 3,\n 3,\n 3,\n 3,\n 0,\n 0,\n 0,\n 0,\n 0,\n 0,\n 0,\n 0,\n 0,\n 0,\n 0,\n 0,\n 0,\n 0,\n 0,\n 0,\n 0,\n 0,\n 0,\n 0,\n 0,\n 0,\n 0,\n 0,\n 0,\n 0,\n 0,\n 0,\n 0,\n 0,\n 0,\n 0,\n 0,\n 0,\n 0,\n 0,\n 0,\n 0,\n 0,\n 0,\n 0,\n 0,\n 0,\n 0,\n 0,\n 0,\n 0,\n 0,\n 0,\n 0,\n 0,\n 0,\n 0,\n 0,\n 0,\n 0,\n 0,\n 0,\n 0,\n 0,\n 0,\n 0,\n 0,\n 0,\n 0,\n 0,\n 0,\n 0,\n 0,\n 0,\n 0,\n 0,\n 0,\n 0,\n 0,\n 0,\n 0,\n 0,\n 0,\n 0,\n 0,\n 0,\n 0,\n 0,\n 0,\n 0,\n 0,\n 0,\n 0,\n 0,\n 0,\n 0,\n 0,\n 0,\n 0,\n 0,\n 0,\n 0,\n 0,\n 0,\n 0,\n 0,\n 0,\n 0,\n 0,\n 0,\n 0,\n 0,\n 0,\n 0,\n 0,\n 0,\n 0,\n 0,\n 0,\n 0,\n 3,\n 3,\n 3,\n 3,\n 3,\n 3,\n 3,\n 3,\n 3,\n 3,\n 3,\n 3,\n 3,\n 3,\n 3,\n 3,\n 3,\n 3,\n 3,\n 3,\n 3,\n 3,\n 3,\n 3,\n 3,\n 3,\n 3,\n 3,\n 3,\n 3,\n 3,\n 3,\n 3,\n 3,\n 3,\n 3,\n 3,\n 3,\n 3,\n 3,\n 3,\n 3,\n 3,\n 3,\n 3,\n 3,\n 3,\n 3,\n 3,\n 3,\n 3,\n 3,\n 3,\n 3,\n 3,\n 3,\n 3,\n 3,\n 3,\n 3,\n 3,\n 3,\n 3,\n 3,\n 3,\n 3,\n 3,\n 3,\n 3,\n 3,\n 3,\n 3,\n 3,\n 3,\n 3,\n 3,\n 3,\n 3,\n 3,\n 3,\n 3,\n 3,\n 3,\n 3,\n 3,\n 3,\n 3,\n 3,\n 3,\n 3,\n 3,\n 3,\n 3,\n 3,\n 3,\n 3,\n 3,\n 3,\n 3,\n 3,\n 3,\n 3,\n 3,\n 3,\n 3,\n 3,\n 3,\n 3,\n 3,\n 3,\n 3,\n 3,\n 3,\n 3,\n 3,\n 3,\n 0,\n 0,\n 0,\n 0,\n 0,\n 0,\n 0,\n 0,\n 0,\n 0,\n 0,\n 0,\n 0,\n 0,\n 0,\n 0,\n 0,\n 0,\n 0,\n 0,\n 0,\n 0,\n 0,\n 0,\n 0,\n 0,\n 0,\n 0,\n 0,\n 0,\n 0,\n 0,\n 0,\n 0,\n 0,\n 0,\n 0,\n 0,\n 0,\n 0,\n 0,\n 0,\n 0,\n 0,\n 0,\n 0,\n 0,\n 0,\n 0,\n 0,\n 0,\n 0,\n 0,\n 0,\n 0,\n 0,\n 0,\n 0,\n 0,\n 0,\n 0,\n 0,\n 0,\n 0,\n 0,\n 0,\n 0,\n 0,\n 0,\n 0,\n 0,\n 0,\n ...]"
     },
     "execution_count": 16,
     "metadata": {},
     "output_type": "execute_result"
    }
   ],
   "source": [
    "str_type_list = []\n",
    "names = list(new_df.columns)\n",
    "r_i = names.index('Row') + 1\n",
    "for row in new_df.itertuples():\n",
    "    \n",
    "    a = to_merge_df['labels'][row[r_i]] if row[r_i] in list(to_merge_df.index) else None\n",
    "    str_type_list.append(a)\n",
    "str_type_list"
   ],
   "metadata": {
    "collapsed": false,
    "ExecuteTime": {
     "end_time": "2024-01-12T08:10:57.825105300Z",
     "start_time": "2024-01-12T08:10:57.577045900Z"
    }
   },
   "id": "643fe184aae6e370"
  },
  {
   "cell_type": "code",
   "execution_count": 21,
   "outputs": [],
   "source": [
    "new_df['str_type'] = str_type_list\n",
    "new_df['str_type'] = new_df['str_type'].fillna(-1)"
   ],
   "metadata": {
    "collapsed": false,
    "ExecuteTime": {
     "end_time": "2024-01-12T08:12:29.255783900Z",
     "start_time": "2024-01-12T08:12:29.224312200Z"
    }
   },
   "id": "135fa384a6b68819"
  },
  {
   "cell_type": "code",
   "execution_count": 22,
   "outputs": [],
   "source": [
    "new_df.to_excel('processed_tables/new_df.xlsx')"
   ],
   "metadata": {
    "collapsed": false,
    "ExecuteTime": {
     "end_time": "2024-01-12T08:12:36.113550800Z",
     "start_time": "2024-01-12T08:12:29.398821600Z"
    }
   },
   "id": "d0fd3ae40f925362"
  },
  {
   "cell_type": "code",
   "execution_count": null,
   "outputs": [],
   "source": [],
   "metadata": {
    "collapsed": false
   },
   "id": "3e8f4c8f7dfdc31e"
  }
 ],
 "metadata": {
  "kernelspec": {
   "display_name": "Python 3",
   "language": "python",
   "name": "python3"
  },
  "language_info": {
   "codemirror_mode": {
    "name": "ipython",
    "version": 2
   },
   "file_extension": ".py",
   "mimetype": "text/x-python",
   "name": "python",
   "nbconvert_exporter": "python",
   "pygments_lexer": "ipython2",
   "version": "2.7.6"
  }
 },
 "nbformat": 4,
 "nbformat_minor": 5
}
