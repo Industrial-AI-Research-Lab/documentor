{
 "cells": [
  {
   "cell_type": "code",
   "execution_count": 1,
   "id": "initial_id",
   "metadata": {
    "is_executing": true
   },
   "outputs": [
    {
     "name": "stderr",
     "output_type": "stream",
     "text": [
      "C:\\Users\\Анатолий\\AppData\\Local\\Temp\\ipykernel_1696\\271232061.py:1: DeprecationWarning: \n",
      "Pyarrow will become a required dependency of pandas in the next major release of pandas (pandas 3.0),\n",
      "(to allow more performant data types, such as the Arrow string type, and better interoperability with other libraries)\n",
      "but was not found to be installed on your system.\n",
      "If this would cause problems for you,\n",
      "please provide us feedback at https://github.com/pandas-dev/pandas/issues/54466\n",
      "        \n",
      "  import pandas as pd\n"
     ]
    }
   ],
   "source": [
    "import pandas as pd\n",
    "\n",
    "import sys\n",
    "\n",
    "sys.path.append('.')\n",
    "sys.path.append('../')\n",
    "\n",
    "from documentor.simple.document import SimpleDocument\n",
    "from documentor.semantic.models.wiki2vec import WikiWord2VecModel\n",
    "from documentor.semantic.preprocessing.tokenization import tokenize\n",
    "from documentor.semantic.preprocessing.lemmatization import lemmatize"
   ]
  },
  {
   "cell_type": "code",
   "execution_count": 2,
   "id": "501ae347",
   "metadata": {},
   "outputs": [
    {
     "name": "stderr",
     "output_type": "stream",
     "text": [
      "e:\\repos\\documentor\\venv\\lib\\site-packages\\joblib\\numpy_pickle.py:230: UserWarning: The memmapped array [[96 69]\n",
      " [20 15]\n",
      " [21 18]\n",
      " ...\n",
      " [ 0  0]\n",
      " [ 0  0]\n",
      " [ 0  0]] loaded from the file ../../data/ruwiki_20180420_300d.pkl is not byte aligned. This may cause segmentation faults if this memmapped array is used in some libraries like BLAS or PyTorch. To get rid of this warning, regenerate your pickle file with joblib >= 1.2.0. See https://github.com/joblib/joblib/issues/563 for more details\n",
      "  warnings.warn(message)\n",
      "e:\\repos\\documentor\\venv\\lib\\site-packages\\joblib\\numpy_pickle.py:230: UserWarning: The memmapped array [[ 71731  32755]\n",
      " [130416  71666]\n",
      " [ 49759  24128]\n",
      " ...\n",
      " [     0      0]\n",
      " [     0      0]\n",
      " [     0      0]] loaded from the file ../../data/ruwiki_20180420_300d.pkl is not byte aligned. This may cause segmentation faults if this memmapped array is used in some libraries like BLAS or PyTorch. To get rid of this warning, regenerate your pickle file with joblib >= 1.2.0. See https://github.com/joblib/joblib/issues/563 for more details\n",
      "  warnings.warn(message)\n",
      "e:\\repos\\documentor\\venv\\lib\\site-packages\\joblib\\numpy_pickle.py:230: UserWarning: The memmapped array [[ 0.3738388   0.07221612 -0.28576088 ... -0.22109218  0.21471632\n",
      "   0.02174414]\n",
      " [ 0.23452592  0.16998062  0.02631319 ... -0.11256939 -0.07161695\n",
      "   0.03971681]\n",
      " [ 0.3526624  -0.10670621 -0.05427961 ... -0.25826058 -0.0662524\n",
      "  -0.03380241]\n",
      " ...\n",
      " [ 0.18947917  0.21547027 -0.57636416 ...  0.02820322  0.06035854\n",
      "   0.22042635]\n",
      " [ 0.07078271  0.07143874 -0.6092322  ... -0.01086834  0.2417775\n",
      "   0.23306978]\n",
      " [-0.18300584  0.31199932 -0.4114402  ... -0.09059456  0.05183461\n",
      "  -0.31710887]] loaded from the file ../../data/ruwiki_20180420_300d.pkl is not byte aligned. This may cause segmentation faults if this memmapped array is used in some libraries like BLAS or PyTorch. To get rid of this warning, regenerate your pickle file with joblib >= 1.2.0. See https://github.com/joblib/joblib/issues/563 for more details\n",
      "  warnings.warn(message)\n",
      "e:\\repos\\documentor\\venv\\lib\\site-packages\\joblib\\numpy_pickle.py:230: UserWarning: The memmapped array [[ 0.67756104 -0.12910996  0.6157253  ... -0.08535023 -0.2723014\n",
      "   0.46039537]\n",
      " [ 0.29359433  0.04885206  0.53610367 ... -0.29784057 -0.48264664\n",
      "   0.15524869]\n",
      " [ 0.26174745 -0.4604344   0.82945704 ... -0.3317879  -0.377113\n",
      "   0.12858202]\n",
      " ...\n",
      " [ 0.24428849  0.17429405  0.28809088 ... -0.3125316   0.18941428\n",
      "   0.3264313 ]\n",
      " [ 0.24631634  0.10238551  0.32812268 ... -0.19214636  0.21858752\n",
      "   0.30274686]\n",
      " [ 0.01390874  0.18982923  0.3974476  ... -0.3807711   0.19385646\n",
      "  -0.11332669]] loaded from the file ../../data/ruwiki_20180420_300d.pkl is not byte aligned. This may cause segmentation faults if this memmapped array is used in some libraries like BLAS or PyTorch. To get rid of this warning, regenerate your pickle file with joblib >= 1.2.0. See https://github.com/joblib/joblib/issues/563 for more details\n",
      "  warnings.warn(message)\n"
     ]
    }
   ],
   "source": [
    "w2v_modell = WikiWord2VecModel()\n",
    "PATH_TO_MODEL = '../../data/ruwiki_20180420_300d.pkl'\n",
    "w2v_modell.load_weights(path=PATH_TO_MODEL)"
   ]
  },
  {
   "cell_type": "code",
   "execution_count": 6,
   "id": "acfdf522",
   "metadata": {},
   "outputs": [
    {
     "data": {
      "text/html": [
       "<div>\n",
       "<style scoped>\n",
       "    .dataframe tbody tr th:only-of-type {\n",
       "        vertical-align: middle;\n",
       "    }\n",
       "\n",
       "    .dataframe tbody tr th {\n",
       "        vertical-align: top;\n",
       "    }\n",
       "\n",
       "    .dataframe thead th {\n",
       "        text-align: right;\n",
       "    }\n",
       "</style>\n",
       "<table border=\"1\" class=\"dataframe\">\n",
       "  <thead>\n",
       "    <tr style=\"text-align: right;\">\n",
       "      <th></th>\n",
       "      <th>name</th>\n",
       "    </tr>\n",
       "  </thead>\n",
       "  <tbody>\n",
       "    <tr>\n",
       "      <th>0</th>\n",
       "      <td>КМ/поз.319.2/Монтаж стенки резервуара (Резерву...</td>\n",
       "    </tr>\n",
       "    <tr>\n",
       "      <th>1</th>\n",
       "      <td>Монтаж емкости (поз.58.9)</td>\n",
       "    </tr>\n",
       "    <tr>\n",
       "      <th>2</th>\n",
       "      <td>19 ФРАГМЕНТ ПО КМ</td>\n",
       "    </tr>\n",
       "    <tr>\n",
       "      <th>3</th>\n",
       "      <td>Монтаж колодцев (поз.С020)</td>\n",
       "    </tr>\n",
       "    <tr>\n",
       "      <th>4</th>\n",
       "      <td>Монтаж опор (Поз.С037-ТК1.3 ГС00.4)</td>\n",
       "    </tr>\n",
       "    <tr>\n",
       "      <th>...</th>\n",
       "      <td>...</td>\n",
       "    </tr>\n",
       "    <tr>\n",
       "      <th>995</th>\n",
       "      <td>Устройство бетонной подготовки из бетона В12,5...</td>\n",
       "    </tr>\n",
       "    <tr>\n",
       "      <th>996</th>\n",
       "      <td>ЭС2/С027//Монтаж лотков, коробов (Электроснабж...</td>\n",
       "    </tr>\n",
       "    <tr>\n",
       "      <th>997</th>\n",
       "      <td>Устройство свайного поля (эстакада к п.2.31 ДЭС)</td>\n",
       "    </tr>\n",
       "    <tr>\n",
       "      <th>998</th>\n",
       "      <td>Укладка щебеночной подушки под монолитный рост...</td>\n",
       "    </tr>\n",
       "    <tr>\n",
       "      <th>999</th>\n",
       "      <td>Т.11 Монтаж приборов КИПиА</td>\n",
       "    </tr>\n",
       "  </tbody>\n",
       "</table>\n",
       "<p>1000 rows × 1 columns</p>\n",
       "</div>"
      ],
      "text/plain": [
       "                                                  name\n",
       "0    КМ/поз.319.2/Монтаж стенки резервуара (Резерву...\n",
       "1                            Монтаж емкости (поз.58.9)\n",
       "2                                    19 ФРАГМЕНТ ПО КМ\n",
       "3                           Монтаж колодцев (поз.С020)\n",
       "4                  Монтаж опор (Поз.С037-ТК1.3 ГС00.4)\n",
       "..                                                 ...\n",
       "995  Устройство бетонной подготовки из бетона В12,5...\n",
       "996  ЭС2/С027//Монтаж лотков, коробов (Электроснабж...\n",
       "997   Устройство свайного поля (эстакада к п.2.31 ДЭС)\n",
       "998  Укладка щебеночной подушки под монолитный рост...\n",
       "999                         Т.11 Монтаж приборов КИПиА\n",
       "\n",
       "[1000 rows x 1 columns]"
      ]
     },
     "execution_count": 6,
     "metadata": {},
     "output_type": "execute_result"
    }
   ],
   "source": [
    "DATAFRAME_PATH = '../../data/text.csv'\n",
    "row_df = pd.read_csv(DATAFRAME_PATH).head(1000)\n",
    "row_df"
   ]
  },
  {
   "cell_type": "code",
   "execution_count": 4,
   "id": "d82bac71",
   "metadata": {},
   "outputs": [
    {
     "data": {
      "text/plain": [
       "<documentor.simple.document.SimpleDocument at 0x16b80670460>"
      ]
     },
     "execution_count": 4,
     "metadata": {},
     "output_type": "execute_result"
    }
   ],
   "source": [
    "document = SimpleDocument(row_df)\n",
    "lemmatize(document)\n",
    "tokenize(document, w2v_modell)\n",
    "\n",
    "document"
   ]
  },
  {
   "cell_type": "code",
   "execution_count": 5,
   "id": "503b954c",
   "metadata": {},
   "outputs": [
    {
     "data": {
      "text/plain": [
       "{'анкеровка',\n",
       " 'минераловатный',\n",
       " 'оголовник',\n",
       " 'стеновый',\n",
       " 'теплонит',\n",
       " 'термометрический',\n",
       " 'щср'}"
      ]
     },
     "execution_count": 5,
     "metadata": {},
     "output_type": "execute_result"
    }
   ],
   "source": [
    "specialized_terms = document.find_terms()\n",
    "specialized_terms"
   ]
  }
 ],
 "metadata": {
  "kernelspec": {
   "display_name": "Python 3 (ipykernel)",
   "language": "python",
   "name": "python3"
  },
  "language_info": {
   "codemirror_mode": {
    "name": "ipython",
    "version": 3
   },
   "file_extension": ".py",
   "mimetype": "text/x-python",
   "name": "python",
   "nbconvert_exporter": "python",
   "pygments_lexer": "ipython3",
   "version": "3.10.0"
  }
 },
 "nbformat": 4,
 "nbformat_minor": 5
}
