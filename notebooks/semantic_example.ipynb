{
 "cells": [
  {
   "cell_type": "code",
   "execution_count": null,
   "id": "initial_id",
   "metadata": {
    "is_executing": true
   },
   "outputs": [],
   "source": [
    "import pandas as pd\n",
    "\n",
    "import sys\n",
    "\n",
    "sys.path.append('.')\n",
    "sys.path.append('../')\n",
    "\n",
    "from documentor.simple.document import SimpleDocument\n",
    "from documentor.semantic.models.wiki2vec import WikiWord2VecModel\n",
    "from documentor.semantic.preprocessing.tokenization import tokenize\n",
    "from documentor.semantic.preprocessing.lemmatization import lemmatize"
   ]
  },
  {
   "cell_type": "code",
   "execution_count": null,
   "id": "501ae347",
   "metadata": {},
   "outputs": [],
   "source": [
    "w2v_modell = WikiWord2VecModel()\n",
    "PATH_TO_MODEL = '../../data/ruwiki_20180420_300d.pkl'\n",
    "w2v_modell.load_weights(path=PATH_TO_MODEL)"
   ]
  },
  {
   "cell_type": "code",
   "execution_count": null,
   "id": "acfdf522",
   "metadata": {},
   "outputs": [],
   "source": [
    "DATAFRAME_PATH = '../../data/text.csv'\n",
    "row_df = pd.read_csv(DATAFRAME_PATH).head(1000)\n",
    "row_df"
   ]
  },
  {
   "cell_type": "code",
   "execution_count": null,
   "id": "d82bac71",
   "metadata": {},
   "outputs": [],
   "source": [
    "document = SimpleDocument(row_df)\n",
    "lemmatize(document)\n",
    "tokenize(document, w2v_modell)\n",
    "\n",
    "document"
   ]
  },
  {
   "cell_type": "code",
   "execution_count": null,
   "id": "503b954c",
   "metadata": {},
   "outputs": [],
   "source": [
    "specialized_terms = document.find_terms()\n",
    "specialized_terms"
   ]
  }
 ],
 "metadata": {
  "kernelspec": {
   "display_name": "Python 3 (ipykernel)",
   "language": "python",
   "name": "python3"
  },
  "language_info": {
   "codemirror_mode": {
    "name": "ipython",
    "version": 3
   },
   "file_extension": ".py",
   "mimetype": "text/x-python",
   "name": "python",
   "nbconvert_exporter": "python",
   "pygments_lexer": "ipython3",
   "version": "3.10.0"
  }
 },
 "nbformat": 4,
 "nbformat_minor": 5
}
