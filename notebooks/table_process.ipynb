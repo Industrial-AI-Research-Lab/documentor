{
 "cells": [
  {
   "cell_type": "code",
   "execution_count": 1,
   "id": "72ba6495",
   "metadata": {
    "ExecuteTime": {
     "end_time": "2024-02-06T12:03:36.624346100Z",
     "start_time": "2024-02-06T12:03:31.931209200Z"
    }
   },
   "outputs": [],
   "source": [
    "from copy import copy\n",
    "from sklearn.preprocessing import normalize\n",
    "import numpy as np\n",
    "\n",
    "from documentor.sheets.parser import SheetParser"
   ]
  },
  {
   "cell_type": "markdown",
   "source": [
    "Парсинг исходного файла"
   ],
   "metadata": {
    "collapsed": false
   },
   "id": "a18db180"
  },
  {
   "cell_type": "code",
   "execution_count": null,
   "outputs": [],
   "source": [
    "a = SheetParser()\n",
    "d = a.from_file(path='start_tables/D2.xlsx', sheet_name='Ресурсы', first_cell='A1', last_cell='CT62')\n",
    "d.doc_df"
   ],
   "metadata": {
    "collapsed": false,
    "is_executing": true
   },
   "id": "f6358e4927f22512"
  },
  {
   "cell_type": "code",
   "execution_count": null,
   "id": "a7758230",
   "metadata": {},
   "outputs": [],
   "source": [
    "a.to_csv(d, 'processed_tables/new_resources.xlsx')"
   ]
  },
  {
   "cell_type": "code",
   "execution_count": null,
   "outputs": [],
   "source": [
    "def context_processing(context):\n",
    "    hased_context = [[hash(tuple(x)) for x in cont] for cont in context]\n",
    "    normalized_context = []\n",
    "    for x in hased_context:\n",
    "        if len(x) > 0:\n",
    "            normalized_context.append(normalize([x]))\n",
    "        else:\n",
    "            normalized_context.append(0)\n",
    "    average_context = [np.average(x) for x in normalized_context]\n",
    "    return average_context"
   ],
   "metadata": {
    "collapsed": false
   },
   "id": "4c2ca8a5"
  },
  {
   "cell_type": "code",
   "execution_count": null,
   "outputs": [],
   "source": [
    "def row_col_context(context: list, index: int):\n",
    "    for r in copy(context):\n",
    "        diff = r[3] - index\n",
    "        r.append(diff)\n",
    "        if diff > 0:\n",
    "            r.append(0)\n",
    "        elif diff < 0:\n",
    "            r.append(1)\n",
    "        else:\n",
    "            context.remove(r)\n",
    "    return context"
   ],
   "metadata": {
    "collapsed": false
   },
   "id": "d9752faf"
  },
  {
   "cell_type": "code",
   "execution_count": null,
   "outputs": [],
   "source": [
    "last_row = d.doc_df.Row.tail(1).values[0]\n",
    "last_col = d.doc_df.Column.tail(1).values[0]\n",
    "row_context = []\n",
    "col_context = []\n",
    "env_cont = []"
   ],
   "metadata": {
    "collapsed": false
   },
   "id": "db387c1a"
  },
  {
   "cell_type": "code",
   "execution_count": null,
   "outputs": [],
   "source": [
    "names = list(d.doc_df.columns)\n",
    "c_i = names.index('Column')\n",
    "r_i = names.index('Row')\n",
    "for source_i, source_row in enumerate(d.doc_df.itertuples()):\n",
    "    row_index = source_row[r_i+1]\n",
    "    index_row = [*range(int(row_index) - 10, int(row_index) + 10)]\n",
    "    col_index = source_row[c_i+1]\n",
    "    index_col = [*range(int(col_index) - 10, int(col_index) + 10)]\n",
    "    for id in copy(index_row):\n",
    "        if id < 0 or id > last_row:\n",
    "            index_row.remove(id)\n",
    "    for id in copy(index_col):\n",
    "        if id < 0 or id > last_col:\n",
    "            index_col.remove(id)\n",
    "    row_env = [*range(int(col_index) - 3, int(col_index) + 3)]\n",
    "    col_env = [*range(int(row_index) - 3, int(row_index) + 3)]\n",
    "\n",
    "    rows = d.doc_df.loc[(d.doc_df['Row'] == row_index) & (d.doc_df['Column'].isin(index_col))]\n",
    "    cols = d.doc_df.loc[(d.doc_df['Column'] == col_index) & (d.doc_df['Row'].isin(index_row))]\n",
    "\n",
    "    environment = d.doc_df.loc[(d.doc_df['Column'].isin(row_env)) & \\\n",
    "                             (d.doc_df['Row'].isin(col_env))]  # square\n",
    "\n",
    "    r_context = rows.values.tolist()\n",
    "    c_context = cols.values.tolist()\n",
    "    env_context = environment.values.tolist()\n",
    "\n",
    "    for env in copy(env_context):\n",
    "        diff = (env[2] + env[3]) - (row_index + col_index)\n",
    "        env.append(diff)\n",
    "        if env[3] < col_index and env[2] < row_index:\n",
    "            env.append(0)\n",
    "        elif env[3] > col_index and env[2] < row_index:\n",
    "            env.append(1)\n",
    "        elif env[3] > col_index and env[2] > row_index:\n",
    "            env.append(2)\n",
    "        elif env[3] < col_index and env[2] > row_index:\n",
    "            env.append(3)\n",
    "        elif env[3] == col_index and env[2] > row_index:\n",
    "            env.append(4)\n",
    "        elif env[3] == col_index and env[2] < row_index:\n",
    "            env.append(5)\n",
    "        elif env[3] < col_index and env[2] == row_index:\n",
    "            env.append(6)\n",
    "        elif env[3] > col_index and env[2] == row_index:\n",
    "            env.append(7)\n",
    "        else:\n",
    "            env_context.remove(env)\n",
    "\n",
    "    row_context.append(row_col_context(r_context, col_index))\n",
    "    col_context.append(row_col_context(c_context, row_index))\n",
    "    env_cont.append(env_context)"
   ],
   "metadata": {
    "collapsed": false
   },
   "id": "55e8295f"
  },
  {
   "cell_type": "code",
   "execution_count": null,
   "outputs": [],
   "source": [
    "d.doc_df['row_context'] = context_processing(row_context)\n",
    "d.doc_df['col_context'] = context_processing(col_context)\n",
    "d.doc_df['env_context'] = context_processing(env_cont)"
   ],
   "metadata": {
    "collapsed": false
   },
   "id": "9ceece85"
  }
 ],
 "metadata": {
  "kernelspec": {
   "display_name": "Python 3 (ipykernel)",
   "language": "python",
   "name": "python3"
  },
  "language_info": {
   "codemirror_mode": {
    "name": "ipython",
    "version": 3
   },
   "file_extension": ".py",
   "mimetype": "text/x-python",
   "name": "python",
   "nbconvert_exporter": "python",
   "pygments_lexer": "ipython3",
   "version": "3.10.9"
  }
 },
 "nbformat": 4,
 "nbformat_minor": 5
}
