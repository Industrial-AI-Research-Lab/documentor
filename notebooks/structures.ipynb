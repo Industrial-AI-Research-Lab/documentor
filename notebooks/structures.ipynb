{
 "cells": [
  {
   "cell_type": "code",
   "execution_count": 8,
   "id": "initial_id",
   "metadata": {
    "collapsed": true,
    "ExecuteTime": {
     "end_time": "2024-02-12T21:16:56.492168400Z",
     "start_time": "2024-02-12T21:16:56.477159600Z"
    }
   },
   "outputs": [],
   "source": [
    "from documentor.sheets.parser import SheetParser"
   ]
  },
  {
   "cell_type": "code",
   "outputs": [],
   "source": [
    "a = SheetParser()\n",
    "d = a.from_file(path='start_tables/D2.xlsx', sheet_name='МСГ', first_cell='A19', last_cell='CA262')\n",
    "d.doc_df"
   ],
   "metadata": {
    "collapsed": false,
    "is_executing": true,
    "ExecuteTime": {
     "start_time": "2024-02-12T22:15:45.098147400Z"
    }
   },
   "id": "c779ac5efabc3a80",
   "execution_count": null
  },
  {
   "cell_type": "code",
   "outputs": [],
   "source": [
    "a.to_csv(d, 'processed_tables/D2_parsed.csv', sep=\",\")"
   ],
   "metadata": {
    "collapsed": false,
    "is_executing": true
   },
   "id": "f0eb271b5e9196b0",
   "execution_count": null
  },
  {
   "cell_type": "code",
   "outputs": [],
   "source": [
    "import pandas as pd\n",
    "\n",
    "parsed = pd.read_csv('processed_tables/D2_parsed.csv', index_col='Unnamed: 0')\n",
    "clustered = pd.read_excel('processed_tables/D2_clustered.xlsx')\n",
    "parsed['cluster_name'] = clustered['cluster_name']\n",
    "parsed.to_csv('processed_tables/D2_parsed.csv')\n",
    "parsed"
   ],
   "metadata": {
    "collapsed": false,
    "is_executing": true
   },
   "id": "1c9fb7df1e7cb81b",
   "execution_count": null
  },
  {
   "cell_type": "code",
   "outputs": [],
   "source": [],
   "metadata": {
    "collapsed": false
   },
   "id": "b2ccbc6959b9f74b"
  }
 ],
 "metadata": {
  "kernelspec": {
   "display_name": "Python 3",
   "language": "python",
   "name": "python3"
  },
  "language_info": {
   "codemirror_mode": {
    "name": "ipython",
    "version": 2
   },
   "file_extension": ".py",
   "mimetype": "text/x-python",
   "name": "python",
   "nbconvert_exporter": "python",
   "pygments_lexer": "ipython2",
   "version": "2.7.6"
  }
 },
 "nbformat": 4,
 "nbformat_minor": 5
}
