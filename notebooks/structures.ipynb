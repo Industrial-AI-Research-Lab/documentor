{
 "cells": [
  {
   "cell_type": "code",
   "execution_count": 1,
   "id": "initial_id",
   "metadata": {
    "collapsed": true,
    "ExecuteTime": {
     "end_time": "2024-02-13T08:11:46.246758100Z",
     "start_time": "2024-02-13T08:11:44.632704Z"
    }
   },
   "outputs": [],
   "source": [
    "from documentor.sheets.parser import SheetParser\n",
    "from documentor.sheets.classifier import SheetFragmentClassifier\n",
    "\n",
    "import pandas as pd\n",
    "import warnings\n",
    "warnings.filterwarnings('ignore')"
   ]
  },
  {
   "cell_type": "code",
   "outputs": [],
   "source": [
    "a = SheetParser()\n",
    "d = a.from_file(path='start_tables/D5.xlsx', sheet_name='СМГ', first_cell='A11', last_cell='AZ179')\n",
    "d.doc_df"
   ],
   "metadata": {
    "collapsed": false
   },
   "id": "c779ac5efabc3a80",
   "execution_count": null
  },
  {
   "cell_type": "code",
   "outputs": [],
   "source": [
    "a.to_csv(d, 'processed_tables/D5_parsed.csv', sep=\",\")"
   ],
   "metadata": {
    "collapsed": false
   },
   "id": "f0eb271b5e9196b0",
   "execution_count": null
  },
  {
   "cell_type": "code",
   "outputs": [],
   "source": [
    "parsed = pd.read_csv('processed_tables/D5_parsed.csv', index_col='Unnamed: 0')\n",
    "clustered = pd.read_excel('processed_tables/new_D5.xlsx')\n",
    "parsed['cluster_name'] = clustered['cluster_name']\n",
    "parsed.to_csv('processed_tables/D5_parsed.csv')"
   ],
   "metadata": {
    "collapsed": false
   },
   "id": "1c9fb7df1e7cb81b",
   "execution_count": null
  },
  {
   "cell_type": "code",
   "execution_count": 2,
   "outputs": [
    {
     "ename": "TypeError",
     "evalue": "OPTICS.__init__() takes 1 positional argument but 2 were given",
     "output_type": "error",
     "traceback": [
      "\u001B[1;31m---------------------------------------------------------------------------\u001B[0m",
      "\u001B[1;31mTypeError\u001B[0m                                 Traceback (most recent call last)",
      "Cell \u001B[1;32mIn[2], line 4\u001B[0m\n\u001B[0;32m      1\u001B[0m parsed \u001B[38;5;241m=\u001B[39m pd\u001B[38;5;241m.\u001B[39mread_csv(\u001B[38;5;124m'\u001B[39m\u001B[38;5;124mprocessed_tables/D5_parsed.csv\u001B[39m\u001B[38;5;124m'\u001B[39m, index_col\u001B[38;5;241m=\u001B[39m\u001B[38;5;124m'\u001B[39m\u001B[38;5;124mUnnamed: 0\u001B[39m\u001B[38;5;124m'\u001B[39m)\n\u001B[0;32m      3\u001B[0m classifier \u001B[38;5;241m=\u001B[39m SheetFragmentClassifier()\n\u001B[1;32m----> 4\u001B[0m \u001B[43mclassifier\u001B[49m\u001B[38;5;241;43m.\u001B[39;49m\u001B[43mdevide_and_cluster\u001B[49m\u001B[43m(\u001B[49m\u001B[43mparsed\u001B[49m\u001B[43m)\u001B[49m\n",
      "File \u001B[1;32mC:\\Робота\\documentor\\documentor\\sheets\\classifier.py:71\u001B[0m, in \u001B[0;36mSheetFragmentClassifier.devide_and_cluster\u001B[1;34m(self, df)\u001B[0m\n\u001B[0;32m     68\u001B[0m df\u001B[38;5;241m.\u001B[39mcolumns \u001B[38;5;241m=\u001B[39m col_names\n\u001B[0;32m     69\u001B[0m df \u001B[38;5;241m=\u001B[39m df\u001B[38;5;241m.\u001B[39mdrop(columns\u001B[38;5;241m=\u001B[39m[\u001B[38;5;124m'\u001B[39m\u001B[38;5;124mContent\u001B[39m\u001B[38;5;124m'\u001B[39m, \u001B[38;5;124m'\u001B[39m\u001B[38;5;124mStart_content\u001B[39m\u001B[38;5;124m'\u001B[39m, \u001B[38;5;124m'\u001B[39m\u001B[38;5;124mRow\u001B[39m\u001B[38;5;124m'\u001B[39m, \u001B[38;5;124m'\u001B[39m\u001B[38;5;124mRelative_Id\u001B[39m\u001B[38;5;124m'\u001B[39m])\n\u001B[1;32m---> 71\u001B[0m \u001B[38;5;28;43mself\u001B[39;49m\u001B[38;5;241;43m.\u001B[39;49m\u001B[43mresult_output\u001B[49m\u001B[43m(\u001B[49m\u001B[43mdf\u001B[49m\u001B[43m,\u001B[49m\u001B[43m \u001B[49m\u001B[43m[\u001B[49m\u001B[38;5;124;43m'\u001B[39;49m\u001B[38;5;124;43mstr\u001B[39;49m\u001B[38;5;124;43m'\u001B[39;49m\u001B[43m,\u001B[49m\u001B[43m \u001B[49m\u001B[38;5;124;43m'\u001B[39;49m\u001B[38;5;124;43mdatetime.datetime\u001B[39;49m\u001B[38;5;124;43m'\u001B[39;49m\u001B[43m,\u001B[49m\u001B[43m \u001B[49m\u001B[38;5;124;43m'\u001B[39;49m\u001B[38;5;124;43mdatetime.time\u001B[39;49m\u001B[38;5;124;43m'\u001B[39;49m\u001B[43m]\u001B[49m\u001B[43m,\u001B[49m\u001B[43m \u001B[49m\u001B[38;5;124;43m'\u001B[39;49m\u001B[38;5;124;43mstring\u001B[39;49m\u001B[38;5;124;43m'\u001B[39;49m\u001B[43m)\u001B[49m\n\u001B[0;32m     72\u001B[0m \u001B[38;5;28mself\u001B[39m\u001B[38;5;241m.\u001B[39mresult_output(df, [\u001B[38;5;124m'\u001B[39m\u001B[38;5;124mint\u001B[39m\u001B[38;5;124m'\u001B[39m, \u001B[38;5;124m'\u001B[39m\u001B[38;5;124mfloat\u001B[39m\u001B[38;5;124m'\u001B[39m], \u001B[38;5;124m'\u001B[39m\u001B[38;5;124mnumber\u001B[39m\u001B[38;5;124m'\u001B[39m)\n\u001B[0;32m     73\u001B[0m \u001B[38;5;28mself\u001B[39m\u001B[38;5;241m.\u001B[39mresult_output(df, [\u001B[38;5;124m'\u001B[39m\u001B[38;5;124mNoneType\u001B[39m\u001B[38;5;124m'\u001B[39m], \u001B[38;5;124m'\u001B[39m\u001B[38;5;124mnone\u001B[39m\u001B[38;5;124m'\u001B[39m)\n",
      "File \u001B[1;32mC:\\Робота\\documentor\\documentor\\sheets\\classifier.py:60\u001B[0m, in \u001B[0;36mSheetFragmentClassifier.result_output\u001B[1;34m(self, df, df_types, type)\u001B[0m\n\u001B[0;32m     58\u001B[0m \u001B[38;5;28;01mdef\u001B[39;00m \u001B[38;5;21mresult_output\u001B[39m(\u001B[38;5;28mself\u001B[39m, df: pd\u001B[38;5;241m.\u001B[39mDataFrame, df_types: \u001B[38;5;28mlist\u001B[39m[\u001B[38;5;28mstr\u001B[39m], \u001B[38;5;28mtype\u001B[39m: \u001B[38;5;28mstr\u001B[39m):\n\u001B[0;32m     59\u001B[0m     old_indexes, X, y, y_to_pred \u001B[38;5;241m=\u001B[39m devide(df, df_types)\n\u001B[1;32m---> 60\u001B[0m     y_num_map, al_y_to_pred, y_pred_map, y_num, al \u001B[38;5;241m=\u001B[39m \u001B[38;5;28;43mself\u001B[39;49m\u001B[38;5;241;43m.\u001B[39;49m\u001B[43mcluster\u001B[49m\u001B[43m(\u001B[49m\u001B[43my_to_pred\u001B[49m\u001B[43m,\u001B[49m\u001B[43m \u001B[49m\u001B[43mX\u001B[49m\u001B[43m,\u001B[49m\u001B[43m \u001B[49m\u001B[43my\u001B[49m\u001B[43m)\u001B[49m\n\u001B[0;32m     61\u001B[0m     \u001B[38;5;28mprint\u001B[39m(\u001B[38;5;28mtype\u001B[39m, al \u001B[38;5;241m+\u001B[39m \u001B[38;5;124m'\u001B[39m\u001B[38;5;130;01m\\n\u001B[39;00m\u001B[38;5;124m'\u001B[39m)\n\u001B[0;32m     62\u001B[0m     \u001B[38;5;28mprint\u001B[39m(\u001B[38;5;124mf\u001B[39m\u001B[38;5;124m'\u001B[39m\u001B[38;5;124mtype: \u001B[39m\u001B[38;5;132;01m{\u001B[39;00m\u001B[38;5;28mtype\u001B[39m\u001B[38;5;132;01m}\u001B[39;00m\u001B[38;5;124m, algorithm: \u001B[39m\u001B[38;5;132;01m{\u001B[39;00mal\u001B[38;5;132;01m}\u001B[39;00m\u001B[38;5;124m'\u001B[39m)\n",
      "File \u001B[1;32mC:\\Робота\\documentor\\documentor\\sheets\\classifier.py:43\u001B[0m, in \u001B[0;36mSheetFragmentClassifier.cluster\u001B[1;34m(self, y_to_pred, X, y)\u001B[0m\n\u001B[0;32m     41\u001B[0m     y_num \u001B[38;5;241m=\u001B[39m algo_y_num\n\u001B[0;32m     42\u001B[0m     al \u001B[38;5;241m=\u001B[39m grid[\u001B[38;5;124m'\u001B[39m\u001B[38;5;124malgo\u001B[39m\u001B[38;5;124m'\u001B[39m]\u001B[38;5;241m.\u001B[39m\u001B[38;5;18m__name__\u001B[39m\n\u001B[1;32m---> 43\u001B[0m     \u001B[38;5;28mself\u001B[39m\u001B[38;5;241m.\u001B[39mcluster_model \u001B[38;5;241m=\u001B[39m \u001B[43mgrid\u001B[49m\u001B[43m[\u001B[49m\u001B[38;5;124;43m'\u001B[39;49m\u001B[38;5;124;43malgo\u001B[39;49m\u001B[38;5;124;43m'\u001B[39;49m\u001B[43m]\u001B[49m\u001B[43m(\u001B[49m\u001B[43malgo_params\u001B[49m\u001B[43m)\u001B[49m\n\u001B[0;32m     44\u001B[0m     \u001B[38;5;28mself\u001B[39m\u001B[38;5;241m.\u001B[39mdict_map \u001B[38;5;241m=\u001B[39m algo_dict_map\n\u001B[0;32m     45\u001B[0m \u001B[38;5;28;01melif\u001B[39;00m (metrics\u001B[38;5;241m.\u001B[39mv_measure_score(algo_y_to_pred, algo_y_pred_map) \u001B[38;5;241m==\u001B[39m v_measure \u001B[38;5;129;01mand\u001B[39;00m\n\u001B[0;32m     46\u001B[0m       metrics\u001B[38;5;241m.\u001B[39msilhouette_score(X, algo_y_num) \u001B[38;5;241m>\u001B[39m silhouette_koef):\n",
      "\u001B[1;31mTypeError\u001B[0m: OPTICS.__init__() takes 1 positional argument but 2 were given"
     ]
    }
   ],
   "source": [
    "parsed = pd.read_csv('processed_tables/D5_parsed.csv', index_col='Unnamed: 0')\n",
    "\n",
    "classifier = SheetFragmentClassifier()\n",
    "classifier.devide_and_cluster(parsed)"
   ],
   "metadata": {
    "collapsed": false,
    "ExecuteTime": {
     "end_time": "2024-02-13T08:20:47.756553200Z",
     "start_time": "2024-02-13T08:11:49.262675200Z"
    }
   },
   "id": "e4a292f404f6cbc3"
  }
 ],
 "metadata": {
  "kernelspec": {
   "display_name": "Python 3",
   "language": "python",
   "name": "python3"
  },
  "language_info": {
   "codemirror_mode": {
    "name": "ipython",
    "version": 2
   },
   "file_extension": ".py",
   "mimetype": "text/x-python",
   "name": "python",
   "nbconvert_exporter": "python",
   "pygments_lexer": "ipython2",
   "version": "2.7.6"
  }
 },
 "nbformat": 4,
 "nbformat_minor": 5
}
